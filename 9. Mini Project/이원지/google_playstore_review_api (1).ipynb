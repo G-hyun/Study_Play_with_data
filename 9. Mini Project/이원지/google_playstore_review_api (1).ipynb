{
 "cells": [
  {
   "cell_type": "markdown",
   "metadata": {},
   "source": [
    "# Google Playstore의 리뷰 자동정리"
   ]
  },
  {
   "cell_type": "code",
   "execution_count": 196,
   "metadata": {
    "collapsed": true
   },
   "outputs": [],
   "source": [
    "from selenium import webdriver \n",
    "# import requests\n",
    "# from bs4 import BeautifulSoup\n",
    "\n",
    "driver = webdriver.Chrome()\n",
    "driver.implicitly_wait(3)\n",
    "\n",
    "url = 'https://play.google.com/store'\n",
    "driver.get(url)"
   ]
  },
  {
   "cell_type": "code",
   "execution_count": 197,
   "metadata": {
    "collapsed": true
   },
   "outputs": [],
   "source": [
    "srch_box = driver.find_element_by_id(\"gbqfq\")\n",
    "\n",
    "app_name = \"카카오T\"\n",
    "srch_box.send_keys(app_name)"
   ]
  },
  {
   "cell_type": "code",
   "execution_count": 198,
   "metadata": {
    "collapsed": true
   },
   "outputs": [],
   "source": [
    "srch_button = driver.find_element_by_id(\"gbqfb\")\n",
    "srch_button.click()"
   ]
  },
  {
   "cell_type": "code",
   "execution_count": 199,
   "metadata": {
    "collapsed": true
   },
   "outputs": [],
   "source": [
    "a = driver.find_element_by_class_name(\"search-page\")\n",
    "b = a.find_elements_by_class_name(\"single-title-link\")\n",
    "\n",
    "# 앱 리스트\n",
    "k = 0\n",
    "while k < len(b):\n",
    "    if b[k].find_elements_by_tag_name(\"a\")[0].text == \"앱\":\n",
    "#         print(\"찾았다\\n\")\n",
    "        break\n",
    "    else:\n",
    "        k+=1\n"
   ]
  },
  {
   "cell_type": "code",
   "execution_count": 200,
   "metadata": {},
   "outputs": [
    {
     "name": "stdout",
     "output_type": "stream",
     "text": [
      "[1]: 카카오 T - 택시, 대리운전, 주차, 내비\n",
      "[2]: 카카오내비\n",
      "[3]: 카카오 T 드라이버 기사용 - 대리운전,기사등록,앱대리\n",
      "[4]: 카카오맵 - 대한민국 No.1 지도앱 ( 지도 / 내비게이션 / 대중교통 / 로드뷰 )\n"
     ]
    }
   ],
   "source": [
    "# 앱 리스트\n",
    "c = a.find_elements_by_xpath(\"//div[{}]/div/div[2]/div/div/div[2]/a[2]\".format(k+1))\n",
    "\n",
    "for i in range(0,len(c)):\n",
    "    if c[i].text != \"\":\n",
    "        print(\"[\"+str(i+1)+\"]: \"+c[i].text)\n"
   ]
  },
  {
   "cell_type": "code",
   "execution_count": 201,
   "metadata": {},
   "outputs": [
    {
     "name": "stdout",
     "output_type": "stream",
     "text": [
      "번호를 선택하세요: 1\n",
      "입력 틀렸다. 그냥 1번 ㄱ\n"
     ]
    }
   ],
   "source": [
    "# 앱 선택\n",
    "val = input(\"번호를 선택하세요: \")\n",
    "try: \n",
    "    c[val-1].click()\n",
    "except: # \n",
    "    print(\"입력 틀렸다. 그냥 1번 ㄱ\")\n",
    "    c[0].click()"
   ]
  },
  {
   "cell_type": "code",
   "execution_count": 230,
   "metadata": {
    "collapsed": true
   },
   "outputs": [],
   "source": [
    "# 리뷰 페이지\n",
    "d = driver.find_element_by_class_name(\"main-content\")\n",
    "next_bt = d.find_element_by_xpath(\"//div[2]/div[2]/div[1]/div[4]/button[2]/div[2]/div/div\")\n",
    "next_bt.click()"
   ]
  },
  {
   "cell_type": "code",
   "execution_count": 231,
   "metadata": {
    "collapsed": true
   },
   "outputs": [],
   "source": [
    "# 최신순으로 정렬\n",
    "crt = d.find_element_by_xpath(\"//div[2]/div[2]/div[1]/div[3]/div[1]\").click()\n",
    "recent = d.find_element_by_xpath(\"//div[2]/div[2]/div[1]/div[3]/div[1]/div/ul/li[1]/button\").click()"
   ]
  },
  {
   "cell_type": "code",
   "execution_count": 232,
   "metadata": {
    "collapsed": true
   },
   "outputs": [],
   "source": [
    "data = []"
   ]
  },
  {
   "cell_type": "code",
   "execution_count": 237,
   "metadata": {},
   "outputs": [
    {
     "name": "stdout",
     "output_type": "stream",
     "text": [
      "{'이름': '윤여희', '날짜': '2017-11-30', '점수': 5, '리뷰': '택시가 어디서 출발하는지 알수있어서 좋아요. 가는데 걸리는 시간도 나와서 좋습니다.'}\n",
      "{'이름': '박관열', '날짜': '2017-11-29', '점수': 1, '리뷰': '바뀌고나서 택시가 안잡혀요'}\n",
      "{'이름': '정소아', '날짜': '2017-11-29', '점수': 2, '리뷰': '왜 택시기사한테 목적지 길안내해줄때 멀리돌아가는길로 안내해줘요?'}\n",
      "{'이름': 'Taec Jae Lee', '날짜': '2017-11-29', '점수': 5, '리뷰': '빠르고 편하고 안전하고 쭉 이용할꺼예요'}\n",
      "{'이름': 'CHIKOWOO kim', '날짜': '2017-11-29', '점수': 5, '리뷰': '쓸만함'}\n"
     ]
    }
   ],
   "source": [
    "j=2 \n",
    "\n",
    "while j: \n",
    "    print(\"{}번째입니다\\n\".format(m-1))\n",
    "    \n",
    "    rvs = d.find_elements_by_xpath(\"//div[2]/div[2]/div[1]/div[4]/div[1]/div/div[{}}]/div/div/div[2]\".format(j))\n",
    "    rvs_info = d.find_elements_by_xpath(\"//div[2]/div[2]/div[1]/div[4]/div[1]/div/div[{}]/div/div/div[1]\".format(j))\n",
    "    rvs_rate = d.find_elements_by_xpath(\"//div[2]/div[2]/div[1]/div[4]/div[1]/div/div[{}]/div/div/div[1]/div[1]/div[2]/div\".format(j))\n",
    "\n",
    "    for n in range(0, len(rvs)): \n",
    "        # 이름\n",
    "        name = rvs_info[n].find_element_by_class_name('author-name').text\n",
    "\n",
    "        # 날짜\n",
    "        dt_str = rvs_info[n].find_element_by_class_name('review-date').text\n",
    "        dt_tmp = dt_str.split(' ')\n",
    "\n",
    "        y = dt_tmp[0].split('년')[0]\n",
    "        m = dt_tmp[1].split('월')[0]\n",
    "        d = dt_tmp[2].split('일')[0]\n",
    "\n",
    "        dt = y+\"-\"+m+\"-\"+d\n",
    "\n",
    "        # 점수\n",
    "        rt = int(rvs_rate[n].get_attribute('aria-label')[10])\n",
    "\n",
    "        # n번째 리뷰 \n",
    "        rv = rvs[n].text\n",
    "\n",
    "        tmp = {'이름': name,'날짜': dt, '점수': rt, '리뷰': rv}\n",
    "        data.append(tmp)\n",
    "\n",
    "        print(tmp)\n",
    "\n",
    "    j += 1\n",
    "    next_bt.click()\n",
    "    \n",
    "    if m <11: \n",
    "        break;\n"
   ]
  },
  {
   "cell_type": "code",
   "execution_count": 244,
   "metadata": {},
   "outputs": [],
   "source": [
    "data\n",
    "\n",
    "df = pd.DataFrame.from_dict(data)"
   ]
  },
  {
   "cell_type": "code",
   "execution_count": null,
   "metadata": {
    "collapsed": true
   },
   "outputs": [],
   "source": [
    "import json\n"
   ]
  },
  {
   "cell_type": "code",
   "execution_count": null,
   "metadata": {
    "collapsed": true
   },
   "outputs": [],
   "source": []
  },
  {
   "cell_type": "code",
   "execution_count": 195,
   "metadata": {
    "collapsed": true
   },
   "outputs": [],
   "source": [
    "driver.close()"
   ]
  },
  {
   "cell_type": "code",
   "execution_count": null,
   "metadata": {
    "collapsed": true
   },
   "outputs": [],
   "source": []
  },
  {
   "cell_type": "code",
   "execution_count": null,
   "metadata": {
    "collapsed": true
   },
   "outputs": [],
   "source": [
    "# import requests\n",
    "# from requests.auth import HTTPBasicAuth\n",
    "# from bs4 import BeautifulSoup\n",
    "# import json\n",
    "# import apiclient\n",
    "\n",
    "# client_id = 'wjauto'\n",
    "# client_secret = '96f50f3c8d1692bacd374d19962b244a86b75c04'\n",
    "\n",
    "# # def get_reviews(pck_name):#com.kakao.taxi\n",
    "# pck_name = 'com.kakao.taxi'\n",
    "# url = 'https://www.googleapis.com/androidpublisher/v2/applications/{}/reviews'.format(pck_name)\n",
    "# rqst = requests.get(url, auth=(client_id, client_secret))\n",
    "# ## Auth Reference: http://docs.python-requests.org/en/master/user/authentication/\n",
    "\n",
    "# reviews = json.loads(rqst.text)\n",
    "# reviews"
   ]
  }
 ],
 "metadata": {
  "kernelspec": {
   "display_name": "Python 3",
   "language": "python",
   "name": "python3"
  },
  "language_info": {
   "codemirror_mode": {
    "name": "ipython",
    "version": 3
   },
   "file_extension": ".py",
   "mimetype": "text/x-python",
   "name": "python",
   "nbconvert_exporter": "python",
   "pygments_lexer": "ipython3",
   "version": "3.6.3"
  }
 },
 "nbformat": 4,
 "nbformat_minor": 2
}
