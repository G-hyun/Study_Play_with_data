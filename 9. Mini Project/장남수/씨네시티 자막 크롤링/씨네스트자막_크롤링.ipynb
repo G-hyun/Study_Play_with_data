{
 "cells": [
  {
   "cell_type": "code",
   "execution_count": 7,
   "metadata": {
    "collapsed": true
   },
   "outputs": [],
   "source": [
    "import requests\n",
    "from bs4 import BeautifulSoup"
   ]
  },
  {
   "cell_type": "code",
   "execution_count": 2,
   "metadata": {
    "collapsed": true
   },
   "outputs": [],
   "source": [
    "# 게시판 url 만들기\n",
    "\n",
    "def get_board_url(page):\n",
    "    # 페이지 번호를 입력하면 게시판 보드를 가져옴\n",
    "    \n",
    "    url_base = 'http://cineaste.co.kr/bbs/board.php?bo_table=psd_caption&page='\n",
    "    url = url_base+str(page)\n",
    "    \n",
    "    return url\n",
    "    "
   ]
  },
  {
   "cell_type": "code",
   "execution_count": 3,
   "metadata": {
    "collapsed": false
   },
   "outputs": [],
   "source": [
    "board_url = get_board_url(2)"
   ]
  },
  {
   "cell_type": "code",
   "execution_count": 5,
   "metadata": {
    "collapsed": false
   },
   "outputs": [],
   "source": [
    "html = requests.get(url).text\n",
    "soup = BeautifulSoup(html, 'lxml')"
   ]
  },
  {
   "cell_type": "code",
   "execution_count": 8,
   "metadata": {
    "collapsed": true
   },
   "outputs": [],
   "source": [
    "# 게시판에서 영화 게시글 link 를 가져옴   \n",
    "\n",
    "def get_movie_links(board_url):\n",
    "    # 게시판 주소 입력 -->   [ (게시글1제목, 게시글1링크), (게시글2제목, 게시글2링크)......]\n",
    "    \n",
    "    html = requests.get(board_url).text\n",
    "    soup = BeautifulSoup(html, 'lxml')\n",
    "    movies = soup.select('td.list-subject')\n",
    "    \n",
    "    movie_links=[]\n",
    "    \n",
    "    for movie in movies:\n",
    "        title = movie.select('a')[0].text.strip().replace('\\t','').split('댓글')[0]\n",
    "        link = movie.select('a')[0]['href']\n",
    "        movie_links.append((title,link))\n",
    "    \n",
    "    return movie_links"
   ]
  },
  {
   "cell_type": "code",
   "execution_count": 9,
   "metadata": {
    "collapsed": false
   },
   "outputs": [],
   "source": [
    "movie_links = get_movie_links(board_url)"
   ]
  },
  {
   "cell_type": "code",
   "execution_count": 10,
   "metadata": {
    "collapsed": true
   },
   "outputs": [
    {
     "name": "stdout",
     "output_type": "stream",
     "text": [
      "[('스로어웨이즈 (The Throwaways, 2015)', 'http://cineaste.co.kr/bbs/board.php?bo_table=psd_caption&wr_id=1055559&page=2'), ('조지 왕의 광기 (The Madness Of King George, 1994)', 'http://cineaste.co.kr/bbs/board.php?bo_table=psd_caption&wr_id=1055476&page=2'), ('해난 1890 海難1890, 125 Years Memory, 2015', 'http://cineaste.co.kr/bbs/board.php?bo_table=psd_caption&wr_id=1055443&page=2'), ('마인드게이머스 (MindGamers, 2015)', 'http://cineaste.co.kr/bbs/board.php?bo_table=psd_caption&wr_id=1055427&page=2'), ('흑기사 중세로 가다 (Black Knight, 2001)', 'http://cineaste.co.kr/bbs/board.php?bo_table=psd_caption&wr_id=1055420&page=2'), ('고스트 앤 다크니스 (The Ghost And The Darkness, 1996)', 'http://cineaste.co.kr/bbs/board.php?bo_table=psd_caption&wr_id=1055415&page=2'), ('수어사이드 쇼 (This Is Your Death, 2017) The show', 'http://cineaste.co.kr/bbs/board.php?bo_table=psd_caption&wr_id=1055319&page=2'), ('오리엔트 특급 살인사건 (Murder on the Orient Express, 1974) RESTORED.1080p.BluRay.X264-AMIABLE', 'http://cineaste.co.kr/bbs/board.php?bo_table=psd_caption&wr_id=1055303&page=2'), ('끝없는 사랑.Endless.Love.1981.WEBRip.x264-RARBG', 'http://cineaste.co.kr/bbs/board.php?bo_table=psd_caption&wr_id=1055290&page=2'), ('천국의 아이들 (Bacheha-Ye aseman / Children Of Heaven, 1997) BluRay SUB & SUP', 'http://cineaste.co.kr/bbs/board.php?bo_table=psd_caption&wr_id=1055222&page=2'), ('퍼니 맨 (Funny Man 1994) Funny.Man.1994.720p.BluRay.x264-x0r', 'http://cineaste.co.kr/bbs/board.php?bo_table=psd_caption&wr_id=1055221&page=2'), ('라자루스  (The Lazarus Effect, 2015)', 'http://cineaste.co.kr/bbs/board.php?bo_table=psd_caption&wr_id=1055108&page=2'), ('위트 (Wit, 2001)', 'http://cineaste.co.kr/bbs/board.php?bo_table=psd_caption&wr_id=1055105&page=2'), ('안전은 보장할 수 없음 (Safety Not Guaranteed, 2012) LIMITED.1080p.BluRay.x264-SPARKS', 'http://cineaste.co.kr/bbs/board.php?bo_table=psd_caption&wr_id=1055099&page=2'), ('리오에서 온 사나이 (L Homme De Rio / That Man From Rio, 1964) 1080p.BluRay.x264-SADPANDA', 'http://cineaste.co.kr/bbs/board.php?bo_table=psd_caption&wr_id=1055097&page=2'), ('비스마르크호를 격침하라 (Sink The Bismarck!, 1960)', 'http://cineaste.co.kr/bbs/board.php?bo_table=psd_caption&wr_id=1055088&page=2'), ('스타트렉 다크니스 (Star Trek  Into Darkness, 2013) *SUP*', 'http://cineaste.co.kr/bbs/board.php?bo_table=psd_caption&wr_id=1055040&page=2'), ('오리엔트 특급 살인 (Murder on the Orient Express, 1974) 영문', 'http://cineaste.co.kr/bbs/board.php?bo_table=psd_caption&wr_id=1054997&page=2'), ('하얀 궁전 (White Palace. 1990) - 루이스 만도키 감독', 'http://cineaste.co.kr/bbs/board.php?bo_table=psd_caption&wr_id=1054974&page=2'), ('홍금보의 벽력대나팔 1986.720p.BluRay.DTS.x264-CGH', 'http://cineaste.co.kr/bbs/board.php?bo_table=psd_caption&wr_id=1054973&page=2'), ('성룡의 후 엠 아이 CIA Who.Am.I.1998.720p.BluRay.DTS.x264-CGH', 'http://cineaste.co.kr/bbs/board.php?bo_table=psd_caption&wr_id=1054972&page=2'), (\"리오의 사나이 (L'homme de Rio, that Man from Rio, 1964) Philippe de Broca\", 'http://cineaste.co.kr/bbs/board.php?bo_table=psd_caption&wr_id=1054945&page=2'), ('로코와 그의 형제들 (Rocco And His Brothers, 1960) Rocco e i suoi fratelli.1960.BDRemux.rutrac…', 'http://cineaste.co.kr/bbs/board.php?bo_table=psd_caption&wr_id=1054908&page=2'), ('스타 트렉: 더 비기닝 (Star Trek, 2009)', 'http://cineaste.co.kr/bbs/board.php?bo_table=psd_caption&wr_id=1054848&page=2'), ('리턴드 (The Returned, 2013)', 'http://cineaste.co.kr/bbs/board.php?bo_table=psd_caption&wr_id=1054778&page=2'), ('레드 독 (Red Dog, 2011)', 'http://cineaste.co.kr/bbs/board.php?bo_table=psd_caption&wr_id=1054769&page=2'), (\"치어 댄스 (Let's Go, Jets, 2017) 1080p.BluRay.x264.DTS-WiKi\", 'http://cineaste.co.kr/bbs/board.php?bo_table=psd_caption&wr_id=1054721&page=2'), ('히비락 (Hibi Rock: Puke Afro and the Pop Star , 2014)', 'http://cineaste.co.kr/bbs/board.php?bo_table=psd_caption&wr_id=1054718&page=2'), ('휴고 (HUGO, 2011)', 'http://cineaste.co.kr/bbs/board.php?bo_table=psd_caption&wr_id=1054707&page=2'), ('지퍼스 크리퍼스 3(Jeepers.Creepers.3.2017.1080p.HDTV.DD5.1.x264-FGT)', 'http://cineaste.co.kr/bbs/board.php?bo_table=psd_caption&wr_id=1054682&page=2')]\n"
     ]
    }
   ],
   "source": [
    "print(movie_links)"
   ]
  },
  {
   "cell_type": "code",
   "execution_count": 22,
   "metadata": {
    "collapsed": false
   },
   "outputs": [],
   "source": [
    "# 게시글에 접속하여 자막 링크 주소를 가져온다\n",
    "\n",
    "def get_sub_link(movie_link):\n",
    "    # 게시글 링크 --> 자막보기 링크\n",
    "    html = requests.get(movie_link).text\n",
    "    soup = BeautifulSoup(html, 'lxml')\n",
    "#     sub_file = soup.select('div.list-group.font-12 > a')[2]['onclick'].split(\"'\")[1]   # 자막 주소명만 가져온다\n",
    "    sub_file_candidates = soup.select('div.list-group.font-12 > a')\n",
    "    for candidate in sub_file_candidates:        #자막보기 위치가 게시글마다 상이하여, 위치를 찾아준다\n",
    "        if candidate.text ==' 자막보기':\n",
    "            sub_file = candidate['onclick'].split(\"'\")[1]\n",
    "            break\n",
    "    #thema_wrapper > div > div.container > div > div > div.panel.panel-default.view-head > div.list-group.font-12 > a:nth-child(4)\n",
    "    sub_link_base = 'http://cineaste.co.kr/skin/board/apms-caption/view_caption.php?bo_table=psd_caption&fname='\n",
    "    sub_link = sub_link_base+sub_file\n",
    "    \n",
    "    return(sub_link)\n"
   ]
  },
  {
   "cell_type": "code",
   "execution_count": 29,
   "metadata": {
    "collapsed": true
   },
   "outputs": [],
   "source": [
    "# 자막 링크 주소에서 자막 글을 가져온다\n",
    "\n",
    "def get_sub_text(sub_link):\n",
    "    html = requests.get(sub_link).text\n",
    "    sub_text = BeautifulSoup(html, 'lxml').text.strip()\n",
    "    return sub_text"
   ]
  },
  {
   "cell_type": "code",
   "execution_count": 20,
   "metadata": {
    "collapsed": false
   },
   "outputs": [
    {
     "name": "stdout",
     "output_type": "stream",
     "text": [
      "http://cineaste.co.kr/bbs/board.php?bo_table=psd_caption&wr_id=1055559&page=2\n"
     ]
    }
   ],
   "source": [
    "print(movie_links[0][1])"
   ]
  },
  {
   "cell_type": "code",
   "execution_count": 23,
   "metadata": {
    "collapsed": false
   },
   "outputs": [],
   "source": [
    "sub_link = get_sub_link(movie_links[0][1])"
   ]
  },
  {
   "cell_type": "code",
   "execution_count": 24,
   "metadata": {
    "collapsed": true
   },
   "outputs": [],
   "source": [
    "sub_text = get_sub_text(sub_link)[:500]"
   ]
  },
  {
   "cell_type": "code",
   "execution_count": 25,
   "metadata": {
    "collapsed": true
   },
   "outputs": [
    {
     "name": "stdout",
     "output_type": "stream",
     "text": [
      "\n",
      "The.Throwaways.2015.DVDRip.XviD-EVO-[Original]\n",
      "\r\n",
      "<!--\r\n",
      "P { margin-left:0pt; margin-right:0pt; margin-bottom:10pt;\r\n",
      "    margin-top:10pt; font-size:18pt; text-align:center;\r\n",
      "    font-family:arial; font-weight:bold; color:#f0f0f0;\r\n",
      "    }\r\n",
      ".KOCC { Name:Korean; lang:ko-KR; SAMIType:CC; }\r\n",
      "-->\r\n",
      "\n",
      "\n",
      "\r\n",
      "sub2smi by  Michael Archangel\n",
      " \r\n",
      "\n",
      "“카자흐스탄”　　　　　　　　　　　\n",
      " \r\n",
      "\r\n",
      "전 여러분이 좋아하는선량한 해커 블랙잭이에요　　　　　　　　　　\r\n",
      " \r\n",
      "\r\n",
      "아침에 몹시 바빴어요\r\n",
      " \r\n",
      "\r\n",
      "지하드, 악당 해커독재정권과의 1인 전쟁 때문에\r\n",
      " \r\n",
      "\r\n",
      "오늘 행운의 당첨자는알 샤무크입니다\r\n",
      " \r\n",
      "\r\n",
      "합법적인 뉴스 기관으로 가장해\r\n",
      " \r\n",
      "\r\n",
      "지하드 테러\n"
     ]
    }
   ],
   "source": []
  },
  {
   "cell_type": "code",
   "execution_count": 34,
   "metadata": {
    "collapsed": false,
    "scrolled": true
   },
   "outputs": [
    {
     "name": "stdout",
     "output_type": "stream",
     "text": [
      "스로어웨이즈 (The Throwaways, 2015)의 자막을 가져왔습니다\n",
      "조지 왕의 광기 (The Madness Of King George, 1994)의 자막을 가져왔습니다\n",
      "해난 1890 海難1890, 125 Years Memory, 2015의 자막을 가져왔습니다\n",
      "마인드게이머스 (MindGamers, 2015)의 자막을 가져왔습니다\n",
      "흑기사 중세로 가다 (Black Knight, 2001)의 자막을 가져왔습니다\n",
      "고스트 앤 다크니스 (The Ghost And The Darkness, 1996)의 자막을 가져왔습니다\n",
      "수어사이드 쇼 (This Is Your Death, 2017) The show의 자막을 가져왔습니다\n",
      "오리엔트 특급 살인사건 (Murder on the Orient Express, 1974) RESTORED.1080p.BluRay.X264-AMIABLE의 자막을 가져왔습니다\n",
      "끝없는 사랑.Endless.Love.1981.WEBRip.x264-RARBG의 자막을 가져왔습니다\n",
      "퍼니 맨 (Funny Man 1994) Funny.Man.1994.720p.BluRay.x264-x0r의 자막을 가져왔습니다\n",
      "라자루스  (The Lazarus Effect, 2015)의 자막을 가져왔습니다\n",
      "위트 (Wit, 2001)의 자막을 가져왔습니다\n",
      "안전은 보장할 수 없음 (Safety Not Guaranteed, 2012) LIMITED.1080p.BluRay.x264-SPARKS의 자막을 가져왔습니다\n",
      "리오에서 온 사나이 (L Homme De Rio / That Man From Rio, 1964) 1080p.BluRay.x264-SADPANDA의 자막을 가져왔습니다\n",
      "비스마르크호를 격침하라 (Sink The Bismarck!, 1960)의 자막을 가져왔습니다\n",
      "오리엔트 특급 살인 (Murder on the Orient Express, 1974) 영문의 자막을 가져왔습니다\n",
      "하얀 궁전 (White Palace. 1990) - 루이스 만도키 감독의 자막을 가져왔습니다\n",
      "홍금보의 벽력대나팔 1986.720p.BluRay.DTS.x264-CGH의 자막을 가져왔습니다\n",
      "성룡의 후 엠 아이 CIA Who.Am.I.1998.720p.BluRay.DTS.x264-CGH의 자막을 가져왔습니다\n",
      "리오의 사나이 (L'homme de Rio, that Man from Rio, 1964) Philippe de Broca의 자막을 가져왔습니다\n",
      "로코와 그의 형제들 (Rocco And His Brothers, 1960) Rocco e i suoi fratelli.1960.BDRemux.rutrac…의 자막을 가져왔습니다\n",
      "스타 트렉: 더 비기닝 (Star Trek, 2009)의 자막을 가져왔습니다\n",
      "리턴드 (The Returned, 2013)의 자막을 가져왔습니다\n",
      "레드 독 (Red Dog, 2011)의 자막을 가져왔습니다\n",
      "치어 댄스 (Let's Go, Jets, 2017) 1080p.BluRay.x264.DTS-WiKi의 자막을 가져왔습니다\n",
      "휴고 (HUGO, 2011)의 자막을 가져왔습니다\n",
      "지퍼스 크리퍼스 3(Jeepers.Creepers.3.2017.1080p.HDTV.DD5.1.x264-FGT)의 자막을 가져왔습니다\n",
      "스로어웨이즈 (The Throwaways, 2015)의 자막을 가져왔습니다\n",
      "조지 왕의 광기 (The Madness Of King George, 1994)의 자막을 가져왔습니다\n",
      "해난 1890 海難1890, 125 Years Memory, 2015의 자막을 가져왔습니다\n",
      "마인드게이머스 (MindGamers, 2015)의 자막을 가져왔습니다\n",
      "흑기사 중세로 가다 (Black Knight, 2001)의 자막을 가져왔습니다\n",
      "고스트 앤 다크니스 (The Ghost And The Darkness, 1996)의 자막을 가져왔습니다\n",
      "수어사이드 쇼 (This Is Your Death, 2017) The show의 자막을 가져왔습니다\n",
      "오리엔트 특급 살인사건 (Murder on the Orient Express, 1974) RESTORED.1080p.BluRay.X264-AMIABLE의 자막을 가져왔습니다\n",
      "끝없는 사랑.Endless.Love.1981.WEBRip.x264-RARBG의 자막을 가져왔습니다\n",
      "퍼니 맨 (Funny Man 1994) Funny.Man.1994.720p.BluRay.x264-x0r의 자막을 가져왔습니다\n",
      "라자루스  (The Lazarus Effect, 2015)의 자막을 가져왔습니다\n",
      "위트 (Wit, 2001)의 자막을 가져왔습니다\n",
      "안전은 보장할 수 없음 (Safety Not Guaranteed, 2012) LIMITED.1080p.BluRay.x264-SPARKS의 자막을 가져왔습니다\n",
      "리오에서 온 사나이 (L Homme De Rio / That Man From Rio, 1964) 1080p.BluRay.x264-SADPANDA의 자막을 가져왔습니다\n",
      "비스마르크호를 격침하라 (Sink The Bismarck!, 1960)의 자막을 가져왔습니다\n",
      "오리엔트 특급 살인 (Murder on the Orient Express, 1974) 영문의 자막을 가져왔습니다\n",
      "하얀 궁전 (White Palace. 1990) - 루이스 만도키 감독의 자막을 가져왔습니다\n",
      "홍금보의 벽력대나팔 1986.720p.BluRay.DTS.x264-CGH의 자막을 가져왔습니다\n",
      "성룡의 후 엠 아이 CIA Who.Am.I.1998.720p.BluRay.DTS.x264-CGH의 자막을 가져왔습니다\n",
      "리오의 사나이 (L'homme de Rio, that Man from Rio, 1964) Philippe de Broca의 자막을 가져왔습니다\n",
      "로코와 그의 형제들 (Rocco And His Brothers, 1960) Rocco e i suoi fratelli.1960.BDRemux.rutrac…의 자막을 가져왔습니다\n",
      "스타 트렉: 더 비기닝 (Star Trek, 2009)의 자막을 가져왔습니다\n",
      "리턴드 (The Returned, 2013)의 자막을 가져왔습니다\n",
      "레드 독 (Red Dog, 2011)의 자막을 가져왔습니다\n",
      "치어 댄스 (Let's Go, Jets, 2017) 1080p.BluRay.x264.DTS-WiKi의 자막을 가져왔습니다\n",
      "휴고 (HUGO, 2011)의 자막을 가져왔습니다\n",
      "지퍼스 크리퍼스 3(Jeepers.Creepers.3.2017.1080p.HDTV.DD5.1.x264-FGT)의 자막을 가져왔습니다\n",
      "[('스로어웨이즈 (The Throwaways, 2015)', 'The.Throwaways.2015.DVDRip.XviD-EVO-[Original]\\n\\r\\n<!--\\r\\nP { margin-left:0pt; margin-right:0pt; margin-bottom:10pt;\\r\\n    margin-top:10pt; font-size:18pt; text-align:center;\\r\\n    font-family:arial; font-weight:bold; color:#f0f0f0;\\r\\n    }\\r\\n.KOCC { Name:Korean; lang:ko-KR; SAMIType:CC; }\\r\\n-->\\r\\n\\n\\n\\r\\nsub2smi by \\xa0Michael Archangel\\n\\xa0\\r\\n\\n“카자흐스탄”\\u3000\\u3000\\u3000\\u3000\\u3000\\u3000\\u3000\\u3000\\u3000\\u3000\\u3000\\n\\xa0\\r\\n\\r\\n전 여러분이 좋아하는선량한 해커 블랙잭이에요\\u3000\\u3000\\u3000\\u3000\\u3000\\u3000\\u3000\\u3000\\u3000\\u3000\\r\\n\\xa0\\r\\n\\r\\n아침에 몹시 바빴어요\\r\\n\\xa0\\r\\n\\r\\n지하드, 악당 해커독재정권과의 1인 전쟁 때문에\\r\\n\\xa0\\r\\n\\r\\n오늘 행운의 당첨자는알 샤무크입니다\\r\\n\\xa0\\r\\n\\r\\n합법적인 뉴스 기관으로 가장해\\r\\n\\xa0\\r\\n\\r\\n지하드 테러범'), ('조지 왕의 광기 (The Madness Of King George, 1994)', 'The.Madness.of.King.George.1994.1080p.BluRay.H264.AAC-RARBG - 2.11GB \\n\\r\\n<!--\\r\\nP {margin-left:2pt; margin-right:2pt; margin-bottom:1pt; margin-top:1pt;\\r\\n    text-align:center; font-size:22pt; font-family: Arial, Sans-serif;\\r\\n    font-weight:bold; color:white;}\\r\\n.KRCC {Name:Korean; lang:ko-KR; SAMIType:CC;}\\r\\n.ENCC {Name:English; lang:en-US; SAMIType:CC;}\\r\\n#STDPrn {Name:Standard Print;}\\r\\n#LargePrn {Name:Large Print; font-size:28pt;}\\r\\n#SmallPrn {Name:Small Print; font-size:12pt;}\\r\\n-->\\r\\n\\n\\r\\n폐하의 새 시종무관'), ('해난 1890 海難1890, 125 Years Memory, 2015', '125 Years Memory 2015 BDRip 720p x264 AAC-KJRA\\n\\r\\n<!--\\r\\nP { margin-left:8pt; margin-right:8pt; margin-bottom:2pt;\\r\\n    margin-top:2pt; font-size:12pt; text-align:center;\\r\\n    font-family:Sans-serif, Arial; font-weight:normal; color:white;\\r\\n    background-color:black; }\\r\\n.KoreanSC { name:Korean; lang:ko-KR; SAMIType:CC; }\\r\\n-->\\r\\n\\n나의 이름은 무스타파\\r\\n\\xa0\\r\\n해군대위\\r\\n\\xa0\\r\\n오스만 제국 프리게이트함에루투루루호의\\r\\n\\xa0\\r\\n기관과 장교를 맡고 있다\\r\\n\\xa0\\r\\n해난 1890\\r\\n\\xa0\\r\\n1889년(메이지 22년) 7월\\r\\n\\xa0\\r\\n일출(日出)의 나라와\\r\\n\\xa0\\r\\n월승(月昇)의 나라의 이야기는이 자그마한 섬에서 시작되었다\\r\\n\\xa0\\r\\n하루짱 어서와\\r\\n\\xa0\\r\\n돌아왔구'), ('마인드게이머스 (MindGamers, 2015)', \"癤�100:00:01,000 --> 00:00:11,000踰����, ������ : ������200:00:45,597 --> 00:00:50,8122002���, �����щ�������� 伊� 2留�由щ�� ��곌껐��������������� '���-��� 媛� ��명�고����댁��'瑜� 留���ㅼ�����300:00:50,976 --> 00:00:57,237��ㅼ��, 100留�由ъ�� 伊�瑜� ��곌껐��� '蹂듯�⑹껜'濡����蹂듭�≫�� 怨쇱��瑜� ���������寃� ������400:00:58,510 --> 00:01:01,980������, �����������닿����� ���寃� 怨쇳�������ㅼ�������� ��곌뎄濡� ������ ��ㅽ����� ������500:01:02,005 --> 00:01:05,256���臾� ��ㅼ����댄�� 蹂대����� 湲곗�������쇰����몄��寃� �����≫�� 寃���대��600:01:05,898 --> \"), ('흑기사 중세로 가다 (Black Knight, 2001)', '블랙 나이트 (Black Knight)\\r\\n\\n\\r\\n<!--\\r\\nP { margin-left:8pt; margin-right:8pt; margin-bottom:2pt;\\r\\n    margin-top:2pt; font-size:24pt; text-align:center;\\r\\n    font-family:Arial, Sans-serif; font-weight:bold; color:ffffcc;\\r\\n    }\\r\\n.KRCC { Name:Korean; lang:ko-KR; SAMIType:CC; }\\r\\n#STDPrn { Name:Standard Print; }\\r\\n#VLargePrn { Name:34pt (VLarge Print); font-size:34pt; }\\r\\n#LargePrn { Name:28pt (Large Print); font-size:28pt; }\\r\\n#MediumPrn { Name:24pt (Medium Print); font-size:24pt; }\\r\\n#BSmallPrn { Name:18pt '), ('고스트 앤 다크니스 (The Ghost And The Darkness, 1996)', '고스트 앤 다크니스\\r\\n\\r\\n\\xa0\\r\\n\\n1898년 런던\\r\\n\\r\\n\\xa0\\r\\n\\n이 이야기는 아프리카에서가장 유명한 모험담이다\\r\\n\\r\\n\\xa0\\r\\n\\n이런 일은 사보에서조차처음있는 일이었다\\r\\n\\r\\n\\xa0\\r\\n\\n사건은 아일랜드계의 뛰어난건축기사이며 나의 절친한 친구인\\r\\n\\n존 패터슨 대령이 그곳에도착했을 때부터 시작되었다\\r\\n\\r\\n\\xa0\\r\\n\\n나의 이름은 사무엘, 이것은내가 직접 목격한 사실이다\\r\\n\\r\\n\\xa0\\r\\n\\n여기서 가장 믿기 힘든 부분도전부 사실임을 밝혀둔다\\r\\n\\r\\n\\xa0\\r\\n\\r\\n존 헨리 패터슨난 로버트 뷰몬트일세\\r\\n\\r\\n\\xa0\\r\\n\\r\\n힘찬 악수로군, 맘에 들어자네 소문은 많이 들었네\\r\\n\\r\\n자리에 좀 앉지\\r\\n\\r\\n\\xa0\\r\\n\\r\\n나에 대한 소감은 어떤가?\\r\\n\\r\\n\\xa0\\r\\n\\r\\n사람들은 날보고 웃는 모습이멋지다고 하지\\r\\n\\r\\n자네도 동감할 거야\\r\\n\\r\\n\\xa0\\r\\n\\r\\n자신감에 차있는매력적인 성격...\\r\\n\\r\\n\\xa0\\r\\n\\r\\n본론부터 들어가죠\\r\\n\\r\\n\\xa0\\r\\n\\r\\n모두 나가 있어\\r\\n\\r\\n\\xa0\\r\\n\\r\\n날 자세히 보게, 패터슨 대령난 괴물이야\\r\\n\\r\\n\\xa0\\r\\n\\r\\n내 유일한 취미는 부하직원을괴롭히는 일이라네'), ('수어사이드 쇼 (This Is Your Death, 2017) The show', \"100:00:56,554 --> 00:00:57,756Welcome back.어서오세요200:00:57,789 --> 00:01:00,292We are broadcasting livefrom Seattle우린 지금 시에틀 라이브중입니다300:01:00,326 --> 00:01:01,727to give you the momentyou've been waiting for이 시간 여름내 기다리고 기다리던400:01:01,759 --> 00:01:03,195all summer long.경합의500:01:04,763 --> 00:01:06,099Two contestants remain,두 경쟁자가 기다리고 있습니다600:01:06,132 --> 00:01:08,501but only one will be그러나 한사람만이700:01:08,534 --> 00:01:10,837Married to a Millionaire.백만장자와 결혼하겠지요800:01:12,337 --> 00:01:13,738We\"), ('오리엔트 특급 살인사건 (Murder on the Orient Express, 1974) RESTORED.1080p.BluRay.X264-AMIABLE', 'Murder.on.the.Orient.Express.1974.RESTORED.1080p.BluRay.X264-AMIABLE *24fps*\\n\\r\\n<!--\\r\\nP { margin-left:8pt; margin-right:8pt; margin-bottom:2pt;\\r\\n    margin-top:2pt; font-size:20pt; text-align:center;\\r\\n    font-family:굴림, Arial; font-weight:bold; color:white;\\r\\n    background-color:black; }\\r\\n.KRCC { Name:한국어; lang:ko-KR; SAMIType:CC; }\\r\\n-->\\r\\n\\n\\n\\r\\n원작\\r\\n아가사 크리스티\\r\\n\\xa0\\r\\n\\r\\n\"오리엔트 특급 살인사건\"\\r\\n\\xa0\\r\\n\\r\\n감독\\r\\n시드니 루멧\\r\\n\\xa0\\r\\n\\n암스트롱 저택\\r\\n뉴욕, 롱아일랜드\\n\\xa0\\r\\n\\n암스트롱 딸 유괴되다\\n\\xa0\\r\\n\\n암스트롱 가의 비극\\n\\xa0\\r\\n\\n암스트롱 딸은 어디에?\\n\\xa0\\r\\n\\n하녀, 유괴범의 차를 목격하다\\n\\xa0\\r\\n\\n하녀 폴레트 '), ('끝없는 사랑.Endless.Love.1981.WEBRip.x264-RARBG', '<!--\\r\\nP { margin-left:2pt; margin-right:2pt; margin-bottom:1pt;\\r\\n    margin-top:1pt; font-size:20pt; text-align:center;\\r\\n    font-family:Arial, Sans-serif; font-weight:bold; color:white; }\\r\\n.KRCC { Name:Korean; lang:ko-KR; SAMIType:CC; }\\r\\n#STDPrn { Name:Standard Print; }\\r\\n#LargePrn { Name:Large Print (26pt); font-size:26pt; }\\r\\n#SmallPrn { Name:Small Print (14pt); font-size:14pt; }\\r\\n-->\\r\\n\\n\\n\\r\\n모두 조용히 해, 중심부를\\r\\n보았으니 다들 가자\\r\\n\\xa0\\r\\n\\r\\n태양계\\r\\n\\xa0\\r\\n\\r\\n수백억 개의 별들이\\r\\n\\xa0\\r\\n\\r\\n끝없는 공간에 퍼져 있어서\\r\\n\\xa0\\r\\n\\r\\n인간이 이해하기엔\\r\\n너무나 방대하다\\r\\n\\xa0\\r\\n\\r'), ('퍼니 맨 (Funny Man 1994) Funny.Man.1994.720p.BluRay.x264-x0r', 'Hanbange 3.0 - (C) Breadu Soft 2003\\n\\r\\n<!--\\r\\nP { margin-left:8pt; margin-right:8pt; margin-bottom:2pt;\\r\\n    margin-top:2pt; font-size:14pt; text-align:center;\\r\\n    font-family:굴림, Arial; font-weight:normal; color:white;\\r\\n    background-color:black; }\\r\\n.KRCC { Name:한국어; lang:ko-KR; SAMIType:CC; }\\r\\n#STDPrn { Name:Standard Print; }\\r\\n#LargePrn { Name:Large Print; font-size:20pt; }\\r\\n#SmallPrn { Name:Small Print; font-size:10pt; }\\r\\n-->\\r\\n\\n\\n자막 제작 - 납골당의 울프\\r\\n\\xa0\\r\\n\\n수정은 하셔도 되지만\\r\\n제작자 정보는 지우지 말아 주세요~~\\r\\n\\n동영상 정보 '), ('라자루스  (The Lazarus Effect, 2015)', 'The.Lazarus.Effect.2015.1080p.BluRay.x264.YIFY-[Original]\\n\\r\\n<!--\\r\\nP { margin-left:0pt; margin-right:0pt; margin-bottom:10pt;\\r\\n    margin-top:10pt; font-size:18pt; text-align:center;\\r\\n    font-family:arial; font-weight:bold; color:#f0f0f0;\\r\\n    }\\r\\n.KOCC { Name:Korean; lang:ko-KR; SAMIType:CC; }\\r\\n-->\\r\\n\\n\\n\\r\\nsub2smi by \\xa0Michael Archangel\\n\\xa0\\r\\n\\r\\n아우, 돼지 냄새\\u3000\\u3000\\u3000\\u3000\\u3000\\u3000\\u3000\\u3000\\u3000\\r\\n\\xa0\\r\\n\\r\\n오메가 수치 좀높여줄래?\\u3000\\u3000\\u3000\\u3000\\u3000\\u3000\\u3000\\u3000\\r\\n\\xa0\\r\\n\\r\\n- 3 포인트 높일까?- 우선 2 포인트만\\u3000\\u3000\\u3000\\u3000\\u3000\\u3000\\u3000\\u3000\\r\\n\\xa0\\r\\n\\r\\n좋았어시작해, 클레이\\u3000\\u3000\\u3000\\u3000\\u3000\\u3000\\u3000\\u3000\\r\\n\\xa0\\r\\n\\r\\n- 편도체 반응은?- 89.8 Mhz\\u3000\\u3000\\u3000\\u3000\\u3000\\u3000\\u3000\\u3000\\r\\n\\xa0\\r\\n\\r\\n해마는 108.'), ('위트 (Wit, 2001)', 'Wit.2001.1080p.AMZN.WEBRip.DDP2.0.x264-monkee\\n\\r\\n<!--\\r\\nP { margin-left:8pt; margin-right:8pt; margin-bottom:2pt;\\r\\n    margin-top:2pt; text-align:center; font-size:20pt;\\r\\n    font-family:굴림, Arial; font-weight:bold; color:white; }\\r\\n.KRCC { Name:한국어; lang:ko-KR; SAMIType:CC; }\\r\\n-->\\r\\n\\n\\n\\n위트\\n\\xa0\\r\\n\\r\\n암입니다\\r\\n\\xa0\\r\\n\\r\\n미스 베어링,\\r\\n전이성 난소암 말기입니다\\r\\n\\xa0\\r\\n\\r\\n계속하세요\\r\\n\\xa0\\r\\n\\r\\n- 교수시더군요, 미스 베어링\\r\\n- 당신처럼요, 켈리키안 박사님\\r\\n\\xa0\\r\\n\\r\\n네, 그렇죠\\r\\n\\xa0\\r\\n\\r\\n그런데, 안타깝게도 3기까지\\r\\n발견되지 않은\\r\\n\\xa0\\r\\n\\r\\n암이 생겼습니다\\r\\n\\xa0\\r\\n\\r\\n- 은밀하게 성장하는 선암입니다\\r\\n- 은밀하게요?\\r\\n\\xa0\\r\\n\\r\\n은밀하다는 건\\r\\n처음에 발견하기가...'), ('안전은 보장할 수 없음 (Safety Not Guaranteed, 2012) LIMITED.1080p.BluRay.x264-SPARKS', 'Safety.Not.Guaranteed.2012.LIMITED.1080p.BluRay.x264-SPARKS\\n\\r\\n<!--\\r\\nP { margin-left:8pt; margin-right:8pt; margin-bottom:2pt;\\r\\n    margin-top:2pt; font-size:20pt; text-align:center;\\r\\n    font-family:굴림, Arial; font-weight:bold; color:white;\\r\\n    background-color:black; }\\r\\n.KRCC { Name:한국어; lang:ko-KR; SAMIType:CC; }\\r\\n-->\\r\\n\\n\\n\\n어디부터 얘기할까요?\\n\\xa0\\r\\n\\n대학교 때요?\\n\\xa0\\r\\n\\n인간관계 하난\\r\\n끝내줬죠\\n\\xa0\\r\\n\\n진짜로요\\n\\xa0\\r\\n\\n고등학교 때는\\n\\xa0\\r\\n\\n뱀 떼에 던져진\\r\\n쥐 같았어요\\n\\xa0\\r\\n\\n바짝 얼어서\\r\\n친구도 못 사귀었죠\\n\\xa0\\r\\n\\n어릴 때는\\r\\n행복했던 것 같아요\\n\\xa0\\r\\n\\n그맘땐 다\\r\\n낙천적이잖아요\\n\\xa0\\r\\n\\n엄마가 돌아가시기\\r\\n전까지는요\\n\\xa0\\r\\n\\n'), ('리오에서 온 사나이 (L Homme De Rio / That Man From Rio, 1964) 1080p.BluRay.x264-SADPANDA', 'That.Man.from.Rio.1964.1080p.BluRay.x264-SADPANDA\\n\\r\\n<!--\\r\\nP { margin-left:8pt; margin-right:8pt; margin-bottom:2pt;\\r\\n    margin-top:2pt; font-size:20pt; text-align:center;\\r\\n    font-family:굴림, Arial; font-weight:bold; color:white;\\r\\n    background-color:black; }\\r\\n.KRCC { Name:한국어; lang:ko-KR; SAMIType:CC; }\\r\\n-->\\r\\n\\n\\n\\r\\n\"리오에서 온 사나이\"\\r\\n\\xa0\\r\\n\\r\\n8일 휴가야\\r\\n\\xa0\\r\\n\\r\\n8일짜리 휴가군\\r\\n\\xa0\\r\\n\\r\\n2시에 다시 열어요\\r\\n\\xa0\\r\\n\\r\\n점심이군, 먹자고\\r\\n\\xa0\\r\\n\\r\\n- 냄새 맡아봐요\\r\\n- 좋군!\\r\\n\\xa0\\r\\n\\r\\n- 교수님!\\r\\n- 왜요?\\r\\n\\xa0\\r\\n\\r\\n- 전화요!\\r\\n- 없다고 해요\\r\\n\\xa0\\r\\n\\r\\n박물관인데요\\r\\n도둑이 들었대요\\r\\n\\xa0\\r\\n\\r\\n뭐라고?\\r\\n\\xa0\\r\\n\\r\\n박물'), ('비스마르크호를 격침하라 (Sink The Bismarck!, 1960)', \"<!--\\r\\nP { margin-left:8pt; margin-right:8pt; margin-bottom:2pt;\\r\\n    margin-top:2pt; font-size:14pt; text-align:center;\\r\\n    font-family:굴림, Arial; font-weight:normal; color:white;\\r\\n    background-color:black; }\\r\\n.KRCC { Name:KRCC; lang:kr-KR; SAMIType:CC; }\\r\\n-->\\r\\n\\n\\n\\n독일 함부르크1939년 2월 14일\\n\\n오늘 존경하는 총통님께서이곳 함부르크를 방문해\\n\\n세계 최강의 전함 진수식에참석하셨습니다\\n\\n만재 배수량 5만 톤뛰어난 장갑 방어력\\n\\n38센티미터 주포 8문전함인 '비스마르크'호는\\n\\n격침되지 않는바다의 요새입니다\\n\\xa0\\r\\n\\n철혈재상'비스마르크'의 손녀가\\n\\n우리의 불침함을진수시켰습니다\\n\\xa0\\r\\n\\n이로써 전 세계에독일 전함의 힘을\\n\\n다시 한번 입증하게 됐습니다\\n\\xa0\\r\\n\\r\\n히틀러 만세!히틀러 \"), ('오리엔트 특급 살인 (Murder on the Orient Express, 1974) 영문', \"癤�100:06:14,709 --> 00:06:16,751Madam. Madam.200:06:16,876 --> 00:06:19,667- Madam.- Madam.300:06:29,542 --> 00:06:32,792- Your ticket, please.- Oh, yes.400:06:32,917 --> 00:06:34,626Welcome aboard, Miss Debenham.500:06:34,751 --> 00:06:35,751Thank you.600:06:35,876 --> 00:06:40,626'Bosphorus ferry will shortlydepart from Istanbul Sirkeci Station,700:06:40,751 --> 00:06:44,042'connectingwith the Orient Express.'800:06:45,917 --> 00:06:48,334Ah. Here's your ticket,Monsieur Poirot.900:06:48,459 --\"), ('하얀 궁전 (White Palace. 1990) - 루이스 만도키 감독', 'Virus/Spyware Download Blocked\\n\\n\\n\\n\\r\\n  #content {\\r\\n    border:3px solid#aaa;\\r\\n    background-color:#fff;\\r\\n    margin:1.5em;\\r\\n    padding:1.5em;\\r\\n    font-family:Tahoma,Helvetica,Arial,sans-serif;\\r\\n    font-size:1em;\\r\\n  }\\r\\n  h1 {\\r\\n    font-size:1.3em;\\r\\n    font-weight:bold;\\r\\n    color:#196390;\\r\\n  }\\r\\n  b {\\r\\n    font-weight:normal;\\r\\n    color:#196390;\\r\\n  }\\r\\n\\n\\n\\n\\nVirus/Spyware Download Blocked\\nDownload of the virus/spyware has been blocked in accordance with company policy. Please contact your system '), ('홍금보의 벽력대나팔 1986.720p.BluRay.DTS.x264-CGH', 'Subtitle file created with Subtitle Converter v2.0\\n\\r\\n<!--\\r\\nP {margin-left:8pt; margin-right:8pt; margin-bottom:2pt; margin-top:2pt;\\r\\n   text-align:center; font-size:20pt; font-family:arial, sans-serif;\\r\\n   font-weight:normal; color:white;}\\r\\n.KRCC {Name:Korean; lang:kr-KR; SAMIType:CC;}\\r\\n#STDPrn {Name:Standard Print;}\\r\\n#LargePrn {Name:Large Print; font-size:20pt;}\\r\\n#SmallPrn {Name:Small Print; font-size:10pt;}\\r\\n-->\\r\\n\\n\\r\\n현상금이 2만 5천이라니\\r\\n굉장하군.(한글자막:아이키도맨)\\r\\n\\xa0\\r\\n\\r\\n그때문에 저놈을 잡아야해.\\r\\n\\xa0\\r\\n\\r\\n무시못할 액수라구,\\r\\n\\xa0\\r\\n\\r\\n어'), ('성룡의 후 엠 아이 CIA Who.Am.I.1998.720p.BluRay.DTS.x264-CGH', '<!--\\r\\nP {margin-left:8pt; margin-right:8pt; margin-bottom:2pt; margin-top:2pt;\\r\\n   text-align:center; font-size:18pt; font-family:굴림체, sans-serif;\\r\\n   font-weight:bold; color:yellow;}\\r\\n.KRCC {Name:Korean; lang:kr-KR; SAMIType:CC;}\\r\\n#STDPrn {Name:Standard Print;}\\r\\n#LargePrn {Name:Large Print; font-size:20pt;}\\r\\n#SmallPrn {Name:Small Print; font-size:10pt;}\\r\\n-->\\r\\n\\n\\n\\n\\xa0\\r\\n\\r\\n물러서!\\r\\n\\xa0\\r\\n\\r\\n서둘러!\\r\\n\\xa0\\r\\n\\r\\n됐어, 올려!\\r\\n\\xa0\\r\\n\\r\\n연구실로 가져가\\r\\n어서!\\r\\n\\xa0\\r\\n\\r\\n509, 주변을 정찰해\\r\\n자네도!\\r\\n\\r\\n502는 컴퓨터를 맡고 \\r\\n자넨 팀을 확인해\\r\\n\\r\\n네!\\r\\n\\xa0\\r\\n\\r\\n준비해!\\r\\n\\xa0\\r\\n\\r\\n목표물'), (\"리오의 사나이 (L'homme de Rio, that Man from Rio, 1964) Philippe de Broca\", '<!--\\r\\nP { margin-left:29pt; margin-right:29pt; font-size:24pt;\\r\\n    text-align:center; font-family:Tahoma; font-weight:bold;\\r\\n    color:#FFFFFF; background-color:#000000; }\\r\\n.KRCC { Name:Korean; lang:kr-KR; SAMIType:CC; }\\r\\n-->\\r\\n\\n\\r\\n자막 작업  Eugenio Juliano  Nov.2014\\r\\n\\xa0\\r\\n\\r\\n쟝-폴 벨몽도\\r\\n\\r\\n프랑소와즈 도를레악\\r\\n\\xa0\\r\\n\\n리오의 사나이\\nThat Man from Rio (1964)\\r\\n\\xa0\\r\\n\\n감독  필립 드 브로카\\r\\n\\xa0\\r\\n\\r\\n이봐!\\r\\n\\r\\n8일간 휴가 어때?\\r\\n\\xa0\\r\\n\\r\\n그래, 8일이지\\r\\n\\xa0\\r\\n\\r\\n\"인류사 박물관\"\\r\\n\\xa0\\r\\n\\r\\n- 시간 다 됐어요\\r\\n- 이런...\\r\\n\\xa0\\r\\n\\r\\n배 고프군\\r\\n\\xa0\\r\\n\\r\\n- 이 치즈 냄새 좀 맡아 봐\\r\\n- 끝내주는 구만\\r\\n\\xa0\\r\\n\\r\\n- 교수님, 교수님!\\r\\n- 왜?\\r\\n'), ('로코와 그의 형제들 (Rocco And His Brothers, 1960) Rocco e i suoi fratelli.1960.BDRemux.rutrac…', '100:01:17,708 --> 00:01:27,792타이타누스 제공200:01:32,542 --> 00:01:36,958루치노 비스콘티 영화300:01:38,000 --> 00:01:41,542조프레도 롬바르도 제작400:01:42,500 --> 00:01:46,458로코와 그의 형제들500:01:47,292 --> 00:01:49,958알랭 들롱600:01:50,375 --> 00:01:53,333레나또 살바토리700:01:54,208 --> 00:01:56,333안니 지라르도800:01:57,000 --> 00:01:59,250카니나 팍시누900:02:16,542 --> 00:02:20,375로제 아냉파올로 스토파1000:02:21,250 --> 00:02:23,292수지 디레어1100:02:24,083 --> 00:02:27,000클라우디아 카르디날레1200:03:29,083 --> 00:03:36,667음악니노 로타1300:03:45,708 --> 00:03:51,083감독'), ('스타 트렉: 더 비기닝 (Star Trek, 2009)', '癤�\\nStar.Trek.2009.1080p.BluRay.x264.TrueHD.5.1-FGT\\n\\r\\n<!--\\r\\nP { margin-top: 8pt; margin-right: 4pt; margin-bottom: 8pt; margin-left: 4pt;\\r\\n    text-align: center; font-size: 20pt; font-family: Tahoma; font-weight: bold; color: white; }\\r\\n.KRCC { name: Korean; lang: ko-KR; SAMIType: CC; }\\r\\n#STDPrn { name: Standard Print; }\\r\\n#LargePrn { name: Large Print; font-size: 24pt; }\\r\\n#SmallPrn { name: Small Print; font-size: 16pt; }\\r\\n-->\\r\\n\\n\\n\\nsup2smi by ������\\n\\xa0\\r\\n\\n耳�鍮����, ��곗＜��⑤��!\\n\\xa0\\r\\n\\n��곗�댄�� 諛������듬��源�?'), ('리턴드 (The Returned, 2013)', 'The.Returned.2013.1080p.BluRay.x264.YIFY-[Original]\\n\\r\\n<!--\\r\\nP { margin-left:0pt; margin-right:0pt; margin-bottom:10pt;\\r\\n    margin-top:10pt; font-size:18pt; text-align:center;\\r\\n    font-family:arial; font-weight:bold; color:#f0f0f0;\\r\\n    }\\r\\n.KOCC { Name:Korean; lang:ko-KR; SAMIType:CC; }\\r\\n-->\\r\\n\\n\\n\\r\\nsub2smi by \\xa0Michael Archangel\\n\\xa0\\r\\n\\n리턴드\\n\\xa0\\r\\n\\n에밀리 햄프셔\\n\\xa0\\r\\n\\n크리스 홀든 리드\\n\\xa0\\r\\n\\n숀 도일\\n\\xa0\\r\\n\\n클라우디아 바솔스\\n\\xa0\\r\\n\\r\\n엄마!\\r\\n\\xa0\\r\\n\\r\\n엄마!\\r\\n\\xa0\\r\\n\\r\\n- 병원이야, 걱정 마- 엄마 여기 있어\\r\\n\\xa0\\r\\n\\r\\n괜찮을 거야\\r\\n\\xa0\\r\\n\\r\\n괜찮을 테니걱정 마\\r\\n\\xa0\\r\\n\\r\\n각본/ 하템 크레이치\\n\\xa0\\r\\n\\r\\n잠시만요!\\r\\n\\xa0\\r\\n\\r\\n밖'), ('레드 독 (Red Dog, 2011)', 'Red.Dog.2011.1080p.BluRay.H264.AAC-RARBG-[Original]\\n\\r\\n<!--\\r\\nP { margin-left:0pt; margin-right:0pt; margin-bottom:10pt;\\r\\n    margin-top:10pt; font-size:18pt; text-align:center;\\r\\n    font-family:arial; font-weight:bold; color:#f0f0f0;\\r\\n    }\\r\\n.KOCC { Name:Korean; lang:ko-KR; SAMIType:CC; }\\r\\n-->\\r\\n\\n\\n\\r\\nsub2smi by \\xa0Michael Archangel\\n\\xa0\\r\\n\\r\\n좋아...\\r\\n\\xa0\\r\\n\\r\\n계세요?\\r\\n\\xa0\\r\\n\\r\\n데려와, 어서\\r\\n\\xa0\\r\\n\\r\\n이쪽으로...그대로 잡고 있어\\r\\n\\xa0\\r\\n\\r\\n알았어\\r\\n\\xa0\\r\\n\\r\\n앉아, 그래...\\r\\n\\xa0\\r\\n\\r\\n머리를 잡아꼭 잡고 있어야 돼\\r\\n\\xa0\\r\\n\\r\\n이봐요! 이봐!\\r\\n\\xa0\\r\\n\\r\\n깨끗이 끝내자구\\r\\n\\xa0\\r\\n\\r\\n아닙니다...\\r\\n\\xa0\\r\\n\\r\\n저 인간은 뭐야?\\r\\n\\xa0\\r'), (\"치어 댄스 (Let's Go, Jets, 2017) 1080p.BluRay.x264.DTS-WiKi\", \"Let's.Go.Jets.2017.1080p.BluRay.x264.DTS-WiKi\\n\\r\\n<!--\\r\\nP { margin-left:8pt; margin-right:8pt; margin-bottom:2pt; \\r\\n    margin-top:2pt; font-size:20pt; text-align:center; \\r\\n    font-family:굴림, Arial; font-weight:bold; color:white; \\r\\n    background-color:black; } \\r\\n.KRCC { Name:한국어; lang:ko-KR; SAMIType:CC; }\\r\\n-->\\r\\n\\n\\n\\r\\n수입 얼리버드 픽쳐스\\r\\n배급 와이드 릴리즈(주)\\r\\n\\xa0\\r\\n\\r\\n실화를 바탕으로 한 이야기\\r\\n\\xa0\\r\\n\\r\\n미국, 캘리포니아\\r\\n\\xa0\\r\\n\\r\\n전미 치어 댄스 선수권\\r\\n\\xa0\\r\\n\\r\\n밝고 순수하고 아름답게!\\r\\n\\xa0\\r\\n\\r\\nLet's go JETS!\\r\\n\\xa0\\r\\n\\r\\n치어댄스\\r\\n\\xa0\\r\\n\\r\\n일본\\r\\n\\xa0\\r\\n\\r\\n후쿠이 현\\r\\n\\xa0\\r\\n\\r\\n현립 후쿠이 중앙고등학교\\r\\n\\xa0\\r\\n\\r\\n\"), ('휴고 (HUGO, 2011)', 'Hugo.2011.XviD.AC3-Zoom \\n<!--\\r\\nP {margin-left:2pt; margin-right:2pt; margin-bottom:1pt; margin-top:1pt;\\r\\n   text-align:center; font-size:20pt; font-family:Arial, Sans-serif;\\r\\n   font-weight:bold; color:white;}\\r\\n.KRCC {Name:Korean; lang:ko-KR; SAMIType:CC;}\\r\\n#STDPrn {Name:Standard Print;}\\r\\n#LargePrn {Name:Large Print (26pt); font-size:26pt;}\\r\\n#SmallPrn {Name:Small Print (14pt); font-size:14pt;}\\r\\n-->\\r\\n\\n\\n\\nsub2smi by 블랙이글\\r\\n\\xa0\\r\\n\\r\\n안녕하세요\\r\\n\\xa0\\r\\n\\r\\n좋은 아침이에요\\r\\n\\xa0\\r\\n\\r\\n오늘도\\r\\n좋은 책이 왔군요\\r\\n\\xa0\\r\\n\\r\\n드디어 잡았다\\r\\n\\xa0\\r\\n\\r\\n이번이 처음 아니지'), ('지퍼스 크리퍼스 3(Jeepers.Creepers.3.2017.1080p.HDTV.DD5.1.x264-FGT)', 'smisrt.com subtitles convert tool\\n\\n<!--\\n\\tP { margin-left:8pt; margin-right:8pt; margin-bottom:2pt;\\n\\tmargin-top:2pt; font-size:14pt; text-align:center;\\n\\tfont-family:援대┝, Arial; font-weight:normal; color:white;\\n\\tbackground-color:black; }\\n\\t.krcc { Name:���援����; lang:ko-KR; SAMIType:CC; }\\n\\t#STDPrn { Name:Standard Print; }\\n\\t#LargePrn { Name:Large Print; font-size:20pt; }\\n\\t#SmallPrn { Name:Small Print; font-size:10pt; }\\n-->\\n\\n\\n\\xa0\\n\\nHelp!\\n\\xa0\\n\\nHey!\\n\\xa0\\n\\nEvery 23rd year, for 23 days,\\n\\xa0\\n\\nit gets to eat.\\n\\xa0\\n\\nAnd'), ('스로어웨이즈 (The Throwaways, 2015)', 'The.Throwaways.2015.DVDRip.XviD-EVO-[Original]\\n\\r\\n<!--\\r\\nP { margin-left:0pt; margin-right:0pt; margin-bottom:10pt;\\r\\n    margin-top:10pt; font-size:18pt; text-align:center;\\r\\n    font-family:arial; font-weight:bold; color:#f0f0f0;\\r\\n    }\\r\\n.KOCC { Name:Korean; lang:ko-KR; SAMIType:CC; }\\r\\n-->\\r\\n\\n\\n\\r\\nsub2smi by \\xa0Michael Archangel\\n\\xa0\\r\\n\\n“카자흐스탄”\\u3000\\u3000\\u3000\\u3000\\u3000\\u3000\\u3000\\u3000\\u3000\\u3000\\u3000\\n\\xa0\\r\\n\\r\\n전 여러분이 좋아하는선량한 해커 블랙잭이에요\\u3000\\u3000\\u3000\\u3000\\u3000\\u3000\\u3000\\u3000\\u3000\\u3000\\r\\n\\xa0\\r\\n\\r\\n아침에 몹시 바빴어요\\r\\n\\xa0\\r\\n\\r\\n지하드, 악당 해커독재정권과의 1인 전쟁 때문에\\r\\n\\xa0\\r\\n\\r\\n오늘 행운의 당첨자는알 샤무크입니다\\r\\n\\xa0\\r\\n\\r\\n합법적인 뉴스 기관으로 가장해\\r\\n\\xa0\\r\\n\\r\\n지하드 테러범'), ('조지 왕의 광기 (The Madness Of King George, 1994)', 'The.Madness.of.King.George.1994.1080p.BluRay.H264.AAC-RARBG - 2.11GB \\n\\r\\n<!--\\r\\nP {margin-left:2pt; margin-right:2pt; margin-bottom:1pt; margin-top:1pt;\\r\\n    text-align:center; font-size:22pt; font-family: Arial, Sans-serif;\\r\\n    font-weight:bold; color:white;}\\r\\n.KRCC {Name:Korean; lang:ko-KR; SAMIType:CC;}\\r\\n.ENCC {Name:English; lang:en-US; SAMIType:CC;}\\r\\n#STDPrn {Name:Standard Print;}\\r\\n#LargePrn {Name:Large Print; font-size:28pt;}\\r\\n#SmallPrn {Name:Small Print; font-size:12pt;}\\r\\n-->\\r\\n\\n\\r\\n폐하의 새 시종무관'), ('해난 1890 海難1890, 125 Years Memory, 2015', '125 Years Memory 2015 BDRip 720p x264 AAC-KJRA\\n\\r\\n<!--\\r\\nP { margin-left:8pt; margin-right:8pt; margin-bottom:2pt;\\r\\n    margin-top:2pt; font-size:12pt; text-align:center;\\r\\n    font-family:Sans-serif, Arial; font-weight:normal; color:white;\\r\\n    background-color:black; }\\r\\n.KoreanSC { name:Korean; lang:ko-KR; SAMIType:CC; }\\r\\n-->\\r\\n\\n나의 이름은 무스타파\\r\\n\\xa0\\r\\n해군대위\\r\\n\\xa0\\r\\n오스만 제국 프리게이트함에루투루루호의\\r\\n\\xa0\\r\\n기관과 장교를 맡고 있다\\r\\n\\xa0\\r\\n해난 1890\\r\\n\\xa0\\r\\n1889년(메이지 22년) 7월\\r\\n\\xa0\\r\\n일출(日出)의 나라와\\r\\n\\xa0\\r\\n월승(月昇)의 나라의 이야기는이 자그마한 섬에서 시작되었다\\r\\n\\xa0\\r\\n하루짱 어서와\\r\\n\\xa0\\r\\n돌아왔구'), ('마인드게이머스 (MindGamers, 2015)', \"癤�100:00:01,000 --> 00:00:11,000踰����, ������ : ������200:00:45,597 --> 00:00:50,8122002���, �����щ�������� 伊� 2留�由щ�� ��곌껐��������������� '���-��� 媛� ��명�고����댁��'瑜� 留���ㅼ�����300:00:50,976 --> 00:00:57,237��ㅼ��, 100留�由ъ�� 伊�瑜� ��곌껐��� '蹂듯�⑹껜'濡����蹂듭�≫�� 怨쇱��瑜� ���������寃� ������400:00:58,510 --> 00:01:01,980������, �����������닿����� ���寃� 怨쇳�������ㅼ�������� ��곌뎄濡� ������ ��ㅽ����� ������500:01:02,005 --> 00:01:05,256���臾� ��ㅼ����댄�� 蹂대����� 湲곗�������쇰����몄��寃� �����≫�� 寃���대��600:01:05,898 --> \"), ('흑기사 중세로 가다 (Black Knight, 2001)', '블랙 나이트 (Black Knight)\\r\\n\\n\\r\\n<!--\\r\\nP { margin-left:8pt; margin-right:8pt; margin-bottom:2pt;\\r\\n    margin-top:2pt; font-size:24pt; text-align:center;\\r\\n    font-family:Arial, Sans-serif; font-weight:bold; color:ffffcc;\\r\\n    }\\r\\n.KRCC { Name:Korean; lang:ko-KR; SAMIType:CC; }\\r\\n#STDPrn { Name:Standard Print; }\\r\\n#VLargePrn { Name:34pt (VLarge Print); font-size:34pt; }\\r\\n#LargePrn { Name:28pt (Large Print); font-size:28pt; }\\r\\n#MediumPrn { Name:24pt (Medium Print); font-size:24pt; }\\r\\n#BSmallPrn { Name:18pt '), ('고스트 앤 다크니스 (The Ghost And The Darkness, 1996)', '고스트 앤 다크니스\\r\\n\\r\\n\\xa0\\r\\n\\n1898년 런던\\r\\n\\r\\n\\xa0\\r\\n\\n이 이야기는 아프리카에서가장 유명한 모험담이다\\r\\n\\r\\n\\xa0\\r\\n\\n이런 일은 사보에서조차처음있는 일이었다\\r\\n\\r\\n\\xa0\\r\\n\\n사건은 아일랜드계의 뛰어난건축기사이며 나의 절친한 친구인\\r\\n\\n존 패터슨 대령이 그곳에도착했을 때부터 시작되었다\\r\\n\\r\\n\\xa0\\r\\n\\n나의 이름은 사무엘, 이것은내가 직접 목격한 사실이다\\r\\n\\r\\n\\xa0\\r\\n\\n여기서 가장 믿기 힘든 부분도전부 사실임을 밝혀둔다\\r\\n\\r\\n\\xa0\\r\\n\\r\\n존 헨리 패터슨난 로버트 뷰몬트일세\\r\\n\\r\\n\\xa0\\r\\n\\r\\n힘찬 악수로군, 맘에 들어자네 소문은 많이 들었네\\r\\n\\r\\n자리에 좀 앉지\\r\\n\\r\\n\\xa0\\r\\n\\r\\n나에 대한 소감은 어떤가?\\r\\n\\r\\n\\xa0\\r\\n\\r\\n사람들은 날보고 웃는 모습이멋지다고 하지\\r\\n\\r\\n자네도 동감할 거야\\r\\n\\r\\n\\xa0\\r\\n\\r\\n자신감에 차있는매력적인 성격...\\r\\n\\r\\n\\xa0\\r\\n\\r\\n본론부터 들어가죠\\r\\n\\r\\n\\xa0\\r\\n\\r\\n모두 나가 있어\\r\\n\\r\\n\\xa0\\r\\n\\r\\n날 자세히 보게, 패터슨 대령난 괴물이야\\r\\n\\r\\n\\xa0\\r\\n\\r\\n내 유일한 취미는 부하직원을괴롭히는 일이라네'), ('수어사이드 쇼 (This Is Your Death, 2017) The show', \"100:00:56,554 --> 00:00:57,756Welcome back.어서오세요200:00:57,789 --> 00:01:00,292We are broadcasting livefrom Seattle우린 지금 시에틀 라이브중입니다300:01:00,326 --> 00:01:01,727to give you the momentyou've been waiting for이 시간 여름내 기다리고 기다리던400:01:01,759 --> 00:01:03,195all summer long.경합의500:01:04,763 --> 00:01:06,099Two contestants remain,두 경쟁자가 기다리고 있습니다600:01:06,132 --> 00:01:08,501but only one will be그러나 한사람만이700:01:08,534 --> 00:01:10,837Married to a Millionaire.백만장자와 결혼하겠지요800:01:12,337 --> 00:01:13,738We\"), ('오리엔트 특급 살인사건 (Murder on the Orient Express, 1974) RESTORED.1080p.BluRay.X264-AMIABLE', 'Murder.on.the.Orient.Express.1974.RESTORED.1080p.BluRay.X264-AMIABLE *24fps*\\n\\r\\n<!--\\r\\nP { margin-left:8pt; margin-right:8pt; margin-bottom:2pt;\\r\\n    margin-top:2pt; font-size:20pt; text-align:center;\\r\\n    font-family:굴림, Arial; font-weight:bold; color:white;\\r\\n    background-color:black; }\\r\\n.KRCC { Name:한국어; lang:ko-KR; SAMIType:CC; }\\r\\n-->\\r\\n\\n\\n\\r\\n원작\\r\\n아가사 크리스티\\r\\n\\xa0\\r\\n\\r\\n\"오리엔트 특급 살인사건\"\\r\\n\\xa0\\r\\n\\r\\n감독\\r\\n시드니 루멧\\r\\n\\xa0\\r\\n\\n암스트롱 저택\\r\\n뉴욕, 롱아일랜드\\n\\xa0\\r\\n\\n암스트롱 딸 유괴되다\\n\\xa0\\r\\n\\n암스트롱 가의 비극\\n\\xa0\\r\\n\\n암스트롱 딸은 어디에?\\n\\xa0\\r\\n\\n하녀, 유괴범의 차를 목격하다\\n\\xa0\\r\\n\\n하녀 폴레트 '), ('끝없는 사랑.Endless.Love.1981.WEBRip.x264-RARBG', '<!--\\r\\nP { margin-left:2pt; margin-right:2pt; margin-bottom:1pt;\\r\\n    margin-top:1pt; font-size:20pt; text-align:center;\\r\\n    font-family:Arial, Sans-serif; font-weight:bold; color:white; }\\r\\n.KRCC { Name:Korean; lang:ko-KR; SAMIType:CC; }\\r\\n#STDPrn { Name:Standard Print; }\\r\\n#LargePrn { Name:Large Print (26pt); font-size:26pt; }\\r\\n#SmallPrn { Name:Small Print (14pt); font-size:14pt; }\\r\\n-->\\r\\n\\n\\n\\r\\n모두 조용히 해, 중심부를\\r\\n보았으니 다들 가자\\r\\n\\xa0\\r\\n\\r\\n태양계\\r\\n\\xa0\\r\\n\\r\\n수백억 개의 별들이\\r\\n\\xa0\\r\\n\\r\\n끝없는 공간에 퍼져 있어서\\r\\n\\xa0\\r\\n\\r\\n인간이 이해하기엔\\r\\n너무나 방대하다\\r\\n\\xa0\\r\\n\\r'), ('퍼니 맨 (Funny Man 1994) Funny.Man.1994.720p.BluRay.x264-x0r', 'Hanbange 3.0 - (C) Breadu Soft 2003\\n\\r\\n<!--\\r\\nP { margin-left:8pt; margin-right:8pt; margin-bottom:2pt;\\r\\n    margin-top:2pt; font-size:14pt; text-align:center;\\r\\n    font-family:굴림, Arial; font-weight:normal; color:white;\\r\\n    background-color:black; }\\r\\n.KRCC { Name:한국어; lang:ko-KR; SAMIType:CC; }\\r\\n#STDPrn { Name:Standard Print; }\\r\\n#LargePrn { Name:Large Print; font-size:20pt; }\\r\\n#SmallPrn { Name:Small Print; font-size:10pt; }\\r\\n-->\\r\\n\\n\\n자막 제작 - 납골당의 울프\\r\\n\\xa0\\r\\n\\n수정은 하셔도 되지만\\r\\n제작자 정보는 지우지 말아 주세요~~\\r\\n\\n동영상 정보 '), ('라자루스  (The Lazarus Effect, 2015)', 'The.Lazarus.Effect.2015.1080p.BluRay.x264.YIFY-[Original]\\n\\r\\n<!--\\r\\nP { margin-left:0pt; margin-right:0pt; margin-bottom:10pt;\\r\\n    margin-top:10pt; font-size:18pt; text-align:center;\\r\\n    font-family:arial; font-weight:bold; color:#f0f0f0;\\r\\n    }\\r\\n.KOCC { Name:Korean; lang:ko-KR; SAMIType:CC; }\\r\\n-->\\r\\n\\n\\n\\r\\nsub2smi by \\xa0Michael Archangel\\n\\xa0\\r\\n\\r\\n아우, 돼지 냄새\\u3000\\u3000\\u3000\\u3000\\u3000\\u3000\\u3000\\u3000\\u3000\\r\\n\\xa0\\r\\n\\r\\n오메가 수치 좀높여줄래?\\u3000\\u3000\\u3000\\u3000\\u3000\\u3000\\u3000\\u3000\\r\\n\\xa0\\r\\n\\r\\n- 3 포인트 높일까?- 우선 2 포인트만\\u3000\\u3000\\u3000\\u3000\\u3000\\u3000\\u3000\\u3000\\r\\n\\xa0\\r\\n\\r\\n좋았어시작해, 클레이\\u3000\\u3000\\u3000\\u3000\\u3000\\u3000\\u3000\\u3000\\r\\n\\xa0\\r\\n\\r\\n- 편도체 반응은?- 89.8 Mhz\\u3000\\u3000\\u3000\\u3000\\u3000\\u3000\\u3000\\u3000\\r\\n\\xa0\\r\\n\\r\\n해마는 108.'), ('위트 (Wit, 2001)', 'Wit.2001.1080p.AMZN.WEBRip.DDP2.0.x264-monkee\\n\\r\\n<!--\\r\\nP { margin-left:8pt; margin-right:8pt; margin-bottom:2pt;\\r\\n    margin-top:2pt; text-align:center; font-size:20pt;\\r\\n    font-family:굴림, Arial; font-weight:bold; color:white; }\\r\\n.KRCC { Name:한국어; lang:ko-KR; SAMIType:CC; }\\r\\n-->\\r\\n\\n\\n\\n위트\\n\\xa0\\r\\n\\r\\n암입니다\\r\\n\\xa0\\r\\n\\r\\n미스 베어링,\\r\\n전이성 난소암 말기입니다\\r\\n\\xa0\\r\\n\\r\\n계속하세요\\r\\n\\xa0\\r\\n\\r\\n- 교수시더군요, 미스 베어링\\r\\n- 당신처럼요, 켈리키안 박사님\\r\\n\\xa0\\r\\n\\r\\n네, 그렇죠\\r\\n\\xa0\\r\\n\\r\\n그런데, 안타깝게도 3기까지\\r\\n발견되지 않은\\r\\n\\xa0\\r\\n\\r\\n암이 생겼습니다\\r\\n\\xa0\\r\\n\\r\\n- 은밀하게 성장하는 선암입니다\\r\\n- 은밀하게요?\\r\\n\\xa0\\r\\n\\r\\n은밀하다는 건\\r\\n처음에 발견하기가...'), ('안전은 보장할 수 없음 (Safety Not Guaranteed, 2012) LIMITED.1080p.BluRay.x264-SPARKS', 'Safety.Not.Guaranteed.2012.LIMITED.1080p.BluRay.x264-SPARKS\\n\\r\\n<!--\\r\\nP { margin-left:8pt; margin-right:8pt; margin-bottom:2pt;\\r\\n    margin-top:2pt; font-size:20pt; text-align:center;\\r\\n    font-family:굴림, Arial; font-weight:bold; color:white;\\r\\n    background-color:black; }\\r\\n.KRCC { Name:한국어; lang:ko-KR; SAMIType:CC; }\\r\\n-->\\r\\n\\n\\n\\n어디부터 얘기할까요?\\n\\xa0\\r\\n\\n대학교 때요?\\n\\xa0\\r\\n\\n인간관계 하난\\r\\n끝내줬죠\\n\\xa0\\r\\n\\n진짜로요\\n\\xa0\\r\\n\\n고등학교 때는\\n\\xa0\\r\\n\\n뱀 떼에 던져진\\r\\n쥐 같았어요\\n\\xa0\\r\\n\\n바짝 얼어서\\r\\n친구도 못 사귀었죠\\n\\xa0\\r\\n\\n어릴 때는\\r\\n행복했던 것 같아요\\n\\xa0\\r\\n\\n그맘땐 다\\r\\n낙천적이잖아요\\n\\xa0\\r\\n\\n엄마가 돌아가시기\\r\\n전까지는요\\n\\xa0\\r\\n\\n'), ('리오에서 온 사나이 (L Homme De Rio / That Man From Rio, 1964) 1080p.BluRay.x264-SADPANDA', 'That.Man.from.Rio.1964.1080p.BluRay.x264-SADPANDA\\n\\r\\n<!--\\r\\nP { margin-left:8pt; margin-right:8pt; margin-bottom:2pt;\\r\\n    margin-top:2pt; font-size:20pt; text-align:center;\\r\\n    font-family:굴림, Arial; font-weight:bold; color:white;\\r\\n    background-color:black; }\\r\\n.KRCC { Name:한국어; lang:ko-KR; SAMIType:CC; }\\r\\n-->\\r\\n\\n\\n\\r\\n\"리오에서 온 사나이\"\\r\\n\\xa0\\r\\n\\r\\n8일 휴가야\\r\\n\\xa0\\r\\n\\r\\n8일짜리 휴가군\\r\\n\\xa0\\r\\n\\r\\n2시에 다시 열어요\\r\\n\\xa0\\r\\n\\r\\n점심이군, 먹자고\\r\\n\\xa0\\r\\n\\r\\n- 냄새 맡아봐요\\r\\n- 좋군!\\r\\n\\xa0\\r\\n\\r\\n- 교수님!\\r\\n- 왜요?\\r\\n\\xa0\\r\\n\\r\\n- 전화요!\\r\\n- 없다고 해요\\r\\n\\xa0\\r\\n\\r\\n박물관인데요\\r\\n도둑이 들었대요\\r\\n\\xa0\\r\\n\\r\\n뭐라고?\\r\\n\\xa0\\r\\n\\r\\n박물'), ('비스마르크호를 격침하라 (Sink The Bismarck!, 1960)', \"<!--\\r\\nP { margin-left:8pt; margin-right:8pt; margin-bottom:2pt;\\r\\n    margin-top:2pt; font-size:14pt; text-align:center;\\r\\n    font-family:굴림, Arial; font-weight:normal; color:white;\\r\\n    background-color:black; }\\r\\n.KRCC { Name:KRCC; lang:kr-KR; SAMIType:CC; }\\r\\n-->\\r\\n\\n\\n\\n독일 함부르크1939년 2월 14일\\n\\n오늘 존경하는 총통님께서이곳 함부르크를 방문해\\n\\n세계 최강의 전함 진수식에참석하셨습니다\\n\\n만재 배수량 5만 톤뛰어난 장갑 방어력\\n\\n38센티미터 주포 8문전함인 '비스마르크'호는\\n\\n격침되지 않는바다의 요새입니다\\n\\xa0\\r\\n\\n철혈재상'비스마르크'의 손녀가\\n\\n우리의 불침함을진수시켰습니다\\n\\xa0\\r\\n\\n이로써 전 세계에독일 전함의 힘을\\n\\n다시 한번 입증하게 됐습니다\\n\\xa0\\r\\n\\r\\n히틀러 만세!히틀러 \"), ('오리엔트 특급 살인 (Murder on the Orient Express, 1974) 영문', \"癤�100:06:14,709 --> 00:06:16,751Madam. Madam.200:06:16,876 --> 00:06:19,667- Madam.- Madam.300:06:29,542 --> 00:06:32,792- Your ticket, please.- Oh, yes.400:06:32,917 --> 00:06:34,626Welcome aboard, Miss Debenham.500:06:34,751 --> 00:06:35,751Thank you.600:06:35,876 --> 00:06:40,626'Bosphorus ferry will shortlydepart from Istanbul Sirkeci Station,700:06:40,751 --> 00:06:44,042'connectingwith the Orient Express.'800:06:45,917 --> 00:06:48,334Ah. Here's your ticket,Monsieur Poirot.900:06:48,459 --\"), ('하얀 궁전 (White Palace. 1990) - 루이스 만도키 감독', 'Virus/Spyware Download Blocked\\n\\n\\n\\n\\r\\n  #content {\\r\\n    border:3px solid#aaa;\\r\\n    background-color:#fff;\\r\\n    margin:1.5em;\\r\\n    padding:1.5em;\\r\\n    font-family:Tahoma,Helvetica,Arial,sans-serif;\\r\\n    font-size:1em;\\r\\n  }\\r\\n  h1 {\\r\\n    font-size:1.3em;\\r\\n    font-weight:bold;\\r\\n    color:#196390;\\r\\n  }\\r\\n  b {\\r\\n    font-weight:normal;\\r\\n    color:#196390;\\r\\n  }\\r\\n\\n\\n\\n\\nVirus/Spyware Download Blocked\\nDownload of the virus/spyware has been blocked in accordance with company policy. Please contact your system '), ('홍금보의 벽력대나팔 1986.720p.BluRay.DTS.x264-CGH', 'Subtitle file created with Subtitle Converter v2.0\\n\\r\\n<!--\\r\\nP {margin-left:8pt; margin-right:8pt; margin-bottom:2pt; margin-top:2pt;\\r\\n   text-align:center; font-size:20pt; font-family:arial, sans-serif;\\r\\n   font-weight:normal; color:white;}\\r\\n.KRCC {Name:Korean; lang:kr-KR; SAMIType:CC;}\\r\\n#STDPrn {Name:Standard Print;}\\r\\n#LargePrn {Name:Large Print; font-size:20pt;}\\r\\n#SmallPrn {Name:Small Print; font-size:10pt;}\\r\\n-->\\r\\n\\n\\r\\n현상금이 2만 5천이라니\\r\\n굉장하군.(한글자막:아이키도맨)\\r\\n\\xa0\\r\\n\\r\\n그때문에 저놈을 잡아야해.\\r\\n\\xa0\\r\\n\\r\\n무시못할 액수라구,\\r\\n\\xa0\\r\\n\\r\\n어'), ('성룡의 후 엠 아이 CIA Who.Am.I.1998.720p.BluRay.DTS.x264-CGH', '<!--\\r\\nP {margin-left:8pt; margin-right:8pt; margin-bottom:2pt; margin-top:2pt;\\r\\n   text-align:center; font-size:18pt; font-family:굴림체, sans-serif;\\r\\n   font-weight:bold; color:yellow;}\\r\\n.KRCC {Name:Korean; lang:kr-KR; SAMIType:CC;}\\r\\n#STDPrn {Name:Standard Print;}\\r\\n#LargePrn {Name:Large Print; font-size:20pt;}\\r\\n#SmallPrn {Name:Small Print; font-size:10pt;}\\r\\n-->\\r\\n\\n\\n\\n\\xa0\\r\\n\\r\\n물러서!\\r\\n\\xa0\\r\\n\\r\\n서둘러!\\r\\n\\xa0\\r\\n\\r\\n됐어, 올려!\\r\\n\\xa0\\r\\n\\r\\n연구실로 가져가\\r\\n어서!\\r\\n\\xa0\\r\\n\\r\\n509, 주변을 정찰해\\r\\n자네도!\\r\\n\\r\\n502는 컴퓨터를 맡고 \\r\\n자넨 팀을 확인해\\r\\n\\r\\n네!\\r\\n\\xa0\\r\\n\\r\\n준비해!\\r\\n\\xa0\\r\\n\\r\\n목표물'), (\"리오의 사나이 (L'homme de Rio, that Man from Rio, 1964) Philippe de Broca\", '<!--\\r\\nP { margin-left:29pt; margin-right:29pt; font-size:24pt;\\r\\n    text-align:center; font-family:Tahoma; font-weight:bold;\\r\\n    color:#FFFFFF; background-color:#000000; }\\r\\n.KRCC { Name:Korean; lang:kr-KR; SAMIType:CC; }\\r\\n-->\\r\\n\\n\\r\\n자막 작업  Eugenio Juliano  Nov.2014\\r\\n\\xa0\\r\\n\\r\\n쟝-폴 벨몽도\\r\\n\\r\\n프랑소와즈 도를레악\\r\\n\\xa0\\r\\n\\n리오의 사나이\\nThat Man from Rio (1964)\\r\\n\\xa0\\r\\n\\n감독  필립 드 브로카\\r\\n\\xa0\\r\\n\\r\\n이봐!\\r\\n\\r\\n8일간 휴가 어때?\\r\\n\\xa0\\r\\n\\r\\n그래, 8일이지\\r\\n\\xa0\\r\\n\\r\\n\"인류사 박물관\"\\r\\n\\xa0\\r\\n\\r\\n- 시간 다 됐어요\\r\\n- 이런...\\r\\n\\xa0\\r\\n\\r\\n배 고프군\\r\\n\\xa0\\r\\n\\r\\n- 이 치즈 냄새 좀 맡아 봐\\r\\n- 끝내주는 구만\\r\\n\\xa0\\r\\n\\r\\n- 교수님, 교수님!\\r\\n- 왜?\\r\\n'), ('로코와 그의 형제들 (Rocco And His Brothers, 1960) Rocco e i suoi fratelli.1960.BDRemux.rutrac…', '100:01:17,708 --> 00:01:27,792타이타누스 제공200:01:32,542 --> 00:01:36,958루치노 비스콘티 영화300:01:38,000 --> 00:01:41,542조프레도 롬바르도 제작400:01:42,500 --> 00:01:46,458로코와 그의 형제들500:01:47,292 --> 00:01:49,958알랭 들롱600:01:50,375 --> 00:01:53,333레나또 살바토리700:01:54,208 --> 00:01:56,333안니 지라르도800:01:57,000 --> 00:01:59,250카니나 팍시누900:02:16,542 --> 00:02:20,375로제 아냉파올로 스토파1000:02:21,250 --> 00:02:23,292수지 디레어1100:02:24,083 --> 00:02:27,000클라우디아 카르디날레1200:03:29,083 --> 00:03:36,667음악니노 로타1300:03:45,708 --> 00:03:51,083감독'), ('스타 트렉: 더 비기닝 (Star Trek, 2009)', '癤�\\nStar.Trek.2009.1080p.BluRay.x264.TrueHD.5.1-FGT\\n\\r\\n<!--\\r\\nP { margin-top: 8pt; margin-right: 4pt; margin-bottom: 8pt; margin-left: 4pt;\\r\\n    text-align: center; font-size: 20pt; font-family: Tahoma; font-weight: bold; color: white; }\\r\\n.KRCC { name: Korean; lang: ko-KR; SAMIType: CC; }\\r\\n#STDPrn { name: Standard Print; }\\r\\n#LargePrn { name: Large Print; font-size: 24pt; }\\r\\n#SmallPrn { name: Small Print; font-size: 16pt; }\\r\\n-->\\r\\n\\n\\n\\nsup2smi by ������\\n\\xa0\\r\\n\\n耳�鍮����, ��곗＜��⑤��!\\n\\xa0\\r\\n\\n��곗�댄�� 諛������듬��源�?'), ('리턴드 (The Returned, 2013)', 'The.Returned.2013.1080p.BluRay.x264.YIFY-[Original]\\n\\r\\n<!--\\r\\nP { margin-left:0pt; margin-right:0pt; margin-bottom:10pt;\\r\\n    margin-top:10pt; font-size:18pt; text-align:center;\\r\\n    font-family:arial; font-weight:bold; color:#f0f0f0;\\r\\n    }\\r\\n.KOCC { Name:Korean; lang:ko-KR; SAMIType:CC; }\\r\\n-->\\r\\n\\n\\n\\r\\nsub2smi by \\xa0Michael Archangel\\n\\xa0\\r\\n\\n리턴드\\n\\xa0\\r\\n\\n에밀리 햄프셔\\n\\xa0\\r\\n\\n크리스 홀든 리드\\n\\xa0\\r\\n\\n숀 도일\\n\\xa0\\r\\n\\n클라우디아 바솔스\\n\\xa0\\r\\n\\r\\n엄마!\\r\\n\\xa0\\r\\n\\r\\n엄마!\\r\\n\\xa0\\r\\n\\r\\n- 병원이야, 걱정 마- 엄마 여기 있어\\r\\n\\xa0\\r\\n\\r\\n괜찮을 거야\\r\\n\\xa0\\r\\n\\r\\n괜찮을 테니걱정 마\\r\\n\\xa0\\r\\n\\r\\n각본/ 하템 크레이치\\n\\xa0\\r\\n\\r\\n잠시만요!\\r\\n\\xa0\\r\\n\\r\\n밖'), ('레드 독 (Red Dog, 2011)', 'Red.Dog.2011.1080p.BluRay.H264.AAC-RARBG-[Original]\\n\\r\\n<!--\\r\\nP { margin-left:0pt; margin-right:0pt; margin-bottom:10pt;\\r\\n    margin-top:10pt; font-size:18pt; text-align:center;\\r\\n    font-family:arial; font-weight:bold; color:#f0f0f0;\\r\\n    }\\r\\n.KOCC { Name:Korean; lang:ko-KR; SAMIType:CC; }\\r\\n-->\\r\\n\\n\\n\\r\\nsub2smi by \\xa0Michael Archangel\\n\\xa0\\r\\n\\r\\n좋아...\\r\\n\\xa0\\r\\n\\r\\n계세요?\\r\\n\\xa0\\r\\n\\r\\n데려와, 어서\\r\\n\\xa0\\r\\n\\r\\n이쪽으로...그대로 잡고 있어\\r\\n\\xa0\\r\\n\\r\\n알았어\\r\\n\\xa0\\r\\n\\r\\n앉아, 그래...\\r\\n\\xa0\\r\\n\\r\\n머리를 잡아꼭 잡고 있어야 돼\\r\\n\\xa0\\r\\n\\r\\n이봐요! 이봐!\\r\\n\\xa0\\r\\n\\r\\n깨끗이 끝내자구\\r\\n\\xa0\\r\\n\\r\\n아닙니다...\\r\\n\\xa0\\r\\n\\r\\n저 인간은 뭐야?\\r\\n\\xa0\\r'), (\"치어 댄스 (Let's Go, Jets, 2017) 1080p.BluRay.x264.DTS-WiKi\", \"Let's.Go.Jets.2017.1080p.BluRay.x264.DTS-WiKi\\n\\r\\n<!--\\r\\nP { margin-left:8pt; margin-right:8pt; margin-bottom:2pt; \\r\\n    margin-top:2pt; font-size:20pt; text-align:center; \\r\\n    font-family:굴림, Arial; font-weight:bold; color:white; \\r\\n    background-color:black; } \\r\\n.KRCC { Name:한국어; lang:ko-KR; SAMIType:CC; }\\r\\n-->\\r\\n\\n\\n\\r\\n수입 얼리버드 픽쳐스\\r\\n배급 와이드 릴리즈(주)\\r\\n\\xa0\\r\\n\\r\\n실화를 바탕으로 한 이야기\\r\\n\\xa0\\r\\n\\r\\n미국, 캘리포니아\\r\\n\\xa0\\r\\n\\r\\n전미 치어 댄스 선수권\\r\\n\\xa0\\r\\n\\r\\n밝고 순수하고 아름답게!\\r\\n\\xa0\\r\\n\\r\\nLet's go JETS!\\r\\n\\xa0\\r\\n\\r\\n치어댄스\\r\\n\\xa0\\r\\n\\r\\n일본\\r\\n\\xa0\\r\\n\\r\\n후쿠이 현\\r\\n\\xa0\\r\\n\\r\\n현립 후쿠이 중앙고등학교\\r\\n\\xa0\\r\\n\\r\\n\"), ('휴고 (HUGO, 2011)', 'Hugo.2011.XviD.AC3-Zoom \\n<!--\\r\\nP {margin-left:2pt; margin-right:2pt; margin-bottom:1pt; margin-top:1pt;\\r\\n   text-align:center; font-size:20pt; font-family:Arial, Sans-serif;\\r\\n   font-weight:bold; color:white;}\\r\\n.KRCC {Name:Korean; lang:ko-KR; SAMIType:CC;}\\r\\n#STDPrn {Name:Standard Print;}\\r\\n#LargePrn {Name:Large Print (26pt); font-size:26pt;}\\r\\n#SmallPrn {Name:Small Print (14pt); font-size:14pt;}\\r\\n-->\\r\\n\\n\\n\\nsub2smi by 블랙이글\\r\\n\\xa0\\r\\n\\r\\n안녕하세요\\r\\n\\xa0\\r\\n\\r\\n좋은 아침이에요\\r\\n\\xa0\\r\\n\\r\\n오늘도\\r\\n좋은 책이 왔군요\\r\\n\\xa0\\r\\n\\r\\n드디어 잡았다\\r\\n\\xa0\\r\\n\\r\\n이번이 처음 아니지'), ('지퍼스 크리퍼스 3(Jeepers.Creepers.3.2017.1080p.HDTV.DD5.1.x264-FGT)', 'smisrt.com subtitles convert tool\\n\\n<!--\\n\\tP { margin-left:8pt; margin-right:8pt; margin-bottom:2pt;\\n\\tmargin-top:2pt; font-size:14pt; text-align:center;\\n\\tfont-family:援대┝, Arial; font-weight:normal; color:white;\\n\\tbackground-color:black; }\\n\\t.krcc { Name:���援����; lang:ko-KR; SAMIType:CC; }\\n\\t#STDPrn { Name:Standard Print; }\\n\\t#LargePrn { Name:Large Print; font-size:20pt; }\\n\\t#SmallPrn { Name:Small Print; font-size:10pt; }\\n-->\\n\\n\\n\\xa0\\n\\nHelp!\\n\\xa0\\n\\nHey!\\n\\xa0\\n\\nEvery 23rd year, for 23 days,\\n\\xa0\\n\\nit gets to eat.\\n\\xa0\\n\\nAnd')]\n"
     ]
    }
   ],
   "source": [
    "import requests\n",
    "from bs4 import BeautifulSoup\n",
    "\n",
    "BOARD_START = 1    # 씨네시티 게시판 시작 페이지\n",
    "BOARD_END = 2       #  게시판 마지막 페이지\n",
    "\n",
    "if __name__ == \"__main__\":\n",
    "    \n",
    "    movie_subs = []\n",
    "    \n",
    "    # 게시판 페이지 별로\n",
    "    for i in range(BOARD_START, BOARD_END+1):\n",
    "        borad_url = get_board_url(i)\n",
    "        move_links = get_movie_links(board_url)\n",
    "        \n",
    "        # 게시판 글 별로\n",
    "        for movie in move_links:\n",
    "            title = movie[0]     #게시글 제목\n",
    "            movie_link = movie[1]   # 게시글 링크 확인\n",
    "            \n",
    "            try:\n",
    "                sub_link = get_sub_link(movie_link)   # 게시글 링크에서 자막 주소 확인,   자막보기가 없는 게시글은 pass 한다\n",
    "            except:\n",
    "                continue\n",
    "                \n",
    "            contents = get_sub_text(sub_link)     # 자막 내 정보 가져오기   (필요에 맞게 추가 전처리 필요함)\n",
    "            \n",
    "            movie_subs.append((title, contents[:500]))    # 테스트를 위해서 자막 글 중 500자만 가져옴. 실제할때는 없애줌. \n",
    "                                                          # 사용 목적에 따라 전처리 추가하여 가져오는것이 좋을 듯.\n",
    "            print('{}의 자막을 가져왔습니다'.format(title))\n",
    "    print(movie_subs)\n"
   ]
  }
 ],
 "metadata": {
  "anaconda-cloud": {},
  "kernelspec": {
   "display_name": "Python [default]",
   "language": "python",
   "name": "python3"
  },
  "language_info": {
   "codemirror_mode": {
    "name": "ipython",
    "version": 3
   },
   "file_extension": ".py",
   "mimetype": "text/x-python",
   "name": "python",
   "nbconvert_exporter": "python",
   "pygments_lexer": "ipython3",
   "version": "3.5.2"
  }
 },
 "nbformat": 4,
 "nbformat_minor": 1
}
