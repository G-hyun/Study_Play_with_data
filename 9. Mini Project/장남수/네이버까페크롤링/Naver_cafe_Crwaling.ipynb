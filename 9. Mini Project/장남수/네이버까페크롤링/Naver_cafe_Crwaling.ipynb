{
 "cells": [
  {
   "cell_type": "code",
   "execution_count": 1,
   "metadata": {
    "collapsed": true
   },
   "outputs": [],
   "source": [
    "from selenium import webdriver\n",
    "from bs4 import BeautifulSoup\n",
    "from urllib.parse import urljoin\n",
    "import time\n",
    "import random\n",
    "from selenium.webdriver.chrome.options import Options"
   ]
  },
  {
   "cell_type": "code",
   "execution_count": 46,
   "metadata": {
    "collapsed": true
   },
   "outputs": [],
   "source": [
    "class Naver_Cafe_Crawling():\n",
    "    def __init__(self):    #크롬 창을 연다\n",
    "        \n",
    "        path = 'C:/informs/chromedriver'\n",
    "        chrome_options = Options()\n",
    "        chrome_options.add_argument(\"--disable-extensions\")\n",
    "        chrome_options.add_argument('--disable-java')\n",
    "#         chrome_options.add_argument(\"--headless\")   # headless \n",
    "        \n",
    "        profile = {\"plugins.plugins_disabled\": [\"Shockwave Flash\"]}\n",
    "        chrome_options.add_experimental_option(\"prefs\", profile)\n",
    "        self.browser = webdriver.Chrome(executable_path= path, chrome_options=chrome_options)\n",
    "\n",
    "#         executable_path=r\n",
    "    \n",
    "    def login_naver(self):\n",
    "        #naver에 로그인 한다\n",
    "        url_login = 'https://nid.naver.com/nidlogin.login'\n",
    "        self.browser.get(url_login)\n",
    "        print('네이버 로그인 페이지에 접근합니다')\n",
    "\n",
    "        #네이버 아이디/패스워드가져오기\n",
    "        with open('c:/informs/naver.txt','r') as idpw:\n",
    "            naver_id, naver_pw = idpw.readline().split(',')\n",
    "\n",
    "        #네이버 아이디/로그인 입력하기\n",
    "        e = self.browser.find_element_by_id('id')\n",
    "        e.clear()   #기존에 입력된 값 삭제\n",
    "        e.send_keys(naver_id)\n",
    "        e = self.browser.find_element_by_id('pw')\n",
    "        e.clear()\n",
    "        e.send_keys(naver_pw)\n",
    "        form = self.browser.find_element_by_css_selector('input.btn_global[type=submit]')\n",
    "        form.submit()\n",
    "        \n",
    "    def enter_naver_cafe(self, cafe_url):\n",
    "        # 까페에 접속한다\n",
    "        self.browser.get(cafe_url)\n",
    "        print('네이버까페에 접속합니다')\n",
    "        print('\\n!!!!!!!!!!! 플래시 설정을 점검해주세요 !!!!!!!!!!')\n",
    "\n",
    "    def get_menu(self,cafe_url):\n",
    "        '''\n",
    "        네이버 까페 url을 입력 --> 까페 clubid / 메뉴그룹/메뉴명/메뉴번호를 리턴한다.\n",
    "        '''\n",
    "        self.enter_naver_cafe(cafe_url)\n",
    "        \n",
    "        response = self.browser.page_source\n",
    "        html=BeautifulSoup(response, 'lxml')\n",
    "        \n",
    "        menu_groups=html.select('ul.cafe-menu-list')        #메뉴 그룹 리스트\n",
    "        menu_group_names=html.select('div.cafe-menu-tit')  #메뉴그룹명 리스트     \n",
    "           \n",
    "        for menu_group, group_name in zip(menu_groups, menu_group_names):      #메뉴 그룹별로 조회함\n",
    "            menus=menu_group.select('li a')\n",
    "            for menu in menus:\n",
    "                menu_name=menu.text            #메뉴 명\n",
    "                menu_num=menu['id'][8:]        #메뉴(카테고리) 번호\n",
    "                menu_url=urljoin(cafe_url, menu['href'])     #메뉴 주소 가져오기(상대경로 --> 절대경로)\n",
    "                print(\"  - {} [{}] : {}\".format(menu_name, menu_num,menu_url))\n",
    "            print(\"{}\".format(group_name.text.strip()))   #메뉴그룹명을 가져옴\n",
    "            \n",
    "        \n",
    "    def searching_word(self, word):\n",
    "        # 까페 내 검색어로 검색 --> 검색결과 페이지\n",
    "        e = self.browser.find_element_by_id('topLayerQueryInput')\n",
    "        e.clear()\n",
    "        e.send_keys(word)\n",
    "        form = self.browser.find_element_by_css_selector('#cafe-search > form > a')\n",
    "        form.click()\n",
    "        print('{}에 대한 결과를 검색합니다'.format(word))\n",
    "        self.switch_frame()\n",
    "        \n",
    "    def switch_frame(self):\n",
    "        try: \n",
    "            self.browser.switch_to_frame('cafe_main') \n",
    "            print('  (프레임 변경했습니다)')\n",
    "        except: None\n",
    "        \n",
    "        \n",
    "    def move_next_pages(self, i):\n",
    "        #i page로 이동함\n",
    "        #1번페이지부터 순차적으로 이동 필요함(한 페이지내  1.2.3.....10. 다음 /   이전.11.12.13.....20.다음 으로 구성되어있음)\n",
    "        if i<=11: k=i\n",
    "        else:\n",
    "            k = (i-2)%10 + 3\n",
    "        \n",
    "        try: \n",
    "            next = self.browser.find_element_by_xpath('//*[@id=\"main-area\"]/div/table/tbody/tr/td[{}]/a'.format(k))\n",
    "            next.click()\n",
    "        except: return True        # 다음페이지가 없다면 True 를 리턴한다\n",
    "\n",
    "    \n",
    "    \n",
    "    def get_content(self):\n",
    "\n",
    "        date = self.browser.find_element_by_css_selector('td.m-tcol-c.date').text        #작성일\n",
    "        title = self.browser.find_element_by_css_selector('span.b.m-tcol-c').text        #글 제목\n",
    "        writer = self.browser.find_element_by_css_selector('td.p-nick > a.m-tcol-c.b').text  #작성자\n",
    "        content = self.browser.find_element_by_id('tbody').text.strip().replace('\\n','')  #본문내용\n",
    "        board = self.browser.find_element_by_css_selector('tr > td > a.m-tcol-c').text   #게시판명\n",
    "        \n",
    "        reply_writers = self.browser.find_elements_by_css_selector('a.m-tcol-c._rosRestrict._nickUI')\n",
    "        reply_dates = self.browser.find_elements_by_css_selector('span.date.m-tcol-c.filter-50')\n",
    "        reply_contents = self.browser.find_elements_by_css_selector('p.comm.m-tcol-c > span.comm_body')\n",
    "        \n",
    "        \n",
    "        replys = []\n",
    "        for i in range(len(reply_writers)):\n",
    "            replys.append((i+1,reply_writers[i].text,reply_dates[i].text,reply_contents[i].text))\n",
    "                \n",
    "        reply_counts = len(replys)\n",
    "        \n",
    "        bottom = self.browser.find_element_by_css_selector('#cmtMenu > div.fl.reply_sort > table > tbody > tr').text\n",
    "        bottom = bottom.split(' ')\n",
    "        read_counts = bottom[bottom.index('조회수')+1]\n",
    "        likes_counts = bottom[bottom.index('좋아요')+1]\n",
    "\n",
    "            \n",
    "        \n",
    "        results ={\n",
    "            'title' : title,\n",
    "            'writer' : writer,\n",
    "            'date' : date,\n",
    "            'content' : content,\n",
    "            'board' : board,\n",
    "            'read_counts' : read_counts,\n",
    "            'likes_counts' : likes_counts,\n",
    "            'reply_counts' : reply_counts,\n",
    "            'replys' : replys\n",
    "        }\n",
    "        \n",
    "        print('  - 크롤링중: {} '.format(title))\n",
    "        return results\n",
    "\n",
    "    \n",
    "    def back_to_searching(self):\n",
    "        self.browser.find_element_by_css_selector('#main-area > div.list-btn-nor2.upper-list > div.fr > div.btn2').click()\n",
    "    \n",
    "    \n",
    "            \n",
    "    def get_contents_in_page(self):\n",
    "            \n",
    "        contents = []\n",
    "        articles = self.browser.find_elements_by_css_selector('span > span.aaa > a.m-tcol-c')\n",
    "        \n",
    "        for i in range(len(articles)):\n",
    "            articles = self.browser.find_elements_by_css_selector('span > span.aaa > a.m-tcol-c')\n",
    "            article = articles[i]\n",
    "            article.click()\n",
    "            content = self.get_content()\n",
    "            contents.append(content)\n",
    "            time.sleep(random.uniform(0.2,0.7))  #추가시간 대기\n",
    "            self.back_to_searching()            \n",
    "            \n",
    "        return contents\n",
    "    \n",
    "\n"
   ]
  },
  {
   "cell_type": "code",
   "execution_count": 108,
   "metadata": {
    "collapsed": true
   },
   "outputs": [],
   "source": [
    "# 테스트"
   ]
  },
  {
   "cell_type": "code",
   "execution_count": 54,
   "metadata": {
    "collapsed": false,
    "scrolled": true
   },
   "outputs": [
    {
     "name": "stdout",
     "output_type": "stream",
     "text": [
      "네이버까페에 접속합니다\n",
      "\n",
      "!!!!!!!!!!! 플래시 설정을 점검해주세요 !!!!!!!!!!\n"
     ]
    }
   ],
   "source": [
    "# naver = Naver_Cafe_Crawling()\n",
    "# naver.login_naver()   #네이버에 로그인한다\n",
    "\n",
    "cafe_url = 'http://cafe.naver.com/mp3musicdownloadcafe'   #화장발\n",
    "# cafe_url = 'http://cafe.naver.com/cosmania'\n",
    "naver.enter_naver_cafe(cafe_url)   #접속 후 플래시 On 해줘야 함\n",
    "# naver.get_menu(cafe_url)"
   ]
  },
  {
   "cell_type": "code",
   "execution_count": 55,
   "metadata": {
    "collapsed": false,
    "scrolled": false
   },
   "outputs": [
    {
     "name": "stdout",
     "output_type": "stream",
     "text": [
      "모노아이즈에 대한 결과를 검색합니다\n",
      "  (프레임 변경했습니다)\n",
      "<진행중> 10페이지 수집중 - 현재 수집된 글 0\n",
      "  - 크롤링중: 아리따움 모노아이즈 샀어요 또 샀어요.. \n",
      "  - 크롤링중: [아리따움] 아리따움 모노아이즈 추천 , 아리따움 모노아이즈 비교, 아리따움 모노아이즈 트러플, 진저파우더, 얼쓰 발색 비교 \n",
      "  - 크롤링중: [아리따움] 모노아이즈 세일 1+1 구매 후기 [메탈릭 브라운 / 이브닝] \n",
      "  - 크롤링중: [아리따움] 모노아이즈 킬링레드 , 오키드 메이크업 ♪ \n",
      "  - 크롤링중: 에뛰드하우스 룩 앳 마이 아이즈 쥬얼 오픈금지 판도라 / 퍼플메이크업 ♪ \n",
      "  - 크롤링중: 데일리 오렌지 메이크업 \n"
     ]
    },
    {
     "ename": "WebDriverException",
     "evalue": "Message: chrome not reachable\n  (Session info: chrome=62.0.3202.94)\n  (Driver info: chromedriver=2.33.506120 (e3e53437346286c0bc2d2dc9aa4915ba81d9023f),platform=Windows NT 6.3.9600 x86_64)\n",
     "output_type": "error",
     "traceback": [
      "\u001b[1;31m---------------------------------------------------------------------------\u001b[0m",
      "\u001b[1;31mWebDriverException\u001b[0m                        Traceback (most recent call last)",
      "\u001b[1;32m<ipython-input-55-e4aefb1f01ea>\u001b[0m in \u001b[0;36m<module>\u001b[1;34m()\u001b[0m\n\u001b[0;32m     17\u001b[0m \u001b[1;33m\u001b[0m\u001b[0m\n\u001b[0;32m     18\u001b[0m     \u001b[0mtime\u001b[0m\u001b[1;33m.\u001b[0m\u001b[0msleep\u001b[0m\u001b[1;33m(\u001b[0m\u001b[1;36m1\u001b[0m\u001b[1;33m+\u001b[0m\u001b[0mrandom\u001b[0m\u001b[1;33m.\u001b[0m\u001b[0muniform\u001b[0m\u001b[1;33m(\u001b[0m\u001b[1;36m0.2\u001b[0m\u001b[1;33m,\u001b[0m\u001b[1;36m0.5\u001b[0m\u001b[1;33m)\u001b[0m\u001b[1;33m)\u001b[0m\u001b[1;33m\u001b[0m\u001b[0m\n\u001b[1;32m---> 19\u001b[1;33m     \u001b[0mresults\u001b[0m\u001b[1;33m+=\u001b[0m\u001b[0mnaver\u001b[0m\u001b[1;33m.\u001b[0m\u001b[0mget_contents_in_page\u001b[0m\u001b[1;33m(\u001b[0m\u001b[1;33m)\u001b[0m\u001b[1;33m\u001b[0m\u001b[0m\n\u001b[0m\u001b[0;32m     20\u001b[0m \u001b[1;33m\u001b[0m\u001b[0m\n\u001b[0;32m     21\u001b[0m \u001b[1;33m\u001b[0m\u001b[0m\n",
      "\u001b[1;32m<ipython-input-46-f4f88111cf30>\u001b[0m in \u001b[0;36mget_contents_in_page\u001b[1;34m(self)\u001b[0m\n\u001b[0;32m    149\u001b[0m             \u001b[0marticle\u001b[0m \u001b[1;33m=\u001b[0m \u001b[0marticles\u001b[0m\u001b[1;33m[\u001b[0m\u001b[0mi\u001b[0m\u001b[1;33m]\u001b[0m\u001b[1;33m\u001b[0m\u001b[0m\n\u001b[0;32m    150\u001b[0m             \u001b[0marticle\u001b[0m\u001b[1;33m.\u001b[0m\u001b[0mclick\u001b[0m\u001b[1;33m(\u001b[0m\u001b[1;33m)\u001b[0m\u001b[1;33m\u001b[0m\u001b[0m\n\u001b[1;32m--> 151\u001b[1;33m             \u001b[0mcontent\u001b[0m \u001b[1;33m=\u001b[0m \u001b[0mself\u001b[0m\u001b[1;33m.\u001b[0m\u001b[0mget_content\u001b[0m\u001b[1;33m(\u001b[0m\u001b[1;33m)\u001b[0m\u001b[1;33m\u001b[0m\u001b[0m\n\u001b[0m\u001b[0;32m    152\u001b[0m             \u001b[0mcontents\u001b[0m\u001b[1;33m.\u001b[0m\u001b[0mappend\u001b[0m\u001b[1;33m(\u001b[0m\u001b[0mcontent\u001b[0m\u001b[1;33m)\u001b[0m\u001b[1;33m\u001b[0m\u001b[0m\n\u001b[0;32m    153\u001b[0m             \u001b[0mtime\u001b[0m\u001b[1;33m.\u001b[0m\u001b[0msleep\u001b[0m\u001b[1;33m(\u001b[0m\u001b[0mrandom\u001b[0m\u001b[1;33m.\u001b[0m\u001b[0muniform\u001b[0m\u001b[1;33m(\u001b[0m\u001b[1;36m0.2\u001b[0m\u001b[1;33m,\u001b[0m\u001b[1;36m0.7\u001b[0m\u001b[1;33m)\u001b[0m\u001b[1;33m)\u001b[0m  \u001b[1;31m#추가시간 대기\u001b[0m\u001b[1;33m\u001b[0m\u001b[0m\n",
      "\u001b[1;32m<ipython-input-46-f4f88111cf30>\u001b[0m in \u001b[0;36mget_content\u001b[1;34m(self)\u001b[0m\n\u001b[0;32m     95\u001b[0m     \u001b[1;32mdef\u001b[0m \u001b[0mget_content\u001b[0m\u001b[1;33m(\u001b[0m\u001b[0mself\u001b[0m\u001b[1;33m)\u001b[0m\u001b[1;33m:\u001b[0m\u001b[1;33m\u001b[0m\u001b[0m\n\u001b[0;32m     96\u001b[0m \u001b[1;33m\u001b[0m\u001b[0m\n\u001b[1;32m---> 97\u001b[1;33m         \u001b[0mdate\u001b[0m \u001b[1;33m=\u001b[0m \u001b[0mself\u001b[0m\u001b[1;33m.\u001b[0m\u001b[0mbrowser\u001b[0m\u001b[1;33m.\u001b[0m\u001b[0mfind_element_by_css_selector\u001b[0m\u001b[1;33m(\u001b[0m\u001b[1;34m'td.m-tcol-c.date'\u001b[0m\u001b[1;33m)\u001b[0m\u001b[1;33m.\u001b[0m\u001b[0mtext\u001b[0m        \u001b[1;31m#작성일\u001b[0m\u001b[1;33m\u001b[0m\u001b[0m\n\u001b[0m\u001b[0;32m     98\u001b[0m         \u001b[0mtitle\u001b[0m \u001b[1;33m=\u001b[0m \u001b[0mself\u001b[0m\u001b[1;33m.\u001b[0m\u001b[0mbrowser\u001b[0m\u001b[1;33m.\u001b[0m\u001b[0mfind_element_by_css_selector\u001b[0m\u001b[1;33m(\u001b[0m\u001b[1;34m'span.b.m-tcol-c'\u001b[0m\u001b[1;33m)\u001b[0m\u001b[1;33m.\u001b[0m\u001b[0mtext\u001b[0m        \u001b[1;31m#글 제목\u001b[0m\u001b[1;33m\u001b[0m\u001b[0m\n\u001b[0;32m     99\u001b[0m         \u001b[0mwriter\u001b[0m \u001b[1;33m=\u001b[0m \u001b[0mself\u001b[0m\u001b[1;33m.\u001b[0m\u001b[0mbrowser\u001b[0m\u001b[1;33m.\u001b[0m\u001b[0mfind_element_by_css_selector\u001b[0m\u001b[1;33m(\u001b[0m\u001b[1;34m'td.p-nick > a.m-tcol-c.b'\u001b[0m\u001b[1;33m)\u001b[0m\u001b[1;33m.\u001b[0m\u001b[0mtext\u001b[0m  \u001b[1;31m#작성자\u001b[0m\u001b[1;33m\u001b[0m\u001b[0m\n",
      "\u001b[1;32mC:\\Users\\namso_000\\Anaconda3\\lib\\site-packages\\selenium\\webdriver\\remote\\webdriver.py\u001b[0m in \u001b[0;36mfind_element_by_css_selector\u001b[1;34m(self, css_selector)\u001b[0m\n\u001b[0;32m    507\u001b[0m             \u001b[0mdriver\u001b[0m\u001b[1;33m.\u001b[0m\u001b[0mfind_element_by_css_selector\u001b[0m\u001b[1;33m(\u001b[0m\u001b[1;34m'#foo'\u001b[0m\u001b[1;33m)\u001b[0m\u001b[1;33m\u001b[0m\u001b[0m\n\u001b[0;32m    508\u001b[0m         \"\"\"\n\u001b[1;32m--> 509\u001b[1;33m         \u001b[1;32mreturn\u001b[0m \u001b[0mself\u001b[0m\u001b[1;33m.\u001b[0m\u001b[0mfind_element\u001b[0m\u001b[1;33m(\u001b[0m\u001b[0mby\u001b[0m\u001b[1;33m=\u001b[0m\u001b[0mBy\u001b[0m\u001b[1;33m.\u001b[0m\u001b[0mCSS_SELECTOR\u001b[0m\u001b[1;33m,\u001b[0m \u001b[0mvalue\u001b[0m\u001b[1;33m=\u001b[0m\u001b[0mcss_selector\u001b[0m\u001b[1;33m)\u001b[0m\u001b[1;33m\u001b[0m\u001b[0m\n\u001b[0m\u001b[0;32m    510\u001b[0m \u001b[1;33m\u001b[0m\u001b[0m\n\u001b[0;32m    511\u001b[0m     \u001b[1;32mdef\u001b[0m \u001b[0mfind_elements_by_css_selector\u001b[0m\u001b[1;33m(\u001b[0m\u001b[0mself\u001b[0m\u001b[1;33m,\u001b[0m \u001b[0mcss_selector\u001b[0m\u001b[1;33m)\u001b[0m\u001b[1;33m:\u001b[0m\u001b[1;33m\u001b[0m\u001b[0m\n",
      "\u001b[1;32mC:\\Users\\namso_000\\Anaconda3\\lib\\site-packages\\selenium\\webdriver\\remote\\webdriver.py\u001b[0m in \u001b[0;36mfind_element\u001b[1;34m(self, by, value)\u001b[0m\n\u001b[0;32m    841\u001b[0m         return self.execute(Command.FIND_ELEMENT, {\n\u001b[0;32m    842\u001b[0m             \u001b[1;34m'using'\u001b[0m\u001b[1;33m:\u001b[0m \u001b[0mby\u001b[0m\u001b[1;33m,\u001b[0m\u001b[1;33m\u001b[0m\u001b[0m\n\u001b[1;32m--> 843\u001b[1;33m             'value': value})['value']\n\u001b[0m\u001b[0;32m    844\u001b[0m \u001b[1;33m\u001b[0m\u001b[0m\n\u001b[0;32m    845\u001b[0m     \u001b[1;32mdef\u001b[0m \u001b[0mfind_elements\u001b[0m\u001b[1;33m(\u001b[0m\u001b[0mself\u001b[0m\u001b[1;33m,\u001b[0m \u001b[0mby\u001b[0m\u001b[1;33m=\u001b[0m\u001b[0mBy\u001b[0m\u001b[1;33m.\u001b[0m\u001b[0mID\u001b[0m\u001b[1;33m,\u001b[0m \u001b[0mvalue\u001b[0m\u001b[1;33m=\u001b[0m\u001b[1;32mNone\u001b[0m\u001b[1;33m)\u001b[0m\u001b[1;33m:\u001b[0m\u001b[1;33m\u001b[0m\u001b[0m\n",
      "\u001b[1;32mC:\\Users\\namso_000\\Anaconda3\\lib\\site-packages\\selenium\\webdriver\\remote\\webdriver.py\u001b[0m in \u001b[0;36mexecute\u001b[1;34m(self, driver_command, params)\u001b[0m\n\u001b[0;32m    306\u001b[0m         \u001b[0mresponse\u001b[0m \u001b[1;33m=\u001b[0m \u001b[0mself\u001b[0m\u001b[1;33m.\u001b[0m\u001b[0mcommand_executor\u001b[0m\u001b[1;33m.\u001b[0m\u001b[0mexecute\u001b[0m\u001b[1;33m(\u001b[0m\u001b[0mdriver_command\u001b[0m\u001b[1;33m,\u001b[0m \u001b[0mparams\u001b[0m\u001b[1;33m)\u001b[0m\u001b[1;33m\u001b[0m\u001b[0m\n\u001b[0;32m    307\u001b[0m         \u001b[1;32mif\u001b[0m \u001b[0mresponse\u001b[0m\u001b[1;33m:\u001b[0m\u001b[1;33m\u001b[0m\u001b[0m\n\u001b[1;32m--> 308\u001b[1;33m             \u001b[0mself\u001b[0m\u001b[1;33m.\u001b[0m\u001b[0merror_handler\u001b[0m\u001b[1;33m.\u001b[0m\u001b[0mcheck_response\u001b[0m\u001b[1;33m(\u001b[0m\u001b[0mresponse\u001b[0m\u001b[1;33m)\u001b[0m\u001b[1;33m\u001b[0m\u001b[0m\n\u001b[0m\u001b[0;32m    309\u001b[0m             response['value'] = self._unwrap_value(\n\u001b[0;32m    310\u001b[0m                 response.get('value', None))\n",
      "\u001b[1;32mC:\\Users\\namso_000\\Anaconda3\\lib\\site-packages\\selenium\\webdriver\\remote\\errorhandler.py\u001b[0m in \u001b[0;36mcheck_response\u001b[1;34m(self, response)\u001b[0m\n\u001b[0;32m    192\u001b[0m         \u001b[1;32melif\u001b[0m \u001b[0mexception_class\u001b[0m \u001b[1;33m==\u001b[0m \u001b[0mUnexpectedAlertPresentException\u001b[0m \u001b[1;32mand\u001b[0m \u001b[1;34m'alert'\u001b[0m \u001b[1;32min\u001b[0m \u001b[0mvalue\u001b[0m\u001b[1;33m:\u001b[0m\u001b[1;33m\u001b[0m\u001b[0m\n\u001b[0;32m    193\u001b[0m             \u001b[1;32mraise\u001b[0m \u001b[0mexception_class\u001b[0m\u001b[1;33m(\u001b[0m\u001b[0mmessage\u001b[0m\u001b[1;33m,\u001b[0m \u001b[0mscreen\u001b[0m\u001b[1;33m,\u001b[0m \u001b[0mstacktrace\u001b[0m\u001b[1;33m,\u001b[0m \u001b[0mvalue\u001b[0m\u001b[1;33m[\u001b[0m\u001b[1;34m'alert'\u001b[0m\u001b[1;33m]\u001b[0m\u001b[1;33m.\u001b[0m\u001b[0mget\u001b[0m\u001b[1;33m(\u001b[0m\u001b[1;34m'text'\u001b[0m\u001b[1;33m)\u001b[0m\u001b[1;33m)\u001b[0m\u001b[1;33m\u001b[0m\u001b[0m\n\u001b[1;32m--> 194\u001b[1;33m         \u001b[1;32mraise\u001b[0m \u001b[0mexception_class\u001b[0m\u001b[1;33m(\u001b[0m\u001b[0mmessage\u001b[0m\u001b[1;33m,\u001b[0m \u001b[0mscreen\u001b[0m\u001b[1;33m,\u001b[0m \u001b[0mstacktrace\u001b[0m\u001b[1;33m)\u001b[0m\u001b[1;33m\u001b[0m\u001b[0m\n\u001b[0m\u001b[0;32m    195\u001b[0m \u001b[1;33m\u001b[0m\u001b[0m\n\u001b[0;32m    196\u001b[0m     \u001b[1;32mdef\u001b[0m \u001b[0m_value_or_default\u001b[0m\u001b[1;33m(\u001b[0m\u001b[0mself\u001b[0m\u001b[1;33m,\u001b[0m \u001b[0mobj\u001b[0m\u001b[1;33m,\u001b[0m \u001b[0mkey\u001b[0m\u001b[1;33m,\u001b[0m \u001b[0mdefault\u001b[0m\u001b[1;33m)\u001b[0m\u001b[1;33m:\u001b[0m\u001b[1;33m\u001b[0m\u001b[0m\n",
      "\u001b[1;31mWebDriverException\u001b[0m: Message: chrome not reachable\n  (Session info: chrome=62.0.3202.94)\n  (Driver info: chromedriver=2.33.506120 (e3e53437346286c0bc2d2dc9aa4915ba81d9023f),platform=Windows NT 6.3.9600 x86_64)\n"
     ]
    }
   ],
   "source": [
    "word = '모노아이즈'\n",
    "\n",
    "# naver.login_naver()   #네이버에 로그인한다\n",
    "# naver.enter_naver_cafe(cafe_url)   #자바스크립트 오픈 해줘야함\n",
    "naver.searching_word(word)\n",
    "\n",
    "naver.switch_frame()\n",
    "\n",
    "results = []\n",
    "\n",
    "for i in range(10,12):   # 시작페이지는 1로 지정\n",
    "    print('<진행중> {}페이지 수집중 - 현재 수집된 글 {}'.format(i,len(results)))\n",
    "    check = naver.move_next_pages(i)\n",
    "    \n",
    "    if check:\n",
    "        break\n",
    "    \n",
    "    time.sleep(1+random.uniform(0.2,0.5))\n",
    "    results+=naver.get_contents_in_page()\n",
    "\n",
    "    \n",
    "\n",
    "print('<종료> {}에 대한 글 {}개를 수집하였습니다. '.format(word, len(results)))\n",
    "# naver.browser.quit()\n",
    "\n"
   ]
  },
  {
   "cell_type": "code",
   "execution_count": 49,
   "metadata": {
    "collapsed": false
   },
   "outputs": [
    {
     "ename": "IndexError",
     "evalue": "list index out of range",
     "output_type": "error",
     "traceback": [
      "\u001b[1;31m---------------------------------------------------------------------------\u001b[0m",
      "\u001b[1;31mIndexError\u001b[0m                                Traceback (most recent call last)",
      "\u001b[1;32m<ipython-input-49-b3661786d570>\u001b[0m in \u001b[0;36m<module>\u001b[1;34m()\u001b[0m\n\u001b[0;32m     33\u001b[0m \u001b[1;31m#     return contents\u001b[0m\u001b[1;33m\u001b[0m\u001b[1;33m\u001b[0m\u001b[0m\n\u001b[0;32m     34\u001b[0m \u001b[1;33m\u001b[0m\u001b[0m\n\u001b[1;32m---> 35\u001b[1;33m \u001b[0mget_contents_in_page\u001b[0m\u001b[1;33m(\u001b[0m\u001b[0mnaver\u001b[0m\u001b[1;33m)\u001b[0m\u001b[1;33m\u001b[0m\u001b[0m\n\u001b[0m",
      "\u001b[1;32m<ipython-input-49-b3661786d570>\u001b[0m in \u001b[0;36mget_contents_in_page\u001b[1;34m(self)\u001b[0m\n\u001b[0;32m      3\u001b[0m     \u001b[0mcontents\u001b[0m \u001b[1;33m=\u001b[0m \u001b[1;33m[\u001b[0m\u001b[1;33m]\u001b[0m\u001b[1;33m\u001b[0m\u001b[0m\n\u001b[0;32m      4\u001b[0m     \u001b[0marticles\u001b[0m \u001b[1;33m=\u001b[0m \u001b[0mself\u001b[0m\u001b[1;33m.\u001b[0m\u001b[0mbrowser\u001b[0m\u001b[1;33m.\u001b[0m\u001b[0mfind_elements_by_css_selector\u001b[0m\u001b[1;33m(\u001b[0m\u001b[1;34m'span > span.aaa > a.m-tcol-c'\u001b[0m\u001b[1;33m)\u001b[0m\u001b[1;33m\u001b[0m\u001b[0m\n\u001b[1;32m----> 5\u001b[1;33m     \u001b[0mprint\u001b[0m\u001b[1;33m(\u001b[0m\u001b[0marticles\u001b[0m\u001b[1;33m[\u001b[0m\u001b[1;36m0\u001b[0m\u001b[1;33m]\u001b[0m\u001b[1;33m)\u001b[0m\u001b[1;33m\u001b[0m\u001b[0m\n\u001b[0m\u001b[0;32m      6\u001b[0m     \u001b[0mprint\u001b[0m\u001b[1;33m(\u001b[0m\u001b[0marticles\u001b[0m\u001b[1;33m[\u001b[0m\u001b[1;36m1\u001b[0m\u001b[1;33m]\u001b[0m\u001b[1;33m)\u001b[0m\u001b[1;33m\u001b[0m\u001b[0m\n\u001b[0;32m      7\u001b[0m \u001b[1;33m\u001b[0m\u001b[0m\n",
      "\u001b[1;31mIndexError\u001b[0m: list index out of range"
     ]
    }
   ],
   "source": [
    "def get_contents_in_page(self):\n",
    "\n",
    "    contents = []\n",
    "    articles = self.browser.find_elements_by_css_selector('span > span.aaa > a.m-tcol-c')\n",
    "    print(articles[0])\n",
    "    print(articles[1])\n",
    "    \n",
    "    articles[1].click()\n",
    "    print('1')\n",
    "    naver.back_to_searching()\n",
    "    articles[2].click()\n",
    "    print('2')\n",
    "    \n",
    "    \n",
    "    \n",
    "    \n",
    "#     for i in range(len(articles)):\n",
    "# #             selector = '//*[@id=\"main-area\"]/div/form/table/tbody/tr/td/span/span/a[]'.format(i+1)\n",
    "# #             selector = '//*[@id=\"main-area\"]/div/form/table/tbody/tr[{}]/td/span/span/a'.format(2*i+1)\n",
    "# #                         //*[@id=\"main-area\"]/div[7]/form/table/tbody/tr[4]/td[2]/span/span/a\n",
    "#         article = articles[i]\n",
    "#         print(article)\n",
    "# #             article = self.browser.find_element_by_xpath(selector)\n",
    "#         time.sleep(random.uniform(0.2,0.7))\n",
    "#         naver.switch_frame()\n",
    "#         article.click()\n",
    "        \n",
    "#         content = self.get_content()\n",
    "#         contents.append(content)\n",
    "#         time.sleep(random.uniform(2.1,2.8))  #추가시간 대기\n",
    "#         self.back_to_searching()            \n",
    "\n",
    "#     return contents\n",
    "\n",
    "get_contents_in_page(naver)"
   ]
  },
  {
   "cell_type": "code",
   "execution_count": 161,
   "metadata": {
    "collapsed": false
   },
   "outputs": [
    {
     "data": {
      "text/plain": [
       "'0'"
      ]
     },
     "execution_count": 161,
     "metadata": {},
     "output_type": "execute_result"
    }
   ],
   "source": [
    "a = naver.browser.find_element_by_css_selector('#cmtMenu > div.fl.reply_sort > table > tbody > tr').text\n",
    "b = a.split(' ')\n",
    "b[b.index('좋아요')+1]\n",
    "# b.index('좋아요')"
   ]
  },
  {
   "cell_type": "code",
   "execution_count": 16,
   "metadata": {
    "collapsed": false
   },
   "outputs": [
    {
     "name": "stdout",
     "output_type": "stream",
     "text": [
      "17\n"
     ]
    }
   ],
   "source": [
    "print(len(results))"
   ]
  },
  {
   "cell_type": "code",
   "execution_count": 9,
   "metadata": {
    "collapsed": false,
    "scrolled": false
   },
   "outputs": [
    {
     "name": "stdout",
     "output_type": "stream",
     "text": [
      "{'title': '촉촉보송한 벨벳틴트 추천 :: [네이크업페이스] 벨벳 스캔들 틴트 4호 원나잇스캔들 & 5호 란제리스캔들', 'writer': '여시캣(celi****)', 'date': '2017.11.24. 17:38', 'content': \"(썸네일)립덕후가 오늘도 립제품을 추천하러 왔습니당>3<예전에 기존 3컬러 모두 써보고 반했었던 제품인데이번에 신규 컬러가 2가지 추가되었더라구요출시 일주일만에 전색상이 완판된 바 있는SNS 화제의 품절대란 틴트,네이크업페이스 벨벳 스캔들 !신규 컬러 2종 원나잇스캔들 & 란제리스캔들함께 보고 가시죵~네이크업페이스 벨벳 스캔들은지모추출물이 함유되어입술에 가볍고 부드럽게 녹아드는벨벳 볼륨을 연출해주는 벨벳틴트에요~참고로 지모는 백합과의 풀인데립 플럼퍼, 탄력 화장품 등에 많이 쓰이는'보르피린'이라는 성분이 바로요 지모에서 나온 추출물이더라구요+_+그런 지모추출물이 들어있는 만큼바르면 정말 예쁜 입술 볼륨을 표현해준답니다벨벳스캔들의 새로운 컬러4호 원나잇 스캔들과 5호 란제리 스캔들입니다이름이 둘다 야시꾸리함ㅋㅋㅋㅋㅋ기존에 있던누드스캔들, 웨딩스캔들, 키스스캔들은mlbb 말린장미 계열이었는데이번 컬러는 맑은 레드와 여리한 핑크군요!!둘다 제가 넘 좋아하는 계열의 컬러라발라보기도 전에 두근....사각사각한 디자인이 참 예뻐요붉은 뚜껑은 매트한 메탈 느낌이고투명한 부분조차 무광이라서 더욱 세련되어 보이죵!벨벳스캔들 틴트 뚜껑을 열어어플리케이터를 촵 꺼내봅니다끝쪽이 날렵한 세모꼴의 팁이라바를 때 진짜 편하더라구요~입술산 깔끔하게 연출하기도 좋고입꼬리처럼 좁은 부위를세밀하게 채워주기에도 좋아요'3'벨벳스캔들 4호 원나잇스캔들 & 5호 란제리스캔들팔뚝 발색 및 착색입니다꺅 둘이 뭔가 되게 상반되는? 느낌의 컬러인데둘다 진짜 이쁘지 않나요ㅋㅋㅋ핰...텍스처는 촉촉하고 부드러운 느낌의크림 같은 제형으로,넘나 매끈하고 촉촉하게 발려요~한번만 슥 그어도불투명하고 진하게 발색이 잘나오구요보시다시피 착색력도 좋은 편이에요!저거 착색 진짜 잘 안지워져서클렌징오일로 뻑뻑뻑 문대서 지워야햇음ㅎㅁㅎ향은 달큰한 열대과일 풍선껌향!!그럼 이제 입술 발색을 보여드리겠습니다♪4호 원나잇스캔들그라데이션 및 풀립 발색입니다원나잇스캔들은 맑은 정석 레드 컬러에요핑크 오렌지 둘 중 어디에도 치우치지 않은미드톤 레드!!웜톤 쿨톤 관계없이 누구에게나화사하게 잘 어울리는 레드립이랍니다♥5호 란제리스캔들그라데이션 및 풀립 발색샷입니다란제리스캔들은 코랄핑크에 베이지가 섞인,살짝 톤다운된 딸기우유빛 핑크에요여리여리 청순돋는 컬러죠><피부 하얀 분들이 바르면 청초보스 등극!근데 반대로 피부 어두우신 분들이 바르면조금 토인스러울 수도 있어요;_;그럼 마지막으로 네이크업페이스 벨벳스캔들원나잇스캔들 & 란제리스캔들발색샷을 한눈에 모아보여드리며 총평해볼게요~우선 진짜 발림성이 최고에요ㅋㅋㅋ정말 매끈매끈하게 발려서비단결처럼 촤르르~ 부드러운 느낌!!그리고 벨벳틴트인데도건조하거나 푸석푸석하지 않고마무리감이 매끈보송하답니다처음에는 촉촉함이 많이 느껴지지만손가락으로 문질러 바를수록 보송함이 올라와요!속촉촉 겉보송이란 표현이 딱 알맞는벨벳틴트인 것 같아요ㅎㅎ양을 조금만 써서 여러번 문질러바르면매트립처럼 완전 뽀송뽀송한 연출도 가능하구요*.*밀착력이 좋아서 각질부각 거의 없이 챡 감기는데란제리스캔들의 경우에는 흰끼가 많이 돌아서 그런지입술 상태 안좋을 때 각질 티가 좀 나는 편이에요진한 색은 그런거 전혀 못느꼈구용그리고 기존의 벨벳립들과는 다르게정말 입술 볼륨이 살짝 도톰하니 살아보이는 효과도 있어서표현이 더 예쁘더라구요/ㅅ/지속력도 중상급! 쓰면서 딱히 단점을 발견할 수가 없는 제품이네용ㅎㅎ건조하지 않고 매끈하면서컬러도 예쁜 벨벳틴트를 찾으신다면네이크업페이스 벨벳스캔들 정말 추천드립니다!!네이크업페이스로부터 제품만을 무상제공받아 작성된 후기입니다\", 'board': '[색조] Lip', 'read_counts': '6', 'likes_counts': '0', 'reply_counts': 0, 'replys': []}\n"
     ]
    }
   ],
   "source": [
    "print(results[0])"
   ]
  },
  {
   "cell_type": "code",
   "execution_count": 17,
   "metadata": {
    "collapsed": true
   },
   "outputs": [],
   "source": [
    "# json 으로 저장하기\n",
    "from datetime import datetime\n",
    "import json\n",
    "\n",
    "now = datetime.now()\n",
    "INPUT_FILE = './data_crwal/화장발_모노아이즈_2p_{}{}{}{}.txt'.format(now.month,now.day,now.hour,now.minute)\n",
    "with open(INPUT_FILE,'w', encoding = 'utf-8') as save:\n",
    "    json.dump(results, save, ensure_ascii=False)    # 한글 표시를 위해 ensure_ascii = False 옵션을 넣어줌"
   ]
  },
  {
   "cell_type": "code",
   "execution_count": null,
   "metadata": {
    "collapsed": true
   },
   "outputs": [],
   "source": [
    "#json 불러오기\n",
    "results = []\n",
    "INPUT_FILE = './data_crwal/화장발_모노아이즈_2p_1128160.txt'\n",
    "with open(INPUT_FILE, 'r', encoding ='utf-8') as save:\n",
    "    results = json.load(save)\n",
    "print(len(results))\n",
    "print(results[0])"
   ]
  }
 ],
 "metadata": {
  "anaconda-cloud": {},
  "celltoolbar": "Raw Cell Format",
  "kernelspec": {
   "display_name": "Python [default]",
   "language": "python",
   "name": "python3"
  },
  "language_info": {
   "codemirror_mode": {
    "name": "ipython",
    "version": 3
   },
   "file_extension": ".py",
   "mimetype": "text/x-python",
   "name": "python",
   "nbconvert_exporter": "python",
   "pygments_lexer": "ipython3",
   "version": "3.5.2"
  }
 },
 "nbformat": 4,
 "nbformat_minor": 1
}
