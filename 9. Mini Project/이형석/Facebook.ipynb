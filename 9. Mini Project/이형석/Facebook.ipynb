{
 "cells": [
  {
   "cell_type": "markdown",
   "metadata": {},
   "source": [
    "# 페이스북 OPEN API 사용하기 \n",
    "\n",
    "1. https://developers.facebook.com/ 으로 이동하여 새앱추가\n",
    "2. 앱 토큰값 가져오기"
   ]
  },
  {
   "cell_type": "code",
   "execution_count": 1,
   "metadata": {},
   "outputs": [
    {
     "name": "stdout",
     "output_type": "stream",
     "text": [
      "{\"access_token\":\"500984196594569|Pa44ZmiZXoBc7kLH-DB0jrL_nF0\",\"token_type\":\"bearer\"}\n"
     ]
    }
   ],
   "source": [
    "import requests\n",
    "\n",
    "# 페이스북 앱을 생성하여 app id, app secret 값을 넣어준다. \n",
    "app_id = '500984196594569'\n",
    "app_secret = 'e041e513960dbe03ae32784fdf01ae28'\n",
    "\n",
    "payload = {\n",
    "\t'grant_type': 'client_credentials', \n",
    "\t'client_id': app_id, \n",
    "\t'client_secret': app_secret\n",
    "}\n",
    "\n",
    "file = requests.post('https://graph.facebook.com/oauth/access_token?', params = payload)    \n",
    "access_token = file.text\n",
    "\n",
    "print(access_token)"
   ]
  },
  {
   "cell_type": "markdown",
   "metadata": {},
   "source": [
    "3. 토큰값(access_token)을 이용하여 오픈 API 사용\n",
    "    - 간단하게 Python Facebook API Library를 사용하는것도 하나의 간단한 방법\n",
    "    - 설치 방법 \n",
    "        - pip install git+https://github.com/pythonforfacebook/facebook-sdk.git"
   ]
  },
  {
   "cell_type": "code",
   "execution_count": 2,
   "metadata": {},
   "outputs": [
    {
     "name": "stdout",
     "output_type": "stream",
     "text": [
      "강남역 135-984\n",
      "Gangnam Square None\n",
      "Gangnam District None\n",
      "Gangnam Severance Hospital Seoul Korea None\n",
      "서울 06000\n",
      "클럽 매스 - Club Mass 06614\n",
      "역삼동 None\n",
      "남산서울타워-Namsan Seoul Tower None\n",
      "MyWorkspace - 마이워크스페이스 06232\n",
      "Samsung 84000\n",
      "NAVER D2 Startup Factory 135-080\n",
      "논현동 커피스미스 None\n",
      "비앤빛 강남밝은세상안과 137-856\n",
      "KStarLive.com None\n",
      "Wonjin Plastic Surgery Clinic Korea None\n",
      "Samsung d'light 삼성 딜라이트 None\n",
      "Jam2Go 06242\n",
      "Kukkiwon 520867\n",
      "Shake Shack Gangnam None\n",
      "교보문고(강남점) None\n",
      "GS25 None\n",
      "디즈니 코리아 Disney Korea None\n",
      "강남 원진성형외과 137-070\n",
      "구스 아일랜드 브루하우스 서울 06251\n",
      "재무설계회사 iFA Inc. 06236\n",
      "----------------------------------------------------------------------\n",
      "커피테라피 37676\n",
      "커피테라피 37676\n",
      "커피볶는부엌 None\n",
      "커피줄개 None\n",
      "커피명가 부산가덕도점 46770\n",
      "커피브루 None\n",
      "커피베스코 01694\n",
      "커피동굴 by BaRam None\n",
      "커피명가 La Finca None\n",
      "커피내리는 버스정류장 25490\n",
      "커피맘스 42682\n",
      "커피품은도서관 None\n",
      "커피랩 Coffee Lab None\n",
      "커피마실 32977\n",
      "커피테이너 로스터즈 17060\n",
      "커피는 책이랑 42126\n",
      "커피냅 17712\n",
      "커피팀버 구미역점 None\n",
      "커피1번가 Coffee1st 41914\n",
      "커피미미 None\n",
      "커피노트 None\n",
      "커피를부탁해 28425\n",
      "커피반점 04315\n",
      "커피타는 고양이 15360\n",
      "커피맛을조금아는남자 None\n"
     ]
    }
   ],
   "source": [
    "import facebook\n",
    "\n",
    "graph = facebook.GraphAPI(access_token=\"500984196594569|Pa44ZmiZXoBc7kLH-DB0jrL_nF0\", version=\"2.7\")\n",
    "\n",
    "# https://developers.facebook.com/docs/graph-api/using-graph-api#search\n",
    "places = graph.search(type='place',\n",
    "                      center='37.4977339, 127.02821990000007',\n",
    "                      distance=1000,\n",
    "                      fields='name,location')\n",
    "\n",
    "for place in places['data']:\n",
    "    print('%s %s' % (place['name'], place['location'].get('zip')))\n",
    "    \n",
    "print(\"----------------------------------------------------------------------\")\n",
    "\n",
    "places = graph.search(type='place',\n",
    "\t\t\t\t\t  q='커피',\n",
    "                      fields='name, location')\n",
    "\n",
    "for place in places['data']:\n",
    "    print('%s %s' % (place['name'], place['location'].get('zip')))\n"
   ]
  },
  {
   "cell_type": "code",
   "execution_count": null,
   "metadata": {
    "collapsed": true
   },
   "outputs": [],
   "source": []
  }
 ],
 "metadata": {
  "kernelspec": {
   "display_name": "Python 3",
   "language": "python",
   "name": "python3"
  },
  "language_info": {
   "codemirror_mode": {
    "name": "ipython",
    "version": 3
   },
   "file_extension": ".py",
   "mimetype": "text/x-python",
   "name": "python",
   "nbconvert_exporter": "python",
   "pygments_lexer": "ipython3",
   "version": "3.6.2"
  }
 },
 "nbformat": 4,
 "nbformat_minor": 2
}
