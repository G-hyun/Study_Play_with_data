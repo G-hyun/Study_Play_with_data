{
 "cells": [
  {
   "cell_type": "markdown",
   "metadata": {},
   "source": [
    "<크롤링 진행>\n",
    " 1. 자료 위치(url 주소)\n",
    " 1. url주소 접근 --> requests, urllib\n",
    " 1. url 페이지내용 가져오기\n",
    " 1. html 을 읽기 쉽게 --> BeautifulSoup\n",
    " 1. 내가 원하는 데이터 접근 --> find, select***\n",
    " 1. 저장or작업"
   ]
  },
  {
   "cell_type": "markdown",
   "metadata": {},
   "source": [
    "\n"
   ]
  },
  {
   "cell_type": "code",
   "execution_count": 5,
   "metadata": {
    "collapsed": false,
    "scrolled": true
   },
   "outputs": [
    {
     "name": "stdout",
     "output_type": "stream",
     "text": [
      "//////////\n",
      "0. 사전준비\n",
      "\n",
      "//////////\n",
      "1. 크롤링과 스크래핑\n",
      "\n",
      "//////////\n",
      "README.md\n",
      "\n"
     ]
    }
   ],
   "source": [
    "# select 활용해서 내가 원하는 데이터 가져오기\n",
    "\n",
    "#CSS selector 조회\n",
    "#js-repo-pjax-container > div.container.new-discussion-timeline.experiment-repo-nav > div.repository-content > div.file-wrap > table > tbody > tr:nth-child(2) > td.content > span\n",
    "\n",
    "import requests\n",
    "from bs4 import BeautifulSoup\n",
    "\n",
    "url = 'https://github.com/namsoojang/Study_Play_with_data'\n",
    "\n",
    "html = requests.get(url).text          \n",
    "# BeutifulSoup(원하는 내용, '나누는 기준 = lxml, html.parser')\n",
    "soup = BeautifulSoup(html, 'lxml')     \n",
    "# soup = BeautifulSoup(html, 'html.parser')    \n",
    "\n",
    "\n",
    "titles = soup.select('tbody > tr > td.content > span')\n",
    "for title in titles:\n",
    "#     print(title, end='\\n')           #태그까지 모두다\n",
    "    print('/'*10)\n",
    "    print(title.text,end='\\n\\n')     #태그 외의 글자만\n"
   ]
  },
  {
   "cell_type": "markdown",
   "metadata": {},
   "source": [
    "## 5 내가 원하는 데이터 가져오기\n",
    "\n",
    "    1. find  활용\n",
    "    2. select 활용"
   ]
  },
  {
   "cell_type": "markdown",
   "metadata": {},
   "source": [
    "### Find Vs Select\n",
    "##### 예시) yes24 베스트셀러 순위 크롤링 \n",
    "'http://www.yes24.com/24/category/bestseller'"
   ]
  },
  {
   "cell_type": "code",
   "execution_count": null,
   "metadata": {
    "collapsed": true
   },
   "outputs": [],
   "source": [
    "import requests\n",
    "from bs4 import BeautifulSoup\n",
    "\n",
    "url = 'http://www.yes24.com/24/category/bestseller'\n",
    "html = requests.get(url).text\n",
    "soup = BeautifulSoup(html, 'lxml')\n",
    "\n",
    "best_sellers = soup.select('#bestList > ol > li')\n",
    "for best_seller in best_sellers:\n",
    "    \n",
    "#     author = best_seller.select('p')[3]\n",
    "#     author = best_seller.select('p.aupu')[0]\n",
    "    author = \n",
    "    print(author.text)\n",
    "#     informs = best_seller.select('p')\n",
    "#     for inform in informs:\n",
    "#         print(inform.text)\n",
    "\n",
    "#bestList > ol > li.num1"
   ]
  },
  {
   "cell_type": "markdown",
   "metadata": {},
   "source": [
    "### HTML 구조 익히기\n",
    "\n",
    " -<태그1> .... </태그1>\n",
    " \n",
    " -<태그2 속성1=\"ㄱ\" 속성2=\"ㄴ\"> ..... <태그2> \n",
    " \n",
    "       속성: id, class, href 등등   \n",
    "       #class는 동일한 이름 여러개 가능. but id 는 하나의 html에서 한번만 사용 가능!!!!!!\n",
    "       \n",
    "-<ㄱ>\n",
    "        <ㄴ>\n",
    "                <ㄷ 속성4=\"ㄹ\", 속성6=\"ㅁ\">.....</ㄷ>\n",
    "                <ㄷ 속성7=\"123\"></ㄷ>\n",
    "        </ㄴ>\n",
    "</ㄱ>\n",
    "          "
   ]
  },
  {
   "cell_type": "code",
   "execution_count": 5,
   "metadata": {
    "collapsed": true
   },
   "outputs": [],
   "source": [
    "# 'http://www.yes24.com/24/category/bestseller'  에서 일부분 발췌\n",
    "# html 문서보기\n",
    "\n",
    "\n",
    "yes24 = '''\n",
    "\n",
    "<ol class=\"\">\n",
    "\t<li class=\"num1\">\n",
    "\t\t<p class=\"copy\">\n",
    "\t\t\t<a href=\"/24/goods/30387696\">말과 글의 따뜻함과 차가움에 대하여, 하찮아 보이는 것들의 소중함에 대하여</a>\n",
    "\t\t</p>\n",
    "\t\t<p class=\"image\" id=\"location_0\">    \n",
    "\t\t\t<a href=\"/24/goods/30387696\">\n",
    "\t\t\t\t<img src=\"http://image.yes24.com/goods/30387696/S\" alt=\"언어의 온도\"/>\n",
    "\t\t\t</a>\n",
    "\t\t</p>\n",
    "\t\t\n",
    "\t\t<p>[도서] <a href=\"/24/goods/30387696\">언어의 온도</a></p>\n",
    "\t\t\n",
    "\t\t<p class=\"aupu\">\n",
    "\t\t\t<a href=\"http://www.yes24.com//SearchCorner/Result?domain=ALL&author_yn=Y&query=&auth_no=148466\" target=\"_blank\">이기주</a> 저 | \n",
    "\t\t\t<a href=\"http://www.yes24.com//SearchCorner/Result?domain=ALL&company_yn=Y&query=말글터\">말글터</a>\n",
    "\t\t</p>\n",
    "\t\t\n",
    "\t\t<p class=\"price\"><strong>12,420원</strong>(10%<img src=\"http://image.yes24.com/sysimage/wel/i_dc.gif\">+5%<img src=\"http://image.yes24.com/sysimage/wel/i_p.gif\">)</p>\n",
    "\t\t<p class=\"btn\"></p>\n",
    "\t\t\n",
    "\t\t\n",
    "    <li class=\"num2\">\n",
    "    \n",
    "        <p class=\"copy\"><a href=\"/24/goods/32972572\">공포, 피로, 당황, 놀람, 혼란, 좌절의 연속에 대한 한국 여자의 인생 현장 보고서!</a></p>\n",
    "        <p class=\"image\" id=\"location_1\">         \n",
    "            <a href=\"/24/goods/32972572\">\n",
    "                <img src=\"http://image.yes24.com/goods/32972572/S\" alt=\"82년생 김지영\"/>\n",
    "               </a>\n",
    "         </p>\n",
    "        <p>[도서] <a href=\"/24/goods/32972572\">82년생 김지영</a></p>\n",
    "        \n",
    "        <p class=\"aupu\"><a href=\"http://www.yes24.com//SearchCorner/Result?domain=ALL&author_yn=Y&query=&auth_no=146900\" target=\"_blank\">조남주</a> 저 | <a href=\"http://www.yes24.com//SearchCorner/Result?domain=ALL&company_yn=Y&query=민음사\">민음사</a></p>\n",
    "    \n",
    "        <p class=\"price\"><strong>11,700원</strong>(10%<img src=\"http://image.yes24.com/sysimage/wel/i_dc.gif\">+5%<img src=\"http://image.yes24.com/sysimage/wel/i_p.gif\">)</p>       \n",
    "        \n",
    "        <p class=\"btn\"></p>\n",
    "        <ul class=\"evt\">\n",
    "                    <li><a href=\"http://www.yes24.com/campaign/01_book/yesPresent/yesPresent.aspx?EventNo=146337\">내 삶의 쉼표, 지칠 때 꺼내 읽는 문학주머니</a></li>\n",
    "                    <li><a href=\"http://www.yes24.com/eWorld/EventWorld/Event?eventno=145794\">『82년생 김지영』 30만부 돌파 기념 이벤트</a></li>\n",
    "\t\t\t\t\t<li><a href=\"http://www.yes24.com/eWorld/EventWorld/Event?eventno=145778\">여성주의자의 서재</a></li>\n",
    "                    \n",
    "        </ul>\n",
    "    </li>\n",
    "\t\t\n",
    "</ol>\n",
    "\n",
    "\n",
    "\n",
    "\n",
    "'''"
   ]
  },
  {
   "cell_type": "code",
   "execution_count": 6,
   "metadata": {
    "collapsed": false
   },
   "outputs": [],
   "source": [
    "from bs4 import BeautifulSoup\n",
    "html = BeautifulSoup(yes24, 'lxml')   #문자열을 작업하기 편하게 BeautifulSoup 으로 가져온다. \n"
   ]
  },
  {
   "cell_type": "markdown",
   "metadata": {},
   "source": [
    "-  html.select(찾고 싶은 것!)\n",
    "-  html.find_all(찾고 싶은 것!)"
   ]
  },
  {
   "cell_type": "code",
   "execution_count": 7,
   "metadata": {
    "collapsed": false
   },
   "outputs": [
    {
     "name": "stdout",
     "output_type": "stream",
     "text": [
      "<strong>12,420원</strong>\n",
      "<strong>12,420원</strong>\n",
      "<strong>12,420원</strong>\n",
      "<strong>12,420원</strong>\n"
     ]
    }
   ],
   "source": [
    "# 가격 가져오기 with select\n",
    "#<ol class=\"\"><li><p class=\"price\"><strong>12,420원</strong>(10%+5%)\n",
    "#                                          11,700원</strong>(10%+5%)\n",
    "\n",
    "\n",
    "prices1 = html.select('strong')       #select('태그명')[]\n",
    "prices2 = html.select('ol > li > p > strong') #select('태그1단계 > 2단계 > 3단계 .. > ?단계')\n",
    "prices3 = html.select('p.price > strong')   #select('태그명.클래스명 > 자식')\n",
    "prices4 = html.select('ol li strong')       #select('태그1단계 자손 자손)\n",
    "                                             #id를 가져올 경우  select(#id) \n",
    "\n",
    "print(prices1[0])\n",
    "print(prices2[0])\n",
    "print(prices3[0])\n",
    "print(prices4[0])\n",
    "    \n",
    "# for price in prices:\n",
    "#     print(price.text)\n",
    "    \n",
    "    "
   ]
  },
  {
   "cell_type": "code",
   "execution_count": 13,
   "metadata": {
    "collapsed": false
   },
   "outputs": [
    {
     "name": "stdout",
     "output_type": "stream",
     "text": [
      "12,420원\n",
      "\n",
      "12,420원\n",
      "\n",
      "\n",
      "\n",
      "12,420원\n",
      "11,700원\n"
     ]
    }
   ],
   "source": [
    "# 가격 가져오기 with find_all\n",
    "#<ol class=\"\"><li><p class=\"price\"><strong>12,420원</strong>(10%+5%)\n",
    "#                                          11,700원</strong>(10%+5%)\n",
    "\n",
    "# <p class=\"price\"> 를 먼저 가져온 이후에, \n",
    "datas1 = html.find_all(\"p\", {\"class\":\"price\"})      #find_all('태그', {'속성1':'ㄱ','속성2':'ㄴ'})\n",
    "datas2 = html.find_all(\"p\", class_='price')    #class를 바로 쓰기위해서는 'class_'  \n",
    "\n",
    "# data = datas.find('strong')     # --> 에러 발생함.\n",
    "data1_1 = datas1[0].find('strong')\n",
    "data1_2=html.find(\"p\",{\"class\":\"price\"}).find('strong')\n",
    "\n",
    "print(data1_1.text)\n",
    "print()\n",
    "print(data1_2.text)\n",
    "print('\\n\\n')\n",
    "\n",
    "\n",
    "# print(data.text)\n",
    "for data in datas1:\n",
    "    price=data.find('strong').text\n",
    "    \n",
    "    print(price)"
   ]
  },
  {
   "cell_type": "code",
   "execution_count": 53,
   "metadata": {
    "collapsed": false
   },
   "outputs": [
    {
     "name": "stdout",
     "output_type": "stream",
     "text": [
      "<a href=\"/24/goods/30387696\">\n",
      "<img alt=\"언어의 온도\" src=\"http://image.yes24.com/goods/30387696/S\"/>\n",
      "</a>\n",
      "<img alt=\"언어의 온도\" src=\"http://image.yes24.com/goods/30387696/S\"/>\n",
      "http://image.yes24.com/goods/30387696/S\n"
     ]
    }
   ],
   "source": [
    "# select(#id) 활용\n",
    "\n",
    "'''\n",
    "<ol class=\"\">\n",
    "\t<li class=\"num1\">\n",
    "\t\t<p class=\"image\" id=\"location_0\">    \n",
    "\t\t\t<a href=\"/24/goods/30387696\">\n",
    "\t\t\t\t<img src=\"http://image.yes24.com/goods/30387696/S\" alt=\"언어의 온도\"/>    \n",
    "\t\t<p>[도서] <a href=\"/24/goods/30387696\">언어의 온도</a></p>\n",
    "'''\n",
    "#id 는 한 html에서 여러개 나올 수 X.  \n",
    "# id 지정시 위치 바로 지정 가능함!!\n",
    "\n",
    "titles = html.select('#location_0 > a')\n",
    "title = titles[0]\n",
    "print(title)\n",
    "\n",
    "\n",
    "title = titles[0].img    # 자식(한단계 아래) 로 넘어갈 경우 .자식태그명\n",
    "print(title)\n",
    "\n",
    "src = titles[0].img['src']   #속성 정보를 가져올 경우  ['속성명']\n",
    "print(src)"
   ]
  },
  {
   "cell_type": "code",
   "execution_count": null,
   "metadata": {
    "collapsed": true
   },
   "outputs": [],
   "source": [
    "\n"
   ]
  }
 ],
 "metadata": {
  "anaconda-cloud": {},
  "kernelspec": {
   "display_name": "Python [default]",
   "language": "python",
   "name": "python3"
  },
  "language_info": {
   "codemirror_mode": {
    "name": "ipython",
    "version": 3
   },
   "file_extension": ".py",
   "mimetype": "text/x-python",
   "name": "python",
   "nbconvert_exporter": "python",
   "pygments_lexer": "ipython3",
   "version": "3.5.2"
  }
 },
 "nbformat": 4,
 "nbformat_minor": 2
}
