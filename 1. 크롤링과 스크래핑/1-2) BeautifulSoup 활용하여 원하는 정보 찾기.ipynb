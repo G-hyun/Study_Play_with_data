{
 "cells": [
  {
   "cell_type": "markdown",
   "metadata": {},
   "source": [
    "<크롤링 진행>\n",
    " 1. 자료 위치(url 주소)\n",
    " 1. url주소 접근 --> requests, urllib\n",
    " 1. url 페이지내용 가져오기\n",
    " 1. html 을 읽기 쉽게 --> BeautifulSoup\n",
    " 1. ***내가 원하는 데이터 접근 --> find, select***\n",
    " 1. 저장or작업"
   ]
  },
  {
   "cell_type": "markdown",
   "metadata": {},
   "source": [
    "\n"
   ]
  },
  {
   "cell_type": "markdown",
   "metadata": {},
   "source": [
    "## 1.4 내가 원하는 정보 찾기\n",
    "\n",
    "\n",
    "    1. 원하는 정보가 html 내 어디있는지 전후 태그/속성비교\n",
    "        (크롬 우클릭 '검사',  '페이지소스보기' 활용)\n",
    "        \n",
    "        \n",
    "    \n",
    "    2. 확인한 위치에서의 정보를 불러온다.\n",
    "        - select 활용 (하나의 정보는 select_one)  ==> 'copy element' 활용\n",
    "        - find  활용 (복수의 정보는 find_all)      ==> 'copy selector' 활용\n"
   ]
  },
  {
   "cell_type": "code",
   "execution_count": 10,
   "metadata": {
    "collapsed": false,
    "scrolled": true
   },
   "outputs": [
    {
     "name": "stdout",
     "output_type": "stream",
     "text": [
      "0. 사전준비\n",
      "\n",
      "1. 크롤링과 스크래핑\n",
      "\n",
      "2. 고급스크래핑\n",
      "\n",
      "3. 데이터소스의 서식과 가공\n",
      "\n",
      "4. 머신러닝\n",
      "\n",
      "5. 딥러닝\n",
      "\n",
      "6. 텍스트분석과 챗봇 만들기\n",
      "\n",
      "7. 이미지와 딥러닝\n",
      "\n",
      "README.md\n",
      "\n",
      "/namsoojang/Study_Play_with_data/tree/master/0.%20%EC%82%AC%EC%A0%84%EC%A4%80%EB%B9%84\n",
      "/namsoojang/Study_Play_with_data/tree/master/1.%20%ED%81%AC%EB%A1%A4%EB%A7%81%EA%B3%BC%20%EC%8A%A4%ED%81%AC%EB%9E%98%ED%95%91\n",
      "/namsoojang/Study_Play_with_data/tree/master/2.%20%EA%B3%A0%EA%B8%89%EC%8A%A4%ED%81%AC%EB%9E%98%ED%95%91\n",
      "/namsoojang/Study_Play_with_data/tree/master/3.%20%EB%8D%B0%EC%9D%B4%ED%84%B0%EC%86%8C%EC%8A%A4%EC%9D%98%20%EC%84%9C%EC%8B%9D%EA%B3%BC%20%EA%B0%80%EA%B3%B5\n",
      "/namsoojang/Study_Play_with_data/tree/master/4.%20%EB%A8%B8%EC%8B%A0%EB%9F%AC%EB%8B%9D\n",
      "/namsoojang/Study_Play_with_data/tree/master/5.%20%EB%94%A5%EB%9F%AC%EB%8B%9D\n",
      "/namsoojang/Study_Play_with_data/tree/master/6.%20%ED%85%8D%EC%8A%A4%ED%8A%B8%EB%B6%84%EC%84%9D%EA%B3%BC%20%EC%B1%97%EB%B4%87%20%EB%A7%8C%EB%93%A4%EA%B8%B0\n",
      "/namsoojang/Study_Play_with_data/tree/master/7.%20%EC%9D%B4%EB%AF%B8%EC%A7%80%EC%99%80%20%EB%94%A5%EB%9F%AC%EB%8B%9D\n",
      "/namsoojang/Study_Play_with_data/blob/master/README.md\n"
     ]
    }
   ],
   "source": [
    "# select 활용해서 내가 원하는 데이터 가져오기\n",
    "\n",
    "\n",
    "import requests\n",
    "from bs4 import BeautifulSoup\n",
    "\n",
    "url = 'https://github.com/namsoojang/Study_Play_with_data'\n",
    "\n",
    "html = requests.get(url).text          \n",
    "# BeutifulSoup(원하는 내용, '나누는 기준 = lxml, html.parser')\n",
    "soup = BeautifulSoup(html, 'html.parser')     \n",
    "# soup = BeautifulSoup(html, 'html.parser')    \n",
    "\n",
    "#js-repo-pjax-container > div.container.new-discussion-timeline.experiment-repo-nav \n",
    "#   > div.repository-content > div.file-wrap > table > tbody > tr:nth-child(2) > td.content > span\n",
    "\n",
    "#CSS selector 조회\n",
    "#js-repo-pjax-container > div.container.new-discussion-timeline.experiment-repo-nav > div.repository-content > div.file-wrap > table > tbody > tr:nth-child(2) > td.content > span\n",
    "\n",
    "titles = soup.select('tbody > tr > td.content > span')\n",
    "\n",
    "\n",
    "for title in titles:\n",
    "#     print(title, end='\\n')           #태그까지 모두다\n",
    "#     print('/'*10)\n",
    "    print(title.text,end='\\n\\n')     #태그 외의 글자만\n",
    "\n",
    "links = soup.select('tbody > tr > td.content > span > a')\n",
    "\n",
    "for link in links:\n",
    "    print(link['href'])"
   ]
  },
  {
   "cell_type": "markdown",
   "metadata": {},
   "source": []
  },
  {
   "cell_type": "markdown",
   "metadata": {},
   "source": [
    "### < HTML 구조 익히기 >\n",
    "\n",
    "\n",
    " -<태그1> .... </태그1>\n",
    " \n",
    " -<태그2 속성1=\"ㄱ\" 속성2=\"ㄴ\"> ..... <태그2> \n",
    " \n",
    "       속성: id, class, href 등등   \n",
    "       #class는 동일한 이름 여러개 가능. but id 는 하나의 html에서 한번만 사용 가능!!!!!!\n",
    "       \n",
    "-<ㄱ>\n",
    "        <ㄴ>\n",
    "                <ㄷ 속성4=\"ㄹ\", 속성6=\"ㅁ\">....</ㄷ>\n",
    "                <ㄷ 속성7=\"123\"></ㄷ>\n",
    "        </ㄴ>\n",
    "</ㄱ>\n",
    "          \n",
    " <a href=\"http://......>"
   ]
  },
  {
   "cell_type": "code",
   "execution_count": 15,
   "metadata": {
    "collapsed": true
   },
   "outputs": [],
   "source": [
    "# 'http://www.yes24.com/24/category/bestseller'  에서 일부분 발췌\n",
    "# html 문서보기\n",
    "\n",
    "\n",
    "yes24 = '''\n",
    "\n",
    "<ol class=\"\">\n",
    "\t<li class=\"num1\">\n",
    "\t\t<p class=\"copy\">\n",
    "\t\t\t<a href=\"/24/goods/30387696\">말과 글의 따뜻함과 차가움에 대하여, 하찮아 보이는 것들의 소중함에 대하여</a>\n",
    "\t\t</p>\n",
    "\t\t<p class=\"image\" id=\"location_0\">    \n",
    "\t\t\t<a href=\"/24/goods/30387696\">\n",
    "\t\t\t\t<img src=\"http://image.yes24.com/goods/30387696/S\" alt=\"언어의 온도\"/>\n",
    "\t\t\t</a>\n",
    "\t\t</p>\n",
    "\t\t\n",
    "\t\t<p>[도서] <a href=\"/24/goods/30387696\">언어의 온도</a></p>\n",
    "\t\t\n",
    "\t\t<p class=\"aupu\">\n",
    "\t\t\t<a href=\"http://www.yes24.com//SearchCorner/Result?domain=ALL&author_yn=Y&query=&auth_no=148466\" target=\"_blank\">이기주</a> 저 | \n",
    "\t\t\t<a href=\"http://www.yes24.com//SearchCorner/Result?domain=ALL&company_yn=Y&query=말글터\">말글터</a>\n",
    "\t\t</p>\n",
    "\t\t\n",
    "\t\t<p class=\"price\"><strong>12,420원</strong>(10%<img src=\"http://image.yes24.com/sysimage/wel/i_dc.gif\">+5%<img src=\"http://image.yes24.com/sysimage/wel/i_p.gif\">)</p>\n",
    "\t\t<p class=\"btn\"></p>\n",
    "\t\t\n",
    "\t\t\n",
    "    <li class=\"num2\">\n",
    "    \n",
    "        <p class=\"copy\"><a href=\"/24/goods/32972572\">공포, 피로, 당황, 놀람, 혼란, 좌절의 연속에 대한 한국 여자의 인생 현장 보고서!</a></p>\n",
    "        <p class=\"image\" id=\"location_1\">         \n",
    "            <a href=\"/24/goods/32972572\">\n",
    "                <img src=\"http://image.yes24.com/goods/32972572/S\" alt=\"82년생 김지영\"/>\n",
    "               </a>\n",
    "         </p>\n",
    "        <p>[도서] <a href=\"/24/goods/32972572\">82년생 김지영</a></p>\n",
    "        \n",
    "        <p class=\"aupu\"><a href=\"http://www.yes24.com//SearchCorner/Result?domain=ALL&author_yn=Y&query=&auth_no=146900\" target=\"_blank\">조남주</a> 저 | <a href=\"http://www.yes24.com//SearchCorner/Result?domain=ALL&company_yn=Y&query=민음사\">민음사</a></p>\n",
    "    \n",
    "        <p class=\"price\"><strong>11,700원</strong>(10%<img src=\"http://image.yes24.com/sysimage/wel/i_dc.gif\">+5%<img src=\"http://image.yes24.com/sysimage/wel/i_p.gif\">)</p>       \n",
    "        \n",
    "        <p class=\"btn\"></p>\n",
    "        <ul class=\"evt\">\n",
    "                    <li><a href=\"http://www.yes24.com/campaign/01_book/yesPresent/yesPresent.aspx?EventNo=146337\">내 삶의 쉼표, 지칠 때 꺼내 읽는 문학주머니</a></li>\n",
    "                    <li><a href=\"http://www.yes24.com/eWorld/EventWorld/Event?eventno=145794\">『82년생 김지영』 30만부 돌파 기념 이벤트</a></li>\n",
    "\t\t\t\t\t<li><a href=\"http://www.yes24.com/eWorld/EventWorld/Event?eventno=145778\">여성주의자의 서재</a></li>\n",
    "                    \n",
    "        </ul>\n",
    "    </li>\n",
    "\t\t\n",
    "</ol>\n",
    "\n",
    "\n",
    "\n",
    "\n",
    "'''"
   ]
  },
  {
   "cell_type": "markdown",
   "metadata": {},
   "source": [
    "### find와 select를 활용하여 원하는 정보 가져오기"
   ]
  },
  {
   "cell_type": "code",
   "execution_count": 16,
   "metadata": {
    "collapsed": false,
    "scrolled": true
   },
   "outputs": [],
   "source": [
    "from bs4 import BeautifulSoup\n",
    "html = BeautifulSoup(yes24, 'lxml')   #문자열을 작업하기 편하게 BeautifulSoup 으로 가져온다. "
   ]
  },
  {
   "cell_type": "markdown",
   "metadata": {},
   "source": [
    "-  html.select(찾고 싶은 것!): 여러개 찾음!   cf) select_one:하나만!\n",
    "-  html.find(찾고 싶은 것!): 하나만 찾음!   cf) find_all :여러개 찾음\n",
    "\n",
    "\n",
    "※ 크롬기준) 크롤링 원하는 페이지 → 마우스 우클릭 → 검사 → 오른쪽 화면  elements 요소에서 html 구조 확인가능\n",
    "       → 크롤링 원하는 위치에서 마우스 우클릭 →  'Copy' →  'Copy Selector' : CSS selector 조회가능\n",
    "                                                              'Copy elements' : 태그/속성 조회가능\n"
   ]
  },
  {
   "cell_type": "code",
   "execution_count": 23,
   "metadata": {
    "collapsed": false
   },
   "outputs": [
    {
     "ename": "AttributeError",
     "evalue": "'list' object has no attribute 'text'",
     "output_type": "error",
     "traceback": [
      "\u001b[0;31m---------------------------------------------------------------------------\u001b[0m",
      "\u001b[0;31mAttributeError\u001b[0m                            Traceback (most recent call last)",
      "\u001b[0;32m<ipython-input-23-5abfac16fa39>\u001b[0m in \u001b[0;36m<module>\u001b[0;34m()\u001b[0m\n\u001b[1;32m     37\u001b[0m \u001b[1;31m#     print(price.text)\u001b[0m\u001b[1;33m\u001b[0m\u001b[1;33m\u001b[0m\u001b[0m\n\u001b[1;32m     38\u001b[0m \u001b[1;33m\u001b[0m\u001b[0m\n\u001b[0;32m---> 39\u001b[0;31m \u001b[0mprint\u001b[0m\u001b[1;33m(\u001b[0m\u001b[0mprices1\u001b[0m\u001b[1;33m.\u001b[0m\u001b[0mtext\u001b[0m\u001b[1;33m)\u001b[0m\u001b[1;33m\u001b[0m\u001b[0m\n\u001b[0m",
      "\u001b[0;31mAttributeError\u001b[0m: 'list' object has no attribute 'text'"
     ]
    }
   ],
   "source": [
    "\n",
    "# 가격 가져오기 with select\n",
    "\n",
    "#<ol class=\"\"><li id=\"iiii\"><p class=\"price\"><strong>12,420원</strong>(10%+5%)\n",
    "#             <li><p class=\"price\"><strong>11,700원</strong>(10%+5%)\n",
    "\n",
    "\n",
    "# <ol>\n",
    "#     <li>\n",
    "#         <p>\n",
    "#             <strong>\n",
    "\n",
    "prices1 = html.select('strong')       #select('태그명')\n",
    "prices2 = html.select('ol > li > p > strong') #select('태그1단계 > 2단계 > 3단계 .. > ?단계')\n",
    "prices3 = html.select('ol > li > p[\"class\"=\"price\"] > strong')    #select(태그명[\"속성1\"=\"ㄱ\"])\n",
    "prices4 = html.select('p.price > strong')   #select('태그명.클래스명 > 자식')   속성중 class 는  .클래스명 으로 표현 가능\n",
    "prices5 = html.select('.price > strong')    #select('.클래스명')\n",
    "prices6 = html.select('ol strong')       #select('태그1단계 자손 자손)    \n",
    "                                            # > 로 단계 표시할 경우 1단계 아래만(자식)  Vs   ' ' 으로 표시할 경우 아래 단계는 모두(자손)\n",
    "                                             #id를 가져올 경우  select(#id) \n",
    "select_oneone=html.select_one('strong') \n",
    "\n",
    "# print(select_oneone)\n",
    "# print(prices1[0].text)\n",
    "# print(prices2[0])\n",
    "# print(prices3[0])\n",
    "# print(prices4[0])\n",
    "# print(prices5)   #리스트 형태\n",
    "# print(prices6)\n",
    "    \n",
    "# print()\n",
    "# print(prices6[0])\n",
    "# print(prices6[1])\n",
    "    \n",
    "# # print()\n",
    "# for price in prices6:\n",
    "#     print(price.text)\n",
    "\n",
    "print(prices1.text)"
   ]
  },
  {
   "cell_type": "code",
   "execution_count": 22,
   "metadata": {
    "collapsed": false
   },
   "outputs": [
    {
     "name": "stdout",
     "output_type": "stream",
     "text": [
      "12,420원\n",
      "\n",
      "12,420원\n",
      "\n",
      "\n",
      "\n",
      "12,420원\n",
      "11,700원\n"
     ]
    }
   ],
   "source": [
    "# 가격 가져오기 with find_all\n",
    "\n",
    "#<ol class=\"\"><li><p class=\"price\"><strong>12,420원</strong>(10%+5%)\n",
    "#             <li><p class=\"price\"><strong>11,700원</strong>(10%+5%)\n",
    "\n",
    "\n",
    "# <p class=\"price\"> 를 먼저 가져온 이후에, \n",
    "datas1 = html.find_all(\"p\", {\"class\":\"price\"})      #find_all('태그', {'속성1':'ㄱ','속성2':'ㄴ'})\n",
    "datas2 = html.find_all(\"p\", class_='price')    #class를 바로 쓰기위해서는 'class_'  \n",
    "\n",
    "# data = datas1.find('strong')     # --> 에러 발생함.\n",
    "data1_1 = datas1[0].find('strong')\n",
    "data1_2=html.find(\"p\",{\"class\":\"price\"}).find('strong')\n",
    "\n",
    "print(data1_1.text)\n",
    "print()\n",
    "print(data1_2.text)\n",
    "print('\\n\\n')\n",
    "\n",
    "\n",
    "# print(data.text)\n",
    "for data in datas1:\n",
    "    price=data.find('strong').text\n",
    "    \n",
    "    print(price)"
   ]
  },
  {
   "cell_type": "code",
   "execution_count": 13,
   "metadata": {
    "collapsed": false
   },
   "outputs": [
    {
     "name": "stdout",
     "output_type": "stream",
     "text": [
      "http://image.yes24.com/goods/30387696/S\n"
     ]
    }
   ],
   "source": [
    "# select(#id) 활용\n",
    "\n",
    "'''\n",
    "<ol class=\"\">\n",
    "\t<li class=\"num1\">\n",
    "\t\t<p class=\"image\" id=\"location_0\">    \n",
    "\t\t\t<a href=\"/24/goods/30387696\">\n",
    "\t\t\t\t<img src=\"http://image.yes24.com/goods/30387696/S\" alt=\"언어의 온도\"/>    \n",
    "\t\t<p>[도서] <a href=\"/24/goods/30387696\">언어의 온도</a></p>\n",
    "'''\n",
    "#id 는 한 html에서 여러개 나올 수 X.  \n",
    "# id 지정시 위치 바로 지정 가능함!!\n",
    "\n",
    "titles = html.select('#location_0 > a ')\n",
    "title = titles[0]\n",
    "# print(title)\n",
    "\n",
    "\n",
    "title = titles[0].img    # 자식(한단계 아래) 로 넘어갈 경우 .자식태그명\n",
    "# print(title)\n",
    "\n",
    "src = titles[0].img['src']   #속성 정보를 가져올 경우  ['속성명']\n",
    "print(src)"
   ]
  },
  {
   "cell_type": "markdown",
   "metadata": {
    "collapsed": true
   },
   "source": [
    "## 1.5 실습) Yes24 베스트셀러 정보가져오기"
   ]
  },
  {
   "cell_type": "code",
   "execution_count": 33,
   "metadata": {
    "collapsed": false
   },
   "outputs": [
    {
     "name": "stdout",
     "output_type": "stream",
     "text": [
      "언어의 온도 / 이기주 저 | 말글터 / 12,420원 / 4 / 4\n",
      "82년생 김지영 / 조남주 저 | 민음사 / 11,700원 / 4 / 4\n",
      "남아있는 나날 / 가즈오 이시구로 저 | 민음사 / 11,700원 / 4 / 4\n",
      "트렌드 코리아 2018 (10주년 특별판) / 김난도,이준영,이향은,전미영,김서영,최지혜,서유현,이수진 저 | 미래의창 / 16,200원 / X / X\n",
      "넛지 / 캐스 R. 선스타인,리처드 H. 탈러(리처드 세일러) 저/최정규 해제/안진환 역 | 리더스북 / 13,950원 / 4 / 3\n",
      "말의 품격 / 이기주 저 | 황소북스 / 13,050원 / 4 / 4\n",
      "너의 췌장을 먹고 싶어 (노블판) / 스미노 요루 저/양윤옥 역 | 소미미디어 / 12,420원 / 4 / 4\n",
      "강성태 66일 공부법 / 강성태 저 | 다산4.0 / 12,420원 / 4 / 4\n",
      "OtvN 프리미엄 특강쇼 어쩌다 어른 / [어쩌다 어른] 제작팀 저 | 교보문고 / 13,500원 / 4 / 4\n",
      "자존감 수업 / 윤홍균 저 | 심플라이프 / 12,600원 / 4 / 4\n",
      "엄마 반성문 / 이유남 저 | 덴스토리(DENSTORY) / 12,600원 / 4 / 4\n",
      "나는 나로 살기로 했다 / 김수현 저 | 마음의숲 / 12,420원 / 4 / 4\n",
      "잠수네 초등 5,6학년 공부법 / 이신애 저 | 알에이치코리아(RHK) / 19,800원 / 5 / 4\n",
      "명견만리_새로운 사회 편 / KBS 명견만리 제작팀 저 | 인플루엔셜 / 14,220원 / 4 / 4\n",
      "나의 문화유산답사기 9 : 서울편 1 / 유홍준 저 | 창비 / 16,650원 / 4 / 4\n",
      "영어회화 100일의 기적 / 문성현 저 | 넥서스 / 12,150원 / 4 / 4\n",
      "살인자의 기억법 / 김영하 저 | 문학동네 / 9,000원 / 4 / 4\n",
      "서울 부동산의 미래 / 김학렬(빠숑) 저 | 알에이치코리아(RHK) / 14,850원 / 5 / 5\n",
      "신경 끄기의 기술 / 마크 맨슨 저/한재호 역 | 갤리온 / 13,500원 / X / X\n",
      "일단 오늘은 나한테 잘합시다 / 도대체 글그림 | 예담 / 12,420원 / 4 / 4\n",
      "한글 12주 세트 / 스티브 맥 그림 | 삼성출판사 / 13,500원 / 4 / 4\n",
      "나미야 잡화점의 기적 / 히가시노 게이고 저/양윤옥 역 | 현대문학 / 13,320원 / 4 / 4\n",
      "명견만리_미래의 기회편 / KBS 명견만리 제작팀 저 | 인플루엔셜 / 14,220원 / 4 / 4\n",
      "나, 있는 그대로 참 좋다 / 조유미 저/화가율 그림 | 허밍버드 / 12,420원 / 4 / 4\n",
      "사피엔스 / 유발 하라리 저/조현욱 역 | 김영사 / 19,800원 / 4 / 4\n",
      "좌뇌개발 우뇌개발 12주 세트 / 편집부 저 | 삼성출판사 / 16,200원 / 4 / 4\n",
      "부의 추월차선 / 엠제이 드마코 저/신소영 역 | 토트출판사 / 13,500원 / 4 / 4\n",
      "나의 문화유산답사기 10 : 서울편 2 / 유홍준 저 | 창비 / 16,650원 / 4 / 4\n",
      "또다시 같은 꿈을 꾸었어 (노블판) / 스미노 요루 저/양윤옥 역 | 소미미디어 / 12,420원 / 4 / 4\n",
      "명견만리 / KBS 명견만리 제작팀 저 | 인플루엔셜 / 14,220원 / 4 / 4\n",
      "히끄네 집 / 이신아 저 | 야옹서가 / 13,320원 / 5 / 5\n",
      "횡설수설하지 않고 정확하게 설명하는 법 / 고구레 다이치 저/황미숙 역 | 갈매나무 / 11,700원 / 4 / 4\n",
      "기사단장 죽이기 2 / 무라카미 하루키 저/홍은주 역 | 문학동네 / 14,670원 / 4 / 4\n",
      "나는 나를 파괴할 권리가 있다 (리커버 특별판) / 김영하 저 | 문학동네 / 8,100원 / 4 / 4\n",
      "너의 췌장을 먹고 싶어 (일반판) / 스미노 요루 저/양윤옥 역 | 소미미디어 / 12,420원 / 4 / 4\n",
      "호모 데우스 / 유발 하라리 저/김명주 역 | 김영사 / 19,800원 / 4 / 4\n",
      "설민석의 한국사 대모험 4 / 설민석,스토리박스 글/정현희 그림 | 아이휴먼 / 9,450원 / 4 / 4\n",
      "기사단장 죽이기 1 / 무라카미 하루키 저/홍은주 역 | 문학동네 / 14,670원 / 4 / 4\n",
      "남한산성 / 김훈 저 | 학고재 / 14,400원 / 4 / 4\n",
      "나를 보내지 마 / 가즈오 이시구로 저/김남주 역 | 민음사 / 11,700원 / 4 / 4\n"
     ]
    }
   ],
   "source": [
    "import requests\n",
    "from bs4 import BeautifulSoup\n",
    "\n",
    "url = 'http://www.yes24.com/24/category/bestseller'\n",
    "html = requests.get(url).text\n",
    "soup = BeautifulSoup(html, 'lxml')\n",
    "\n",
    "books = soup.select('ol > li')\n",
    "# print(len(books))  # 40   40권 정보 조회 가능\n",
    "\n",
    "best_sellers=[]\n",
    "\n",
    "for book in books:\n",
    "    \n",
    "    book_name = book.select('p > a')[2].text    #책 제목 가져오기\n",
    "    auth = book.select('p.aupu')[0].text    #저자 가져오기\n",
    "    price = book.select('p.price > strong')[0].text  #가격 가져오기\n",
    "    \n",
    "    \n",
    "    # 평가 가져오기\n",
    "    # 평가가 없는 경우, 별점 조회 X\n",
    "    try:\n",
    "        ratings = book.select('p')[6].select('img')\n",
    "        \n",
    "        #내용 평가    \n",
    "        rating_content=0\n",
    "        for rating in ratings[:5]:\n",
    "            if rating['src'][-6:-4] ==\"On\":\n",
    "                rating_content+=1\n",
    "\n",
    "        rating_edit = 0        \n",
    "        for rating in ratings[5:]:\n",
    "            if rating['src'][-6:-4] ==\"On\":\n",
    "                rating_edit+=1\n",
    "    except:\n",
    "        rating_content='X'\n",
    "        rating_edit='X'\n",
    "    \n",
    "    print(book_name, auth, price, rating_content, rating_edit, sep=' / ')"
   ]
  },
  {
   "cell_type": "code",
   "execution_count": null,
   "metadata": {
    "collapsed": true
   },
   "outputs": [],
   "source": []
  }
 ],
 "metadata": {
  "anaconda-cloud": {},
  "kernelspec": {
   "display_name": "Python [default]",
   "language": "python",
   "name": "python3"
  },
  "language_info": {
   "codemirror_mode": {
    "name": "ipython",
    "version": 3
   },
   "file_extension": ".py",
   "mimetype": "text/x-python",
   "name": "python",
   "nbconvert_exporter": "python",
   "pygments_lexer": "ipython3",
   "version": "3.5.2"
  }
 },
 "nbformat": 4,
 "nbformat_minor": 2
}
