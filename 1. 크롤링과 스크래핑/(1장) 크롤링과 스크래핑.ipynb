{
 "cells": [
  {
   "cell_type": "markdown",
   "metadata": {},
   "source": [
    "# 1장 크롤링과 스크래핑"
   ]
  },
  {
   "cell_type": "markdown",
   "metadata": {},
   "source": [
    "<크롤링 진행>\n",
    " 1. 자료 위치(url 주소)\n",
    " 1. url주소 접근 \n",
    " 1. url 페이지내용 가져오기\n",
    " 1. html 을 읽기 쉽게 --> BeautifulSoup\n",
    " 1. 내가 원하는 데이터 접근 --> find, select\n",
    " 1. 저장or작업"
   ]
  },
  {
   "cell_type": "markdown",
   "metadata": {},
   "source": [
    "## 1.1 데이터 다운로드 하기\n",
    "\n",
    "    1. urllib.request 활용\n",
    "    2. urlopen() 활용\n",
    "    3. requests 활용"
   ]
  },
  {
   "cell_type": "code",
   "execution_count": 1,
   "metadata": {
    "collapsed": false
   },
   "outputs": [
    {
     "name": "stdout",
     "output_type": "stream",
     "text": [
      "저장완료\n"
     ]
    }
   ],
   "source": [
    "# 1. urllib.request 활용\n",
    "import urllib.request\n",
    "\n",
    "url = 'http://www.ignnews.kr/news/photo/201510/97_66_4559.jpg'\n",
    "savename = 'save_by_urllib.png'\n",
    "\n",
    "urllib.request.urlretrieve(url,savename)\n",
    "print(\"저장완료\")"
   ]
  },
  {
   "cell_type": "code",
   "execution_count": 5,
   "metadata": {
    "collapsed": false
   },
   "outputs": [
    {
     "name": "stdout",
     "output_type": "stream",
     "text": [
      "저장완료!\n"
     ]
    }
   ],
   "source": [
    "# 2. urlopen() 이용해서 다운받기\n",
    "\n",
    "import urllib.request\n",
    "\n",
    "url= 'http://post.phinf.naver.net/MjAxNzEwMTBfMTUx/MDAxNTA3NjE1NDI0Nzcw.uSkDlB7kxhalyFHbnyDCEdN6wGOvX1H8-igYpB7vxTwg.7lgBKerBirP59RHFj8mhEZ3fIKR683KPZnvk98cpfRwg.JPEG/IcsI5VNHtKgjjup2yCZUR0ijn2QI.jpg'\n",
    "savename='save_by_urlopen.png'\n",
    "\n",
    "mem=urllib.request.urlopen(url)\n",
    "mem=mem.read()\n",
    "\n",
    "with open(savename, \"wb\") as f:     #바이너리(이미지)일 경우 'wb',  텍스트일 경우 'w'\n",
    "    f.write(mem)\n",
    "    print(\"저장완료!\")"
   ]
  },
  {
   "cell_type": "code",
   "execution_count": 3,
   "metadata": {
    "collapsed": false
   },
   "outputs": [
    {
     "name": "stdout",
     "output_type": "stream",
     "text": [
      "저장완료!\n"
     ]
    }
   ],
   "source": [
    "# 3. requests 이용해서 다운받기\n",
    "\n",
    "import requests\n",
    "\n",
    "url = 'http://i.huffpost.com/gen/1912435/thumbs/o-BEER-570.jpg?2'\n",
    "savename='save_by_requests.png'\n",
    "\n",
    "mem=requests.get(url).content \n",
    "# 텍스트 내용일 경우에는 .text ,    바이너리(이미지) 일 경우 .content \n",
    "\n",
    "with open(savename, \"wb\") as f:    #바이너리(이미지)일 경우 'wb',  텍스트일 경우 'w'\n",
    "    f.write(mem)\n",
    "    print(\"저장완료!\")"
   ]
  },
  {
   "cell_type": "code",
   "execution_count": null,
   "metadata": {
    "collapsed": true
   },
   "outputs": [],
   "source": []
  },
  {
   "cell_type": "code",
   "execution_count": null,
   "metadata": {
    "collapsed": true
   },
   "outputs": [],
   "source": []
  },
  {
   "cell_type": "code",
   "execution_count": null,
   "metadata": {
    "collapsed": true
   },
   "outputs": [],
   "source": []
  },
  {
   "cell_type": "markdown",
   "metadata": {},
   "source": [
    "<크롤링 진행>\n",
    " 1. ***자료 위치(url 주소)***\n",
    "    \n",
    " 1. url주소 접근 --> requests, urllib\n",
    " 1. url 페이지내용 가져오기\n",
    " 1. html 을 읽기 쉽게 --> BeautifulSoup\n",
    " 1. 내가 원하는 데이터 접근 --> find, select\n",
    " 1. 저장or작업"
   ]
  },
  {
   "cell_type": "markdown",
   "metadata": {},
   "source": [
    "< URL 구조>\n",
    "\n",
    "url = 기본주소?항목A=값1&항목B=값2&항목3=값3...... \n",
    "\n",
    "ex) http://news.naver.com/main/list.nhn?mode=LSD&mid=sec&sid1=001&date=20171026&page=3\n",
    "   - 기본주소 : http://news.naver.com/main/list.nhn   : 네이버뉴스속보 메인\n",
    "   - mode=LSD :  ?? 없어도 조회가능함?\n",
    "   - mid=sec :  sec 인 경우 속보. 카테고리가 정해진 경우는 shm\n",
    "   - sid1 = 001 : 속보는 001, 세계는 104, 경제는 101...\n",
    "   - date = 20171026 : 조회일자\n",
    "   - page = 3 :  3번째 페이지를 검색\n",
    "   "
   ]
  },
  {
   "cell_type": "markdown",
   "metadata": {},
   "source": [
    "< URL 주소 만드는 법>\n",
    "\n",
    "1. 텍스트 작업\n",
    "2. urllib.parse 활용\n",
    "3. requests params 속성 활용"
   ]
  },
  {
   "cell_type": "code",
   "execution_count": 7,
   "metadata": {
    "collapsed": false
   },
   "outputs": [
    {
     "name": "stdout",
     "output_type": "stream",
     "text": [
      "http://news.naver.com/main/list.nhn?mode=LSD&mid=sec&sid1=001&date=20171026&page=5\n"
     ]
    }
   ],
   "source": [
    "# 1. 텍스트로 만들기\n",
    "\n",
    "base_url = 'http://news.naver.com/main/list.nhn?mode=LSD&mid=sec&sid1=001&date={}&page={}'\n",
    "date=20171026\n",
    "page=5\n",
    "\n",
    "url = base_url.format(date,page)\n",
    "print(url)\n"
   ]
  },
  {
   "cell_type": "code",
   "execution_count": 11,
   "metadata": {
    "collapsed": false
   },
   "outputs": [
    {
     "name": "stdout",
     "output_type": "stream",
     "text": [
      "mode=LSD&mid=sec&sid1=001&date=20171026&page=5\n",
      "http://news.naver.com/main/list.nhn?mode=LSD&mid=sec&sid1=001&date=20171026&page=5\n"
     ]
    }
   ],
   "source": [
    "# 2. urllib.parse 활용\n",
    "\n",
    "import urllib.parse\n",
    "\n",
    "base_url = 'http://news.naver.com/main/list.nhn'\n",
    "values = {\n",
    "    'mode':'LSD',\n",
    "    'mid':'sec',\n",
    "    'sid1':'001',\n",
    "    'date':date,\n",
    "    'page':page\n",
    "}\n",
    "params = urllib.parse.urlencode(values)\n",
    "print(params)\n",
    "\n",
    "url = base_url+'?'+params\n",
    "print(url)"
   ]
  },
  {
   "cell_type": "code",
   "execution_count": 13,
   "metadata": {
    "collapsed": false
   },
   "outputs": [
    {
     "name": "stdout",
     "output_type": "stream",
     "text": [
      "http://news.naver.com/main/list.nhn?mode=LSD&mid=sec&sid1=001&date=20171026&page=5\n",
      "<Response [200]>\n"
     ]
    }
   ],
   "source": [
    "# 3. requests  params 속성 활용하기\n",
    "\n",
    "import requests\n",
    "\n",
    "base_url = 'http://news.naver.com/main/list.nhn'\n",
    "values = {\n",
    "    'mode':'LSD',\n",
    "    'mid':'sec',\n",
    "    'sid1':'001',\n",
    "    'date':date,\n",
    "    'page':page\n",
    "}\n",
    "\n",
    "data =  requests.get(base_url, params = values)\n",
    "print(data.url)\n",
    "\n",
    "print(data) #200은 url 주소 접근완료. \n",
    "#data.text  or data.content 로 페이지내용 확인 가능함\n"
   ]
  },
  {
   "cell_type": "code",
   "execution_count": null,
   "metadata": {
    "collapsed": true
   },
   "outputs": [],
   "source": []
  },
  {
   "cell_type": "code",
   "execution_count": null,
   "metadata": {
    "collapsed": true
   },
   "outputs": [],
   "source": []
  },
  {
   "cell_type": "markdown",
   "metadata": {},
   "source": [
    "<크롤링 진행>\n",
    " 1. 자료 위치(url 주소)\n",
    " 1. url주소 접근 --> requests, urllib\n",
    " 1. ***url 페이지내용 가져오기***\n",
    " 1. ***html 을 읽기 쉽게 --> BeautifulSoup***\n",
    " 1. 내가 원하는 데이터 접근 --> find, select\n",
    " 1. 저장or작업"
   ]
  },
  {
   "cell_type": "code",
   "execution_count": 6,
   "metadata": {
    "collapsed": true
   },
   "outputs": [
    {
     "name": "stdout",
     "output_type": "stream",
     "text": [
      "b'\\n\\n\\n\\n\\n\\n<!DOCTYPE html>\\n<html lang=\"en\">\\n  <head>\\n    <meta charset=\"utf-8\">\\n  <link rel=\"dns-prefetch\" href=\"https://assets-cdn.github.com\">\\n  <link rel=\"dns-prefetch\" href=\"https://avatars0.githubusercontent.com\">\\n  <link rel=\"dns-prefetch\" href=\"https://avatars1.githubusercontent.com\">\\n  <link rel=\"dns-prefetch\" href=\"https://avatars2.githubusercontent.com\">\\n  <link rel=\"dns-prefetch\" href=\"https://avatars3.githubusercontent.com\">\\n  <link rel=\"dns-prefetch\" href=\"https://github-cloud.s3.amazonaws.com\">\\n  <link rel=\"dns-prefetch\" href=\"https://user-images.githubusercontent.com/\">\\n\\n\\n\\n  <link crossorigin=\"anonymous\" href=\"https://assets-cdn.github.com/assets/frameworks-d7137690e30123bade38abb082ac79f36cc7a105ff92e602405f53b725465cab.css\" media=\"all\" rel=\"stylesheet\" />\\n  <link crossorigin=\"anonymous\" href=\"https://assets-cdn.github.com/assets/github-49f3ef642df81ccf030bdd2942672150dbce4e416e8cf1630b76f8cde4d0907a.css\" media=\"all\" rel=\"stylesheet\" />\\n  \\n  \\n  <link crossorigin=\"anonymous\" href=\"https://assets-cdn.github.com/assets/site-cd79f063f6da2fef8de0055aa11c913cc1873486fc05ade3227e0cbcc7a168c6.css\" media=\"all\" rel=\"stylesheet\" />\\n  \\n\\n  <meta name=\"viewport\" content=\"width=device-width\">\\n  \\n  <title>GitHub - namsoojang/Study_Play_with_data: Study \\xec\\xa7\\x84\\xed\\x96\\x89\\xec\\x9d\\x84 \\xec\\x9c\\x84\\xed\\x95\\x9c \\xea\\xb3\\xb5\\xea\\xb0\\x84\\xec\\x9e\\x85\\xeb\\x8b\\x88\\xeb\\x8b\\xa4</title>\\n  <link rel=\"search\" type=\"application/opensearchdescription+xml\" href=\"/opensearch.xml\" title=\"GitHub\">\\n  <link rel=\"fluid-icon\" href=\"https://github.com/fluidicon.png\" title=\"GitHub\">\\n  <meta property=\"fb:app_id\" content=\"1401488693436528\">\\n\\n    \\n    <meta content=\"https://avatars2.githubusercontent.com/u/26623529?s=400&amp;v=4\" property=\"og:image\" /><meta content=\"GitHub\" property=\"og:site_name\" /><meta content=\"object\" property=\"og:type\" /><meta content=\"namsoojang/Study_Play_with_data\" property=\"og:title\" /><meta content=\"https://github.com/namsoojang/Study_Play_with_data\" property=\"og:url\" /><meta content=\"Study_Play_with_data - Study \\xec\\xa7\\x84\\xed\\x96\\x89\\xec\\x9d\\x84 \\xec\\x9c\\x84\\xed\\x95\\x9c \\xea\\xb3\\xb5\\xea\\xb0\\x84\\xec\\x9e\\x85\\xeb\\x8b\\x88\\xeb\\x8b\\xa4\" property=\"og:description\" />\\n\\n  <link rel=\"assets\" href=\"https://assets-cdn.github.com/\">\\n  \\n  <meta name=\"pjax-timeout\" content=\"1000\">\\n  \\n  <meta name=\"request-id\" content=\"E0C7:156AC:13556AB:1D37412:59F6CC6B\" data-pjax-transient>\\n  \\n\\n  <meta name=\"selected-link\" value=\"repo_source\" data-pjax-transient>\\n\\n  <meta name=\"google-site-verification\" content=\"KT5gs8h0wvaagLKAVWq8bbeNwnZZK1r1XQysX3xurLU\">\\n<meta name=\"google-site-verification\" content=\"ZzhVyEFwb7w3e0-uOTltm8Jsck2F5StVihD0exw2fsA\">\\n    <meta name=\"google-analytics\" content=\"UA-3769691-2\">\\n\\n<meta content=\"collector.githubapp.com\" name=\"octolytics-host\" /><meta content=\"github\" name=\"octolytics-app-id\" /><meta content=\"https://collector.githubapp.com/github-external/browser_event\" name=\"octolytics-event-url\" /><meta content=\"E0C7:156AC:13556AB:1D37412:59F6CC6B\" name=\"octolytics-dimension-request_id\" /><meta content=\"sea\" name=\"octolytics-dimension-region_edge\" /><meta content=\"iad\" name=\"octolytics-dimension-region_render\" />\\n<meta content=\"/&lt;user-name&gt;/&lt;repo-name&gt;\" data-pjax-transient=\"true\" name=\"analytics-location\" />\\n\\n\\n\\n\\n  <meta class=\"js-ga-set\" name=\"dimension1\" content=\"Logged Out\">\\n\\n\\n  \\n\\n      <meta name=\"hostname\" content=\"github.com\">\\n  <meta name=\"user-login\" content=\"\">\\n\\n      <meta name=\"expected-hostname\" content=\"github.com\">\\n    <meta name=\"js-proxy-site-detection-payload\" content=\"YjBlOWRkZTc0MWJlZDRmZDUxMTQyOTRhODMxNzgyZjkxZDVmZmFkODM5MjljNjgxNzc4MTA3MDY0MTZhMDdjOXx7InJlbW90ZV9hZGRyZXNzIjoiMjIwLjY0LjE0MC4yMzYiLCJyZXF1ZXN0X2lkIjoiRTBDNzoxNTZBQzoxMzU1NkFCOjFEMzc0MTI6NTlGNkNDNkIiLCJ0aW1lc3RhbXAiOjE1MDkzNDY0MTEsImhvc3QiOiJnaXRodWIuY29tIn0=\">\\n\\n\\n  <meta name=\"html-safe-nonce\" content=\"a6b16712b8e3d820dc41e0be4a8e34ff12933e50\">\\n\\n  <meta http-equiv=\"x-pjax-version\" content=\"cc850607fe97eff8742e5602b595cad9\">\\n  \\n\\n      <link href=\"https://github.com/namsoojang/Study_Play_with_data/commits/master.atom\" rel=\"alternate\" title=\"Recent Commits to Study_Play_with_data:master\" type=\"application/atom+xml\">\\n\\n  <meta name=\"description\" content=\"Study_Play_with_data - Study \\xec\\xa7\\x84\\xed\\x96\\x89\\xec\\x9d\\x84 \\xec\\x9c\\x84\\xed\\x95\\x9c \\xea\\xb3\\xb5\\xea\\xb0\\x84\\xec\\x9e\\x85\\xeb\\x8b\\x88\\xeb\\x8b\\xa4\">\\n  <meta name=\"go-import\" content=\"github.com/namsoojang/Study_Play_with_data git https://github.com/namsoojang/Study_Play_with_data.git\">\\n\\n  <meta content=\"26623529\" name=\"octolytics-dimension-user_id\" /><meta content=\"namsoojang\" name=\"octolytics-dimension-user_login\" /><meta content=\"107405716\" name=\"octolytics-dimension-repository_id\" /><meta content=\"namsoojang/Study_Play_with_data\" name=\"octolytics-dimension-repository_nwo\" /><meta content=\"true\" name=\"octolytics-dimension-repository_public\" /><meta content=\"false\" name=\"octolytics-dimension-repository_is_fork\" /><meta content=\"107405716\" name=\"octolytics-dimension-repository_network_root_id\" /><meta content=\"namsoojang/Study_Play_with_data\" name=\"octolytics-dimension-repository_network_root_nwo\" /><meta content=\"false\" name=\"octolytics-dimension-repository_explore_github_marketplace_ci_cta_shown\" />\\n\\n\\n    <link rel=\"canonical\" href=\"https://github.com/namsoojang/Study_Play_with_data\" data-pjax-transient>\\n\\n\\n  <meta name=\"browser-stats-url\" content=\"https://api.github.com/_private/browser/stats\">\\n\\n  <meta name=\"browser-errors-url\" content=\"https://api.github.com/_private/browser/errors\">\\n\\n  <link rel=\"mask-icon\" href=\"https://assets-cdn.github.com/pinned-octocat.svg\" color=\"#000000\">\\n  <link rel=\"icon\" type=\"image/x-icon\"\\n                   class=\"js-site-favicon\"\\n                   href=\"https://assets-cdn.github.com/favicon.ico\">\\n\\n<meta name=\"theme-color\" content=\"#1e2327\">\\n\\n\\n\\n  </head>\\n\\n  <body class=\"logged-out env-production\">\\n    \\n\\n  <div class=\"position-relative js-header-wrapper \">\\n    <a href=\"#start-of-content\" tabindex=\"1\" class=\"px-2 py-4 show-on-focus js-skip-to-content\">Skip to content</a>\\n    <div id=\"js-pjax-loader-bar\" class=\"pjax-loader-bar\"><div class=\"progress\"></div></div>\\n\\n    \\n    \\n    \\n\\n\\n\\n        <header class=\"Header header-logged-out  position-relative f4 py-3\" role=\"banner\">\\n  <div class=\"container-lg d-flex px-3\">\\n    <div class=\"d-flex flex-justify-between flex-items-center\">\\n      <a class=\"header-logo-invertocat my-0\" href=\"https://github.com/\" aria-label=\"Homepage\" data-ga-click=\"(Logged out) Header, go to homepage, icon:logo-wordmark\">\\n        <svg aria-hidden=\"true\" class=\"octicon octicon-mark-github\" height=\"32\" version=\"1.1\" viewBox=\"0 0 16 16\" width=\"32\"><path fill-rule=\"evenodd\" d=\"M8 0C3.58 0 0 3.58 0 8c0 3.54 2.29 6.53 5.47 7.59.4.07.55-.17.55-.38 0-.19-.01-.82-.01-1.49-2.01.37-2.53-.49-2.69-.94-.09-.23-.48-.94-.82-1.13-.28-.15-.68-.52-.01-.53.63-.01 1.08.58 1.23.82.72 1.21 1.87.87 2.33.66.07-.52.28-.87.51-1.07-1.78-.2-3.64-.89-3.64-3.95 0-.87.31-1.59.82-2.15-.08-.2-.36-1.02.08-2.12 0 0 .67-.21 2.2.82.64-.18 1.32-.27 2-.27.68 0 1.36.09 2 .27 1.53-1.04 2.2-.82 2.2-.82.44 1.1.16 1.92.08 2.12.51.56.82 1.27.82 2.15 0 3.07-1.87 3.75-3.65 3.95.29.25.54.73.54 1.48 0 1.07-.01 1.93-.01 2.2 0 .21.15.46.55.38A8.013 8.013 0 0 0 16 8c0-4.42-3.58-8-8-8z\"/></svg>\\n      </a>\\n\\n    </div>\\n\\n    <div class=\"HeaderMenu HeaderMenu--bright d-flex flex-justify-between flex-auto\">\\n        <nav class=\"mt-0\">\\n          <ul class=\"d-flex list-style-none\">\\n              <li class=\"ml-2\">\\n                <a href=\"/features\" class=\"js-selected-navigation-item HeaderNavlink px-0 py-2 m-0\" data-ga-click=\"Header, click, Nav menu - item:features\" data-selected-links=\"/features /features/project-management /features/code-review /features/project-management /features/integrations /features\">\\n                  Features\\n</a>              </li>\\n              <li class=\"ml-4\">\\n                <a href=\"/business\" class=\"js-selected-navigation-item HeaderNavlink px-0 py-2 m-0\" data-ga-click=\"Header, click, Nav menu - item:business\" data-selected-links=\"/business /business/security /business/customers /business\">\\n                  Business\\n</a>              </li>\\n\\n              <li class=\"ml-4\">\\n                <a href=\"/explore\" class=\"js-selected-navigation-item HeaderNavlink px-0 py-2 m-0\" data-ga-click=\"Header, click, Nav menu - item:explore\" data-selected-links=\"/explore /trending /trending/developers /integrations /integrations/feature/code /integrations/feature/collaborate /integrations/feature/ship showcases showcases_search showcases_landing /explore\">\\n                  Explore\\n</a>              </li>\\n\\n              <li class=\"ml-4\">\\n                    <a href=\"/marketplace\" class=\"js-selected-navigation-item HeaderNavlink px-0 py-2 m-0\" data-ga-click=\"Header, click, Nav menu - item:marketplace\" data-selected-links=\" /marketplace\">\\n                      Marketplace\\n</a>              </li>\\n              <li class=\"ml-4\">\\n                <a href=\"/pricing\" class=\"js-selected-navigation-item HeaderNavlink px-0 py-2 m-0\" data-ga-click=\"Header, click, Nav menu - item:pricing\" data-selected-links=\"/pricing /pricing/developer /pricing/team /pricing/business-hosted /pricing/business-enterprise /pricing\">\\n                  Pricing\\n</a>              </li>\\n          </ul>\\n        </nav>\\n\\n      <div class=\"d-flex\">\\n          <div class=\"d-lg-flex flex-items-center mr-3\">\\n            <div class=\"header-search scoped-search site-scoped-search js-site-search\" role=\"search\">\\n  <!-- \\'\"` --><!-- </textarea></xmp> --></option></form><form accept-charset=\"UTF-8\" action=\"/namsoojang/Study_Play_with_data/search\" class=\"js-site-search-form\" data-scoped-search-url=\"/namsoojang/Study_Play_with_data/search\" data-unscoped-search-url=\"/search\" method=\"get\"><div style=\"margin:0;padding:0;display:inline\"><input name=\"utf8\" type=\"hidden\" value=\"&#x2713;\" /></div>\\n    <label class=\"form-control header-search-wrapper js-chromeless-input-container\">\\n        <a href=\"/namsoojang/Study_Play_with_data\" class=\"header-search-scope no-underline\">This repository</a>\\n      <input type=\"text\"\\n        class=\"form-control header-search-input js-site-search-focus js-site-search-field is-clearable\"\\n        data-hotkey=\"s\"\\n        name=\"q\"\\n        value=\"\"\\n        placeholder=\"Search\"\\n        aria-label=\"Search this repository\"\\n        data-unscoped-placeholder=\"Search GitHub\"\\n        data-scoped-placeholder=\"Search\"\\n        autocapitalize=\"off\">\\n        <input type=\"hidden\" class=\"js-site-search-type-field\" name=\"type\" >\\n    </label>\\n</form></div>\\n\\n          </div>\\n\\n        <span class=\"d-inline-block\">\\n            <div class=\"HeaderNavlink px-0 py-2 m-0\">\\n              <a class=\"text-bold text-white no-underline\" href=\"/login?return_to=%2Fnamsoojang%2FStudy_Play_with_data\" data-ga-click=\"(Logged out) Header, clicked Sign in, text:sign-in\">Sign in</a>\\n                <span class=\"text-gray\">or</span>\\n                <a class=\"text-bold text-white no-underline\" href=\"/join?source=header-repo\" data-ga-click=\"(Logged out) Header, clicked Sign up, text:sign-up\">Sign up</a>\\n            </div>\\n        </span>\\n      </div>\\n    </div>\\n  </div>\\n</header>\\n\\n\\n  </div>\\n\\n  <div id=\"start-of-content\" class=\"show-on-focus\"></div>\\n\\n    <div id=\"js-flash-container\">\\n</div>\\n\\n\\n\\n  <div role=\"main\">\\n        <div itemscope itemtype=\"http://schema.org/SoftwareSourceCode\">\\n    <div id=\"js-repo-pjax-container\" data-pjax-container>\\n      \\n\\n\\n\\n\\n    <div class=\"pagehead repohead instapaper_ignore readability-menu experiment-repo-nav \">\\n      <div class=\"repohead-details-container clearfix container \">\\n\\n        <ul class=\"pagehead-actions\">\\n  <li>\\n      <a href=\"/login?return_to=%2Fnamsoojang%2FStudy_Play_with_data\"\\n    class=\"btn btn-sm btn-with-count tooltipped tooltipped-n\"\\n    aria-label=\"You must be signed in to watch a repository\" rel=\"nofollow\">\\n    <svg aria-hidden=\"true\" class=\"octicon octicon-eye\" height=\"16\" version=\"1.1\" viewBox=\"0 0 16 16\" width=\"16\"><path fill-rule=\"evenodd\" d=\"M8.06 2C3 2 0 8 0 8s3 6 8.06 6C13 14 16 8 16 8s-3-6-7.94-6zM8 12c-2.2 0-4-1.78-4-4 0-2.2 1.8-4 4-4 2.22 0 4 1.8 4 4 0 2.22-1.78 4-4 4zm2-4c0 1.11-.89 2-2 2-1.11 0-2-.89-2-2 0-1.11.89-2 2-2 1.11 0 2 .89 2 2z\"/></svg>\\n    Watch\\n  </a>\\n  <a class=\"social-count\" href=\"/namsoojang/Study_Play_with_data/watchers\"\\n     aria-label=\"2 users are watching this repository\">\\n    2\\n  </a>\\n\\n  </li>\\n\\n  <li>\\n      <a href=\"/login?return_to=%2Fnamsoojang%2FStudy_Play_with_data\"\\n    class=\"btn btn-sm btn-with-count tooltipped tooltipped-n\"\\n    aria-label=\"You must be signed in to star a repository\" rel=\"nofollow\">\\n    <svg aria-hidden=\"true\" class=\"octicon octicon-star\" height=\"16\" version=\"1.1\" viewBox=\"0 0 14 16\" width=\"14\"><path fill-rule=\"evenodd\" d=\"M14 6l-4.9-.64L7 1 4.9 5.36 0 6l3.6 3.26L2.67 14 7 11.67 11.33 14l-.93-4.74z\"/></svg>\\n    Star\\n  </a>\\n\\n    <a class=\"social-count js-social-count\" href=\"/namsoojang/Study_Play_with_data/stargazers\"\\n      aria-label=\"2 users starred this repository\">\\n      2\\n    </a>\\n\\n  </li>\\n\\n  <li>\\n      <a href=\"/login?return_to=%2Fnamsoojang%2FStudy_Play_with_data\"\\n        class=\"btn btn-sm btn-with-count tooltipped tooltipped-n\"\\n        aria-label=\"You must be signed in to fork a repository\" rel=\"nofollow\">\\n        <svg aria-hidden=\"true\" class=\"octicon octicon-repo-forked\" height=\"16\" version=\"1.1\" viewBox=\"0 0 10 16\" width=\"10\"><path fill-rule=\"evenodd\" d=\"M8 1a1.993 1.993 0 0 0-1 3.72V6L5 8 3 6V4.72A1.993 1.993 0 0 0 2 1a1.993 1.993 0 0 0-1 3.72V6.5l3 3v1.78A1.993 1.993 0 0 0 5 15a1.993 1.993 0 0 0 1-3.72V9.5l3-3V4.72A1.993 1.993 0 0 0 8 1zM2 4.2C1.34 4.2.8 3.65.8 3c0-.65.55-1.2 1.2-1.2.65 0 1.2.55 1.2 1.2 0 .65-.55 1.2-1.2 1.2zm3 10c-.66 0-1.2-.55-1.2-1.2 0-.65.55-1.2 1.2-1.2.65 0 1.2.55 1.2 1.2 0 .65-.55 1.2-1.2 1.2zm3-10c-.66 0-1.2-.55-1.2-1.2 0-.65.55-1.2 1.2-1.2.65 0 1.2.55 1.2 1.2 0 .65-.55 1.2-1.2 1.2z\"/></svg>\\n        Fork\\n      </a>\\n\\n    <a href=\"/namsoojang/Study_Play_with_data/network\" class=\"social-count\"\\n       aria-label=\"0 users forked this repository\">\\n      0\\n    </a>\\n  </li>\\n</ul>\\n\\n        <h1 class=\"public \">\\n  <svg aria-hidden=\"true\" class=\"octicon octicon-repo\" height=\"16\" version=\"1.1\" viewBox=\"0 0 12 16\" width=\"12\"><path fill-rule=\"evenodd\" d=\"M4 9H3V8h1v1zm0-3H3v1h1V6zm0-2H3v1h1V4zm0-2H3v1h1V2zm8-1v12c0 .55-.45 1-1 1H6v2l-1.5-1.5L3 16v-2H1c-.55 0-1-.45-1-1V1c0-.55.45-1 1-1h10c.55 0 1 .45 1 1zm-1 10H1v2h2v-1h3v1h5v-2zm0-10H2v9h9V1z\"/></svg>\\n  <span class=\"author\" itemprop=\"author\"><a href=\"/namsoojang\" class=\"url fn\" rel=\"author\">namsoojang</a></span><!--\\n--><span class=\"path-divider\">/</span><!--\\n--><strong itemprop=\"name\"><a href=\"/namsoojang/Study_Play_with_data\" data-pjax=\"#js-repo-pjax-container\">Study_Play_with_data</a></strong>\\n\\n</h1>\\n\\n      </div>\\n      \\n<nav class=\"reponav js-repo-nav js-sidenav-container-pjax container\"\\n     itemscope\\n     itemtype=\"http://schema.org/BreadcrumbList\"\\n     role=\"navigation\"\\n     data-pjax=\"#js-repo-pjax-container\">\\n\\n  <span itemscope itemtype=\"http://schema.org/ListItem\" itemprop=\"itemListElement\">\\n    <a href=\"/namsoojang/Study_Play_with_data\" class=\"js-selected-navigation-item selected reponav-item\" data-hotkey=\"g c\" data-selected-links=\"repo_source repo_downloads repo_commits repo_releases repo_tags repo_branches repo_packages /namsoojang/Study_Play_with_data\" itemprop=\"url\">\\n      <svg aria-hidden=\"true\" class=\"octicon octicon-code\" height=\"16\" version=\"1.1\" viewBox=\"0 0 14 16\" width=\"14\"><path fill-rule=\"evenodd\" d=\"M9.5 3L8 4.5 11.5 8 8 11.5 9.5 13 14 8 9.5 3zm-5 0L0 8l4.5 5L6 11.5 2.5 8 6 4.5 4.5 3z\"/></svg>\\n      <span itemprop=\"name\">Code</span>\\n      <meta itemprop=\"position\" content=\"1\">\\n</a>  </span>\\n\\n    <span itemscope itemtype=\"http://schema.org/ListItem\" itemprop=\"itemListElement\">\\n      <a href=\"/namsoojang/Study_Play_with_data/issues\" class=\"js-selected-navigation-item reponav-item\" data-hotkey=\"g i\" data-selected-links=\"repo_issues repo_labels repo_milestones /namsoojang/Study_Play_with_data/issues\" itemprop=\"url\">\\n        <svg aria-hidden=\"true\" class=\"octicon octicon-issue-opened\" height=\"16\" version=\"1.1\" viewBox=\"0 0 14 16\" width=\"14\"><path fill-rule=\"evenodd\" d=\"M7 2.3c3.14 0 5.7 2.56 5.7 5.7s-2.56 5.7-5.7 5.7A5.71 5.71 0 0 1 1.3 8c0-3.14 2.56-5.7 5.7-5.7zM7 1C3.14 1 0 4.14 0 8s3.14 7 7 7 7-3.14 7-7-3.14-7-7-7zm1 3H6v5h2V4zm0 6H6v2h2v-2z\"/></svg>\\n        <span itemprop=\"name\">Issues</span>\\n        <span class=\"Counter\">0</span>\\n        <meta itemprop=\"position\" content=\"2\">\\n</a>    </span>\\n\\n  <span itemscope itemtype=\"http://schema.org/ListItem\" itemprop=\"itemListElement\">\\n    <a href=\"/namsoojang/Study_Play_with_data/pulls\" class=\"js-selected-navigation-item reponav-item\" data-hotkey=\"g p\" data-selected-links=\"repo_pulls /namsoojang/Study_Play_with_data/pulls\" itemprop=\"url\">\\n      <svg aria-hidden=\"true\" class=\"octicon octicon-git-pull-request\" height=\"16\" version=\"1.1\" viewBox=\"0 0 12 16\" width=\"12\"><path fill-rule=\"evenodd\" d=\"M11 11.28V5c-.03-.78-.34-1.47-.94-2.06C9.46 2.35 8.78 2.03 8 2H7V0L4 3l3 3V4h1c.27.02.48.11.69.31.21.2.3.42.31.69v6.28A1.993 1.993 0 0 0 10 15a1.993 1.993 0 0 0 1-3.72zm-1 2.92c-.66 0-1.2-.55-1.2-1.2 0-.65.55-1.2 1.2-1.2.65 0 1.2.55 1.2 1.2 0 .65-.55 1.2-1.2 1.2zM4 3c0-1.11-.89-2-2-2a1.993 1.993 0 0 0-1 3.72v6.56A1.993 1.993 0 0 0 2 15a1.993 1.993 0 0 0 1-3.72V4.72c.59-.34 1-.98 1-1.72zm-.8 10c0 .66-.55 1.2-1.2 1.2-.65 0-1.2-.55-1.2-1.2 0-.65.55-1.2 1.2-1.2.65 0 1.2.55 1.2 1.2zM2 4.2C1.34 4.2.8 3.65.8 3c0-.65.55-1.2 1.2-1.2.65 0 1.2.55 1.2 1.2 0 .65-.55 1.2-1.2 1.2z\"/></svg>\\n      <span itemprop=\"name\">Pull requests</span>\\n      <span class=\"Counter\">0</span>\\n      <meta itemprop=\"position\" content=\"3\">\\n</a>  </span>\\n\\n    <a href=\"/namsoojang/Study_Play_with_data/projects\" class=\"js-selected-navigation-item reponav-item\" data-hotkey=\"g b\" data-selected-links=\"repo_projects new_repo_project repo_project /namsoojang/Study_Play_with_data/projects\">\\n      <svg aria-hidden=\"true\" class=\"octicon octicon-project\" height=\"16\" version=\"1.1\" viewBox=\"0 0 15 16\" width=\"15\"><path fill-rule=\"evenodd\" d=\"M10 12h3V2h-3v10zm-4-2h3V2H6v8zm-4 4h3V2H2v12zm-1 1h13V1H1v14zM14 0H1a1 1 0 0 0-1 1v14a1 1 0 0 0 1 1h13a1 1 0 0 0 1-1V1a1 1 0 0 0-1-1z\"/></svg>\\n      Projects\\n      <span class=\"Counter\" >0</span>\\n</a>\\n\\n\\n  <a href=\"/namsoojang/Study_Play_with_data/pulse\" class=\"js-selected-navigation-item reponav-item\" data-selected-links=\"repo_graphs repo_contributors dependency_graph pulse /namsoojang/Study_Play_with_data/pulse\">\\n    <svg aria-hidden=\"true\" class=\"octicon octicon-graph\" height=\"16\" version=\"1.1\" viewBox=\"0 0 16 16\" width=\"16\"><path fill-rule=\"evenodd\" d=\"M16 14v1H0V0h1v14h15zM5 13H3V8h2v5zm4 0H7V3h2v10zm4 0h-2V6h2v7z\"/></svg>\\n    Insights\\n</a>\\n\\n</nav>\\n\\n\\n    </div>\\n\\n<div class=\"container new-discussion-timeline experiment-repo-nav\">\\n  <div class=\"repository-content\">\\n\\n    \\n      <div class=\"signup-prompt-bg rounded-1\">\\n      <div class=\"signup-prompt p-4 text-center mb-4 rounded-1\">\\n        <div class=\"position-relative\">\\n          <!-- \\'\"` --><!-- </textarea></xmp> --></option></form><form accept-charset=\"UTF-8\" action=\"/site/dismiss_signup_prompt\" method=\"post\"><div style=\"margin:0;padding:0;display:inline\"><input name=\"utf8\" type=\"hidden\" value=\"&#x2713;\" /><input name=\"authenticity_token\" type=\"hidden\" value=\"gEjexevjtGvb137BHqjdc7suYHNDObAvGdiXYaUjF/27qjVtxCf+BrEcHrgOflS4TvhL6F2oTAfkAOZeeYlfew==\" /></div>\\n            <button type=\"submit\" class=\"position-absolute top-0 right-0 btn-link link-gray\" data-ga-click=\"(Logged out) Sign up prompt, clicked Dismiss, text:dismiss\">\\n              Dismiss\\n            </button>\\n</form>\\n          <h3 class=\"pt-2\">Join GitHub today</h3>\\n          <p class=\"col-6 mx-auto\">GitHub is home to over 20 million developers working together to host and review code, manage projects, and build software together.</p>\\n          <p class=\"pb-2\">\\n            <a class=\"btn btn-blue\" href=\"/join?source=prompt-code\" data-ga-click=\"(Logged out) Sign up prompt, clicked Sign up, text:sign-up\">Sign up</a>\\n          </p>\\n        </div>\\n      </div>\\n    </div>\\n\\n\\n  <div class=\"js-repo-meta-container\">\\n  <div class=\"repository-meta mb-0 mb-3 js-repo-meta-edit js-details-container \">\\n    <div class=\"repository-meta-content col-11 mb-1\">\\n          <span class=\"col-11 text-gray-dark mr-2\" itemprop=\"about\">\\n            Study \\xec\\xa7\\x84\\xed\\x96\\x89\\xec\\x9d\\x84 \\xec\\x9c\\x84\\xed\\x95\\x9c \\xea\\xb3\\xb5\\xea\\xb0\\x84\\xec\\x9e\\x85\\xeb\\x8b\\x88\\xeb\\x8b\\xa4\\n          </span>\\n    </div>\\n\\n  </div>\\n\\n</div>\\n\\n\\n\\n  <div class=\"overall-summary overall-summary-bottomless\">\\n    <div class=\"stats-switcher-viewport js-stats-switcher-viewport\">\\n      <div class=\"stats-switcher-wrapper\">\\n      <ul class=\"numbers-summary\">\\n        <li class=\"commits\">\\n          <a data-pjax href=\"/namsoojang/Study_Play_with_data/commits/master\">\\n              <svg aria-hidden=\"true\" class=\"octicon octicon-history\" height=\"16\" version=\"1.1\" viewBox=\"0 0 14 16\" width=\"14\"><path fill-rule=\"evenodd\" d=\"M8 13H6V6h5v2H8v5zM7 1C4.81 1 2.87 2.02 1.59 3.59L0 2v4h4L2.5 4.5C3.55 3.17 5.17 2.3 7 2.3c3.14 0 5.7 2.56 5.7 5.7s-2.56 5.7-5.7 5.7A5.71 5.71 0 0 1 1.3 8c0-.34.03-.67.09-1H.08C.03 7.33 0 7.66 0 8c0 3.86 3.14 7 7 7s7-3.14 7-7-3.14-7-7-7z\"/></svg>\\n              <span class=\"num text-emphasized\">\\n                13\\n              </span>\\n              commits\\n          </a>\\n        </li>\\n        <li>\\n          <a data-pjax href=\"/namsoojang/Study_Play_with_data/branches\">\\n            <svg aria-hidden=\"true\" class=\"octicon octicon-git-branch\" height=\"16\" version=\"1.1\" viewBox=\"0 0 10 16\" width=\"10\"><path fill-rule=\"evenodd\" d=\"M10 5c0-1.11-.89-2-2-2a1.993 1.993 0 0 0-1 3.72v.3c-.02.52-.23.98-.63 1.38-.4.4-.86.61-1.38.63-.83.02-1.48.16-2 .45V4.72a1.993 1.993 0 0 0-1-3.72C.88 1 0 1.89 0 3a2 2 0 0 0 1 1.72v6.56c-.59.35-1 .99-1 1.72 0 1.11.89 2 2 2 1.11 0 2-.89 2-2 0-.53-.2-1-.53-1.36.09-.06.48-.41.59-.47.25-.11.56-.17.94-.17 1.05-.05 1.95-.45 2.75-1.25S8.95 7.77 9 6.73h-.02C9.59 6.37 10 5.73 10 5zM2 1.8c.66 0 1.2.55 1.2 1.2 0 .65-.55 1.2-1.2 1.2C1.35 4.2.8 3.65.8 3c0-.65.55-1.2 1.2-1.2zm0 12.41c-.66 0-1.2-.55-1.2-1.2 0-.65.55-1.2 1.2-1.2.65 0 1.2.55 1.2 1.2 0 .65-.55 1.2-1.2 1.2zm6-8c-.66 0-1.2-.55-1.2-1.2 0-.65.55-1.2 1.2-1.2.65 0 1.2.55 1.2 1.2 0 .65-.55 1.2-1.2 1.2z\"/></svg>\\n            <span class=\"num text-emphasized\">\\n              1\\n            </span>\\n            branch\\n          </a>\\n        </li>\\n\\n        <li>\\n          <a href=\"/namsoojang/Study_Play_with_data/releases\">\\n            <svg aria-hidden=\"true\" class=\"octicon octicon-tag\" height=\"16\" version=\"1.1\" viewBox=\"0 0 14 16\" width=\"14\"><path fill-rule=\"evenodd\" d=\"M7.73 1.73C7.26 1.26 6.62 1 5.96 1H3.5C2.13 1 1 2.13 1 3.5v2.47c0 .66.27 1.3.73 1.77l6.06 6.06c.39.39 1.02.39 1.41 0l4.59-4.59a.996.996 0 0 0 0-1.41L7.73 1.73zM2.38 7.09c-.31-.3-.47-.7-.47-1.13V3.5c0-.88.72-1.59 1.59-1.59h2.47c.42 0 .83.16 1.13.47l6.14 6.13-4.73 4.73-6.13-6.15zM3.01 3h2v2H3V3h.01z\"/></svg>\\n            <span class=\"num text-emphasized\">\\n              0\\n            </span>\\n            releases\\n          </a>\\n        </li>\\n\\n        <li>\\n            <a href=\"/namsoojang/Study_Play_with_data/graphs/contributors\">\\n  <svg aria-hidden=\"true\" class=\"octicon octicon-organization\" height=\"16\" version=\"1.1\" viewBox=\"0 0 16 16\" width=\"16\"><path fill-rule=\"evenodd\" d=\"M16 12.999c0 .439-.45 1-1 1H7.995c-.539 0-.994-.447-.995-.999H1c-.54 0-1-.561-1-1 0-2.634 3-4 3-4s.229-.409 0-1c-.841-.621-1.058-.59-1-3 .058-2.419 1.367-3 2.5-3s2.442.58 2.5 3c.058 2.41-.159 2.379-1 3-.229.59 0 1 0 1s1.549.711 2.42 2.088C9.196 9.369 10 8.999 10 8.999s.229-.409 0-1c-.841-.62-1.058-.59-1-3 .058-2.419 1.367-3 2.5-3s2.437.581 2.495 3c.059 2.41-.158 2.38-1 3-.229.59 0 1 0 1s3.005 1.366 3.005 4\"/></svg>\\n    <span class=\"num text-emphasized\">\\n      1\\n    </span>\\n    contributor\\n</a>\\n\\n        </li>\\n      </ul>\\n\\n        <div class=\"repository-lang-stats\">\\n          <ol class=\"repository-lang-stats-numbers\">\\n            <li>\\n                <a href=\"/namsoojang/Study_Play_with_data/search?l=jupyter-notebook\"  data-ga-click=\"Repository, language stats search click, location:repo overview\">\\n                  <span class=\"color-block language-color\" style=\"background-color:#DA5B0B;\"></span>\\n                  <span class=\"lang\">Jupyter Notebook</span>\\n                  <span class=\"percent\">100.0%</span>\\n                </a>\\n            </li>\\n          </ol>\\n        </div>\\n      </div>\\n    </div>\\n  </div>\\n\\n    <div class=\"repository-lang-stats-graph js-toggle-lang-stats\" title=\"Click for language details\" data-ga-click=\"Repository, language bar stats toggle, location:repo overview\">\\n      <span class=\"language-color\" aria-label=\"Jupyter Notebook 100.0%\" style=\"width:100.0%; background-color:#DA5B0B;\" itemprop=\"keywords\">Jupyter Notebook</span>\\n    </div>\\n\\n\\n\\n  <div class=\"file-navigation in-mid-page\">\\n\\n    <details class=\"get-repo-select-menu js-menu-container float-right position-relative dropdown-details\">\\n  <summary class=\"btn btn-sm btn-primary\">\\n    Clone or download\\n    <span class=\"dropdown-caret\"></span>\\n  </summary>\\n  <div class=\"position-relative\">\\n    <div class=\"get-repo-modal dropdown-menu dropdown-menu-sw pb-0 js-toggler-container \">\\n      <div class=\"clone-options https-clone-options\">\\n\\n        <h4 class=\"mb-1\">\\n          Clone with HTTPS\\n          <a class=\"muted-link\" href=\"https://help.github.com/articles/which-remote-url-should-i-use\" target=\"_blank\" title=\"Which remote URL should I use?\">\\n            <svg aria-hidden=\"true\" class=\"octicon octicon-question\" height=\"16\" version=\"1.1\" viewBox=\"0 0 14 16\" width=\"14\"><path fill-rule=\"evenodd\" d=\"M6 10h2v2H6v-2zm4-3.5C10 8.64 8 9 8 9H6c0-.55.45-1 1-1h.5c.28 0 .5-.22.5-.5v-1c0-.28-.22-.5-.5-.5h-1c-.28 0-.5.22-.5.5V7H4c0-1.5 1.5-3 3-3s3 1 3 2.5zM7 2.3c3.14 0 5.7 2.56 5.7 5.7s-2.56 5.7-5.7 5.7A5.71 5.71 0 0 1 1.3 8c0-3.14 2.56-5.7 5.7-5.7zM7 1C3.14 1 0 4.14 0 8s3.14 7 7 7 7-3.14 7-7-3.14-7-7-7z\"/></svg>\\n          </a>\\n        </h4>\\n        <p class=\"mb-2 get-repo-decription-text\">\\n          Use Git or checkout with SVN using the web URL.\\n        </p>\\n\\n        <div class=\"input-group js-zeroclipboard-container\">\\n  <input type=\"text\" class=\"form-control input-monospace input-sm js-zeroclipboard-target js-url-field\" value=\"https://github.com/namsoojang/Study_Play_with_data.git\" aria-label=\"Clone this repository at https://github.com/namsoojang/Study_Play_with_data.git\" readonly>\\n  <div class=\"input-group-button\">\\n    <button aria-label=\"Copy to clipboard\" class=\"js-zeroclipboard btn btn-sm zeroclipboard-button tooltipped tooltipped-s\" data-copied-hint=\"Copied!\" type=\"button\"><svg aria-hidden=\"true\" class=\"octicon octicon-clippy\" height=\"16\" version=\"1.1\" viewBox=\"0 0 14 16\" width=\"14\"><path fill-rule=\"evenodd\" d=\"M2 13h4v1H2v-1zm5-6H2v1h5V7zm2 3V8l-3 3 3 3v-2h5v-2H9zM4.5 9H2v1h2.5V9zM2 12h2.5v-1H2v1zm9 1h1v2c-.02.28-.11.52-.3.7-.19.18-.42.28-.7.3H1c-.55 0-1-.45-1-1V4c0-.55.45-1 1-1h3c0-1.11.89-2 2-2 1.11 0 2 .89 2 2h3c.55 0 1 .45 1 1v5h-1V6H1v9h10v-2zM2 5h8c0-.55-.45-1-1-1H8c-.55 0-1-.45-1-1s-.45-1-1-1-1 .45-1 1-.45 1-1 1H3c-.55 0-1 .45-1 1z\"/></svg></button>\\n  </div>\\n</div>\\n\\n      </div>\\n\\n      <div class=\"mt-2\">\\n        \\n<a href=\"/namsoojang/Study_Play_with_data/archive/master.zip\"\\n   class=\"btn btn-outline get-repo-btn\\n\"\\n   rel=\"nofollow\"\\n   data-ga-click=\"Repository, download zip, location:repo overview\">\\n  Download ZIP\\n</a>\\n\\n      </div>\\n    </div>\\n  </div>\\n</details>\\n\\n\\n  <div class=\"BtnGroup float-right\">\\n\\n    <a href=\"/namsoojang/Study_Play_with_data/find/master\"\\n      class=\"btn btn-sm empty-icon float-right BtnGroup-item\"\\n      data-pjax\\n      data-hotkey=\"t\"\\n      data-ga-click=\"Repository, find file, location:repo overview\">\\n      Find file\\n    </a>\\n  </div>\\n\\n  \\n<div class=\"select-menu branch-select-menu js-menu-container js-select-menu float-left\">\\n  <button class=\" btn btn-sm select-menu-button js-menu-target css-truncate\" data-hotkey=\"w\"\\n    \\n    type=\"button\" aria-label=\"Switch branches or tags\" aria-expanded=\"false\" aria-haspopup=\"true\">\\n      <i>Branch:</i>\\n      <span class=\"js-select-button css-truncate-target\">master</span>\\n  </button>\\n\\n  <div class=\"select-menu-modal-holder js-menu-content js-navigation-container\" data-pjax>\\n\\n    <div class=\"select-menu-modal\">\\n      <div class=\"select-menu-header\">\\n        <svg aria-label=\"Close\" class=\"octicon octicon-x js-menu-close\" height=\"16\" role=\"img\" version=\"1.1\" viewBox=\"0 0 12 16\" width=\"12\"><path fill-rule=\"evenodd\" d=\"M7.48 8l3.75 3.75-1.48 1.48L6 9.48l-3.75 3.75-1.48-1.48L4.52 8 .77 4.25l1.48-1.48L6 6.52l3.75-3.75 1.48 1.48z\"/></svg>\\n        <span class=\"select-menu-title\">Switch branches/tags</span>\\n      </div>\\n\\n      <div class=\"select-menu-filters\">\\n        <div class=\"select-menu-text-filter\">\\n          <input type=\"text\" aria-label=\"Filter branches/tags\" id=\"context-commitish-filter-field\" class=\"form-control js-filterable-field js-navigation-enable\" placeholder=\"Filter branches/tags\">\\n        </div>\\n        <div class=\"select-menu-tabs\">\\n          <ul>\\n            <li class=\"select-menu-tab\">\\n              <a href=\"#\" data-tab-filter=\"branches\" data-filter-placeholder=\"Filter branches/tags\" class=\"js-select-menu-tab\" role=\"tab\">Branches</a>\\n            </li>\\n            <li class=\"select-menu-tab\">\\n              <a href=\"#\" data-tab-filter=\"tags\" data-filter-placeholder=\"Find a tag\\xe2\\x80\\xa6\" class=\"js-select-menu-tab\" role=\"tab\">Tags</a>\\n            </li>\\n          </ul>\\n        </div>\\n      </div>\\n\\n      <div class=\"select-menu-list select-menu-tab-bucket js-select-menu-tab-bucket\" data-tab-filter=\"branches\" role=\"menu\">\\n\\n        <div data-filterable-for=\"context-commitish-filter-field\" data-filterable-type=\"substring\">\\n\\n\\n            <a class=\"select-menu-item js-navigation-item js-navigation-open selected\"\\n               href=\"/namsoojang/Study_Play_with_data/tree/master\"\\n               data-name=\"master\"\\n               data-skip-pjax=\"true\"\\n               rel=\"nofollow\">\\n              <svg aria-hidden=\"true\" class=\"octicon octicon-check select-menu-item-icon\" height=\"16\" version=\"1.1\" viewBox=\"0 0 12 16\" width=\"12\"><path fill-rule=\"evenodd\" d=\"M12 5l-8 8-4-4 1.5-1.5L4 10l6.5-6.5z\"/></svg>\\n              <span class=\"select-menu-item-text css-truncate-target js-select-menu-filter-text\">\\n                master\\n              </span>\\n            </a>\\n        </div>\\n\\n          <div class=\"select-menu-no-results\">Nothing to show</div>\\n      </div>\\n\\n      <div class=\"select-menu-list select-menu-tab-bucket js-select-menu-tab-bucket\" data-tab-filter=\"tags\">\\n        <div data-filterable-for=\"context-commitish-filter-field\" data-filterable-type=\"substring\">\\n\\n\\n        </div>\\n\\n        <div class=\"select-menu-no-results\">Nothing to show</div>\\n      </div>\\n\\n    </div>\\n  </div>\\n</div>\\n\\n\\n        <button type=\"button\" class=\"btn btn-sm disabled tooltipped tooltipped-n new-pull-request-btn\" aria-label=\"You must be signed in to create a pull request\">\\n          New pull request\\n        </button>\\n\\n  <div class=\"breadcrumb\">\\n    \\n  </div>\\n</div>\\n\\n\\n  \\n\\n\\n  <div class=\"commit-tease js-details-container Details\">\\n    <span class=\"float-right\">\\n      Latest commit\\n      <a class=\"commit-tease-sha\" href=\"/namsoojang/Study_Play_with_data/commit/f59658933dcc11baa59a092ec0dfe179f0239d0a\" data-pjax>\\n        f596589\\n      </a>\\n      <span itemprop=\"dateModified\"><relative-time datetime=\"2017-10-26T14:18:06Z\">Oct 26, 2017</relative-time></span>\\n    </span>\\n\\n\\n      <span class=\"commit-author-section\">\\n          <a href=\"/namsoojang\" class=\"d-inline-block\">\\n            <img src=\"https://avatars0.githubusercontent.com/u/26623529?s=40&amp;v=4\" width=\"20\" height=\"20\" class=\"avatar avatar-small\" alt=\"@namsoojang\">\\n          </a>\\n        \\n  <a href=\"/namsoojang\" class=\"user-mention\">namsoojang</a>\\n\\n      </span>\\n\\n      <a href=\"/namsoojang/Study_Play_with_data/commit/f59658933dcc11baa59a092ec0dfe179f0239d0a\" class=\"message\" data-pjax=\"true\" title=\"Add files via upload\">Add files via upload</a>\\n\\n\\n  </div>\\n\\n\\n\\n<div class=\"file-wrap\">\\n\\n  <a href=\"/namsoojang/Study_Play_with_data/tree/f59658933dcc11baa59a092ec0dfe179f0239d0a\" class=\"d-none js-permalink-shortcut\" data-hotkey=\"y\">Permalink</a>\\n\\n  <table class=\"files js-navigation-container js-active-navigation-container\" data-pjax>\\n\\n\\n    <tbody>\\n      <tr class=\"warning include-fragment-error\">\\n        <td class=\"icon\"><svg aria-hidden=\"true\" class=\"octicon octicon-alert\" height=\"16\" version=\"1.1\" viewBox=\"0 0 16 16\" width=\"16\"><path fill-rule=\"evenodd\" d=\"M8.865 1.52c-.18-.31-.51-.5-.87-.5s-.69.19-.87.5L.275 13.5c-.18.31-.18.69 0 1 .19.31.52.5.87.5h13.7c.36 0 .69-.19.86-.5.17-.31.18-.69.01-1L8.865 1.52zM8.995 13h-2v-2h2v2zm0-3h-2V6h2v4z\"/></svg></td>\\n        <td class=\"content\" colspan=\"3\">Failed to load latest commit information.</td>\\n      </tr>\\n\\n        <tr class=\"js-navigation-item\">\\n          <td class=\"icon\">\\n            <svg aria-hidden=\"true\" class=\"octicon octicon-file-directory\" height=\"16\" version=\"1.1\" viewBox=\"0 0 14 16\" width=\"14\"><path fill-rule=\"evenodd\" d=\"M13 4H7V3c0-.66-.31-1-1-1H1c-.55 0-1 .45-1 1v10c0 .55.45 1 1 1h12c.55 0 1-.45 1-1V5c0-.55-.45-1-1-1zM6 4H1V3h5v1z\"/></svg>\\n            <img alt=\"\" class=\"spinner\" height=\"16\" src=\"https://assets-cdn.github.com/images/spinners/octocat-spinner-32.gif\" width=\"16\" />\\n          </td>\\n          <td class=\"content\">\\n            <span class=\"css-truncate css-truncate-target\"><a href=\"/namsoojang/Study_Play_with_data/tree/master/0.%20%EC%82%AC%EC%A0%84%EC%A4%80%EB%B9%84\" class=\"js-navigation-open\" id=\"e53dee64a67d462914932a4dac49d429-697eb0b1ce5712a44327f68e0a3780d34fac9159\" title=\"0. \\xec\\x82\\xac\\xec\\xa0\\x84\\xec\\xa4\\x80\\xeb\\xb9\\x84\">0. \\xec\\x82\\xac\\xec\\xa0\\x84\\xec\\xa4\\x80\\xeb\\xb9\\x84</a></span>\\n          </td>\\n          <td class=\"message\">\\n            <span class=\"css-truncate css-truncate-target\">\\n                  <a href=\"/namsoojang/Study_Play_with_data/commit/f59658933dcc11baa59a092ec0dfe179f0239d0a\" class=\"message\" data-pjax=\"true\" title=\"Add files via upload\">Add files via upload</a>\\n            </span>\\n          </td>\\n          <td class=\"age\">\\n            <span class=\"css-truncate css-truncate-target\"><time-ago datetime=\"2017-10-26T14:18:06Z\">Oct 26, 2017</time-ago></span>\\n          </td>\\n        </tr>\\n        <tr class=\"js-navigation-item\">\\n          <td class=\"icon\">\\n            <svg aria-hidden=\"true\" class=\"octicon octicon-file-directory\" height=\"16\" version=\"1.1\" viewBox=\"0 0 14 16\" width=\"14\"><path fill-rule=\"evenodd\" d=\"M13 4H7V3c0-.66-.31-1-1-1H1c-.55 0-1 .45-1 1v10c0 .55.45 1 1 1h12c.55 0 1-.45 1-1V5c0-.55-.45-1-1-1zM6 4H1V3h5v1z\"/></svg>\\n            <img alt=\"\" class=\"spinner\" height=\"16\" src=\"https://assets-cdn.github.com/images/spinners/octocat-spinner-32.gif\" width=\"16\" />\\n          </td>\\n          <td class=\"content\">\\n            <span class=\"css-truncate css-truncate-target\"><a href=\"/namsoojang/Study_Play_with_data/tree/master/1.%20%ED%81%AC%EB%A1%A4%EB%A7%81%EA%B3%BC%20%EC%8A%A4%ED%81%AC%EB%9E%98%ED%95%91\" class=\"js-navigation-open\" id=\"b5ec432348d4dd27e2e482c54a49f21b-6311e639ceddcc471ffebfa8cd3117b40d07295d\" title=\"1. \\xed\\x81\\xac\\xeb\\xa1\\xa4\\xeb\\xa7\\x81\\xea\\xb3\\xbc \\xec\\x8a\\xa4\\xed\\x81\\xac\\xeb\\x9e\\x98\\xed\\x95\\x91\">1. \\xed\\x81\\xac\\xeb\\xa1\\xa4\\xeb\\xa7\\x81\\xea\\xb3\\xbc \\xec\\x8a\\xa4\\xed\\x81\\xac\\xeb\\x9e\\x98\\xed\\x95\\x91</a></span>\\n          </td>\\n          <td class=\"message\">\\n            <span class=\"css-truncate css-truncate-target\">\\n                  <a href=\"/namsoojang/Study_Play_with_data/commit/577367bd884e6cb4d2f601d1bc99ea8e8d46d17b\" class=\"message\" data-pjax=\"true\" title=\"Add files via upload\">Add files via upload</a>\\n            </span>\\n          </td>\\n          <td class=\"age\">\\n            <span class=\"css-truncate css-truncate-target\"><time-ago datetime=\"2017-10-26T14:16:15Z\">Oct 26, 2017</time-ago></span>\\n          </td>\\n        </tr>\\n        <tr class=\"js-navigation-item\">\\n          <td class=\"icon\">\\n            <svg aria-hidden=\"true\" class=\"octicon octicon-file-text\" height=\"16\" version=\"1.1\" viewBox=\"0 0 12 16\" width=\"12\"><path d=\"M6 5H2V4h4v1zM2 8h7V7H2v1zm0 2h7V9H2v1zm0 2h7v-1H2v1zm10-7.5V14c0 .55-.45 1-1 1H1c-.55 0-1-.45-1-1V2c0-.55.45-1 1-1h7.5L12 4.5zM11 5L8 2H1v12h10V5z\"/></svg>\\n            <img alt=\"\" class=\"spinner\" height=\"16\" src=\"https://assets-cdn.github.com/images/spinners/octocat-spinner-32.gif\" width=\"16\" />\\n          </td>\\n          <td class=\"content\">\\n            <span class=\"css-truncate css-truncate-target\"><a href=\"/namsoojang/Study_Play_with_data/blob/master/README.md\" class=\"js-navigation-open\" id=\"04c6e90faac2675aa89e2176d2eec7d8-705ff4ad5dc3fccb4b4c81cba9820117f1ed1b01\" title=\"README.md\">README.md</a></span>\\n          </td>\\n          <td class=\"message\">\\n            <span class=\"css-truncate css-truncate-target\">\\n                  <a href=\"/namsoojang/Study_Play_with_data/commit/453e48e5b411d019ef2c281a44a7cca5bfc366d0\" class=\"message\" data-pjax=\"true\" title=\"Update README.md\">Update README.md</a>\\n            </span>\\n          </td>\\n          <td class=\"age\">\\n            <span class=\"css-truncate css-truncate-target\"><time-ago datetime=\"2017-10-20T12:47:48Z\">Oct 20, 2017</time-ago></span>\\n          </td>\\n        </tr>\\n    </tbody>\\n  </table>\\n\\n</div>\\n\\n\\n\\n  <div id=\"readme\" class=\"readme boxed-group clearfix announce instapaper_body md\">\\n    <h3>\\n      <svg aria-hidden=\"true\" class=\"octicon octicon-book\" height=\"16\" version=\"1.1\" viewBox=\"0 0 16 16\" width=\"16\"><path fill-rule=\"evenodd\" d=\"M3 5h4v1H3V5zm0 3h4V7H3v1zm0 2h4V9H3v1zm11-5h-4v1h4V5zm0 2h-4v1h4V7zm0 2h-4v1h4V9zm2-6v9c0 .55-.45 1-1 1H9.5l-1 1-1-1H2c-.55 0-1-.45-1-1V3c0-.55.45-1 1-1h5.5l1 1 1-1H15c.55 0 1 .45 1 1zm-8 .5L7.5 3H2v9h6V3.5zm7-.5H9.5l-.5.5V12h6V3z\"/></svg>\\n      README.md\\n    </h3>\\n\\n      <article class=\"markdown-body entry-content\" itemprop=\"text\"><h1><a href=\"#study_play_with_data\" aria-hidden=\"true\" class=\"anchor\" id=\"user-content-study_play_with_data\"><svg aria-hidden=\"true\" class=\"octicon octicon-link\" height=\"16\" version=\"1.1\" viewBox=\"0 0 16 16\" width=\"16\"><path fill-rule=\"evenodd\" d=\"M4 9h1v1H4c-1.5 0-3-1.69-3-3.5S2.55 3 4 3h4c1.45 0 3 1.69 3 3.5 0 1.41-.91 2.72-2 3.25V8.59c.58-.45 1-1.27 1-2.09C10 5.22 8.98 4 8 4H4c-.98 0-2 1.22-2 2.5S3 9 4 9zm9-3h-1v1h1c1 0 2 1.22 2 2.5S13.98 12 13 12H9c-.98 0-2-1.22-2-2.5 0-.83.42-1.64 1-2.09V6.25c-1.09.53-2 1.84-2 3.25C6 11.31 7.55 13 9 13h4c1.45 0 3-1.69 3-3.5S14.5 6 13 6z\"></path></svg></a>Study_Play_with_data</h1>\\n<h2><a href=\"#1-\\xec\\x8a\\xa4\\xed\\x84\\xb0\\xeb\\x94\\x94-\\xea\\xb0\\x9c\\xec\\x9a\\x94\" aria-hidden=\"true\" class=\"anchor\" id=\"user-content-1-\\xec\\x8a\\xa4\\xed\\x84\\xb0\\xeb\\x94\\x94-\\xea\\xb0\\x9c\\xec\\x9a\\x94\"><svg aria-hidden=\"true\" class=\"octicon octicon-link\" height=\"16\" version=\"1.1\" viewBox=\"0 0 16 16\" width=\"16\"><path fill-rule=\"evenodd\" d=\"M4 9h1v1H4c-1.5 0-3-1.69-3-3.5S2.55 3 4 3h4c1.45 0 3 1.69 3 3.5 0 1.41-.91 2.72-2 3.25V8.59c.58-.45 1-1.27 1-2.09C10 5.22 8.98 4 8 4H4c-.98 0-2 1.22-2 2.5S3 9 4 9zm9-3h-1v1h1c1 0 2 1.22 2 2.5S13.98 12 13 12H9c-.98 0-2-1.22-2-2.5 0-.83.42-1.64 1-2.09V6.25c-1.09.53-2 1.84-2 3.25C6 11.31 7.55 13 9 13h4c1.45 0 3-1.69 3-3.5S14.5 6 13 6z\"></path></svg></a>1. \\xec\\x8a\\xa4\\xed\\x84\\xb0\\xeb\\x94\\x94 \\xea\\xb0\\x9c\\xec\\x9a\\x94</h2>\\n<ul>\\n<li>\\xec\\x9d\\xbc\\xec\\x8b\\x9c: \\xeb\\xa7\\xa4\\xec\\xa3\\xbc 1\\xed\\x9a\\x8c(\\xed\\x99\\x94\\xec\\x9a\\x94\\xec\\x9d\\xbc or \\xeb\\xaa\\xa9\\xec\\x9a\\x94\\xec\\x9d\\xbc) \\xec\\xa0\\x80\\xeb\\x85\\x81 7\\xec\\x8b\\x9c\\xeb\\xb0\\x98 ~ 9\\xec\\x8b\\x9c.</li>\\n<li>\\xec\\x9e\\xa5\\xec\\x86\\x8c: \\xec\\xa2\\x85\\xeb\\xa1\\x9c \\xec\\x9c\\xa0\\xec\\xbe\\x8c\\xed\\x95\\x9c \\xeb\\xb0\\x9c\\xec\\x83\\x81(\\xeb\\xb0\\x94\\xeb\\x8b\\xa4\\xed\\x9a\\x8c\\xec\\xa7\\x91 \\xea\\xb1\\xb4\\xeb\\xac\\xbc 5\\xec\\xb8\\xb5)\\n<a href=\"http://naver.me/IM3LtZxR\">\\xeb\\x84\\xa4\\xec\\x9d\\xb4\\xeb\\xb2\\x84\\xec\\xa7\\x80\\xeb\\x8f\\x84</a></li>\\n<li>\\xea\\xb8\\xb0\\xea\\xb0\\x84: 11/2(\\xeb\\xaa\\xa9) \\xeb\\xb6\\x80\\xed\\x84\\xb0 12/28 \\xea\\xb9\\x8c\\xec\\xa7\\x80 9\\xec\\xa3\\xbc\\xea\\xb0\\x84 1\\xec\\xb0\\xa8 \\xec\\xa7\\x84\\xed\\x96\\x89 \\xed\\x9b\\x84, \\xec\\xb6\\x94\\xed\\x9b\\x84 \\xec\\x9d\\xbc\\xec\\xa0\\x95/\\xec\\xa7\\x84\\xeb\\x8f\\x84 \\xec\\x9e\\xac\\xec\\xa1\\xb0\\xec\\xa0\\x95</li>\\n<li>\\xea\\xb5\\x90\\xec\\x9e\\xac: \\xed\\x8c\\x8c\\xec\\x9d\\xb4\\xec\\x8d\\xac\\xec\\x9d\\x84 \\xed\\x99\\x9c\\xec\\x9a\\xa9\\xed\\x95\\x9c \\xeb\\xa8\\xb8\\xec\\x8b\\xa0\\xeb\\x9f\\xac\\xeb\\x8b\\x9d, \\xeb\\x94\\xa5\\xeb\\x9f\\xac\\xeb\\x8b\\x9d \\xec\\x8b\\xa4\\xec\\xa0\\x84\\xea\\xb0\\x9c\\xeb\\xb0\\x9c \\xec\\x9e\\x85\\xeb\\xac\\xb8</li>\\n<li><a href=\"http://wikibook.co.kr/python-machine-learning/trackback\"> \\xea\\xb5\\x90\\xec\\x9e\\xacLink</a></li>\\n<li><a href=\"https://tinyurl.com/mqh4g73\">Youtube \\xea\\xb0\\x95\\xec\\x9d\\x98</a></li>\\n<li>\\xec\\x8a\\xa4\\xed\\x84\\xb0\\xeb\\x94\\x94\\xec\\x9d\\xb8\\xec\\x9b\\x90: 10\\xeb\\xaa\\x85</li>\\n<li>\\xeb\\xb9\\x84\\xec\\x9a\\xa9: \\xec\\x9d\\xb8\\xeb\\x8b\\xb9 26\\xec\\xb2\\x9c\\xec\\x9b\\x90 \\xec\\x98\\x88\\xec\\x83\\x81(9\\xec\\xa3\\xbc \\xed\\x95\\xa9\\xea\\xb3\\x84). \\xec\\x8a\\xa4\\xed\\x84\\xb0\\xeb\\x94\\x94 \\xec\\x8b\\x9c\\xec\\x9e\\x91\\xec\\x8b\\x9c \\xea\\xb3\\x84\\xec\\xa2\\x8c\\xec\\x9d\\xb4\\xec\\xb2\\xb4\\n(\\xec\\x9b\\x94\\xed\\x95\\xa0\\xed\\x95\\x9c \\xec\\x8a\\xa4\\xed\\x84\\xb0\\xeb\\x94\\x94 \\xec\\xa7\\x84\\xed\\x96\\x89\\xec\\x9d\\x84 \\xec\\x9c\\x84\\xed\\x95\\xb4 2\\xea\\xb0\\x9c\\xec\\x9b\\x94\\xec\\xb9\\x98 \\xec\\x8a\\xa4\\xed\\x84\\xb0\\xeb\\x94\\x94\\xeb\\xa3\\xb8 \\xec\\x98\\x88\\xec\\x95\\xbd \\xec\\x98\\x88\\xec\\xa0\\x95\\xec\\x9e\\x85\\xeb\\x8b\\x88\\xeb\\x8b\\xa4. \\xea\\xb2\\xb0\\xec\\x84\\x9d \\xeb\\xb0\\x8f \\xec\\x9d\\xb4\\xed\\x9b\\x84 \\xec\\xb0\\xb8\\xec\\x84\\x9d\\xec\\x9d\\xb4 \\xec\\x96\\xb4\\xeb\\xa0\\xa4\\xec\\x9a\\xb8 \\xea\\xb2\\xbd\\xec\\x9a\\xb0\\xec\\x97\\x90 \\xec\\x8a\\xa4\\xed\\x84\\xb0\\xeb\\x94\\x94\\xeb\\xa3\\xb8 \\xec\\x98\\x88\\xec\\x95\\xbd \\xeb\\xb3\\x80\\xea\\xb2\\xbd\\xec\\x9d\\xb4 \\xec\\x97\\xac\\xec\\x9d\\x98\\xec\\xb9\\x98 \\xec\\x95\\x8a\\xec\\x9d\\x84 \\xea\\xb2\\xbd\\xec\\x9a\\xb0 \\xed\\x99\\x98\\xeb\\xb6\\x88\\xec\\x9d\\xb4 \\xec\\x96\\xb4\\xeb\\xa0\\xa4\\xec\\x9a\\xb8 \\xec\\x88\\x98 \\xec\\x9e\\x88\\xec\\x8a\\xb5\\xeb\\x8b\\x88\\xeb\\x8b\\xa4. \\xec\\x96\\x91\\xed\\x95\\xb4\\xeb\\xb0\\x94\\xeb\\x9e\\x8d\\xeb\\x8b\\x88\\xeb\\x8b\\xa4)</li>\\n</ul>\\n<h2><a href=\"#2-\\xec\\x8a\\xa4\\xed\\x84\\xb0\\xeb\\x94\\x94-\\xec\\x9a\\xb4\\xec\\x98\\x81\" aria-hidden=\"true\" class=\"anchor\" id=\"user-content-2-\\xec\\x8a\\xa4\\xed\\x84\\xb0\\xeb\\x94\\x94-\\xec\\x9a\\xb4\\xec\\x98\\x81\"><svg aria-hidden=\"true\" class=\"octicon octicon-link\" height=\"16\" version=\"1.1\" viewBox=\"0 0 16 16\" width=\"16\"><path fill-rule=\"evenodd\" d=\"M4 9h1v1H4c-1.5 0-3-1.69-3-3.5S2.55 3 4 3h4c1.45 0 3 1.69 3 3.5 0 1.41-.91 2.72-2 3.25V8.59c.58-.45 1-1.27 1-2.09C10 5.22 8.98 4 8 4H4c-.98 0-2 1.22-2 2.5S3 9 4 9zm9-3h-1v1h1c1 0 2 1.22 2 2.5S13.98 12 13 12H9c-.98 0-2-1.22-2-2.5 0-.83.42-1.64 1-2.09V6.25c-1.09.53-2 1.84-2 3.25C6 11.31 7.55 13 9 13h4c1.45 0 3-1.69 3-3.5S14.5 6 13 6z\"></path></svg></a>2. \\xec\\x8a\\xa4\\xed\\x84\\xb0\\xeb\\x94\\x94 \\xec\\x9a\\xb4\\xec\\x98\\x81</h2>\\n<ul>\\n<li>\\xeb\\xb0\\x9c\\xed\\x91\\x9c\\xec\\x9e\\x90\\xea\\xb0\\x80 \\xec\\xa4\\x80\\xeb\\xb9\\x84\\xed\\x95\\x9c \\xeb\\x82\\xb4\\xec\\x9a\\xa9\\xec\\x97\\x90 \\xeb\\x8c\\x80\\xed\\x95\\xb4 \\xea\\xb3\\xb5\\xec\\x9c\\xa0\\xed\\x95\\x98\\xea\\xb3\\xa0, \\xed\\x86\\xa0\\xeb\\xa1\\xa0\\xed\\x95\\x98\\xeb\\x8a\\x94 \\xea\\xb2\\x83\\xec\\x9d\\x84 \\xea\\xb8\\xb0\\xec\\xa4\\x80\\xec\\x9c\\xbc\\xeb\\xa1\\x9c \\xed\\x95\\xa8</li>\\n<li>1\\xec\\x9d\\xbc 1\\xec\\x8b\\x9c\\xea\\xb0\\x84\\xec\\x94\\xa9 2\\xeb\\xaa\\x85 \\xea\\xb8\\xb0\\xec\\xa4\\x80</li>\\n<li>\\xeb\\xb0\\x9c\\xed\\x91\\x9c\\xec\\x9e\\x90 \\xec\\x84\\xa0\\xec\\xa0\\x95 \\xeb\\xb0\\x8f \\xeb\\x8b\\xb4\\xeb\\x8b\\xb9 \\xec\\xb1\\x95\\xed\\x84\\xb0 \\xea\\xb5\\xac\\xeb\\xb6\\x84\\xec\\x9d\\x80 \\xec\\xb2\\xab\\xec\\x8b\\x9c\\xea\\xb0\\x84 \\xec\\xa0\\x95\\xeb\\xa6\\xac + \\xec\\x9d\\xb4\\xed\\x9b\\x84 \\xeb\\xb3\\x80\\xea\\xb2\\xbd\\xec\\x82\\xac\\xed\\x95\\xad \\xeb\\xb0\\x98\\xec\\x98\\x81</li>\\n<li>\\xeb\\xb6\\x88\\xec\\xb0\\xb8\\xeb\\xb2\\x8c\\xea\\xb8\\x88 or \\xec\\xb0\\xb8\\xec\\x84\\x9d\\xec\\x8b\\x9cpayback \\xea\\xb3\\xa0\\xeb\\xa0\\xa4: \\xeb\\x8f\\x99\\xea\\xb8\\xb0\\xeb\\xb6\\x80\\xec\\x97\\xac</li>\\n</ul>\\n<h3><a href=\"#2-1-\\xeb\\xb0\\x9c\\xed\\x91\\x9c\\xec\\x9e\\x90\\xeb\\xa3\\x8c-\\xec\\x98\\xac\\xeb\\xa6\\xac\\xeb\\x8a\\x94-\\xeb\\xb2\\x95\" aria-hidden=\"true\" class=\"anchor\" id=\"user-content-2-1-\\xeb\\xb0\\x9c\\xed\\x91\\x9c\\xec\\x9e\\x90\\xeb\\xa3\\x8c-\\xec\\x98\\xac\\xeb\\xa6\\xac\\xeb\\x8a\\x94-\\xeb\\xb2\\x95\"><svg aria-hidden=\"true\" class=\"octicon octicon-link\" height=\"16\" version=\"1.1\" viewBox=\"0 0 16 16\" width=\"16\"><path fill-rule=\"evenodd\" d=\"M4 9h1v1H4c-1.5 0-3-1.69-3-3.5S2.55 3 4 3h4c1.45 0 3 1.69 3 3.5 0 1.41-.91 2.72-2 3.25V8.59c.58-.45 1-1.27 1-2.09C10 5.22 8.98 4 8 4H4c-.98 0-2 1.22-2 2.5S3 9 4 9zm9-3h-1v1h1c1 0 2 1.22 2 2.5S13.98 12 13 12H9c-.98 0-2-1.22-2-2.5 0-.83.42-1.64 1-2.09V6.25c-1.09.53-2 1.84-2 3.25C6 11.31 7.55 13 9 13h4c1.45 0 3-1.69 3-3.5S14.5 6 13 6z\"></path></svg></a>2-1 \\xeb\\xb0\\x9c\\xed\\x91\\x9c\\xec\\x9e\\x90\\xeb\\xa3\\x8c \\xec\\x98\\xac\\xeb\\xa6\\xac\\xeb\\x8a\\x94 \\xeb\\xb2\\x95</h3>\\n<pre><code>- \\xeb\\xb0\\x9c\\xed\\x91\\x9c \\xec\\x9e\\x90\\xeb\\xa3\\x8c \\xed\\x8c\\x8c\\xec\\x9d\\xbc\\xeb\\xaa\\x85 \\xec\\x98\\x88\\xec\\x8b\\x9c: ch2(1-3)-Scrapping.ipynb\\n- \\xec\\x9c\\x84 \\xec\\x98\\x88\\xec\\x8b\\x9c\\xec\\x9d\\x98 \\xea\\xb4\\x84\\xed\\x98\\xb8 \\xec\\x95\\x88\\xec\\x97\\x90\\xeb\\x8a\\x94 \\xea\\xb5\\x90\\xec\\x9e\\xac\\xec\\x9d\\x98 \\xec\\xa0\\x88 \\xed\\x91\\x9c\\xec\\x8b\\x9c, \\xec\\x9e\\xa5 \\xec\\xa0\\x84\\xec\\xb2\\xb4\\xec\\x97\\x90 \\xeb\\x8c\\x80\\xed\\x95\\x9c \\xec\\x9e\\x90\\xeb\\xa3\\x8c\\xeb\\x9d\\xbc\\xeb\\xa9\\xb4 \\xea\\xb4\\x84\\xed\\x98\\xb8 \\xec\\x83\\x9d\\xeb\\x9e\\xb5.\\n- \\xeb\\xb0\\x9c\\xed\\x91\\x9c\\xec\\x9e\\x90\\xeb\\xa3\\x8c\\xeb\\x8a\\x94 .ipynb .html \\xeb\\x93\\xb1 github\\xec\\x97\\x90\\xec\\x84\\x9c \\xeb\\xaf\\xb8\\xeb\\xa6\\xac\\xeb\\xb3\\xb4\\xea\\xb8\\xb0\\xea\\xb0\\x80 \\xea\\xb0\\x80\\xeb\\x8a\\xa5\\xed\\x95\\x9c \\xed\\x98\\x95\\xed\\x83\\x9c\\xeb\\xa1\\x9c \\xec\\x98\\xac\\xeb\\xa0\\xa4\\xec\\xa3\\xbc\\xec\\x84\\xb8\\xec\\x9a\\x94.\\n- \\xeb\\xb0\\x9c\\xed\\x91\\x9c\\xec\\x9e\\x90\\xeb\\xa3\\x8c\\xeb\\xa5\\xbc \\xec\\x98\\xac\\xeb\\xa6\\xac\\xeb\\x8a\\x94\\xeb\\x8d\\xb0 \\xec\\x96\\xb4\\xeb\\xa0\\xa4\\xec\\x9b\\x80\\xec\\x9d\\x84 \\xea\\xb2\\xaa\\xea\\xb3\\xa0 \\xea\\xb3\\x84\\xec\\x8b\\x9c\\xeb\\x8b\\xa4\\xeb\\xa9\\xb4 \\xec\\xb9\\xb4\\xed\\x86\\xa1\\xeb\\xb0\\xa9\\xec\\x97\\x90 \\xec\\x97\\xb0\\xeb\\x9d\\xbd \\xeb\\xb0\\x94\\xeb\\x9e\\x8d\\xeb\\x8b\\x88\\xeb\\x8b\\xa4 :)\\n</code></pre>\\n</article>\\n  </div>\\n\\n\\n  </div>\\n  <div class=\"modal-backdrop js-touch-events\"></div>\\n</div>\\n\\n    </div>\\n  </div>\\n\\n  </div>\\n\\n      \\n<div class=\"footer container-lg px-3\" role=\"contentinfo\">\\n  <div class=\"position-relative d-flex flex-justify-between py-6 mt-6 f6 text-gray border-top border-gray-light \">\\n    <ul class=\"list-style-none d-flex flex-wrap \">\\n      <li class=\"mr-3\">&copy; 2017 <span title=\"0.14591s from unicorn-4007943995-3qm1p\">GitHub</span>, Inc.</li>\\n        <li class=\"mr-3\"><a href=\"https://github.com/site/terms\" data-ga-click=\"Footer, go to terms, text:terms\">Terms</a></li>\\n        <li class=\"mr-3\"><a href=\"https://github.com/site/privacy\" data-ga-click=\"Footer, go to privacy, text:privacy\">Privacy</a></li>\\n        <li class=\"mr-3\"><a href=\"https://github.com/security\" data-ga-click=\"Footer, go to security, text:security\">Security</a></li>\\n        <li class=\"mr-3\"><a href=\"https://status.github.com/\" data-ga-click=\"Footer, go to status, text:status\">Status</a></li>\\n        <li><a href=\"https://help.github.com\" data-ga-click=\"Footer, go to help, text:help\">Help</a></li>\\n    </ul>\\n\\n    <a href=\"https://github.com\" aria-label=\"Homepage\" class=\"footer-octicon\" title=\"GitHub\">\\n      <svg aria-hidden=\"true\" class=\"octicon octicon-mark-github\" height=\"24\" version=\"1.1\" viewBox=\"0 0 16 16\" width=\"24\"><path fill-rule=\"evenodd\" d=\"M8 0C3.58 0 0 3.58 0 8c0 3.54 2.29 6.53 5.47 7.59.4.07.55-.17.55-.38 0-.19-.01-.82-.01-1.49-2.01.37-2.53-.49-2.69-.94-.09-.23-.48-.94-.82-1.13-.28-.15-.68-.52-.01-.53.63-.01 1.08.58 1.23.82.72 1.21 1.87.87 2.33.66.07-.52.28-.87.51-1.07-1.78-.2-3.64-.89-3.64-3.95 0-.87.31-1.59.82-2.15-.08-.2-.36-1.02.08-2.12 0 0 .67-.21 2.2.82.64-.18 1.32-.27 2-.27.68 0 1.36.09 2 .27 1.53-1.04 2.2-.82 2.2-.82.44 1.1.16 1.92.08 2.12.51.56.82 1.27.82 2.15 0 3.07-1.87 3.75-3.65 3.95.29.25.54.73.54 1.48 0 1.07-.01 1.93-.01 2.2 0 .21.15.46.55.38A8.013 8.013 0 0 0 16 8c0-4.42-3.58-8-8-8z\"/></svg>\\n</a>\\n    <ul class=\"list-style-none d-flex flex-wrap \">\\n        <li class=\"mr-3\"><a href=\"https://github.com/contact\" data-ga-click=\"Footer, go to contact, text:contact\">Contact GitHub</a></li>\\n      <li class=\"mr-3\"><a href=\"https://developer.github.com\" data-ga-click=\"Footer, go to api, text:api\">API</a></li>\\n      <li class=\"mr-3\"><a href=\"https://training.github.com\" data-ga-click=\"Footer, go to training, text:training\">Training</a></li>\\n      <li class=\"mr-3\"><a href=\"https://shop.github.com\" data-ga-click=\"Footer, go to shop, text:shop\">Shop</a></li>\\n        <li class=\"mr-3\"><a href=\"https://github.com/blog\" data-ga-click=\"Footer, go to blog, text:blog\">Blog</a></li>\\n        <li><a href=\"https://github.com/about\" data-ga-click=\"Footer, go to about, text:about\">About</a></li>\\n\\n    </ul>\\n  </div>\\n</div>\\n\\n\\n\\n  <div id=\"ajax-error-message\" class=\"ajax-error-message flash flash-error\">\\n    <svg aria-hidden=\"true\" class=\"octicon octicon-alert\" height=\"16\" version=\"1.1\" viewBox=\"0 0 16 16\" width=\"16\"><path fill-rule=\"evenodd\" d=\"M8.865 1.52c-.18-.31-.51-.5-.87-.5s-.69.19-.87.5L.275 13.5c-.18.31-.18.69 0 1 .19.31.52.5.87.5h13.7c.36 0 .69-.19.86-.5.17-.31.18-.69.01-1L8.865 1.52zM8.995 13h-2v-2h2v2zm0-3h-2V6h2v4z\"/></svg>\\n    <button type=\"button\" class=\"flash-close js-ajax-error-dismiss\" aria-label=\"Dismiss error\">\\n      <svg aria-hidden=\"true\" class=\"octicon octicon-x\" height=\"16\" version=\"1.1\" viewBox=\"0 0 12 16\" width=\"12\"><path fill-rule=\"evenodd\" d=\"M7.48 8l3.75 3.75-1.48 1.48L6 9.48l-3.75 3.75-1.48-1.48L4.52 8 .77 4.25l1.48-1.48L6 6.52l3.75-3.75 1.48 1.48z\"/></svg>\\n    </button>\\n    You can\\'t perform that action at this time.\\n  </div>\\n\\n\\n    <script crossorigin=\"anonymous\" src=\"https://assets-cdn.github.com/assets/compat-91f98c37fc84eac24836eec2567e9912742094369a04c4eba6e3cd1fa18902d9.js\"></script>\\n    <script crossorigin=\"anonymous\" src=\"https://assets-cdn.github.com/assets/frameworks-2c7ebd50a82ff30d2d8aa46dcc8b3fa389884c97ba59a7a1b819e7f8d1d0c631.js\"></script>\\n    \\n    <script async=\"async\" crossorigin=\"anonymous\" src=\"https://assets-cdn.github.com/assets/github-11c2fbffd4fb48ec64699f2c248e50f51e1cea1a98105f6c0e685b1f54f1528b.js\"></script>\\n    \\n    \\n    \\n    \\n  <div class=\"js-stale-session-flash stale-session-flash flash flash-warn flash-banner d-none\">\\n    <svg aria-hidden=\"true\" class=\"octicon octicon-alert\" height=\"16\" version=\"1.1\" viewBox=\"0 0 16 16\" width=\"16\"><path fill-rule=\"evenodd\" d=\"M8.865 1.52c-.18-.31-.51-.5-.87-.5s-.69.19-.87.5L.275 13.5c-.18.31-.18.69 0 1 .19.31.52.5.87.5h13.7c.36 0 .69-.19.86-.5.17-.31.18-.69.01-1L8.865 1.52zM8.995 13h-2v-2h2v2zm0-3h-2V6h2v4z\"/></svg>\\n    <span class=\"signed-in-tab-flash\">You signed in with another tab or window. <a href=\"\">Reload</a> to refresh your session.</span>\\n    <span class=\"signed-out-tab-flash\">You signed out in another tab or window. <a href=\"\">Reload</a> to refresh your session.</span>\\n  </div>\\n  <div class=\"facebox\" id=\"facebox\" style=\"display:none;\">\\n  <div class=\"facebox-popup\">\\n    <div class=\"facebox-content\" role=\"dialog\" aria-labelledby=\"facebox-header\" aria-describedby=\"facebox-description\">\\n    </div>\\n    <button type=\"button\" class=\"facebox-close js-facebox-close\" aria-label=\"Close modal\">\\n      <svg aria-hidden=\"true\" class=\"octicon octicon-x\" height=\"16\" version=\"1.1\" viewBox=\"0 0 12 16\" width=\"12\"><path fill-rule=\"evenodd\" d=\"M7.48 8l3.75 3.75-1.48 1.48L6 9.48l-3.75 3.75-1.48-1.48L4.52 8 .77 4.25l1.48-1.48L6 6.52l3.75-3.75 1.48 1.48z\"/></svg>\\n    </button>\\n  </div>\\n</div>\\n\\n\\n  </body>\\n</html>\\n\\n'\n"
     ]
    }
   ],
   "source": [
    "import requests\n",
    "from bs4 import BeautifulSoup\n",
    "\n",
    "url = 'https://github.com/namsoojang/Study_Play_with_data'\n",
    "\n",
    "#url 페이지 내용 가져오기    .text\n",
    "html = requests.get(url).text              \n",
    "# content = requests.get(url).content     # 바이너리(이미지) 형태일 경우에는 .content로\n",
    "\n",
    "# html으로 작업하기 편하도록 BeautifulSoup\n",
    "soup = BeautifulSoup(html, 'lxml')\n",
    "print(soup)\n"
   ]
  },
  {
   "cell_type": "markdown",
   "metadata": {},
   "source": [
    "<크롤링 진행>\n",
    " 1. 자료 위치(url 주소)\n",
    " 1. url주소 접근 --> requests, urllib\n",
    " 1. url 페이지내용 가져오기\n",
    " 1. html 을 읽기 쉽게 --> BeautifulSoup\n",
    " 1. ***내가 원하는 데이터 접근 --> find, select***\n",
    " 1. 저장or작업"
   ]
  },
  {
   "cell_type": "markdown",
   "metadata": {},
   "source": [
    "## 5 내가 원하는 데이터 가져오기\n",
    "\n",
    "    1. find  활용\n",
    "    2. select 활용\n"
   ]
  },
  {
   "cell_type": "code",
   "execution_count": 13,
   "metadata": {
    "collapsed": false
   },
   "outputs": [
    {
     "name": "stdout",
     "output_type": "stream",
     "text": [
      "<span class=\"css-truncate css-truncate-target\"><a class=\"js-navigation-open\" href=\"/namsoojang/Study_Play_with_data/tree/master/0.%20%EC%82%AC%EC%A0%84%EC%A4%80%EB%B9%84\" id=\"e53dee64a67d462914932a4dac49d429-697eb0b1ce5712a44327f68e0a3780d34fac9159\" title=\"0. 사전준비\">0. 사전준비</a></span>\n",
      "//////////\n",
      "0. 사전준비\n",
      "\n",
      "<span class=\"css-truncate css-truncate-target\"><a class=\"js-navigation-open\" href=\"/namsoojang/Study_Play_with_data/tree/master/1.%20%ED%81%AC%EB%A1%A4%EB%A7%81%EA%B3%BC%20%EC%8A%A4%ED%81%AC%EB%9E%98%ED%95%91\" id=\"b5ec432348d4dd27e2e482c54a49f21b-6311e639ceddcc471ffebfa8cd3117b40d07295d\" title=\"1. 크롤링과 스크래핑\">1. 크롤링과 스크래핑</a></span>\n",
      "//////////\n",
      "1. 크롤링과 스크래핑\n",
      "\n",
      "<span class=\"css-truncate css-truncate-target\"><a class=\"js-navigation-open\" href=\"/namsoojang/Study_Play_with_data/blob/master/README.md\" id=\"04c6e90faac2675aa89e2176d2eec7d8-705ff4ad5dc3fccb4b4c81cba9820117f1ed1b01\" title=\"README.md\">README.md</a></span>\n",
      "//////////\n",
      "README.md\n",
      "\n"
     ]
    }
   ],
   "source": [
    "# select 활용해서 내가 원하는 데이터 가져오기\n",
    "\n",
    "#CSS selector 조회\n",
    "#js-repo-pjax-container > div.container.new-discussion-timeline.experiment-repo-nav > div.repository-content > div.file-wrap > table > tbody > tr:nth-child(2) > td.content > span\n",
    "\n",
    "titles = soup.select('tbody > tr > td.content > span')\n",
    "for title in titles:\n",
    "    print(title, end='\\n')           #태그까지 모두다\n",
    "    print('/'*10)\n",
    "    print(title.text,end='\\n\\n')     #태그 외의 글자만\n"
   ]
  },
  {
   "cell_type": "markdown",
   "metadata": {},
   "source": [
    "### find Vs select\n",
    "##### yes24 베스트셀러 순위 크롤링\n",
    "\n"
   ]
  },
  {
   "cell_type": "code",
   "execution_count": 23,
   "metadata": {
    "collapsed": false
   },
   "outputs": [
    {
     "name": "stdout",
     "output_type": "stream",
     "text": [
      "이기주 저 | 말글터\n",
      "조남주 저 | 민음사\n",
      "가즈오 이시구로 저 | 민음사\n",
      "캐스 R. 선스타인,리처드 H. 탈러(리처드 세일러) 저/최정규 해제/안진환 역 | 리더스북\n",
      "이기주 저 | 황소북스\n",
      "[어쩌다 어른] 제작팀 저 | 교보문고\n",
      "김난도,이준영,이향은,전미영,김서영,최지혜,서유현,이수진 저 | 미래의창\n",
      "강성태 저 | 다산4.0\n",
      "이유남 저 | 덴스토리(DENSTORY)\n",
      "스미노 요루 저/양윤옥 역 | 소미미디어\n",
      "윤홍균 저 | 심플라이프\n",
      "김수현 저 | 마음의숲\n",
      "김영하 저 | 문학동네\n",
      "KBS 명견만리 제작팀 저 | 인플루엔셜\n",
      "도대체 글그림 | 예담\n",
      "문성현 저 | 넥서스\n",
      "유홍준 저 | 창비\n",
      "이신애 저 | 알에이치코리아(RHK)\n",
      "스티브 맥 그림 | 삼성출판사\n",
      "김학렬(빠숑) 저 | 알에이치코리아(RHK)\n",
      "조유미 저/화가율 그림 | 허밍버드\n",
      "KBS 명견만리 제작팀 저 | 인플루엔셜\n",
      "히가시노 게이고 저/양윤옥 역 | 현대문학\n",
      "엠제이 드마코 저/신소영 역 | 토트출판사\n",
      "유발 하라리 저/조현욱 역 | 김영사\n",
      "이신아 저 | 야옹서가\n",
      "마크 맨슨 저/한재호 역 | 갤리온\n",
      "편집부 저 | 삼성출판사\n",
      "KBS 명견만리 제작팀 저 | 인플루엔셜\n",
      "스미노 요루 저/양윤옥 역 | 소미미디어\n",
      "유홍준 저 | 창비\n",
      "무라카미 하루키 저/홍은주 역 | 문학동네\n",
      "무라카미 하루키 저/홍은주 역 | 문학동네\n",
      "설민석,스토리박스 글/정현희 그림 | 아이휴먼\n",
      "고구레 다이치 저/황미숙 역 | 갈매나무\n",
      "가즈오 이시구로 저/김남주 역 | 민음사\n",
      "유발 하라리 저/김명주 역 | 김영사\n",
      "이치이 아이 저/홍성민 역 | 한국경제신문사(한경비피)\n",
      "김영하 저 | 문학동네\n",
      "김훈 저 | 학고재\n"
     ]
    }
   ],
   "source": [
    "import requests\n",
    "from bs4 import BeautifulSoup\n",
    "\n",
    "url = 'http://www.yes24.com/24/category/bestseller'\n",
    "html = requests.get(url).text\n",
    "soup = BeautifulSoup(html, 'lxml')\n",
    "\n",
    "best_sellers = soup.select('#bestList > ol > li')\n",
    "for best_seller in best_sellers:\n",
    "#     author = best_seller.select('p')[3]\n",
    "#     author = best_seller.select('p.aupu')[0]\n",
    "    author = \n",
    "    print(author.text)\n",
    "#     informs = best_seller.select('p')\n",
    "#     for inform in informs:\n",
    "#         print(inform.text)\n",
    "\n",
    "#bestList > ol > li.num1\n",
    "    "
   ]
  },
  {
   "cell_type": "code",
   "execution_count": null,
   "metadata": {
    "collapsed": true
   },
   "outputs": [],
   "source": []
  }
 ],
 "metadata": {
  "anaconda-cloud": {},
  "kernelspec": {
   "display_name": "Python [default]",
   "language": "python",
   "name": "python3"
  },
  "language_info": {
   "codemirror_mode": {
    "name": "ipython",
    "version": 3
   },
   "file_extension": ".py",
   "mimetype": "text/x-python",
   "name": "python",
   "nbconvert_exporter": "python",
   "pygments_lexer": "ipython3",
   "version": "3.5.2"
  }
 },
 "nbformat": 4,
 "nbformat_minor": 2
}
