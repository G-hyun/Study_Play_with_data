{
 "cells": [
  {
   "cell_type": "markdown",
   "metadata": {},
   "source": [
    "# 1장 크롤링과 스크래핑"
   ]
  },
  {
   "cell_type": "markdown",
   "metadata": {},
   "source": [
    "<크롤링 진행>\n",
    " 1. 자료 위치(url 주소)\n",
    " 1. url주소 접근 \n",
    " 1. url 페이지내용 가져오기\n",
    " 1. html 을 읽기 쉽게 --> BeautifulSoup\n",
    " 1. 내가 원하는 데이터 접근 --> find, select\n",
    " 1. 저장or작업"
   ]
  },
  {
   "cell_type": "markdown",
   "metadata": {},
   "source": [
    "## 1.1 데이터 다운로드 하기\n",
    "\n",
    "    1. urllib.request 활용\n",
    "    2. urlopen() 활용\n",
    "    3. requests 활용"
   ]
  },
  {
   "cell_type": "code",
   "execution_count": 1,
   "metadata": {
    "collapsed": false
   },
   "outputs": [
    {
     "name": "stdout",
     "output_type": "stream",
     "text": [
      "저장완료\n"
     ]
    }
   ],
   "source": [
    "# 1. urllib.request 활용\n",
    "import urllib.request\n",
    "\n",
    "url = 'http://www.ignnews.kr/news/photo/201510/97_66_4559.jpg'\n",
    "savename = 'save_by_urllib.png'\n",
    "\n",
    "urllib.request.urlretrieve(url,savename)\n",
    "print(\"저장완료\")"
   ]
  },
  {
   "cell_type": "code",
   "execution_count": 5,
   "metadata": {
    "collapsed": false
   },
   "outputs": [
    {
     "name": "stdout",
     "output_type": "stream",
     "text": [
      "저장완료!\n"
     ]
    }
   ],
   "source": [
    "# 2. urlopen() 이용해서 다운받기\n",
    "\n",
    "import urllib.request\n",
    "\n",
    "url= 'http://post.phinf.naver.net/MjAxNzEwMTBfMTUx/MDAxNTA3NjE1NDI0Nzcw.uSkDlB7kxhalyFHbnyDCEdN6wGOvX1H8-igYpB7vxTwg.7lgBKerBirP59RHFj8mhEZ3fIKR683KPZnvk98cpfRwg.JPEG/IcsI5VNHtKgjjup2yCZUR0ijn2QI.jpg'\n",
    "savename='save_by_urlopen.png'\n",
    "\n",
    "mem=urllib.request.urlopen(url)\n",
    "mem=mem.read()\n",
    "\n",
    "with open(savename, \"wb\") as f:     #바이너리(이미지)일 경우 'wb',  텍스트일 경우 'w'\n",
    "    f.write(mem)\n",
    "    print(\"저장완료!\")"
   ]
  },
  {
   "cell_type": "code",
   "execution_count": 3,
   "metadata": {
    "collapsed": false
   },
   "outputs": [
    {
     "name": "stdout",
     "output_type": "stream",
     "text": [
      "저장완료!\n"
     ]
    }
   ],
   "source": [
    "# 3. requests 이용해서 다운받기\n",
    "\n",
    "import requests\n",
    "\n",
    "url = 'http://i.huffpost.com/gen/1912435/thumbs/o-BEER-570.jpg?2'\n",
    "savename='save_by_requests.png'\n",
    "\n",
    "mem=requests.get(url).content \n",
    "# 텍스트 내용일 경우에는 .text ,    바이너리(이미지) 일 경우 .content \n",
    "\n",
    "with open(savename, \"wb\") as f:    #바이너리(이미지)일 경우 'wb',  텍스트일 경우 'w'\n",
    "    f.write(mem)\n",
    "    print(\"저장완료!\")"
   ]
  },
  {
   "cell_type": "code",
   "execution_count": null,
   "metadata": {
    "collapsed": true
   },
   "outputs": [],
   "source": []
  },
  {
   "cell_type": "code",
   "execution_count": null,
   "metadata": {
    "collapsed": true
   },
   "outputs": [],
   "source": []
  },
  {
   "cell_type": "code",
   "execution_count": null,
   "metadata": {
    "collapsed": true
   },
   "outputs": [],
   "source": []
  },
  {
   "cell_type": "markdown",
   "metadata": {},
   "source": [
    "<크롤링 진행>\n",
    " 1. ***자료 위치(url 주소)***\n",
    "    \n",
    " 1. url주소 접근 --> requests, urllib\n",
    " 1. url 페이지내용 가져오기\n",
    " 1. html 을 읽기 쉽게 --> BeautifulSoup\n",
    " 1. 내가 원하는 데이터 접근 --> find, select\n",
    " 1. 저장or작업"
   ]
  },
  {
   "cell_type": "markdown",
   "metadata": {},
   "source": [
    "< URL 구조>\n",
    "\n",
    "url = 기본주소?항목A=값1&항목B=값2&항목3=값3...... \n",
    "\n",
    "ex) http://news.naver.com/main/list.nhn?mode=LSD&mid=sec&sid1=001&date=20171026&page=3\n",
    "   - 기본주소 : http://news.naver.com/main/list.nhn   : 네이버뉴스속보 메인\n",
    "   - mode=LSD :  ?? 없어도 조회가능함?\n",
    "   - mid=sec :  sec 인 경우 속보. 카테고리가 정해진 경우는 shm\n",
    "   - sid1 = 001 : 속보는 001, 세계는 104, 경제는 101...\n",
    "   - date = 20171026 : 조회일자\n",
    "   - page = 3 :  3번째 페이지를 검색\n",
    "   "
   ]
  },
  {
   "cell_type": "markdown",
   "metadata": {},
   "source": [
    "< URL 주소 만드는 법>\n",
    "\n",
    "1. 텍스트 작업\n",
    "2. urllib.parse 활용\n",
    "3. requests params 속성 활용"
   ]
  },
  {
   "cell_type": "code",
   "execution_count": 7,
   "metadata": {
    "collapsed": false
   },
   "outputs": [
    {
     "name": "stdout",
     "output_type": "stream",
     "text": [
      "http://news.naver.com/main/list.nhn?mode=LSD&mid=sec&sid1=001&date=20171026&page=5\n"
     ]
    }
   ],
   "source": [
    "# 1. 텍스트로 만들기\n",
    "\n",
    "base_url = 'http://news.naver.com/main/list.nhn?mode=LSD&mid=sec&sid1=001&date={}&page={}'\n",
    "date=20171026\n",
    "page=5\n",
    "\n",
    "url = base_url.format(date,page)\n",
    "print(url)\n"
   ]
  },
  {
   "cell_type": "code",
   "execution_count": 11,
   "metadata": {
    "collapsed": false
   },
   "outputs": [
    {
     "name": "stdout",
     "output_type": "stream",
     "text": [
      "mode=LSD&mid=sec&sid1=001&date=20171026&page=5\n",
      "http://news.naver.com/main/list.nhn?mode=LSD&mid=sec&sid1=001&date=20171026&page=5\n"
     ]
    }
   ],
   "source": [
    "# 2. urllib.parse 활용\n",
    "\n",
    "import urllib.parse\n",
    "\n",
    "base_url = 'http://news.naver.com/main/list.nhn'\n",
    "values = {\n",
    "    'mode':'LSD',\n",
    "    'mid':'sec',\n",
    "    'sid1':'001',\n",
    "    'date':date,\n",
    "    'page':page\n",
    "}\n",
    "params = urllib.parse.urlencode(values)\n",
    "print(params)\n",
    "\n",
    "url = base_url+'?'+params\n",
    "print(url)"
   ]
  },
  {
   "cell_type": "code",
   "execution_count": 13,
   "metadata": {
    "collapsed": false
   },
   "outputs": [
    {
     "name": "stdout",
     "output_type": "stream",
     "text": [
      "http://news.naver.com/main/list.nhn?mode=LSD&mid=sec&sid1=001&date=20171026&page=5\n",
      "<Response [200]>\n"
     ]
    }
   ],
   "source": [
    "# 3. requests  params 속성 활용하기\n",
    "\n",
    "import requests\n",
    "\n",
    "base_url = 'http://news.naver.com/main/list.nhn'\n",
    "values = {\n",
    "    'mode':'LSD',\n",
    "    'mid':'sec',\n",
    "    'sid1':'001',\n",
    "    'date':date,\n",
    "    'page':page\n",
    "}\n",
    "\n",
    "data =  requests.get(base_url, params = values)\n",
    "print(data.url)\n",
    "\n",
    "print(data) #200은 url 주소 접근완료. \n",
    "#data.text  or data.content 로 페이지내용 확인 가능함\n"
   ]
  },
  {
   "cell_type": "code",
   "execution_count": null,
   "metadata": {
    "collapsed": true
   },
   "outputs": [],
   "source": []
  },
  {
   "cell_type": "code",
   "execution_count": null,
   "metadata": {
    "collapsed": true
   },
   "outputs": [],
   "source": []
  },
  {
   "cell_type": "markdown",
   "metadata": {},
   "source": [
    "<크롤링 진행>\n",
    " 1. 자료 위치(url 주소)\n",
    " 1. ***url주소 접근 --> requests, urllib ***\n",
    " 1. url 페이지내용 가져오기\n",
    " 1. html 을 읽기 쉽게 --> BeautifulSoup\n",
    " 1. 내가 원하는 데이터 접근 --> find, select\n",
    " 1. 저장or작업"
   ]
  },
  {
   "cell_type": "code",
   "execution_count": null,
   "metadata": {
    "collapsed": true
   },
   "outputs": [],
   "source": []
  },
  {
   "cell_type": "code",
   "execution_count": null,
   "metadata": {
    "collapsed": true
   },
   "outputs": [],
   "source": []
  }
 ],
 "metadata": {
  "anaconda-cloud": {},
  "kernelspec": {
   "display_name": "Python [default]",
   "language": "python",
   "name": "python3"
  },
  "language_info": {
   "codemirror_mode": {
    "name": "ipython",
    "version": 3
   },
   "file_extension": ".py",
   "mimetype": "text/x-python",
   "name": "python",
   "nbconvert_exporter": "python",
   "pygments_lexer": "ipython3",
   "version": "3.5.2"
  }
 },
 "nbformat": 4,
 "nbformat_minor": 2
}
