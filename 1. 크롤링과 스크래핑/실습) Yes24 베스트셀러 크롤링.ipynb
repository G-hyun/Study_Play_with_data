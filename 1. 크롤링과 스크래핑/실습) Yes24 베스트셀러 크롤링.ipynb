{
 "cells": [
  {
   "cell_type": "code",
   "execution_count": 1,
   "metadata": {
    "collapsed": true
   },
   "outputs": [],
   "source": [
    "import requests"
   ]
  },
  {
   "cell_type": "code",
   "execution_count": 2,
   "metadata": {
    "collapsed": true
   },
   "outputs": [],
   "source": [
    "from bs4 import BeautifulSoup"
   ]
  },
  {
   "cell_type": "code",
   "execution_count": 3,
   "metadata": {
    "collapsed": true
   },
   "outputs": [],
   "source": [
    "url = 'http://www.yes24.com/24/category/bestseller'"
   ]
  },
  {
   "cell_type": "code",
   "execution_count": 5,
   "metadata": {
    "collapsed": false
   },
   "outputs": [],
   "source": [
    "html = requests.get(url).text"
   ]
  },
  {
   "cell_type": "code",
   "execution_count": 6,
   "metadata": {
    "collapsed": false,
    "scrolled": true
   },
   "outputs": [
    {
     "name": "stdout",
     "output_type": "stream",
     "text": [
      "\r\n",
      "<!DOCTYPE HTML PUBLIC \"-//W3C//DTD HTML 4.01 Transitional//EN\">\r\n",
      "<html>\r\n",
      "\r\n",
      "<head><base href=\"http://www.yes24.com/24/\" />\r\n",
      "<meta http-equiv=\"X-UA-Compatible\" content=\"IE=5\" />\r\n",
      "<meta http-equiv=\"Content-Type\" content=\"text/html;charset=euc-kr\" />\r\n",
      "<meta name=\"viewport\" content=\"width=1170\" />\r\n",
      "<title>YES24 | 대한민국 대표 인터넷서점 | 베스트셀러</title>\r\n",
      "\r\n",
      "<meta name=\"title\" content=\"YES24 - 대한민국 대표 인터넷서점\" />\r\n",
      "<meta name=\"description\" content=\"YES24는 대한민국 1위 인터넷 온라인 서점 입니다. 국내 최대의 도서정보를 보유하고 있으며, 음반, DVD, 공연,\n"
     ]
    }
   ],
   "source": [
    "print(html[:500])"
   ]
  },
  {
   "cell_type": "code",
   "execution_count": 7,
   "metadata": {
    "collapsed": false
   },
   "outputs": [
    {
     "data": {
      "text/plain": [
       "'\\'\\\\r\\\\n<!DOCTYPE HTML PUBLIC \"-//W3C//DTD HTML 4.01 Transitional//EN\">\\\\r\\\\n<html>\\\\r\\\\n\\\\r\\\\n<head><base href=\"http://www.yes24.com/24/\" />\\\\r\\\\n<meta http-equiv=\"X-UA-Compatible\" content=\"IE=5\" />\\\\r\\\\n<meta http-equiv=\"Content-Type\" content=\"text/html;charset=euc-kr\" />\\\\r\\\\n<meta name=\"viewport\" content=\"width=1170\" />\\\\r\\\\n<title>YES24 | 대한민국 대표 인터넷서점 | 베스트셀러</title>\\\\r\\\\n\\\\r\\\\n<meta name=\"title\" content=\"YES24 - 대한민국 대표 인터넷서점\" />\\\\r\\\\n<meta name=\"description\" content=\"YES24는 대한민국 1위 인터넷 온라인 서점 입니다. 국내 최대의 도서정보를 보유하고 있으며, 음반, DVD, 공연,\\''"
      ]
     },
     "execution_count": 7,
     "metadata": {},
     "output_type": "execute_result"
    }
   ],
   "source": [
    "repr(html[:500])"
   ]
  },
  {
   "cell_type": "code",
   "execution_count": 8,
   "metadata": {
    "collapsed": true
   },
   "outputs": [],
   "source": [
    "soup= BeautifulSoup(html, 'html.parser')"
   ]
  },
  {
   "cell_type": "code",
   "execution_count": 9,
   "metadata": {
    "collapsed": true
   },
   "outputs": [],
   "source": [
    "books = soup.select('ol > li')"
   ]
  },
  {
   "cell_type": "code",
   "execution_count": 10,
   "metadata": {
    "collapsed": false
   },
   "outputs": [
    {
     "name": "stdout",
     "output_type": "stream",
     "text": [
      "40\n",
      "<li class=\"num1\">\n",
      "<p class=\"copy\"><a href=\"/24/goods/30387696\">말과 글의 따뜻함과 차가움에 대하여, 하찮아 보이는 것들의 소중함에 대하여</a></p>\n",
      "<p class=\"image\" id=\"location_0\">\n",
      "<a href=\"/24/goods/30387696\">\n",
      "<img alt=\"언어의 온도\" src=\"http://image.yes24.com/goods/30387696/S\"/>\n",
      "</a>\n",
      "</p>\n",
      "<p>[도서] <a href=\"/24/goods/30387696\">언어의 온도</a></p>\n",
      "<p class=\"aupu\"><a href=\"http://www.yes24.com//SearchCorner/Result?domain=ALL&amp;author_yn=Y&amp;query=&amp;auth_no=148466\" target=\"_blank\">이기주</a> 저 | <a href=\"http://www.yes24.com//SearchCorner/Result?domain=ALL&amp;company_yn=Y&amp;query=말글터\">말글터</a></p>\n",
      "<p class=\"price\"><strong>12,420원</strong>(10%<img src=\"http://image.yes24.com/sysimage/wel/i_dc.gif\">+5%<img src=\"http://image.yes24.com/sysimage/wel/i_p.gif\">)</img></img></p>\n",
      "<p>회원리뷰 (<a href=\"/24/goods/30387696#Review\">211개</a>)</p>\n",
      "<p>\r\n",
      "            내용 <img align=\"absmiddle\" src=\"http://image.yes24.com/sysimage/interface/smallStarOn.gif\"><img align=\"absmiddle\" src=\"http://image.yes24.com/sysimage/interface/smallStarOn.gif\"><img align=\"absmiddle\" src=\"http://image.yes24.com/sysimage/interface/smallStarOn.gif\"><img align=\"absmiddle\" src=\"http://image.yes24.com/sysimage/interface/smallStarOn.gif\"><img align=\"absmiddle\" src=\"http://image.yes24.com/sysimage/interface/smallStarOff.gif\">편집/구성 <img align=\"absmiddle\" src=\"http://image.yes24.com/sysimage/interface/smallStarOn.gif\"><img align=\"absmiddle\" src=\"http://image.yes24.com/sysimage/interface/smallStarOn.gif\"><img align=\"absmiddle\" src=\"http://image.yes24.com/sysimage/interface/smallStarOn.gif\"><img align=\"absmiddle\" src=\"http://image.yes24.com/sysimage/interface/smallStarOn.gif\"><img align=\"absmiddle\" src=\"http://image.yes24.com/sysimage/interface/smallStarOff.gif\">\n",
      "</img></img></img></img></img></img></img></img></img></img></p>\n",
      "<p class=\"btn\">\n",
      "<a href=\"javascript:yes24GU.openPreviewCheck(30387696);\"><img alt=\"미리보기\" src=\"http://image.yes24.com/sysimage/bestseller/b_preview.gif\"/></a>\n",
      "<img alt=\"상세보기\" onclick=\"javascript:Open_DetailViewLayer(0,30387696);\" src=\"http://image.yes24.com/sysimage/bestseller/b_viewDetail.gif\" style=\"cursor:pointer\">\n",
      "<a href=\"/24/goods/36960168\"><img alt=\"eBook\" src=\"http://image.yes24.com/sysimage/detailN/b_eBook02.gif\"/></a>\n",
      "<a href=\"javascript:yes24GU.addToCartSetPosByOnlyOneGoodsNo(30387696,'btnCart0',true,-56,-8,0,'001',true,'addCart_w')\"><img alt=\"카트에 넣기\" id=\"btnCart0\" src=\"http://image.yes24.com/sysimage/detailN/b_cart.gif\"/></a>\n",
      "<a href=\"javascript:yes24GU.addToMyListByIndex(0);\"><img alt=\"리스트에 넣기\" src=\"http://image.yes24.com/sysimage/detailN/b_list.gif\"/></a>\n",
      "<input class=\"basic\" name=\"ORD_GOODS_CHKBOX\" style=\"display:none\" type=\"checkbox\" value=\"\"/>\n",
      "<input name=\"ORD_GOODS_CNT\" type=\"hidden\" value=\"1\"/>\n",
      "<input name=\"ORD_GOODS_OPT\" type=\"hidden\" value='{\"goods_no\":30387696,\"goods_seq\":1,\"order_limit_yn\":\"N\",\"order_remain_count\":0,\"event_no\":0,\"add_cart_yn\":\"Y\",\"goods_state\":\"02\",\"order_limit_count\":0,\"resource_key\":\"01\",\"limit_age_yn\":\"N\",\"limit_age\":0,\"member_age\":0,\"goods_name\":\"언어의 온도\",\"noint_quotamonth\":0,\"min_cnt\":0,\"max_cnt\":0,\"opt_salepr\":0,\"opt_yn\":\"N\",\"opt_inst_yn\":\"N\"}'/>\n",
      "</img></p>\n",
      "<ul class=\"evt\">\n",
      "<li><a href=\"http://www.yes24.com/campaign/01_book/yesPresent/yesPresent.aspx?EventNo=147438&amp;CategoryNumber=001\">찬 바람이 불면, 리카앤 담요/쿠션 증정</a></li>\n",
      "<li><a href=\"http://www.yes24.com/eWorld/EventWorld/Event?eventno=147321\">나만 알고 싶은 수필들 - 에세이 매거진 vol.01</a></li>\n",
      "<li><a href=\"http://www.yes24.com/campaign/01_book/yesPresent/yesPresent.aspx?EventNo=147198&amp;CategoryNumber=001\">오롯이 당신만의 독서 시간, 인센스 증정</a></li>\n",
      "</ul>\n",
      "<!--분철서비스 시작-->\n",
      "<!--분철서비스 종료-->\n",
      "</li>\n"
     ]
    }
   ],
   "source": [
    "print(len(books))\n",
    "print(books[0])"
   ]
  },
  {
   "cell_type": "code",
   "execution_count": 36,
   "metadata": {
    "collapsed": false
   },
   "outputs": [
    {
     "name": "stdout",
     "output_type": "stream",
     "text": [
      "언어의 온도 / 이기주 / 말글터 / 12,420원 / (10%+5%) / 4 / 4\n",
      "신경 끄기의 기술 / 마크 맨슨 / 한재호 / 13,500원 / (10%+5%) / 5 / 5\n",
      "트렌드 코리아 2018 (10주년 특별판) / 김난도 / 이준영 / 16,200원 / (10%+5%) / 4 / 4\n",
      "82년생 김지영 / 조남주 / 민음사 / 11,700원 / (10%+5%) / 4 / 4\n",
      "운을 읽는 변호사 / 니시나카 쓰토무 / 최서희 / 12,420원 / (10%+5%) / 5 / 5\n",
      "말의 품격 / 이기주 / 황소북스 / 13,050원 / (10%+5%) / 4 / 4\n",
      "남아있는 나날 / 가즈오 이시구로 / 민음사 / 11,700원 / (10%+5%) / 4 / 4\n",
      "OPTION B 옵션 B / 셰릴 샌드버그 / 애덤 그랜트 / 14,400원 / (10%+5%) / 4 / 4\n",
      "넛지 / 캐스 R. 선스타인 / 리처드 H. 탈러(리처드 세일러) / 13,950원 / (10%+5%) / 4 / 3\n",
      "너의 췌장을 먹고 싶어 (노블판) / 스미노 요루 / 양윤옥 / 12,420원 / (10%+5%) / 4 / 4\n",
      "자존감 수업 / 윤홍균 / 심플라이프 / 12,600원 / (10%+5%) / 4 / 4\n",
      "[예약판매] 따옴표 다이어리 2018 / 정희정 / 오브바이포(Of by For) / 16,200원 / (10%+5%) / X / X\n",
      "나는 나로 살기로 했다 / 김수현 / 마음의숲 / 12,420원 / (10%+5%) / 4 / 4\n",
      "영어회화 100일의 기적 / 문성현 / 넥서스 / 12,150원 / (10%+5%) / 4 / 4\n",
      "나의 문화유산답사기 9 : 서울편 1 / 유홍준 / 창비 / 16,650원 / (10%+5%) / 4 / 4\n",
      "2018 선재국어 한 권으로 정리하는 마무리 / 이선재 / 에스티유니타스 / 18,000원 / (10%) / 5 / 5\n",
      "서울 부동산의 미래 / 김학렬(빠숑) / 알에이치코리아(RHK) / 14,850원 / (10%+5%) / 5 / 5\n",
      "블랙코미디 / 유병재 / 비채 / 11,700원 / (10%+5%) / 4 / 4\n",
      "나는 나를 파괴할 권리가 있다 (리커버 특별판) / 김영하 / 문학동네 / 8,100원 / (10%+5%) / 4 / 4\n",
      "나미야 잡화점의 기적 / 히가시노 게이고 / 양윤옥 / 13,320원 / (10%+5%) / 4 / 4\n",
      "OtvN 프리미엄 특강쇼 어쩌다 어른 / [어쩌다 어른] 제작팀 / 교보문고 / 13,500원 / (10%+5%) / 4 / 4\n",
      "명견만리_새로운 사회 편 / KBS 명견만리 제작팀 / 인플루엔셜 / 14,220원 / (10%+5%) / 4 / 4\n",
      "세상은 바꿀 수 있습니다 / 이용마 / 창비 / 14,400원 / (10%+5%) / 4 / 4\n",
      "도시는 무엇으로 사는가 / 유현준 / 을유문화사 / 13,500원 / (10%+5%) / 4 / 4\n",
      "엄마 반성문 / 이유남 / 덴스토리(DENSTORY) / 12,600원 / (10%+5%) / 4 / 4\n",
      "살인자의 기억법 / 김영하 / 문학동네 / 9,000원 / (10%+5%) / 4 / 4\n",
      "나, 있는 그대로 참 좋다 / 조유미 / 화가율 / 12,420원 / (10%+5%) / 4 / 4\n",
      "나의 문화유산답사기 10 : 서울편 2 / 유홍준 / 창비 / 16,650원 / (10%+5%) / 4 / 4\n",
      "사피엔스 / 유발 하라리 / 조현욱 / 19,800원 / (10%+5%) / 4 / 4\n",
      "일단 오늘은 나한테 잘합시다 / 도대체 / 예담 / 12,420원 / (10%+5%) / 4 / 4\n",
      "엄마의 자존감 공부 / 김미경 / 21세기북스 / 14,400원 / (10%+5%) / X / X\n",
      "잠수네 초등 5,6학년 공부법 / 이신애 / 알에이치코리아(RHK) / 19,800원 / (10%+5%) / 5 / 4\n",
      "명탐정 코난 93 / 아오야마 고쇼 / 서울문화사 / 4,050원 / (10%+5%) / 4 / 4\n",
      "설민석의 한국사 대모험 4 / 설민석 / 스토리박스 / 9,450원 / (10%+5%) / 4 / 4\n",
      "명견만리_미래의 기회편 / KBS 명견만리 제작팀 / 인플루엔셜 / 14,220원 / (10%+5%) / 4 / 4\n",
      "열두 달 나무 아이 / 최숙희 / 책읽는곰 / 10,800원 / (10%+5%) / 4 / 4\n",
      "강성태 66일 공부법 / 강성태 / 다산4.0 / 12,420원 / (10%+5%) / 4 / 4\n",
      "2018 선재국어 기출실록 / 이선재 / 에스티유니타스 / 36,900원 / (10%) / 4 / 4\n",
      "부의 추월차선 / 엠제이 드마코 / 신소영 / 13,500원 / (10%+5%) / 4 / 4\n",
      "파리에서 도시락을 파는 여자 / 켈리 최 / 다산북스 / 13,500원 / (10%+5%) / 4 / 4\n"
     ]
    }
   ],
   "source": [
    "for book in books:\n",
    "    text = book.select('img')[0]['alt']\n",
    "    author = book.select('p.aupu > a')[0].text\n",
    "    company = book.select('p.aupu > a')[1].text\n",
    "    \n",
    "#     price = book.select('p.price')[0].text     # 가격 정보는  구매가 + 할인 정보로 구분되어있음\n",
    "    price = book.select('p.price > strong')[0].text\n",
    "    discount = book.select('p.price')[0].text[len(price):]\n",
    "    \n",
    "    \n",
    "    try:\n",
    "        stars = book.select('p')[6].select('img')    # 별점은 내용 + 편집으로 구분되어있음\n",
    "        star_content = 0\n",
    "        for star in stars[:5]:\n",
    "            if star['src'][-6:-4] == 'On':\n",
    "                star_content+=1\n",
    "\n",
    "        star_edit = 0\n",
    "        for star in stars[5:]:\n",
    "            if star['src'][-6:-4] == 'On':\n",
    "                star_edit +=1\n",
    "    \n",
    "    except: \n",
    "        star_content, star_edit = 'X', 'X'\n",
    "    \n",
    "    print(text, author, company, price, discount, star_content, star_edit, sep=\" / \")\n",
    "#     print(stars)\n",
    "    "
   ]
  },
  {
   "cell_type": "code",
   "execution_count": null,
   "metadata": {
    "collapsed": true
   },
   "outputs": [],
   "source": []
  }
 ],
 "metadata": {
  "anaconda-cloud": {},
  "kernelspec": {
   "display_name": "Python [default]",
   "language": "python",
   "name": "python3"
  },
  "language_info": {
   "codemirror_mode": {
    "name": "ipython",
    "version": 3
   },
   "file_extension": ".py",
   "mimetype": "text/x-python",
   "name": "python",
   "nbconvert_exporter": "python",
   "pygments_lexer": "ipython3",
   "version": "3.5.2"
  }
 },
 "nbformat": 4,
 "nbformat_minor": 1
}
