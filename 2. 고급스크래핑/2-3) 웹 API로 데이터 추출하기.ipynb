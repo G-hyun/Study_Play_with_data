{
 "cells": [
  {
   "cell_type": "code",
   "execution_count": 1,
   "metadata": {
    "collapsed": true
   },
   "outputs": [],
   "source": [
    "# 웹 API(Application Programming Interface)\n",
    "# - 사이트가 가지고 있는 기능을 외부에서도 쉽게 사용할 수 있게 공개한 것\n",
    "# - HTTP 통신을 통해 외부 클라이언트의 요청에 대한 답변을 XML 혹은 JSON 형식으로 제공함.\n",
    "# - 웹서버의 부하를 줄이거나, 관련 어플리케이션을 만드는 데에 필요한 정보를 제공함. \n",
    "# - 웹 API가 사라지거나 사양이 변경되는 일이 자주 발생하므로, 이를 사전에 고려해야 함. \n",
    "\n",
    "# API Example\n",
    "# - https://github.com/google/google-api-python-client/tree/master/samples\n",
    "# - https://shkspr.mobi/blog/2016/05/easy-apis-without-authentication/"
   ]
  },
  {
   "cell_type": "code",
   "execution_count": 22,
   "metadata": {},
   "outputs": [
    {
     "name": "stdout",
     "output_type": "stream",
     "text": [
      "검색어: 파이썬 머신러닝\n",
      "검색결과: 521건\n",
      "- 파이썬 라이브러리를 활용한 머신러닝\n",
      "- 신경망 첫걸음\n",
      "- 파이썬(Python) 200제(초보자를 위한)\n",
      "- 웹을 위한 머신 러닝(acorn+PACKT 시리즈)\n",
      "- 처음 배우는 머신러닝\n",
      "- 파이썬 프로그래밍(입문부터 실무까지 한 방에 끝내는)\n",
      "- 머신 러닝 인 자바(acorn+PACKT 시리즈)\n",
      "- 머신 러닝 워크북\n",
      "- 모두의 파이썬\n",
      "- 화이트 해커를 위한 암호와 해킹(White Hat Python)\n",
      "- 밑바닥부터 시작하는 딥러닝\n",
      "- 처음 배우는 인공지능\n",
      "- 딥러닝 첫걸음\n",
      "- 알고리즘 트레이딩 시스템 개발(머신러닝을 이용한)(Hanbit RealTime 127)\n",
      "- 모두의 데이터 과학 with 파이썬\n",
      "- 텐서플로 첫걸음\n",
      "- 4차 산업혁명 시대, 전문직의 미래\n",
      "- 깐깐하게 배우는 파이썬\n",
      "- 모두의 라즈베리 파이 with 파이썬\n",
      "- 머신러닝과 딥러닝(처음 만나는)\n",
      "- NoSQL 철저 입문\n",
      "- 파이썬3 바이블(시간을 아끼는 바이블)\n",
      "- 아파치 스파크 입문\n",
      "- 점프 투 파이썬(Do it!)\n",
      "- 해커 스타일로 배우는 기계학습\n",
      "- 데이터 처리&분석 실무(R을 이용한)\n",
      "- 파이썬을 사용한 프로그래밍 입문\n",
      "- 파이썬 라이브러리를 활용한 데이터 분석\n",
      "- NX 8.5 3D 모델링 및 Cam 가공(동영상으로 배우는)\n",
      "- 통계적 기계 학습\n"
     ]
    }
   ],
   "source": [
    "import requests\n",
    "import json \n",
    "\n",
    "# Book 검색어\n",
    "keyword = \"파이썬 머신러닝\"\n",
    "\n",
    "# API URL 구성하기\n",
    "api = \"https://www.googleapis.com/books/v1/volumes?q={query}&maxResults=30\"\n",
    "url = api.format(query=keyword)\n",
    "\n",
    "# API 요청보내고 결과를 JSON 형식으로 변환하기\n",
    "res = requests.get(url)\n",
    "data = json.loads(res.text)\n",
    "\n",
    "# data type = dict\n",
    "# print(data.keys())\n",
    "\n",
    "# 검색된 책 갯수\n",
    "print(\"검색어: %s\" %keyword)\n",
    "print(\"검색결과: %s건\" %data['totalItems'])\n",
    "\n",
    "# 검색된 책 타이틀 출력하기\n",
    "# print(data['items'][0].keys())\n",
    "# print(data['items'][0]['volumeInfo'].keys())\n",
    "# print(data['items'][0]['volumeInfo']['title'])\n",
    "\n",
    "for item in data['items']:\n",
    "    print(\"-\", item['volumeInfo']['title'])"
   ]
  },
  {
   "cell_type": "code",
   "execution_count": null,
   "metadata": {
    "collapsed": true
   },
   "outputs": [],
   "source": []
  }
 ],
 "metadata": {
  "kernelspec": {
   "display_name": "Python 3",
   "language": "python",
   "name": "python3"
  },
  "language_info": {
   "codemirror_mode": {
    "name": "ipython",
    "version": 3
   },
   "file_extension": ".py",
   "mimetype": "text/x-python",
   "name": "python",
   "nbconvert_exporter": "python",
   "pygments_lexer": "ipython3",
   "version": "3.6.2"
  }
 },
 "nbformat": 4,
 "nbformat_minor": 2
}
