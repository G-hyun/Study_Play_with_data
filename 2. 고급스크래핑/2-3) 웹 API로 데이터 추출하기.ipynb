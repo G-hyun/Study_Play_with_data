{
 "cells": [
  {
   "cell_type": "markdown",
   "metadata": {
    "collapsed": true
   },
   "source": [
    "## 웹 API(Application Programming Interface)\n",
    "- 사이트가 가지고 있는 기능을 외부에서도 쉽게 사용할 수 있게 공개한 것\n",
    "- HTTP 통신을 통해 외부 클라이언트의 요청에 대한 답변을 XML 혹은 JSON 형식으로 제공함.\n",
    "- 웹서버의 부하를 줄이거나, 관련 어플리케이션을 만드는 데에 필요한 정보를 제공함. \n",
    "- 웹 API가 사라지거나 사양이 변경되는 일이 자주 발생하므로, 이를 사전에 고려해야 함. \n",
    "\n",
    "## REST (Reprsentational State Transfer)\n",
    "- 웹의 장점을 최대한 활용할 수 있는 네트워크 기반의 아키텍쳐.\n",
    "- 웹 창시자 중 한명인 Roy Fielding의 2000년 논문에서 언급.\n",
    "- 가령, HTTP + JSON 형식으로 REST API를 정의하면 특정 언어나 기술에 종속 받지 않고 해당 형식을 사용하는 모든 플랫폼에서 사용 가능함.\n",
    "- http://meetup.toast.com/posts/92\n",
    "- http://bcho.tistory.com/953 "
   ]
  },
  {
   "cell_type": "markdown",
   "metadata": {
    "collapsed": true
   },
   "source": [
    "## Google Books \n",
    "- https://books.google.com\n",
    "\n",
    "## Google Books APIs\n",
    "- https://developers.google.com/books/\n",
    "- 기본 검색 \n",
    "  - GET https://www.googleapis.com/books/v1/volumes?q=search+terms\n",
    "  - Query Parameter : intitle / inauthor / inpublisher / subject "
   ]
  },
  {
   "cell_type": "markdown",
   "metadata": {},
   "source": [
    "# 크롬 브라우저에서 쉽게 API 결과 확인해보기\n",
    "- https://www.googleapis.com/books/v1/volumes?q=intitle:머신러닝"
   ]
  },
  {
   "cell_type": "code",
   "execution_count": 5,
   "metadata": {},
   "outputs": [],
   "source": [
    "import requests\n",
    "import json \n",
    "\n",
    "# Book 검색어\n",
    "keyword = \"파이썬 머신러닝\"\n",
    "\n",
    "# API URL 구성하기\n",
    "api = \"https://www.googleapis.com/books/v1/volumes?q={query}&maxResults=30\"\n",
    "url = api.format(query=keyword)\n",
    "\n",
    "# API 요청보내고 결과를 JSON 형식으로 변환하기\n",
    "res = requests.get(url)\n",
    "data = json.loads(res.text)\n",
    "\n",
    "# print(type(data))\n",
    "\n",
    "# print(data.keys())\n",
    "\n",
    "# print(data['items'][0].keys())\n",
    "\n",
    "# print(data['items'][0]['volumeInfo'].keys())\n",
    "\n",
    "# print(data['items'][0]['volumeInfo']['title'])"
   ]
  },
  {
   "cell_type": "code",
   "execution_count": 6,
   "metadata": {},
   "outputs": [
    {
     "name": "stdout",
     "output_type": "stream",
     "text": [
      "검색어: 파이썬 머신러닝\n",
      "검색결과: 693건\n",
      "- 파이썬 라이브러리를 활용한 머신러닝\n",
      "- 신경망 첫걸음\n",
      "- 파이썬(Python) 200제(초보자를 위한)\n",
      "- 웹을 위한 머신 러닝(acorn+PACKT 시리즈)\n",
      "- 처음 배우는 머신러닝\n",
      "- 딥러닝 첫걸음\n",
      "- 머신 러닝 워크북\n",
      "- 화이트 해커를 위한 암호와 해킹(White Hat Python)\n",
      "- 파이썬 프로그래밍(입문부터 실무까지 한 방에 끝내는)\n",
      "- 처음 배우는 인공지능\n",
      "- 모두의 파이썬\n",
      "- 파이썬(열혈강의)(개정판 VER.2)\n",
      "- 밑바닥부터 시작하는 딥러닝\n",
      "- 모두의 데이터 과학 with 파이썬\n",
      "- Building Machine Learning Systems with Python(한국어판)(개정판)(에이콘 데이터 과학 시리즈)\n",
      "- 알고리즘 트레이딩 시스템 개발(머신러닝을 이용한)(Hanbit RealTime 127)\n",
      "- 텐서플로 첫걸음\n",
      "- Hello Coding 그림으로 개념을 이해하는 알고리즘\n",
      "- 머신러닝과 딥러닝(처음 만나는)\n",
      "- 4차 산업혁명 시대, 전문직의 미래\n",
      "- 해커 플레이북 2\n",
      "- 모두의 알고리즘 with 파이썬\n",
      "- 점프 투 파이썬(Do it!)\n",
      "- 머신 러닝 인 자바(acorn+PACKT 시리즈)\n",
      "- 파이썬 라이브러리를 활용한 데이터 분석\n",
      "- 가장 빨리 만나는 자바 8\n",
      "- 인크립션\n",
      "- Try! helloworld 파이썬\n",
      "- 스타일과 목적을 살리는 웹 글쓰기\n",
      "- 멀티플레이어 게임 프로그래밍\n"
     ]
    }
   ],
   "source": [
    "# 검색된 책 갯수 출력하기\n",
    "print(\"검색어: %s\" %keyword)\n",
    "print(\"검색결과: %s건\" %data['totalItems'])\n",
    "\n",
    "# 검색된 책 타이틀 출력하기\n",
    "for item in data['items']:\n",
    "    print(\"-\", item['volumeInfo']['title'])"
   ]
  }
 ],
 "metadata": {
  "kernelspec": {
   "display_name": "Python [default]",
   "language": "python",
   "name": "python3"
  },
  "language_info": {
   "codemirror_mode": {
    "name": "ipython",
    "version": 3
   },
   "file_extension": ".py",
   "mimetype": "text/x-python",
   "name": "python",
   "nbconvert_exporter": "python",
   "pygments_lexer": "ipython3",
   "version": "3.6.3"
  }
 },
 "nbformat": 4,
 "nbformat_minor": 2
}
