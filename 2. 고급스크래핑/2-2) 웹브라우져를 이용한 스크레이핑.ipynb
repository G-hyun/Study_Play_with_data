{
 "cells": [
  {
   "cell_type": "markdown",
   "metadata": {},
   "source": [
    "# 2-2 웹 브라우저를 이용한 스크레이핑"
   ]
  },
  {
   "cell_type": "markdown",
   "metadata": {},
   "source": [
    "## 웹 브라우저 원격 조작에 사용하는 Selenium\n",
    " ### 기능\n",
    " 1. 자동으로 URL 열고 클릭, 스크롤하거나, 문자를 입력하는등의 다양한 조작을 자동화\n",
    " 2. 화면 캡쳐해서 이미지 저장\n",
    " 3. HTML의 특정 부분을 꺼내는것도 가능\n",
    " \n",
    "## 화면 없는 웹 브라우저 PhantomJS\n",
    "\n",
    "\n",
    "  "
   ]
  },
  {
   "cell_type": "markdown",
   "metadata": {},
   "source": [
    "## 웹 사이트를 이미지로 캡쳐해보기 "
   ]
  },
  {
   "cell_type": "code",
   "execution_count": 5,
   "metadata": {
    "collapsed": true
   },
   "outputs": [],
   "source": [
    "from selenium import webdriver\n",
    "url = \"http://www.naver.com/\"\n",
    "# PhantomJS 드라이버 추출하기 --- (※1)\n",
    "executable_path='/Users/hyungsoklee/Documents/play_with_data/phantomjs-2.1.1-macosx/bin/phantomjs'\n",
    "browser = webdriver.PhantomJS(executable_path)\n",
    "# 3초 대기하기 --- (※2)\n",
    "browser.implicitly_wait(3)\n",
    "# URL 읽어 들이기 --- (※3)\n",
    "browser.get(url)\n",
    "# 화면을 캡처해서 저장하기 --- (※4)\n",
    "browser.save_screenshot(\"Website.png\")\n",
    "# 브라우저 종료하기 --- (※5)\n",
    "browser.quit()"
   ]
  },
  {
   "cell_type": "markdown",
   "metadata": {
    "collapsed": true
   },
   "source": [
    "## 네이버에 로그인해서 구매한 물건 목록 가져오기"
   ]
  },
  {
   "cell_type": "code",
   "execution_count": 2,
   "metadata": {},
   "outputs": [
    {
     "name": "stdout",
     "output_type": "stream",
     "text": [
      "로그인 페이지에 접근합니다.\n",
      "로그인 버튼을 클릭합니다.\n",
      "[]\n"
     ]
    }
   ],
   "source": [
    "from selenium import webdriver\n",
    "USER = \"hyungsok7\"\n",
    "PASS = \"XXXXX\"\n",
    "# PhantomJS 드라이버 추출하기 --- (※1)\n",
    "executable_path='/Users/hyungsoklee/Documents/play_with_data/phantomjs-2.1.1-macosx/bin/phantomjs'\n",
    "browser = webdriver.PhantomJS(executable_path)\n",
    "browser.implicitly_wait(3)\n",
    "# 로그인 페이지에 접근하기 --- (※2)\n",
    "url_login = \"https://nid.naver.com/nidlogin.login\"\n",
    "browser.get(url_login)\n",
    "print(\"로그인 페이지에 접근합니다.\")\n",
    "# 텍스트 박스에 아이디와 비밀번호 입력하기 --- (※3)\n",
    "e = browser.find_element_by_id(\"id\")\n",
    "e.clear()\n",
    "e.send_keys(USER)\n",
    "e = browser.find_element_by_id(\"pw\")\n",
    "e.clear()\n",
    "e.send_keys(PASS)\n",
    "# 입력 양식 전송해서 로그인하기 --- (※4)\n",
    "form = browser.find_element_by_css_selector(\"input.btn_global[type=submit]\")\n",
    "form.submit()\n",
    "print(\"로그인 버튼을 클릭합니다.\")\n",
    "# 쇼핑 페이지의 데이터 가져오기 --- (※5)\n",
    "browser.get(\"https://order.pay.naver.com/home?tabMenu=SHOPPING\")\n",
    "# 쇼핑 목록 출력하기 --- (※6)\n",
    "products = browser.find_elements_by_css_selector(\".p_info span\")\n",
    "print(products)\n",
    "for product in products:\n",
    "    print(\"-\", product.text)"
   ]
  },
  {
   "cell_type": "markdown",
   "metadata": {},
   "source": [
    "## Selenium으로 스크레이핑하는 방법\n",
    "\n",
    "### Selenium으로 DOM 요소를 선택하는 방법\n",
    " - DOM이 무엇이냐? (DOM, Document Object Model)\n",
    " 1. DOM(Document Object Model)은 HTML 문서의 모든 요소에 접근하는 방법을 정의한 API\n",
    " 2. DOM은 노드구조로 트리형태로 표현\n",
    " > 프로그래밍 언어가 DOM 구조에 접근할 수 있는 방법을 제공하여 그들이 문서 구조, 스타일, 내용 등을 변경할 수 있게 돕는다. DOM 은 구조화된 nodes와 property 와 method 를 갖고 있는 objects로 문서를 표현한다. 이들은 웹 페이지를 스크립트 또는 프로그래밍 언어들에서 사용될 수 있게 연결시켜주는 역할을 담당\n",
    "![DOM Tree](http://chie.co.kr/150225/images/pic_htmltree.gif)\n",
    "\n",
    " 페이지의 단일 element에 접근하는 api\n",
    " - find_element_by_name(‘HTML_name’)\n",
    " - find_element_by_id(‘HTML_id’)\n",
    " - find_element_by_xpath(‘/html/body/some/xpath’)\n",
    "\n",
    " 페이지의 여러 elements에 접근하는 api\n",
    " - find_element_by_css_selector(‘#css > div.selector’)\n",
    " - find_element_by_class_name(‘some_class_name’)\n",
    " - find_element_by_tag_name(‘h1’) \n",
    " \n",
    "### Selenium으로 요소 조작하기\n",
    " DOM 요소에 적용할 수 있는 메서드와 속성\n",
    " - clear() : 글자입력 DOM요소를 clear\n",
    " - click() : 요소 클릭\n",
    " - send_keys() : 특수키 입력\n",
    "  - from selenium.Webdriver.common.keys import Keys\n",
    "  - Keys : DELETE, ENTER, SHIFT...\n",
    "  \n",
    "### Selenium 드라이버 조작\n",
    " PhantomJS 전용 드라이버의 메소드와 속성\n",
    " - add_cookie() : 쿠키값을 딕셔너리 형식으로 저장\n",
    " - back() / forword()\n",
    " - close() : 현재 브라우져 닫기\n",
    " - current_url : 현재 URL를 추출\n",
    " - save_screenshot(filename) : 스크린샷 저장 \n",
    " "
   ]
  },
  {
   "cell_type": "markdown",
   "metadata": {},
   "source": [
    "## 자바스크립트 실행해보기"
   ]
  },
  {
   "cell_type": "code",
   "execution_count": 4,
   "metadata": {},
   "outputs": [
    {
     "name": "stdout",
     "output_type": "stream",
     "text": [
      "150\n"
     ]
    }
   ],
   "source": [
    "from selenium import webdriver\n",
    "# PhantomJS 드라이버 추출하기\n",
    "executable_path='/Users/hyungsoklee/Documents/play_with_data/phantomjs-2.1.1-macosx/bin/phantomjs'\n",
    "browser = webdriver.PhantomJS(executable_path)\n",
    "browser.implicitly_wait(3)\n",
    "# 적당한 웹 페이지 열기\n",
    "browser.get(\"https://google.com\")\n",
    "# 자바스크립트 실행하기\n",
    "r = browser.execute_script(\"return 100 + 50\")\n",
    "print(r)"
   ]
  }
 ],
 "metadata": {
  "anaconda-cloud": {},
  "kernelspec": {
   "display_name": "Python 3",
   "language": "python",
   "name": "python3"
  },
  "language_info": {
   "codemirror_mode": {
    "name": "ipython",
    "version": 3
   },
   "file_extension": ".py",
   "mimetype": "text/x-python",
   "name": "python",
   "nbconvert_exporter": "python",
   "pygments_lexer": "ipython3",
   "version": "3.6.2"
  }
 },
 "nbformat": 4,
 "nbformat_minor": 2
}
