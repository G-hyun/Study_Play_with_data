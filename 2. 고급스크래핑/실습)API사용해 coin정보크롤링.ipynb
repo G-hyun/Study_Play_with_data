{
 "cells": [
  {
   "cell_type": "markdown",
   "metadata": {},
   "source": [
    "## 크롤링 실습  - Coinmarketcap API 크롤링"
   ]
  },
  {
   "cell_type": "code",
   "execution_count": 1,
   "metadata": {},
   "outputs": [
    {
     "name": "stdout",
     "output_type": "stream",
     "text": [
      "몇 위부터 : 1\n",
      "코인 수 : 10\n"
     ]
    },
    {
     "ename": "TypeError",
     "evalue": "list indices must be integers or slices, not type",
     "output_type": "error",
     "traceback": [
      "\u001b[0;31m---------------------------------------------------------------------------\u001b[0m",
      "\u001b[0;31mTypeError\u001b[0m                                 Traceback (most recent call last)",
      "\u001b[0;32m<ipython-input-1-eea8d6689d22>\u001b[0m in \u001b[0;36m<module>\u001b[0;34m()\u001b[0m\n\u001b[1;32m     16\u001b[0m \u001b[0;34m\u001b[0m\u001b[0m\n\u001b[1;32m     17\u001b[0m \u001b[0;31m# print(data)\u001b[0m\u001b[0;34m\u001b[0m\u001b[0;34m\u001b[0m\u001b[0m\n\u001b[0;32m---> 18\u001b[0;31m \u001b[0mprint\u001b[0m\u001b[0;34m(\u001b[0m\u001b[0mdata\u001b[0m\u001b[0;34m[\u001b[0m\u001b[0mtype\u001b[0m\u001b[0;34m]\u001b[0m\u001b[0;34m)\u001b[0m\u001b[0;34m\u001b[0m\u001b[0m\n\u001b[0m\u001b[1;32m     19\u001b[0m \u001b[0mprint\u001b[0m\u001b[0;34m(\u001b[0m\u001b[0mdata\u001b[0m\u001b[0;34m[\u001b[0m\u001b[0;36m0\u001b[0m\u001b[0;34m]\u001b[0m\u001b[0;34m)\u001b[0m\u001b[0;34m\u001b[0m\u001b[0m\n",
      "\u001b[0;31mTypeError\u001b[0m: list indices must be integers or slices, not type"
     ]
    }
   ],
   "source": [
    "import requests\n",
    "import json\n",
    "\n",
    "# 조회할 순위 입력받기\n",
    "\n",
    "Start = int(input(\"몇 위부터 : \"))\n",
    "Limit = int(input(\"코인 수 : \"))\n",
    "\n",
    "# api 구성하기\n",
    "api = \"https://api.coinmarketcap.com/v1/ticker/?convert=KRW&start={}&limit={}\"\n",
    "url = api.format(Start,Limit)\n",
    "\n",
    "# API 요청보내고 결과를 JSON 형식으로 변환하기\n",
    "res = requests.get(api)\n",
    "data = json.loads(res.text)\n",
    "\n",
    "# print(data)\n",
    "print(data[type])\n",
    "print(data[0])"
   ]
  },
  {
   "cell_type": "code",
   "execution_count": null,
   "metadata": {
    "collapsed": true
   },
   "outputs": [],
   "source": [
    "\n",
    "# 입력받은 str - > int 자료형 변환\n",
    "\n",
    "\n",
    "#정보 가져오기\n",
    "for i in range(Start-1,Limit):\n",
    "    print(i+1,\".\" ,data[i]['symbol'], sep = \"\")\n",
    "    print(\"현재가격 : \", int(float(data[i]['price_krw'])),\"원\", sep = \"\")\n",
    "    print(\"24시간 거래량 : \", int(float(data[i]['24h_volume_krw'])),\"원\", sep = \"\")\n",
    "    print(\"1시간 가격변동 : \", data[i]['percent_change_1h'],\"%\", sep = \"\")\n",
    "    print(\"24시간 가격변동 : \", data[i]['percent_change_24h'],\"%\", sep = \"\")"
   ]
  },
  {
   "cell_type": "code",
   "execution_count": null,
   "metadata": {
    "collapsed": true
   },
   "outputs": [],
   "source": []
  },
  {
   "cell_type": "code",
   "execution_count": null,
   "metadata": {
    "collapsed": true
   },
   "outputs": [],
   "source": []
  },
  {
   "cell_type": "code",
   "execution_count": null,
   "metadata": {
    "collapsed": true
   },
   "outputs": [],
   "source": []
  }
 ],
 "metadata": {
  "kernelspec": {
   "display_name": "Python 3",
   "language": "python",
   "name": "python3"
  },
  "language_info": {
   "codemirror_mode": {
    "name": "ipython",
    "version": 3
   },
   "file_extension": ".py",
   "mimetype": "text/x-python",
   "name": "python",
   "nbconvert_exporter": "python",
   "pygments_lexer": "ipython3",
   "version": "3.6.2"
  }
 },
 "nbformat": 4,
 "nbformat_minor": 2
}
