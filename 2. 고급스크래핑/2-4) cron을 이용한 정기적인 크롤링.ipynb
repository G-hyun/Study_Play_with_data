{
 "cells": [
  {
   "cell_type": "code",
   "execution_count": 1,
   "metadata": {
    "collapsed": true
   },
   "outputs": [],
   "source": [
    "# cron의 기능\n",
    "# 1) 데이터 수집과 같은 애플리케이션에서 필요한 정기적인 처리 \n",
    "# 2) 로그, 백업과 같은 시스템에서 필요한 정기적인 처리\n",
    "# 3) 시스템이 제대로 동작하고 있는지 정기적으로 감시하는 처리\n"
   ]
  },
  {
   "cell_type": "code",
   "execution_count": 8,
   "metadata": {},
   "outputs": [
    {
     "name": "stdout",
     "output_type": "stream",
     "text": [
      "usd/krw = 1,115.50\n",
      "2017-11-06.txt is created.\n"
     ]
    }
   ],
   "source": [
    "# 예시. 매일 환율 정보 저장하기\n",
    "\n",
    "from bs4 import BeautifulSoup\n",
    "import urllib.request as req\n",
    "import datetime\n",
    "\n",
    "url = \"http://info.finance.naver.com/marketindex/\"\n",
    "\n",
    "# 환율 데이터 추출하기\n",
    "with req.urlopen(url) as res:\n",
    "    soup = BeautifulSoup(res, \"html.parser\")\n",
    "    # price = soup05.select_one(\"div.head_info > span.value\").string\n",
    "    # print(\"usd/krw = %s\" %price)\n",
    "    \n",
    "    ex_rate_usd_krw = soup.select_one(\"a.head.usd > div.head_info > span.value\").string\n",
    "    print(\"usd/krw = %s\" %ex_rate_usd_krw)\n",
    "    \n",
    "time_stamp = datetime.date.today()\n",
    "file_name = str(time_stamp) + \".txt\"\n",
    "with open(file_name, \"w\", encoding=\"utf-8\") as fp:\n",
    "    print(\"%s is created.\" %file_name)\n",
    "    fp.write(ex_rate_usd_krw)"
   ]
  },
  {
   "cell_type": "code",
   "execution_count": null,
   "metadata": {
    "collapsed": true
   },
   "outputs": [],
   "source": [
    "# crontab 설정\n",
    "# (분:0-59) (시:0-23) (일:1-31) (월:1-12) (요일:0-7) <실행할 명령어의 경로>\n",
    "# 입력방식\n",
    "# - 리스트형식: 0,10,30\n",
    "# - 범위: 1-5 \n",
    "# - 간격: */10\n",
    "# - 와일드카드: *\n",
    "'''\n",
    "PATH=/usr/local/bin:/usr/bin:/bin\n",
    "PYTHONIOENCODING='utf-8'\n",
    "\n",
    "0 7 * * * python /home/test/everyday-dollar.py\n",
    "30 8 * * * /usr/bin/say \"Good morning\"\n",
    "30 19 * * 4 /usr/bin/say \"파이썬 그룹 스터디 시작!\"\n",
    "'''"
   ]
  }
 ],
 "metadata": {
  "kernelspec": {
   "display_name": "Python [conda env:vics]",
   "language": "python",
   "name": "conda-env-vics-py"
  },
  "language_info": {
   "codemirror_mode": {
    "name": "ipython",
    "version": 3
   },
   "file_extension": ".py",
   "mimetype": "text/x-python",
   "name": "python",
   "nbconvert_exporter": "python",
   "pygments_lexer": "ipython3",
   "version": "3.6.3"
  }
 },
 "nbformat": 4,
 "nbformat_minor": 2
}
