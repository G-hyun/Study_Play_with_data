{
 "cells": [
  {
   "cell_type": "markdown",
   "metadata": {},
   "source": [
    "# 2-1 로그인이 필요한 사이트에서 다운받기 제목변경 테스트"
   ]
  },
  {
   "cell_type": "markdown",
   "metadata": {},
   "source": [
    "## HTTP 통신 ( Hyper Text Transfer Protocal )\n",
    " - 서버가 html 문서(잘디자인된 문서)를 유저에게 보여주기 위한 목적으로 만들어진 통신규약  \n",
    " - Connectionless 하고 Stateless 한 프로토콜\n",
    "  > HTTP는 Stateless하기 때문에 로그인 상태 정보를 유지하지 않아서 쿠키와 세션을 사용하지 않으면 게시판이나 메일을 확인할 때 페이지를 이동할 때마다 로그인 해야 한다.\n",
    " - 도메인 ex> http://www.testsitexxx.com:8080/test.html\n",
    "  > schema :// hostname : port / page\n",
    "  > default port : 80 ( 안보이면 이거 쓰는거임 )\n",
    " - 기본적인 stateless 통신 ( 상태를 전혀 저장하지 않는 구조 : 대용량 유저의 요청과 응답을 받기 위함 )\n",
    " \n",
    "### 쿠키 ( Cookie )\n",
    "  - 헨젤과 그레텔의 지나온 길을 걸어온것을 표시하기 위해 쿠키조각을 떨어뜨리는것에 유래\n",
    "  - 웹브라우져를 통해 사이트에 방문하는 사람의 일시적으로 데이터를 저장하는 기능 \n",
    "  > 쿠키는 클라이언트에 저장되는 키와 값이 들어 있는 작은 데이터 파일이다. 쿠키에는 이름, 값, 만료 날짜, 경로 정보가 들어있다.Response Header의 Set-Cookie 속성을 사용하면 클라이언트에 쿠키를 만들 수 있다. 만들어진 쿠키는 사용자가 요청하지 않아도 브라우저가 매번 Request Header에 넣어서 서버에 전송\n",
    "  \n",
    "### 세션 ( Session )\n",
    "  - 쿠키를 사용에 데이터를 저장함\n",
    "  세션은 서버 메모리에 저장되는 정보다. 서버에 저장되기 때문에 쿠키와는 달리 사용자 정보가 노출되지 않는다.\n",
    "  - 로그인 처리 과정\n",
    "    1. 사용자가 로그인 페이지에 id/pw를 입력하고 로그인 버튼 클릭\n",
    "    2. 서버에서 사용자가 보낸 id/pw 정보를 확인하고 존재하는 사용자면 서버 메모리에 유일한 세션 ID를 생성하고 사용자 id와 매핑 정보를 저장\n",
    "    3. 클라이언트에 세션 ID를 쿠키로 저장\n",
    "    4. 요청시 마다 서버는 Request Header의 쿠키 정보(세션 ID)를 확인하고 세션 ID와 매핑되는 id의 사용자로 인식\n",
    "  > 세션은 서버 메모리에 저장되지만 세션 역시 클라이언트에 쿠키로 저장된다는 것이 중요하다.\n",
    "  > 이것도 세션ID를 가로채서 변경할 우려가 있기때문에 보안에 보완할점이 있음.\n",
    "\n",
    "\n",
    "### urllib.request 패키지 이용\n",
    "  - HTTP 전반적인 기능 탑재\n",
    "   - GET\n",
    "   - POST\n",
    "   - DELETE\n",
    "  - raise_for_status() 함수\n",
    "   - 요청의 성공여부를 알려면 request.codes.ok와 대조해야함\n",
    "   - 요청에 대한 문제가 생겼다면 프로그램을 중단시킬 수 있도록 되어 있음.\n",
    "\n",
    "### OPEN API 사용의 예 \n",
    "  - https://developer.github.com/v3/\n",
    "  - https://www.instagram.com/developer/\n",
    "  - http://openapi.11st.co.kr/openapi/OpenApiFrontMain.tmall\n",
    "  "
   ]
  },
  {
   "cell_type": "code",
   "execution_count": 1,
   "metadata": {
    "collapsed": false
   },
   "outputs": [
    {
     "name": "stdout",
     "output_type": "stream",
     "text": [
      "마일리지: 650\n",
      "이코인: 1,480\n"
     ]
    }
   ],
   "source": [
    "# 파이선으로 로그인하기\n",
    "# 로그인을 위한 모듈 추출하기\n",
    "import requests\n",
    "from bs4 import BeautifulSoup\n",
    "from urllib.parse import urljoin\n",
    "\n",
    "# 아이디와 비밀번호 지정하기[자신의 것을 사용해주세요] --- (※1)\n",
    "USER = \"hyungsok7\"\n",
    "PASS = \"XXXXX\"\n",
    "\n",
    "# 세션 시작하기 --- (※2)\n",
    "session = requests.session()\n",
    "\n",
    "# 로그인하기 --- (※3)\n",
    "login_info = {\n",
    "    \"m_id\": USER,  # 아이디 지정\n",
    "    \"m_passwd\": PASS  # 비밀번호 지정\n",
    "}\n",
    "url_login = \"http://www.hanbit.co.kr/member/login_proc.php\"\n",
    "res = session.post(url_login, data=login_info)\n",
    "res.raise_for_status() # 오류가 발생하면 예외가 발생합니다.\n",
    "\n",
    "# 마이페이지에 접근하기 --- (※4)\n",
    "url_mypage = \"http://www.hanbit.co.kr/myhanbit/myhanbit.html\" \n",
    "res = session.get(url_mypage)\n",
    "res.raise_for_status()\n",
    "\n",
    "# 마일리지와 이코인 가져오기 --- (※5)\n",
    "soup = BeautifulSoup(res.text, \"html.parser\")\n",
    "mileage = soup.select_one(\".mileage_section1 span\").get_text()\n",
    "ecoin = soup.select_one(\".mileage_section2 span\").get_text()\n",
    "print(\"마일리지: \" + mileage)\n",
    "print(\"이코인: \" + ecoin)"
   ]
  },
  {
   "cell_type": "code",
   "execution_count": 2,
   "metadata": {
    "collapsed": false
   },
   "outputs": [
    {
     "name": "stdout",
     "output_type": "stream",
     "text": [
      "2017/11/05 16:57:09\n",
      "b'2017/11/05 16:57:09'\n"
     ]
    }
   ],
   "source": [
    "# 데이터 가져오기\n",
    "import requests\n",
    "r = requests.get(\"http://api.aoikujira.com/time/get.php\")\n",
    "\n",
    "# 텍스트 형식으로 데이터 추출하기\n",
    "text = r.text\n",
    "print(text)\n",
    "\n",
    "# 바이너리 형식으로 데이터 추출하기\n",
    "bin = r.content\n",
    "print(bin)"
   ]
  },
  {
   "cell_type": "code",
   "execution_count": 1,
   "metadata": {
    "collapsed": false
   },
   "outputs": [
    {
     "name": "stdout",
     "output_type": "stream",
     "text": [
      "saved\n"
     ]
    }
   ],
   "source": [
    "# 이미지 데이터 추출하기\n",
    "import requests\n",
    "r = requests.get(\"http://wikibook.co.kr/wikibook.png\")\n",
    "\n",
    "# 바이너리 형식으로 데이터 저장하기\n",
    "with open(\"test.png\", \"wb\") as f:\n",
    "    f.write(r.content)\n",
    "print(\"saved\")"
   ]
  }
 ],
 "metadata": {
  "anaconda-cloud": {},
  "kernelspec": {
   "display_name": "Python [default]",
   "language": "python",
   "name": "python3"
  },
  "language_info": {
   "codemirror_mode": {
    "name": "ipython",
    "version": 3
   },
   "file_extension": ".py",
   "mimetype": "text/x-python",
   "name": "python",
   "nbconvert_exporter": "python",
   "pygments_lexer": "ipython3",
   "version": "3.5.2"
  }
 },
 "nbformat": 4,
 "nbformat_minor": 2
}
