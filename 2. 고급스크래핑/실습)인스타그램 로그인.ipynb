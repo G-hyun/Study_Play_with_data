{
 "cells": [
  {
   "cell_type": "code",
   "execution_count": 34,
   "metadata": {},
   "outputs": [
    {
     "name": "stdout",
     "output_type": "stream",
     "text": [
      "로그인 페이지로 접근\n"
     ]
    }
   ],
   "source": [
    "from selenium import webdriver\n",
    "import time\n",
    "# 팬텀 JS 추출하기\n",
    "executable_path='/Users/jkw/downloads/phantomjs-2.1.1-macosx/bin/phantomjs'\n",
    "driver = webdriver.PhantomJS(executable_path)\n",
    "# 로그인페이지 설정하기\n",
    "driver.get('https://www.instagram.com/accounts/login')\n",
    "\n",
    "# html = driver.page_source\n",
    "# print(html)\n",
    "driver.implicitly_wait(3)\n",
    "# 스크린샷으로 로그인 페이지 확인하기\n",
    "driver.save_screenshot(\"Loginpage.png\")\n",
    "\n",
    "# 스크린샷 로딩 중, 페이지 소스에 정보가 나타나지 않음 - > 자바스크립트로 구현되어있음\n",
    "print(\"로그인 페이지로 접근\")\n"
   ]
  },
  {
   "cell_type": "code",
   "execution_count": 35,
   "metadata": {},
   "outputs": [
    {
     "data": {
      "text/plain": [
       "True"
      ]
     },
     "execution_count": 35,
     "metadata": {},
     "output_type": "execute_result"
    }
   ],
   "source": [
    "#로그인 아이디 비밀번호 설정\n",
    "USER = \"playwithdata@gmail.com\"\n",
    "PASS = \"play1234\"\n",
    "#아이디, 비밀번호 입력하기\n",
    "ID_USER = driver.find_element_by_name('username')\n",
    "ID_USER.clear()\n",
    "ID_USER.send_keys(USER)\n",
    "ID_PASS = driver.find_element_by_name('password')\n",
    "ID_PASS.clear()\n",
    "ID_PASS.send_keys(PASS)\n",
    "#아이디, 비밀번호 입력 확인\n",
    "driver.save_screenshot(\"Loginpage2.png\")\n",
    "\n",
    "# 로그인버튼누르기\n",
    "#Xpath : //*[@id=\"react-root\"]/section/main/div/article/div/div[1]/div/form/span/button\n",
    "Login = driver.find_element_by_xpath('//*[@id=\"react-root\"]/section/main/div/article/div/div/div/form/span/button')\n",
    "Login.click()\n",
    "# 로그인 버튼 확인\n",
    "driver.save_screenshot(\"Loginpage3.png\")\n",
    "time.sleep(3)\n",
    "driver.save_screenshot(\"Loginpage4.png\")\n",
    "\n",
    "#Xpath : /html/body/div[2]/div/div/div[2]/div/div/button\n",
    "remove = driver.find_element_by_xpath('/html/body/div/div/div/div/div/div/button')\n",
    "remove.click()\n",
    "#확인하기\n",
    "driver.save_screenshot(\"Loginpage5.png\")\n"
   ]
  },
  {
   "cell_type": "code",
   "execution_count": null,
   "metadata": {
    "collapsed": true
   },
   "outputs": [],
   "source": []
  }
 ],
 "metadata": {
  "kernelspec": {
   "display_name": "Python 3",
   "language": "python",
   "name": "python3"
  },
  "language_info": {
   "codemirror_mode": {
    "name": "ipython",
    "version": 3
   },
   "file_extension": ".py",
   "mimetype": "text/x-python",
   "name": "python",
   "nbconvert_exporter": "python",
   "pygments_lexer": "ipython3",
   "version": "3.6.2"
  }
 },
 "nbformat": 4,
 "nbformat_minor": 2
}
