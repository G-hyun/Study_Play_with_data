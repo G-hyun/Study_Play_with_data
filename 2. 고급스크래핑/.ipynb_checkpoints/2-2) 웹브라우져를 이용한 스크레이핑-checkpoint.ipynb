{
 "cells": [
  {
   "cell_type": "markdown",
   "metadata": {},
   "source": [
    "# 2-2 웹 브라우저를 이용한 스크레이핑"
   ]
  },
  {
   "cell_type": "markdown",
   "metadata": {},
   "source": [
    "## 웹 브라우저 원격 조작에 사용하는 Selenium\n",
    " ### 기능\n",
    " 1. 자동으로 URL 열고 클릭, 스크롤하거나, 문자를 입력하는등의 다양한 조작을 자동화\n",
    " 2. 화면 캡쳐해서 이미지 저장\n",
    " 3. HTML의 특정 부분을 꺼내는것도 가능\n",
    " \n",
    "## 화면 없는 웹 브라우저 PhantomJS\n",
    "\n",
    "\n",
    "  "
   ]
  },
  {
   "cell_type": "markdown",
   "metadata": {},
   "source": [
    "## 웹 사이트를 이미지로 캡쳐해보기 "
   ]
  },
  {
   "cell_type": "code",
   "execution_count": 5,
   "metadata": {
    "collapsed": true
   },
   "outputs": [],
   "source": [
    "from selenium import webdriver\n",
    "url = \"http://www.naver.com/\"\n",
    "# PhantomJS 드라이버 추출하기 --- (※1)\n",
    "executable_path='/Users/hyungsoklee/Documents/play_with_data/phantomjs-2.1.1-macosx/bin/phantomjs'\n",
    "browser = webdriver.PhantomJS(executable_path)\n",
    "# 3초 대기하기 --- (※2)\n",
    "browser.implicitly_wait(3)\n",
    "# URL 읽어 들이기 --- (※3)\n",
    "browser.get(url)\n",
    "# 화면을 캡처해서 저장하기 --- (※4)\n",
    "browser.save_screenshot(\"Website.png\")\n",
    "# 브라우저 종료하기 --- (※5)\n",
    "browser.quit()"
   ]
  },
  {
   "cell_type": "markdown",
   "metadata": {
    "collapsed": true
   },
   "source": [
    "## 네이버에 로그인해서 구매한 물건 목록 가져오기"
   ]
  },
  {
   "cell_type": "code",
   "execution_count": 2,
   "metadata": {},
   "outputs": [
    {
     "name": "stdout",
     "output_type": "stream",
     "text": [
      "로그인 페이지에 접근합니다.\n",
      "로그인 버튼을 클릭합니다.\n",
      "[]\n"
     ]
    }
   ],
   "source": [
    "from selenium import webdriver\n",
    "USER = \"hyungsok7\"\n",
    "PASS = \"XXXXX\"\n",
    "# PhantomJS 드라이버 추출하기 --- (※1)\n",
    "executable_path='/Users/hyungsoklee/Documents/play_with_data/phantomjs-2.1.1-macosx/bin/phantomjs'\n",
    "browser = webdriver.PhantomJS(executable_path)\n",
    "browser.implicitly_wait(3)\n",
    "# 로그인 페이지에 접근하기 --- (※2)\n",
    "url_login = \"https://nid.naver.com/nidlogin.login\"\n",
    "browser.get(url_login)\n",
    "print(\"로그인 페이지에 접근합니다.\")\n",
    "# 텍스트 박스에 아이디와 비밀번호 입력하기 --- (※3)\n",
    "e = browser.find_element_by_id(\"id\")\n",
    "e.clear()\n",
    "e.send_keys(USER)\n",
    "e = browser.find_element_by_id(\"pw\")\n",
    "e.clear()\n",
    "e.send_keys(PASS)\n",
    "# 입력 양식 전송해서 로그인하기 --- (※4)\n",
    "form = browser.find_element_by_css_selector(\"input.btn_global[type=submit]\")\n",
    "form.submit()\n",
    "print(\"로그인 버튼을 클릭합니다.\")\n",
    "# 쇼핑 페이지의 데이터 가져오기 --- (※5)\n",
    "browser.get(\"https://order.pay.naver.com/home?tabMenu=SHOPPING\")\n",
    "# 쇼핑 목록 출력하기 --- (※6)\n",
    "products = browser.find_elements_by_css_selector(\".p_info span\")\n",
    "print(products)\n",
    "for product in products:\n",
    "    print(\"-\", product.text)"
   ]
  },
  {
   "cell_type": "code",
   "execution_count": null,
   "metadata": {
    "collapsed": true
   },
   "outputs": [],
   "source": []
  }
 ],
 "metadata": {
  "anaconda-cloud": {},
  "kernelspec": {
   "display_name": "Python 3",
   "language": "python",
   "name": "python3"
  },
  "language_info": {
   "codemirror_mode": {
    "name": "ipython",
    "version": 3
   },
   "file_extension": ".py",
   "mimetype": "text/x-python",
   "name": "python",
   "nbconvert_exporter": "python",
   "pygments_lexer": "ipython3",
   "version": "3.6.2"
  }
 },
 "nbformat": 4,
 "nbformat_minor": 2
}
