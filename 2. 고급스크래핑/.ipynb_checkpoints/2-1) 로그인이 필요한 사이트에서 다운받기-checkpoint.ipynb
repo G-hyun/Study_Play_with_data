{
 "cells": [
  {
   "cell_type": "markdown",
   "metadata": {},
   "source": [
    "# 2-1 로그인이 필요한 사이트에서 다운받기"
   ]
  },
  {
   "cell_type": "markdown",
   "metadata": {},
   "source": [
    "- 용어\n",
    " 1. HTTP 통신 : 웹브라우져 & 웹서버간의 통신 규약 \n",
    " ex > https://developer.github.com/v3/\n",
    " \n",
    " <img src=\"https://docs.google.com/drawings/d/1O6w7drXt5aw6vogI8-PRR7xA5g3ay0UmEy67fenyQ54/pub?w=415&h=162\"/>\n",
    " \n",
    " \n",
    " "
   ]
  }
 ],
 "metadata": {
  "anaconda-cloud": {},
  "kernelspec": {
   "display_name": "Python 3",
   "language": "python",
   "name": "python3"
  },
  "language_info": {
   "codemirror_mode": {
    "name": "ipython",
    "version": 3
   },
   "file_extension": ".py",
   "mimetype": "text/x-python",
   "name": "python",
   "nbconvert_exporter": "python",
   "pygments_lexer": "ipython3",
   "version": "3.6.2"
  }
 },
 "nbformat": 4,
 "nbformat_minor": 2
}
