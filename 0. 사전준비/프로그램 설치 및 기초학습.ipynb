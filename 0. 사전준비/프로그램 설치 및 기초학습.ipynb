{
 "cells": [
  {
   "cell_type": "markdown",
   "metadata": {},
   "source": [
    "\n",
    "[파이썬/아나콘다/쥬피터노트북설치]\n",
    "   \n",
    "   - 설치파일: https://www.anaconda.com/download/\n",
    "   \n",
    "   - 가이드: http://blog.naver.com/PostView.nhn?blogId=nbic2014&logNo=220948501051\n",
    "     \n",
    "   ※ 파이썬은 3.x 대 버전으로 설치. (2.x 버전은 곧 유지보수 기간 종료됨)\n",
    "\n",
    "\n",
    "\n"
   ]
  },
  {
   "cell_type": "markdown",
   "metadata": {},
   "source": [
    "\n",
    "[파이썬 기초 학습]\n",
    "\n",
    "   - 점프투파이썬 무료교재:  https://wikidocs.net/book/1\n",
    "\n",
    "       02장 파이썬 프로그래밍의 기초, 자료형\n",
    "       \n",
    "       03장 프로그램의 구조를 쌓는다! 제어문\n",
    "       \n",
    "       04장 프로그램의 입력과 출력은 어떻게 해야 할까?\n",
    "       \n",
    "       \"2~4장까지는 꼭 듣고 오세요\"\n",
    "\n",
    "     \n",
    "     \n",
    "     \n",
    "   - Codeacademy: https://www.codecademy.com/ko/tracks/python-ko\n",
    "                  \"처음~ 반복문까지는 꼭 해보시고 오세요\"\n",
    "\n",
    "\n"
   ]
  },
  {
   "cell_type": "markdown",
   "metadata": {},
   "source": [
    "[기타 준비하면 좋을 내용들]\n",
    "\n",
    "\n",
    " - 교재 사전 탐색: 유튜브 강의 + 교재 내용 확인.\n",
    "\n",
    "\n",
    " - 쥬피터노트북 사용법 / 마크다운 문서 사용법 연습\n",
    "\n",
    "\n",
    " - GIthub 에 발표자료 올리기\n",
    " \n",
    "    Github 주소: https://github.com/namsoojang/Study_Play_with_data\n",
    "\n",
    "\n",
    " ※ Github Desktop 설치하기(Github을 GUI로 편하게 사용하기):\n",
    "  https://github.com/GP101/2016/wiki/github-desktop-%EC%84%A4%EC%B9%98-%EB%B0%8F-%EC%82%AC%EC%9A%A9%ED%95%98%EA%B8%B0"
   ]
  },
  {
   "cell_type": "code",
   "execution_count": null,
   "metadata": {
    "collapsed": true
   },
   "outputs": [],
   "source": []
  }
 ],
 "metadata": {
  "kernelspec": {
   "display_name": "Python 3",
   "language": "python",
   "name": "python3"
  },
  "language_info": {
   "codemirror_mode": {
    "name": "ipython",
    "version": 3
   },
   "file_extension": ".py",
   "mimetype": "text/x-python",
   "name": "python",
   "nbconvert_exporter": "python",
   "pygments_lexer": "ipython3",
   "version": "3.6.1"
  }
 },
 "nbformat": 4,
 "nbformat_minor": 2
}
