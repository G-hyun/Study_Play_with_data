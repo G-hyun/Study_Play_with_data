{
 "cells": [
  {
   "cell_type": "markdown",
   "metadata": {},
   "source": [
    "[스터디 장소: 유쾌한발상]\n",
    " - 지하철역: 종각역 4번출구, 을지로입구역 번출구, 을지로3가역 1번출구, 종로3가역 15번출구\n",
    " - 이디야 바로 옆 건물 \n",
    " - '바다회집' 건물 5층(왼편에 엘리베이터 있음)"
   ]
  },
  {
   "cell_type": "markdown",
   "metadata": {},
   "source": [
    "![지도](./studyroom/map.png)"
   ]
  },
  {
   "cell_type": "markdown",
   "metadata": {},
   "source": [
    "\n",
    "![그림1](./studyroom/20171020_183003.jpg)\n",
    "![그림2](./studyroom/20171020_183013.jpg)\n",
    "![그림3](./studyroom/20171020_183021.jpg)\n",
    "![그림4](./studyroom/20171020_183028.jpg)\n",
    "\n"
   ]
  },
  {
   "cell_type": "markdown",
   "metadata": {},
   "source": []
  },
  {
   "cell_type": "code",
   "execution_count": null,
   "metadata": {
    "collapsed": true
   },
   "outputs": [],
   "source": []
  }
 ],
 "metadata": {
  "kernelspec": {
   "display_name": "Python 3",
   "language": "python",
   "name": "python3"
  },
  "language_info": {
   "codemirror_mode": {
    "name": "ipython",
    "version": 3
   },
   "file_extension": ".py",
   "mimetype": "text/x-python",
   "name": "python",
   "nbconvert_exporter": "python",
   "pygments_lexer": "ipython3",
   "version": "3.6.1"
  }
 },
 "nbformat": 4,
 "nbformat_minor": 2
}
