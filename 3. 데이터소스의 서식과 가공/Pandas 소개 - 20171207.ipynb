{
 "cells": [
  {
   "cell_type": "markdown",
   "metadata": {},
   "source": [
    "# 데이터 자료형 "
   ]
  },
  {
   "cell_type": "markdown",
   "metadata": {},
   "source": [
    "## 1. NumPy 패키지 (Array) \n",
    "- 데이터 분석을 위한 기본 자료형\n",
    "- pandas 패키지의 근간이 됨"
   ]
  },
  {
   "cell_type": "markdown",
   "metadata": {},
   "source": [
    "### 1) 배열(Array)"
   ]
  },
  {
   "cell_type": "markdown",
   "metadata": {},
   "source": [
    "- **배열(array)**: 많은 숫자를 효율적으로 **한꺼번에 처리**하기 위한 자료형\n",
    " - 리스트(list) 대비 더 적은 메모리를 사용해서 더 빠르게 데이터 처리 가능\n",
    " - **벡터 연산 가능**\n",
    " - 모든 원소가 **같은 자료형**이어야 함 (※리스트: 다른 자료형 섞여도 ok)\n",
    " - 원소의 갯수는 고정\n",
    " - **NumPy** 이용하여 리스트를 배열로 변환"
   ]
  },
  {
   "cell_type": "code",
   "execution_count": 7,
   "metadata": {},
   "outputs": [
    {
     "name": "stdout",
     "output_type": "stream",
     "text": [
      "[0, 1, 2, 3]\n",
      "<class 'list'>\n",
      "[0 1 2 3]\n",
      "<class 'numpy.ndarray'>\n"
     ]
    }
   ],
   "source": [
    "import numpy as np\n",
    "list_ = [0,1,2,3]\n",
    "array_ = np.array([0,1,2,3])\n",
    "\n",
    "print(list_)\n",
    "print(type(list_))\n",
    "\n",
    "print(array_)\n",
    "print(type(array_))"
   ]
  },
  {
   "cell_type": "markdown",
   "metadata": {},
   "source": [
    "※ **ndarray**: n-dimensional array (다차원 배열)"
   ]
  },
  {
   "cell_type": "markdown",
   "metadata": {},
   "source": [
    "### 2) Array의 벡터화 연산"
   ]
  },
  {
   "cell_type": "code",
   "execution_count": 9,
   "metadata": {},
   "outputs": [
    {
     "name": "stdout",
     "output_type": "stream",
     "text": [
      "[0, 2, 4, 6]\n",
      "[0 2 4 6]\n"
     ]
    }
   ],
   "source": [
    "ans_l = [] \n",
    "\n",
    "# List 연산: for문 이용\n",
    "for i in list_:\n",
    "    ans_l.append(2*i)\n",
    "\n",
    "# Array 연산: 벡터 연산\n",
    "ans_a = 2*array_  \n",
    "    \n",
    "print(ans_l)\n",
    "print(ans_a)"
   ]
  },
  {
   "cell_type": "code",
   "execution_count": 15,
   "metadata": {},
   "outputs": [
    {
     "name": "stdout",
     "output_type": "stream",
     "text": [
      "[0, 1, 2, 3, 0, 1, 2, 3]\n",
      "[0, 1, 2, 3, 0, 1, 2, 3]\n"
     ]
    }
   ],
   "source": [
    "# List에 벡터화 연산? \n",
    "ans_l = list_*2\n",
    "print(ans_l)  # string의 덧셈, 곱셈처럼 list_ + list_ \n",
    "\n",
    "ans_l = list_ + list_\n",
    "print(ans_l)  "
   ]
  },
  {
   "cell_type": "code",
   "execution_count": 106,
   "metadata": {},
   "outputs": [
    {
     "name": "stdout",
     "output_type": "stream",
     "text": [
      "[False False  True False]\n",
      "[False False False  True]\n",
      "[False False False False]\n"
     ]
    }
   ],
   "source": [
    "# 논리 연산\n",
    "print(array_ == 2)\n",
    "print(array_ > 2)\n",
    "print((array_ == 2 ) & (array_ > 2))"
   ]
  },
  {
   "cell_type": "code",
   "execution_count": 115,
   "metadata": {},
   "outputs": [
    {
     "name": "stdout",
     "output_type": "stream",
     "text": [
      "6\n",
      "6\n",
      "6\n",
      "0\n",
      "3\n"
     ]
    }
   ],
   "source": [
    "# 집계 연산\n",
    "print(np.sum(array_))\n",
    "print(array_.sum())\n",
    "print(array_.sum(axis = 0))\n",
    "\n",
    "print(array_.min())\n",
    "print(array_.argmax())"
   ]
  },
  {
   "cell_type": "code",
   "execution_count": 117,
   "metadata": {},
   "outputs": [
    {
     "data": {
      "text/plain": [
       "array([0, 1, 2, 3])"
      ]
     },
     "execution_count": 117,
     "metadata": {},
     "output_type": "execute_result"
    }
   ],
   "source": [
    "# 정렬\n",
    "np.sort(array_)"
   ]
  },
  {
   "cell_type": "code",
   "execution_count": 118,
   "metadata": {},
   "outputs": [
    {
     "data": {
      "text/plain": [
       "0.75"
      ]
     },
     "execution_count": 118,
     "metadata": {},
     "output_type": "execute_result"
    }
   ],
   "source": [
    "# 통계연산\n",
    "np.mean(array_)\n",
    "np.var(array_)\n",
    "np.std(array_)\n",
    "np.percentile(array_, 25)"
   ]
  },
  {
   "cell_type": "markdown",
   "metadata": {},
   "source": [
    "### 3) ndarray (다차원 배열) & 행렬"
   ]
  },
  {
   "cell_type": "markdown",
   "metadata": {},
   "source": [
    "- **행렬(matrix)**: 2차원 배열 (행row X 열column)\n",
    " - **리스트를 원소로 갖는 리스트**를 array함수로 행렬 만들기\n",
    " - 예) 2X3 행렬: [[0,1,2],[2,3,4]]"
   ]
  },
  {
   "cell_type": "code",
   "execution_count": 88,
   "metadata": {
    "scrolled": true
   },
   "outputs": [
    {
     "name": "stdout",
     "output_type": "stream",
     "text": [
      "[[0 1 2]\n",
      " [2 3 4]]\n",
      "\n",
      "arr_2d는 2차원 배열입니다.\n",
      "모양은 (2, 3)\n",
      "\n",
      "[[[ 1  2  3  4]\n",
      "  [ 5  6  7  8]\n",
      "  [ 9 10 11 12]]\n",
      "\n",
      " [[13 14 15 16]\n",
      "  [17 18 19 20]\n",
      "  [21 22 23 24]]]\n",
      "\n",
      "arr_3d는 3차원 배열입니다.\n",
      "모양은 (2, 3, 4)\n",
      "\n"
     ]
    }
   ],
   "source": [
    "# 2X3 행렬(2차원배열)\n",
    "arr_2d = np.array([[0,1,2],[2,3,4]])\n",
    "\n",
    "print(arr_2d)\n",
    "print(\"\\narr_2d는 \" + str(arr_2d.ndim) + \"차원 배열입니다.\")\n",
    "print(\"모양은 \" + str(arr_2d.shape) + \"\\n\")\n",
    "\n",
    "\n",
    "# 2X3X4 3차원배열\n",
    "arr_3d = np.array([[[1,2,3,4],[5,6,7,8],[9,10,11,12]], [[13,14,15,16],[17,18,19,20],[21,22,23,24]]])\n",
    "\n",
    "print(arr_3d)\n",
    "print(\"\\narr_3d는 \" + str(arr_3d.ndim) + \"차원 배열입니다.\")\n",
    "print(\"모양은 \" + str(arr_3d.shape) + \"\\n\")"
   ]
  },
  {
   "cell_type": "code",
   "execution_count": 100,
   "metadata": {},
   "outputs": [
    {
     "name": "stdout",
     "output_type": "stream",
     "text": [
      "[ 0.  0.  0.]\n",
      "[[ 0.  0.]\n",
      " [ 0.  0.]\n",
      " [ 0.  0.]]\n",
      "[[0 0]\n",
      " [0 0]\n",
      " [0 0]]\n",
      "[ 1.  1.  1.]\n",
      "[0 1 2]\n",
      "[3 4 5]\n"
     ]
    }
   ],
   "source": [
    "# NumPy의 array 생성함수\n",
    "print(np.zeros(3))\n",
    "print(np.zeros((3, 2)))  # 주의!!!! zeros의 input은 튜플!!!!(3,2) \n",
    "print(np.zeros((3, 2), dtype=\"i\"))\n",
    "\n",
    "\n",
    "print(np.ones(3))\n",
    "print(np.arange(3))  # range함수와 똑같이 쓰면 됨\n",
    "print(np.arange(3,6,1))"
   ]
  },
  {
   "cell_type": "code",
   "execution_count": 104,
   "metadata": {},
   "outputs": [
    {
     "name": "stdout",
     "output_type": "stream",
     "text": [
      "[[0 1 2]\n",
      " [2 3 4]]\n",
      "[[0 2]\n",
      " [1 3]\n",
      " [2 4]]\n",
      "[[0]\n",
      " [1]\n",
      " [2]\n",
      " [2]\n",
      " [3]\n",
      " [4]]\n",
      "[[0 1 2 2 3 4]]\n"
     ]
    }
   ],
   "source": [
    "# 다차원 배열의 크기 변형\n",
    "print(arr_2d)\n",
    "print(arr_2d.T)\n",
    "print(arr_2d.reshape(6,1))\n",
    "print(arr_2d.reshape(1,6))"
   ]
  },
  {
   "cell_type": "markdown",
   "metadata": {},
   "source": [
    "### 4) 인덱싱\n",
    " - 인덱싱 순서: 가장 큰 덩어리의 수 -> 덩어리 내 원소 수 "
   ]
  },
  {
   "cell_type": "code",
   "execution_count": 67,
   "metadata": {},
   "outputs": [
    {
     "name": "stdout",
     "output_type": "stream",
     "text": [
      "[[[ 1  2  3  4]\n",
      "  [ 5  6  7  8]\n",
      "  [ 9 10 11 12]]\n",
      "\n",
      " [[13 14 15 16]\n",
      "  [17 18 19 20]\n",
      "  [21 22 23 24]]]\n",
      "2\n",
      "\n",
      "\n",
      "[[ 1  2  3  4]\n",
      " [ 5  6  7  8]\n",
      " [ 9 10 11 12]]\n",
      "3\n",
      "\n",
      "\n",
      "[1 2 3 4]\n",
      "4\n"
     ]
    }
   ],
   "source": [
    "print(arr_3d)\n",
    "print(len(arr_3d))\n",
    "print(\"\\n\")\n",
    "\n",
    "print(arr_3d[0])\n",
    "print(len(arr_3d[0]))\n",
    "print(\"\\n\")\n",
    "\n",
    "print(arr_3d[0][0])\n",
    "print(len(arr_3d[0][0])) #첫번째 덩어리의 첫번째 덩어리의 원소수.."
   ]
  },
  {
   "cell_type": "markdown",
   "metadata": {},
   "source": [
    "- 양수: 왼 -> 오 (0부터)\n",
    "- 음수: 오 -> 왼 (-1부터)\n",
    "\n",
    "- 다차원 배열에서 차원 순서대로 인덱싱"
   ]
  },
  {
   "cell_type": "code",
   "execution_count": 75,
   "metadata": {},
   "outputs": [
    {
     "name": "stdout",
     "output_type": "stream",
     "text": [
      "[[0 1 2]\n",
      " [2 3 4]]\n",
      "[2 3 4]\n",
      "3\n"
     ]
    }
   ],
   "source": [
    "# 음수 인덱싱\n",
    "print(arr_2d)\n",
    "print(arr_2d[-1])\n",
    "print(arr_2d[-1][-2])"
   ]
  },
  {
   "cell_type": "code",
   "execution_count": 76,
   "metadata": {},
   "outputs": [
    {
     "name": "stdout",
     "output_type": "stream",
     "text": [
      "3\n"
     ]
    }
   ],
   "source": [
    "# 차원 순서대로 -> 콤마로 구분 \n",
    "print(arr_2d[-1,-2])"
   ]
  },
  {
   "cell_type": "code",
   "execution_count": 77,
   "metadata": {
    "scrolled": true
   },
   "outputs": [
    {
     "name": "stdout",
     "output_type": "stream",
     "text": [
      "[[0 1 2]\n",
      " [2 3 4]]\n",
      "[0 1 2]\n",
      "[1 2]\n"
     ]
    }
   ],
   "source": [
    "# 슬라이싱\n",
    "print(arr_2d[:])   # 전체\n",
    "print(arr_2d[0, :])   # 전체\n",
    "print(arr_2d[0, 1:])   # 전체"
   ]
  },
  {
   "cell_type": "code",
   "execution_count": 86,
   "metadata": {},
   "outputs": [
    {
     "name": "stdout",
     "output_type": "stream",
     "text": [
      "[0 2 2 4]\n",
      "[0 2]\n"
     ]
    }
   ],
   "source": [
    "# 조건 인덱싱\n",
    "print(arr_2d[arr_2d%2==0])\n",
    "print(arr_2d[0, arr_2d[0]%2==0])"
   ]
  },
  {
   "cell_type": "markdown",
   "metadata": {},
   "source": [
    "## 2. Pandas 패키지 소개 (Dataframe & Series)"
   ]
  },
  {
   "cell_type": "markdown",
   "metadata": {},
   "source": [
    "- **Pandas 패키지**: NumPy 기반에서 개발된 데이터분석 관련 패키지\n",
    "    - 대표 자료형: 데이터프레임(Dataframe) & 시리즈(Series)\n",
    "    - 데이터프레임 = [시리즈1, 시리즈2, 시리즈3]"
   ]
  },
  {
   "cell_type": "code",
   "execution_count": 122,
   "metadata": {
    "collapsed": true
   },
   "outputs": [],
   "source": [
    "import pandas as pd "
   ]
  },
  {
   "cell_type": "markdown",
   "metadata": {},
   "source": [
    "### 1) 시리즈(Series) 클래스\n",
    "- 1차원 배열과 비슷 + 각 데이터의 고유 index가 있음 \n",
    "    - 딕셔너리처럼 고유명 지정 가능 (숫자 인덱스가 default)\n",
    "- 시리즈의 values = 1차원 array\n",
    "- **시리즈 생성 (Pandas의 Series 함수 이용)**\n",
    "    1. 리스트를 변환\n",
    "        - 인덱스 별도 지정 가능. 지정 안하면 숫자로 자동 지정(0,1,2,3...)\n",
    "    2. 딕셔너리를 변환  \n",
    "        - 순서 정하고 싶으면 인덱스의 순서 지정 "
   ]
  },
  {
   "cell_type": "code",
   "execution_count": 160,
   "metadata": {},
   "outputs": [
    {
     "name": "stdout",
     "output_type": "stream",
     "text": [
      "전현무    남\n",
      "박나래    여\n",
      "헨리     남\n",
      "한혜진    여\n",
      "dtype: object\n",
      "\n",
      "\n",
      "박나래    155\n",
      "전현무    179\n",
      "한혜진    178\n",
      "헨리     175\n",
      "dtype: int64\n",
      "\n",
      "\n",
      "전현무    76\n",
      "박나래    52\n",
      "헨리     69\n",
      "한혜진    54\n",
      "dtype: int64\n"
     ]
    }
   ],
   "source": [
    "# 보통 Series는 별도의 import를 하지 않고, pandas로 이용\n",
    "# from pandas import Series \n",
    "\n",
    "# 참고: 배열 생성 \n",
    "# arr = np.array([0,1,2,3]) \n",
    "\n",
    "#시리즈1 = 우리반 친구들의 성별 (인덱스 = 친구들 이름)\n",
    "## 리스트 -> 시리즈 \n",
    "s1 = pd.Series(['남', '여', '남', '여'], index=[\"전현무\", \"박나래\", \"헨리\", \"한혜진\"])\n",
    "\n",
    "#시리즈2 = 우리반 친구들의 키 (인덱스 = 친구들 이름)\n",
    "s2 = pd.Series({\"전현무\":179, \"박나래\":155, \"헨리\":175, \"한혜진\":178})\n",
    "\n",
    "#시리즈3 = 우리반 친구들의 몸무게 (인덱스 = 친구들 이름)\n",
    "## 딕셔너리 -> 시리즈 \n",
    "s3 = pd.Series({\"전현무\":76, \"박나래\":52, \"헨리\":69, \"한혜진\":54}, index=[\"전현무\", \"박나래\", \"헨리\", \"한혜진\"])\n",
    "\n",
    "\n",
    "print(s1)\n",
    "print(\"\\n\")\n",
    "print(s2)\n",
    "print(\"\\n\")\n",
    "print(s3)"
   ]
  },
  {
   "cell_type": "code",
   "execution_count": 140,
   "metadata": {},
   "outputs": [
    {
     "data": {
      "text/plain": [
       "Index(['전현무', '박나래', '헨리', '한혜진'], dtype='object')"
      ]
     },
     "execution_count": 140,
     "metadata": {},
     "output_type": "execute_result"
    }
   ],
   "source": [
    "s1.index"
   ]
  },
  {
   "cell_type": "code",
   "execution_count": 142,
   "metadata": {
    "scrolled": true
   },
   "outputs": [
    {
     "name": "stdout",
     "output_type": "stream",
     "text": [
      "RangeIndex(start=0, stop=4, step=1)\n"
     ]
    }
   ],
   "source": [
    "s = pd.Series([179, 155, 175, 178])\n",
    "s.index"
   ]
  },
  {
   "cell_type": "code",
   "execution_count": 130,
   "metadata": {},
   "outputs": [
    {
     "data": {
      "text/plain": [
       "array(['남', '여', '남', '여'], dtype=object)"
      ]
     },
     "execution_count": 130,
     "metadata": {},
     "output_type": "execute_result"
    }
   ],
   "source": [
    "s1.values"
   ]
  },
  {
   "cell_type": "code",
   "execution_count": 152,
   "metadata": {},
   "outputs": [
    {
     "data": {
      "text/plain": [
       "이름\n",
       "전현무    남\n",
       "박나래    여\n",
       "헨리     남\n",
       "한혜진    여\n",
       "Name: 성별, dtype: object"
      ]
     },
     "execution_count": 152,
     "metadata": {},
     "output_type": "execute_result"
    }
   ],
   "source": [
    "s1.name = \"성별\"  #시리즈의 이름 \n",
    "s1.index.name = \"이름\"  #시리즈 인덱스의 이름\n",
    "s1"
   ]
  },
  {
   "cell_type": "markdown",
   "metadata": {},
   "source": [
    "### 2) 데이터프레임(DataFrame) 클래스\n",
    "\n",
    "- 동일한 인덱스를 갖는 열 형태의 Series를 dictionary처럼 묶어놓은 것\n",
    "- **행 인덱스(index)** = 각 Instance의 이름 = 시리즈의 인덱스(**DB의 Key같은 존재**) \n",
    "- **열 인덱스(columns)** = 각 Feature의 이름 = 데이터프레임의 열 인덱스 (**dimension, metric의 이름**)\n",
    "    - 데이터프레임 = 우리반 친구들의 신체정보 \n",
    "        - 행 인덱스 = 친구들 이름\n",
    "        - 열 인덱스 = 성별, 키, 몸무게\n",
    "        - 각 열 = 시리즈\n",
    "    - (참고) Dimension & Metric, Pivot\n",
    "        - Dimension: 남/여, 연령대(20,30,40...), 출신지역,...\n",
    "        - Metric: 체지방률, GPA, 소득, ... \n",
    "        - DB테이블 vs 피벗테이블\n",
    "\n",
    "- 데이터프레임의 values = 다차원 배열\n",
    "- **데이터프레임 생성 (Pandas의 DataFrame 함수 이용) **\n",
    "    1. 딕셔너리(value가 리스트인)를 변환\n",
    "    2. 딕셔너리(value가 시리즈인)를 변환\n",
    "    3. 리스트의 리스트를 변환 \n",
    "        - 인덱스 별도 지정 가능. 지정 안하면 숫자로 자동 지정(0,1,2,3...)\n"
   ]
  },
  {
   "cell_type": "code",
   "execution_count": 181,
   "metadata": {},
   "outputs": [],
   "source": [
    "from pandas import DataFrame as df"
   ]
  },
  {
   "cell_type": "code",
   "execution_count": 198,
   "metadata": {},
   "outputs": [
    {
     "data": {
      "text/html": [
       "<div>\n",
       "<style>\n",
       "    .dataframe thead tr:only-child th {\n",
       "        text-align: right;\n",
       "    }\n",
       "\n",
       "    .dataframe thead th {\n",
       "        text-align: left;\n",
       "    }\n",
       "\n",
       "    .dataframe tbody tr th {\n",
       "        vertical-align: top;\n",
       "    }\n",
       "</style>\n",
       "<table border=\"1\" class=\"dataframe\">\n",
       "  <thead>\n",
       "    <tr style=\"text-align: right;\">\n",
       "      <th></th>\n",
       "      <th>몸무게</th>\n",
       "      <th>성별</th>\n",
       "      <th>키</th>\n",
       "    </tr>\n",
       "  </thead>\n",
       "  <tbody>\n",
       "    <tr>\n",
       "      <th>0</th>\n",
       "      <td>76</td>\n",
       "      <td>남</td>\n",
       "      <td>179</td>\n",
       "    </tr>\n",
       "    <tr>\n",
       "      <th>1</th>\n",
       "      <td>52</td>\n",
       "      <td>여</td>\n",
       "      <td>155</td>\n",
       "    </tr>\n",
       "    <tr>\n",
       "      <th>2</th>\n",
       "      <td>69</td>\n",
       "      <td>남</td>\n",
       "      <td>175</td>\n",
       "    </tr>\n",
       "    <tr>\n",
       "      <th>3</th>\n",
       "      <td>54</td>\n",
       "      <td>여</td>\n",
       "      <td>178</td>\n",
       "    </tr>\n",
       "  </tbody>\n",
       "</table>\n",
       "</div>"
      ],
      "text/plain": [
       "   몸무게 성별    키\n",
       "0   76  남  179\n",
       "1   52  여  155\n",
       "2   69  남  175\n",
       "3   54  여  178"
      ]
     },
     "execution_count": 198,
     "metadata": {},
     "output_type": "execute_result"
    }
   ],
   "source": [
    "# 1. 딕셔너리(value가 리스트인)를 변환 \n",
    "\n",
    "info = pd.DataFrame({\"성별\": ['남', '여', '남', '여'], \"키\": [179, 155, 175, 178], \"몸무게\": [76, 52, 69, 54]})\n",
    "\n",
    "info"
   ]
  },
  {
   "cell_type": "code",
   "execution_count": 199,
   "metadata": {},
   "outputs": [
    {
     "data": {
      "text/html": [
       "<div>\n",
       "<style>\n",
       "    .dataframe thead tr:only-child th {\n",
       "        text-align: right;\n",
       "    }\n",
       "\n",
       "    .dataframe thead th {\n",
       "        text-align: left;\n",
       "    }\n",
       "\n",
       "    .dataframe tbody tr th {\n",
       "        vertical-align: top;\n",
       "    }\n",
       "</style>\n",
       "<table border=\"1\" class=\"dataframe\">\n",
       "  <thead>\n",
       "    <tr style=\"text-align: right;\">\n",
       "      <th></th>\n",
       "      <th>성별</th>\n",
       "      <th>키</th>\n",
       "      <th>몸무게</th>\n",
       "    </tr>\n",
       "  </thead>\n",
       "  <tbody>\n",
       "    <tr>\n",
       "      <th>전현무</th>\n",
       "      <td>남</td>\n",
       "      <td>179</td>\n",
       "      <td>76</td>\n",
       "    </tr>\n",
       "    <tr>\n",
       "      <th>박나래</th>\n",
       "      <td>여</td>\n",
       "      <td>155</td>\n",
       "      <td>52</td>\n",
       "    </tr>\n",
       "    <tr>\n",
       "      <th>헨리</th>\n",
       "      <td>남</td>\n",
       "      <td>175</td>\n",
       "      <td>69</td>\n",
       "    </tr>\n",
       "    <tr>\n",
       "      <th>한혜진</th>\n",
       "      <td>여</td>\n",
       "      <td>178</td>\n",
       "      <td>54</td>\n",
       "    </tr>\n",
       "  </tbody>\n",
       "</table>\n",
       "</div>"
      ],
      "text/plain": [
       "    성별    키  몸무게\n",
       "전현무  남  179   76\n",
       "박나래  여  155   52\n",
       "헨리   남  175   69\n",
       "한혜진  여  178   54"
      ]
     },
     "execution_count": 199,
     "metadata": {},
     "output_type": "execute_result"
    }
   ],
   "source": [
    "info = pd.DataFrame({\"성별\": ['남', '여', '남', '여'], \"키\": [179, 155, 175, 178], \"몸무게\": [76, 52, 69, 54]}, \n",
    "                    index = [\"전현무\", \"박나래\", \"헨리\", \"한혜진\"], columns =[\"성별\", \"키\", \"몸무게\"])\n",
    "\n",
    "info"
   ]
  },
  {
   "cell_type": "markdown",
   "metadata": {},
   "source": [
    "#### 주의사항\n",
    "- index는 DB의 key처럼 중복 불가 \n",
    "- 이름보다는 고유 아이디 이용 추천"
   ]
  },
  {
   "cell_type": "code",
   "execution_count": 202,
   "metadata": {},
   "outputs": [
    {
     "data": {
      "text/html": [
       "<div>\n",
       "<style>\n",
       "    .dataframe thead tr:only-child th {\n",
       "        text-align: right;\n",
       "    }\n",
       "\n",
       "    .dataframe thead th {\n",
       "        text-align: left;\n",
       "    }\n",
       "\n",
       "    .dataframe tbody tr th {\n",
       "        vertical-align: top;\n",
       "    }\n",
       "</style>\n",
       "<table border=\"1\" class=\"dataframe\">\n",
       "  <thead>\n",
       "    <tr style=\"text-align: right;\">\n",
       "      <th></th>\n",
       "      <th>몸무게</th>\n",
       "      <th>성별</th>\n",
       "      <th>키</th>\n",
       "    </tr>\n",
       "  </thead>\n",
       "  <tbody>\n",
       "    <tr>\n",
       "      <th>박나래</th>\n",
       "      <td>52</td>\n",
       "      <td>여</td>\n",
       "      <td>155</td>\n",
       "    </tr>\n",
       "    <tr>\n",
       "      <th>전현무</th>\n",
       "      <td>76</td>\n",
       "      <td>남</td>\n",
       "      <td>179</td>\n",
       "    </tr>\n",
       "    <tr>\n",
       "      <th>한혜진</th>\n",
       "      <td>54</td>\n",
       "      <td>여</td>\n",
       "      <td>178</td>\n",
       "    </tr>\n",
       "    <tr>\n",
       "      <th>헨리</th>\n",
       "      <td>69</td>\n",
       "      <td>남</td>\n",
       "      <td>175</td>\n",
       "    </tr>\n",
       "  </tbody>\n",
       "</table>\n",
       "</div>"
      ],
      "text/plain": [
       "     몸무게 성별    키\n",
       "박나래   52  여  155\n",
       "전현무   76  남  179\n",
       "한혜진   54  여  178\n",
       "헨리    69  남  175"
      ]
     },
     "execution_count": 202,
     "metadata": {},
     "output_type": "execute_result"
    }
   ],
   "source": [
    "# 2. 딕셔너리(value가 시리즈인)를 변환 \n",
    "info = pd.DataFrame({\"성별\": s1, \"키\": s2, \"몸무게\": s3})\n",
    "\n",
    "info"
   ]
  },
  {
   "cell_type": "code",
   "execution_count": 204,
   "metadata": {},
   "outputs": [
    {
     "data": {
      "text/html": [
       "<div>\n",
       "<style>\n",
       "    .dataframe thead tr:only-child th {\n",
       "        text-align: right;\n",
       "    }\n",
       "\n",
       "    .dataframe thead th {\n",
       "        text-align: left;\n",
       "    }\n",
       "\n",
       "    .dataframe tbody tr th {\n",
       "        vertical-align: top;\n",
       "    }\n",
       "</style>\n",
       "<table border=\"1\" class=\"dataframe\">\n",
       "  <thead>\n",
       "    <tr style=\"text-align: right;\">\n",
       "      <th></th>\n",
       "      <th>성별</th>\n",
       "      <th>키</th>\n",
       "      <th>몸무게</th>\n",
       "    </tr>\n",
       "  </thead>\n",
       "  <tbody>\n",
       "    <tr>\n",
       "      <th>전현무</th>\n",
       "      <td>남</td>\n",
       "      <td>179</td>\n",
       "      <td>76</td>\n",
       "    </tr>\n",
       "    <tr>\n",
       "      <th>박나래</th>\n",
       "      <td>여</td>\n",
       "      <td>155</td>\n",
       "      <td>52</td>\n",
       "    </tr>\n",
       "    <tr>\n",
       "      <th>헨리</th>\n",
       "      <td>남</td>\n",
       "      <td>175</td>\n",
       "      <td>69</td>\n",
       "    </tr>\n",
       "    <tr>\n",
       "      <th>한혜진</th>\n",
       "      <td>여</td>\n",
       "      <td>178</td>\n",
       "      <td>54</td>\n",
       "    </tr>\n",
       "  </tbody>\n",
       "</table>\n",
       "</div>"
      ],
      "text/plain": [
       "    성별    키  몸무게\n",
       "전현무  남  179   76\n",
       "박나래  여  155   52\n",
       "헨리   남  175   69\n",
       "한혜진  여  178   54"
      ]
     },
     "execution_count": 204,
     "metadata": {},
     "output_type": "execute_result"
    }
   ],
   "source": [
    "info = pd.DataFrame({\"성별\": s1, \"키\": s2, \"몸무게\": s3}, \n",
    "                     index = [\"전현무\", \"박나래\", \"헨리\", \"한혜진\"], columns =[\"성별\", \"키\", \"몸무게\"])\n",
    "\n",
    "# 시리즈를 dataframe으로 바꾸는 경우,\n",
    "# index, columns 지정해서 원하는 대로 순서를 정할 수 있음! \n",
    "info"
   ]
  },
  {
   "cell_type": "code",
   "execution_count": 186,
   "metadata": {},
   "outputs": [
    {
     "data": {
      "text/html": [
       "<div>\n",
       "<style>\n",
       "    .dataframe thead tr:only-child th {\n",
       "        text-align: right;\n",
       "    }\n",
       "\n",
       "    .dataframe thead th {\n",
       "        text-align: left;\n",
       "    }\n",
       "\n",
       "    .dataframe tbody tr th {\n",
       "        vertical-align: top;\n",
       "    }\n",
       "</style>\n",
       "<table border=\"1\" class=\"dataframe\">\n",
       "  <thead>\n",
       "    <tr style=\"text-align: right;\">\n",
       "      <th></th>\n",
       "      <th>0</th>\n",
       "      <th>1</th>\n",
       "      <th>2</th>\n",
       "      <th>3</th>\n",
       "    </tr>\n",
       "  </thead>\n",
       "  <tbody>\n",
       "    <tr>\n",
       "      <th>0</th>\n",
       "      <td>남</td>\n",
       "      <td>여</td>\n",
       "      <td>남</td>\n",
       "      <td>여</td>\n",
       "    </tr>\n",
       "    <tr>\n",
       "      <th>1</th>\n",
       "      <td>179</td>\n",
       "      <td>155</td>\n",
       "      <td>175</td>\n",
       "      <td>178</td>\n",
       "    </tr>\n",
       "    <tr>\n",
       "      <th>2</th>\n",
       "      <td>76</td>\n",
       "      <td>52</td>\n",
       "      <td>69</td>\n",
       "      <td>54</td>\n",
       "    </tr>\n",
       "  </tbody>\n",
       "</table>\n",
       "</div>"
      ],
      "text/plain": [
       "     0    1    2    3\n",
       "0    남    여    남    여\n",
       "1  179  155  175  178\n",
       "2   76   52   69   54"
      ]
     },
     "execution_count": 186,
     "metadata": {},
     "output_type": "execute_result"
    }
   ],
   "source": [
    "# 3. 리스트의 리스트를 변환 \n",
    "info = pd.DataFrame([['남', '여', '남', '여'], [179, 155, 175, 178], [76, 52, 69, 54]])\n",
    "info"
   ]
  },
  {
   "cell_type": "code",
   "execution_count": 205,
   "metadata": {},
   "outputs": [
    {
     "data": {
      "text/html": [
       "<div>\n",
       "<style>\n",
       "    .dataframe thead tr:only-child th {\n",
       "        text-align: right;\n",
       "    }\n",
       "\n",
       "    .dataframe thead th {\n",
       "        text-align: left;\n",
       "    }\n",
       "\n",
       "    .dataframe tbody tr th {\n",
       "        vertical-align: top;\n",
       "    }\n",
       "</style>\n",
       "<table border=\"1\" class=\"dataframe\">\n",
       "  <thead>\n",
       "    <tr style=\"text-align: right;\">\n",
       "      <th></th>\n",
       "      <th>0</th>\n",
       "      <th>1</th>\n",
       "      <th>2</th>\n",
       "      <th>3</th>\n",
       "    </tr>\n",
       "  </thead>\n",
       "  <tbody>\n",
       "    <tr>\n",
       "      <th>전현무</th>\n",
       "      <td>박나래</td>\n",
       "      <td>52</td>\n",
       "      <td>여</td>\n",
       "      <td>155</td>\n",
       "    </tr>\n",
       "    <tr>\n",
       "      <th>박나래</th>\n",
       "      <td>전현무</td>\n",
       "      <td>76</td>\n",
       "      <td>남</td>\n",
       "      <td>179</td>\n",
       "    </tr>\n",
       "    <tr>\n",
       "      <th>헨리</th>\n",
       "      <td>한혜진</td>\n",
       "      <td>54</td>\n",
       "      <td>여</td>\n",
       "      <td>178</td>\n",
       "    </tr>\n",
       "    <tr>\n",
       "      <th>한혜진</th>\n",
       "      <td>헨리</td>\n",
       "      <td>69</td>\n",
       "      <td>남</td>\n",
       "      <td>175</td>\n",
       "    </tr>\n",
       "  </tbody>\n",
       "</table>\n",
       "</div>"
      ],
      "text/plain": [
       "       0   1  2    3\n",
       "전현무  박나래  52  여  155\n",
       "박나래  전현무  76  남  179\n",
       "헨리   한혜진  54  여  178\n",
       "한혜진   헨리  69  남  175"
      ]
     },
     "execution_count": 205,
     "metadata": {},
     "output_type": "execute_result"
    }
   ],
   "source": [
    "info = pd.DataFrame([[\"박나래\", 52, \"여\", 155],[\"전현무\", 76, \"남\", 179],[\"한혜진\", 54, \"여\", 178],[\"헨리\", 69, \"남\", 175]],\n",
    "                   index = [\"전현무\", \"박나래\", \"헨리\", \"한혜진\"])\n",
    "info"
   ]
  },
  {
   "cell_type": "markdown",
   "metadata": {},
   "source": [
    "#### 주의사항\n",
    "- 각 instance(행)끼리 묶어줘야 함 \n",
    "- 아직 index 이름이 없는 상태 (default: 숫자 인덱스)\n",
    "- ** *단, 행의 index로 사용할 값은 같이 묶으면 안 됨* **"
   ]
  },
  {
   "cell_type": "code",
   "execution_count": 222,
   "metadata": {},
   "outputs": [
    {
     "data": {
      "text/html": [
       "<div>\n",
       "<style>\n",
       "    .dataframe thead tr:only-child th {\n",
       "        text-align: right;\n",
       "    }\n",
       "\n",
       "    .dataframe thead th {\n",
       "        text-align: left;\n",
       "    }\n",
       "\n",
       "    .dataframe tbody tr th {\n",
       "        vertical-align: top;\n",
       "    }\n",
       "</style>\n",
       "<table border=\"1\" class=\"dataframe\">\n",
       "  <thead>\n",
       "    <tr style=\"text-align: right;\">\n",
       "      <th></th>\n",
       "      <th>키</th>\n",
       "      <th>성별</th>\n",
       "      <th>몸무게</th>\n",
       "    </tr>\n",
       "  </thead>\n",
       "  <tbody>\n",
       "    <tr>\n",
       "      <th>전현무</th>\n",
       "      <td>52</td>\n",
       "      <td>여</td>\n",
       "      <td>155</td>\n",
       "    </tr>\n",
       "    <tr>\n",
       "      <th>박나래</th>\n",
       "      <td>76</td>\n",
       "      <td>남</td>\n",
       "      <td>179</td>\n",
       "    </tr>\n",
       "    <tr>\n",
       "      <th>헨리</th>\n",
       "      <td>54</td>\n",
       "      <td>여</td>\n",
       "      <td>178</td>\n",
       "    </tr>\n",
       "    <tr>\n",
       "      <th>한혜진</th>\n",
       "      <td>69</td>\n",
       "      <td>남</td>\n",
       "      <td>175</td>\n",
       "    </tr>\n",
       "  </tbody>\n",
       "</table>\n",
       "</div>"
      ],
      "text/plain": [
       "      키 성별  몸무게\n",
       "전현무  52  여  155\n",
       "박나래  76  남  179\n",
       "헨리   54  여  178\n",
       "한혜진  69  남  175"
      ]
     },
     "execution_count": 222,
     "metadata": {},
     "output_type": "execute_result"
    }
   ],
   "source": [
    "info = pd.DataFrame([[52, \"여\", 155],[76, \"남\", 179],[54, \"여\", 178],[69, \"남\", 175]],\n",
    "                   index = [\"전현무\", \"박나래\", \"헨리\", \"한혜진\"], columns =[\"키\", \"성별\", \"몸무게\"])\n",
    "info"
   ]
  },
  {
   "cell_type": "code",
   "execution_count": 223,
   "metadata": {},
   "outputs": [
    {
     "data": {
      "text/plain": [
       "array([[52, '여', 155],\n",
       "       [76, '남', 179],\n",
       "       [54, '여', 178],\n",
       "       [69, '남', 175]], dtype=object)"
      ]
     },
     "execution_count": 223,
     "metadata": {},
     "output_type": "execute_result"
    }
   ],
   "source": [
    "info.values"
   ]
  },
  {
   "cell_type": "code",
   "execution_count": 224,
   "metadata": {},
   "outputs": [
    {
     "data": {
      "text/plain": [
       "Index(['전현무', '박나래', '헨리', '한혜진'], dtype='object')"
      ]
     },
     "execution_count": 224,
     "metadata": {},
     "output_type": "execute_result"
    }
   ],
   "source": [
    "info.index"
   ]
  },
  {
   "cell_type": "code",
   "execution_count": 225,
   "metadata": {},
   "outputs": [
    {
     "data": {
      "text/plain": [
       "Index(['키', '성별', '몸무게'], dtype='object')"
      ]
     },
     "execution_count": 225,
     "metadata": {},
     "output_type": "execute_result"
    }
   ],
   "source": [
    "info.columns"
   ]
  },
  {
   "cell_type": "markdown",
   "metadata": {},
   "source": [
    "### 3) 인덱싱\n",
    "- 행부터? 열부터? \n",
    "- 다차원 배열과 달리, **열 -> 행** 순서\n",
    "- 데이터프레임 -> 시리즈 -> 값"
   ]
  },
  {
   "cell_type": "code",
   "execution_count": 261,
   "metadata": {},
   "outputs": [
    {
     "data": {
      "text/plain": [
       "array([[52, '여', 155],\n",
       "       [76, '남', 179],\n",
       "       [54, '여', 178],\n",
       "       [69, '남', 175]], dtype=object)"
      ]
     },
     "execution_count": 261,
     "metadata": {},
     "output_type": "execute_result"
    }
   ],
   "source": [
    "info.values"
   ]
  },
  {
   "cell_type": "code",
   "execution_count": 262,
   "metadata": {},
   "outputs": [
    {
     "data": {
      "text/plain": [
       "array([[52, '여', 155],\n",
       "       [76, '남', 179],\n",
       "       [54, '여', 178],\n",
       "       [69, '남', 175]], dtype=object)"
      ]
     },
     "execution_count": 262,
     "metadata": {},
     "output_type": "execute_result"
    }
   ],
   "source": [
    "info.as_matrix()"
   ]
  },
  {
   "cell_type": "code",
   "execution_count": 246,
   "metadata": {},
   "outputs": [
    {
     "name": "stdout",
     "output_type": "stream",
     "text": [
      "<class 'pandas.core.series.Series'>\n",
      "<class 'numpy.ndarray'>\n"
     ]
    }
   ],
   "source": [
    "print(type(info['키']))\n",
    "print(type(info['키'].values))"
   ]
  },
  {
   "cell_type": "code",
   "execution_count": 258,
   "metadata": {},
   "outputs": [
    {
     "data": {
      "text/plain": [
       "52"
      ]
     },
     "execution_count": 258,
     "metadata": {},
     "output_type": "execute_result"
    }
   ],
   "source": [
    "# info[\"전현무\"]\n",
    "# info['키']\n",
    "info[\"키\"][\"전현무\"]\n",
    "info[\"키\"][0]"
   ]
  },
  {
   "cell_type": "code",
   "execution_count": 259,
   "metadata": {},
   "outputs": [
    {
     "data": {
      "text/plain": [
       "키       int64\n",
       "성별     object\n",
       "몸무게     int64\n",
       "dtype: object"
      ]
     },
     "execution_count": 259,
     "metadata": {},
     "output_type": "execute_result"
    }
   ],
   "source": [
    "info.dtypes"
   ]
  },
  {
   "cell_type": "markdown",
   "metadata": {},
   "source": [
    "### 4) 입출력\n",
    "- 자료형: CSV, JSON, XML, SQL\n"
   ]
  },
  {
   "cell_type": "code",
   "execution_count": 263,
   "metadata": {
    "collapsed": true
   },
   "outputs": [],
   "source": [
    "info.to_csv('./data.csv')"
   ]
  },
  {
   "cell_type": "code",
   "execution_count": null,
   "metadata": {
    "collapsed": true
   },
   "outputs": [],
   "source": [
    "info.read_csv('./data.csv)"
   ]
  },
  {
   "cell_type": "code",
   "execution_count": null,
   "metadata": {
    "collapsed": true
   },
   "outputs": [],
   "source": [
    "import pandas as pd\n",
    "import numpy as np\n",
    "import pyodbc\n",
    "\n",
    "connStr = (\n",
    "     r\"DRIVER={Microsoft Access Driver (*.mdb, *.accdb)};\"      # 어떤 DB에 연결할 것인지?\n",
    "     r\"DBQ=E:\\★Tmap택시\\콜이력.accdb;\"                                    # DB 디렉토리\n",
    "     )\n",
    "cnxn = pyodbc.connect(connStr)     # 미리 지정한 connStr 넣고 연결 (file stream open)\n",
    "\n",
    "query = \"SELECT 콜ID, 출발지위도, 출발지경도 FROM call\"      # 쿼리\n",
    "df = pd.read_sql(query, cnxn)      # pandas의 sql 실행쿼리 -> 결과를 dataframe에 저장\n",
    "\n",
    "cnxn.close()       # file stream 닫아주기"
   ]
  },
  {
   "cell_type": "markdown",
   "metadata": {},
   "source": [
    "1. 시리즈,데이터프레임 클래스 설명\n",
    "2. 생성 \n",
    "3. 행/열 인덱싱(슬라이싱)\n",
    "4. 입출력 (csv, excel, orm) "
   ]
  },
  {
   "cell_type": "markdown",
   "metadata": {},
   "source": [
    "### 5) 연산\n",
    "- NumPy의 모든 벡터 연산 가능\n",
    "- 덧셈/곱셈, 논리연산"
   ]
  },
  {
   "cell_type": "code",
   "execution_count": 266,
   "metadata": {},
   "outputs": [
    {
     "data": {
      "text/html": [
       "<div>\n",
       "<style>\n",
       "    .dataframe thead tr:only-child th {\n",
       "        text-align: right;\n",
       "    }\n",
       "\n",
       "    .dataframe thead th {\n",
       "        text-align: left;\n",
       "    }\n",
       "\n",
       "    .dataframe tbody tr th {\n",
       "        vertical-align: top;\n",
       "    }\n",
       "</style>\n",
       "<table border=\"1\" class=\"dataframe\">\n",
       "  <thead>\n",
       "    <tr style=\"text-align: right;\">\n",
       "      <th></th>\n",
       "      <th>키</th>\n",
       "      <th>성별</th>\n",
       "      <th>몸무게</th>\n",
       "    </tr>\n",
       "  </thead>\n",
       "  <tbody>\n",
       "    <tr>\n",
       "      <th>전현무</th>\n",
       "      <td>104</td>\n",
       "      <td>여여</td>\n",
       "      <td>310</td>\n",
       "    </tr>\n",
       "    <tr>\n",
       "      <th>박나래</th>\n",
       "      <td>152</td>\n",
       "      <td>남남</td>\n",
       "      <td>358</td>\n",
       "    </tr>\n",
       "    <tr>\n",
       "      <th>헨리</th>\n",
       "      <td>108</td>\n",
       "      <td>여여</td>\n",
       "      <td>356</td>\n",
       "    </tr>\n",
       "    <tr>\n",
       "      <th>한혜진</th>\n",
       "      <td>138</td>\n",
       "      <td>남남</td>\n",
       "      <td>350</td>\n",
       "    </tr>\n",
       "  </tbody>\n",
       "</table>\n",
       "</div>"
      ],
      "text/plain": [
       "       키  성별  몸무게\n",
       "전현무  104  여여  310\n",
       "박나래  152  남남  358\n",
       "헨리   108  여여  356\n",
       "한혜진  138  남남  350"
      ]
     },
     "execution_count": 266,
     "metadata": {},
     "output_type": "execute_result"
    }
   ],
   "source": [
    "info+info\n",
    "info*2"
   ]
  },
  {
   "cell_type": "code",
   "execution_count": null,
   "metadata": {},
   "outputs": [],
   "source": [
    "https://datascienceschool.net/view-notebook/aa62265f02fc429aa636ef343c3b1fda/"
   ]
  }
 ],
 "metadata": {
  "kernelspec": {
   "display_name": "Python 3",
   "language": "python",
   "name": "python3"
  },
  "language_info": {
   "codemirror_mode": {
    "name": "ipython",
    "version": 3
   },
   "file_extension": ".py",
   "mimetype": "text/x-python",
   "name": "python",
   "nbconvert_exporter": "python",
   "pygments_lexer": "ipython3",
   "version": "3.6.3"
  }
 },
 "nbformat": 4,
 "nbformat_minor": 2
}
